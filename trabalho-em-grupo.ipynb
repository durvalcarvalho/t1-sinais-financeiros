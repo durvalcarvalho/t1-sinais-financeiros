{
 "cells": [
  {
   "cell_type": "markdown",
   "id": "087f826e",
   "metadata": {},
   "source": [
    "#### 1. Classificação dos setores, subsetores e segmentos das várias ações da B3"
   ]
  },
  {
   "cell_type": "code",
   "execution_count": 1,
   "id": "035898fc",
   "metadata": {},
   "outputs": [],
   "source": [
    "# Sector > Subsector > Segment > Companies\n",
    "b3_companies = {\n",
    "    'Petróleo, Gás e Biocombustíveis': {\n",
    "        'Petróleo, Gás e Biocombustíveis': {\n",
    "            'Exploração, Refino e Distribuição': {\n",
    "                '3R PETROLEUM': 'RRRP',\n",
    "                'COSAN': 'CSAN',\n",
    "                'DOMMO': 'DMMO',\n",
    "                'ENAUTA PART': 'ENAT',\n",
    "                'PET MANGUINH': 'RPMG',\n",
    "                'PETROBRAS': 'PETR',\n",
    "                'PETRORECSA': 'RECV',\n",
    "                'PETRORIO': 'PRIO',\n",
    "                'ULTRAPAR': 'UGPA',\n",
    "                'VIBRA': 'VBBR',\n",
    "\n",
    "            },\n",
    "\n",
    "            'Equipamentos e Serviços': {\n",
    "                'LUPATECH': 'LUPA',\n",
    "                'OCEANPACT': 'OPCT',\n",
    "                'OSX BRASIL': 'OSXB',\n",
    "            }\n",
    "        }\n",
    "    },\n",
    "\n",
    "    'Materiais Básicos': {\n",
    "        'Mineração': {\n",
    "            'Minerais Metálicos': {\n",
    "                'AURA 360': 'AURA',\n",
    "                'BRADESPAR': 'BRAP',\n",
    "                'CBA': 'CBAV',\n",
    "                'CSNMINERACAO': 'CMIN',\n",
    "                'LITEL': 'LTEL',\n",
    "                'LITELA': 'LTLA',\n",
    "                'MMX MINER': 'MMXM',\n",
    "                'VALE': 'VALE',\n",
    "            }\n",
    "\n",
    "        },\n",
    "        'Siderurgia e Metalurgia': {\n",
    "            'Siderurgia': {\n",
    "                'FERBASA': 'FESA',\n",
    "                'GERDAU': 'GGBR',\n",
    "                'GERDAU MET': 'GOAU',\n",
    "                'SID NACIONAL': 'CSNA',\n",
    "                'USIMINAS': 'USIM',\n",
    "\n",
    "            },\n",
    "\n",
    "            'Artefatos de Ferro e Aço': {\n",
    "                'MANGELS INDL' : 'MGEL',\n",
    "                'PANATLANTICA' : 'PATI',\n",
    "                'TEKNO' : 'TKNO',\n",
    "\n",
    "            },\n",
    "\n",
    "            'Artefatos de Cobre': {\n",
    "                'PARANAPANEMA': 'PMAM',\n",
    "            }\n",
    "        },\n",
    "\n",
    "        'Químicos': {\n",
    "            'Petroquímicos': {\n",
    "                'DEXXOS PAR': 'DEXP',\n",
    "                'BRASKEM': 'BRKM',\n",
    "            },\n",
    "\n",
    "            'Fertilizantes e Defensivos': {\n",
    "                'FER HERINGER': 'FHER',\n",
    "                'NUTRIPLANT': 'NUTR',\n",
    "                'VITTIA': 'VITT',\n",
    "            },\n",
    "\n",
    "            'Químicos Diversos': {\n",
    "                'CRISTAL': 'CRPG',\n",
    "                'UNIPAR': 'UNIP',\n",
    "            }\n",
    "        },\n",
    "\n",
    "        'Madeira e Papel': {\n",
    "            'Madeira': {\n",
    "                'EUCATEX': 'EUCA',\n",
    "                'DEXCO': 'DXCO',\n",
    "\n",
    "            },\n",
    "\n",
    "            'Papel e Celulose': {\n",
    "                'KLABIN S/A': 'KLBN',\n",
    "                'MELHOR SP': 'MSPA',\n",
    "                'SUZANO HOLD': 'NEMO',\n",
    "                'SUZANO S.A': 'SUZB',\n",
    "            }\n",
    "        },\n",
    "        'Embalagens': {\n",
    "            'Embalagens': {\n",
    "                'IRANI': 'RANI',\n",
    "                'METAL IGUACU': 'MTIG',\n",
    "            }\n",
    "\n",
    "        },\n",
    "        'Materiais Diversos': {\n",
    "            'Materiais Diversos': {\n",
    "                'SANSUY': 'SNSY',\n",
    "            }\n",
    "        },\n",
    "    },\n",
    "\n",
    "    'Bens Industriais': {\n",
    "        'Construção e Engenharia': {\n",
    "            'Produtos para Construção': {\n",
    "                'ETERNIT': 'ETER',\n",
    "                'HAGA S/A': 'HAGA',\n",
    "                'PORTOBELLO': 'PTBL',\n",
    "            },\n",
    "\n",
    "            'Construção Pesada': {\n",
    "                'AZEVEDO': 'AZEV',\n",
    "            },\n",
    "\n",
    "            'Engenharia Consultiva': {\n",
    "                'SONDOTECNICA': 'SOND',\n",
    "                'TECNOSOLO': 'TCNO',\n",
    "            }\n",
    "        },\n",
    "\n",
    "        'Material de Transporte': {\n",
    "            'Material Aeronáutico e de Defesa': {\n",
    "                'EMBRAER': 'EMBR',\n",
    "            },\n",
    "\n",
    "            'Material Rodoviário': {\n",
    "                'FRAS-LE': 'FRAS',\n",
    "                'MARCOPOLO': 'POMO',\n",
    "                'RANDON PART': 'RAPT',\n",
    "                'RECRUSUL': 'RCSL',\n",
    "                'RIOSULENSE': 'RSUL',\n",
    "                'TUPY': 'TUPY',\n",
    "                'WETZEL S/A': 'MWET',\n",
    "            },\n",
    "        },\n",
    "\n",
    "        'Máquinas e Equipamentos': {\n",
    "        \t'Motores, Compressores e Outros': {\n",
    "                'SCHULZ': 'SHUL',\n",
    "                'WEG': 'WEGE',\n",
    "            },\n",
    "\n",
    "            'Máq. e Equip. Industriais': {\n",
    "                'ACO ALTONA': 'EALT',\n",
    "                'AERIS': 'AERI',\n",
    "                'ARMAC': 'ARML',\n",
    "                'BARDELLA': 'BDLL',\n",
    "                'INDS ROMI': 'ROMI',\n",
    "                'INEPAR': 'INEP',\n",
    "                'KEPLER WEBER': 'KEPL',\n",
    "                'METALFRIO': 'FRIO',\n",
    "                'MILLS': 'MILS',\n",
    "                'NORDON MET': 'NORD',\n",
    "                'PRATICA': 'PTCA',\n",
    "            },\n",
    "\n",
    "            'Máq. e Equip. Construção e Agrícolas': {\n",
    "                'METISA': 'MTSA',\n",
    "                'STARA': 'STTR',\n",
    "            },\n",
    "\n",
    "            'Armas e Munições': {\n",
    "                'TAURUS ARMAS': 'TASA',\n",
    "            },\n",
    "        },\n",
    "\n",
    "        'Transporte': {\n",
    "            'Transporte Aéreo': {\n",
    "                'AZUL': 'AZUL',\n",
    "                'GOL': 'GOLL',\n",
    "            },\n",
    "\n",
    "            'Transporte Ferroviário': {\n",
    "                'ALL NORTE': 'FRRN',\n",
    "                'ALL PAULISTA': 'GASC',\n",
    "                'FER C ATLANT': 'VSPT',\n",
    "                'MRS LOGIST': 'MRSA',\n",
    "                'RUMO S.A': 'RAIL',\n",
    "            },\n",
    "\n",
    "            'Transporte Hidroviário': {\n",
    "                'HIDROVIAS': 'HBSA',\n",
    "                'LOG-IN': 'LOGN',\n",
    "                'TREVISA': 'LUXM',\n",
    "            },\n",
    "\n",
    "            'Transporte Rodoviário': {\n",
    "                'JSL': 'JSLG',\n",
    "                'TEGMA': 'TGMA',\n",
    "            },\n",
    "            'Exploração de Rodovias': {\n",
    "                'AUTOBAN': 'ANHB',\n",
    "                'CCR SA': 'CCRO',\n",
    "                'CONC RAPOSO': 'RPTA',\n",
    "                'CONC RIO TER': 'CRTE',\n",
    "                'ECOPISTAS': 'ASCP',\n",
    "                'ECORODOVIAS': 'ECOR',\n",
    "                'ECOVIAS': 'ECOV',\n",
    "                'ROD COLINAS': 'COLN',\n",
    "                'ROD TIETE': 'RDVT',\n",
    "                'RT BANDEIRAS': 'CRBD',\n",
    "                'TRIANGULOSOL': 'TRIA',\n",
    "                'TRIUNFO PART': 'TPIS',\n",
    "                'VIAOESTE': 'VOES',\n",
    "            },\n",
    "            'Serviços de Apoio e Armazenagem': {\n",
    "                'GRUAIRPORT': 'AGRU',\n",
    "                'HMOBI S.A': 'HMOB',\n",
    "                'INVEPAR': 'IVPR',\n",
    "                'PORTO VM': 'PSVM',\n",
    "                'SALUS INFRA': 'SAIP',\n",
    "                'SANTOS BRP': 'STBP',\n",
    "                'WILSON SONS': 'PORT',\n",
    "            },\n",
    "        },\n",
    "\n",
    "        'Serviços Diversos': {\n",
    "            'Serviços Diversos': {\n",
    "                'ATMASA': 'ATMP',\n",
    "                'BBMLOGISTICA':\t'BBML',\n",
    "                'DTCOM-DIRECT':\t'DTCY',\n",
    "                'ESTAPAR':\t'ALPK',\n",
    "                'FLEX S/A':\t'FLEX',\n",
    "                'GPS':\t'GGPS',\n",
    "                'PRINER': 'PRNR',\n",
    "                'SEQUOIA LOG': 'SEQL',\n",
    "                'VALID': 'VLID'\n",
    "            }\n",
    "        },\n",
    "\n",
    "        'Comércio': {\n",
    "            'Material de Transporte': {\n",
    "            'EMBPAR S/A': 'EPAR',\n",
    "            'MINASMAQUINA': 'MMAQ',\n",
    "            'RODOBENS': 'RBNS',\n",
    "            'WLM IND COM': 'WLMM'\n",
    "            }\n",
    "        }\n",
    "    },\n",
    "\n",
    "    'Consumo não Cíclico': {\n",
    "        'Agropecuária': {\n",
    "            'Agricultura': {\n",
    "                '3TENTOS': 'TTEN',\n",
    "                'AGRIBRASIL': 'GRAO',\n",
    "                'AGROGALAXY': 'AGXY',\n",
    "                'ALIPERTI': 'APTI',\n",
    "                'BOA SAFRA': 'SOJA',\n",
    "                'BRASILAGRO': 'AGRO',\n",
    "                'POMIFRUTAS': 'FRTA',\n",
    "                'RAIZEN': 'RAIZ',\n",
    "                'SLC AGRICOLA': 'SLCE',\n",
    "                'TERRASANTAPA': 'LAND',\n",
    "\n",
    "            }\n",
    "        },\n",
    "\n",
    "        'Alimentos Processados': {\n",
    "            'Açucar e Alcool': {\n",
    "                'JALLESMACHAD': 'JALL',\n",
    "                'RAIZEN ENERG': 'RESA',\n",
    "                'SAO MARTINHO': 'SMTO',\n",
    "\n",
    "            },\n",
    "\n",
    "            'Carnes e Derivados': {\n",
    "                'BRF SA': 'BRFS',\n",
    "                'EXCELSIOR': 'BAUH',\n",
    "                'JBS': 'JBSS',\n",
    "                'MARFRIG': 'MRFG',\n",
    "                'MINERVA': 'BEEF',\n",
    "                'MINUPAR': 'MNPR',\n",
    "\n",
    "            },\n",
    "            'Alimentos Diversos': {\n",
    "                'CAMIL': 'CAML',\n",
    "                'J.MACEDO': 'JMCD',\n",
    "                'JOSAPAR': 'JOPA',\n",
    "                'M.DIASBRANCO': 'MDIA',\n",
    "                'ODERICH': 'ODER',\n",
    "            },\n",
    "        },\n",
    "\n",
    "        'Bebidas': {\n",
    "            'Cervejas e Refrigerantes': {\n",
    "                'AMBEV S/A': 'ABEV',\n",
    "            }\n",
    "        },\n",
    "\n",
    "        'Produtos de Uso Pessoal e de Limpeza': {\n",
    "            'Produtos de Uso Pessoal': {\n",
    "                'GRUPO NATURA': 'NTCO',\n",
    "            },\n",
    "\n",
    "            'Produtos de Limpeza': {\n",
    "                'BOMBRIL': 'BOBR',\n",
    "            },\n",
    "        },\n",
    "\n",
    "        'Comércio e Distribuição': {\n",
    "            'Alimentos': {\n",
    "                'ASSAI': 'ASAI',\n",
    "                'CARREFOUR BR': 'CRFB',\n",
    "                'GRUPO MATEUS': 'GMAT',\n",
    "                'P.ACUCAR-CBD': 'PCAR',\n",
    "            }\n",
    "\n",
    "        },\n",
    "    },\n",
    "\n",
    "    'Consumo Cíclico': {\n",
    "        'Construção Civil': {\n",
    "            'Incorporações': {\n",
    "                'ALPHAVILLE': 'AVLL',\n",
    "                'CONST A LIND': 'CALI',\n",
    "                'CR2': 'CRDE',\n",
    "                'CURY S/A': 'CURY',\n",
    "                'CYRELA REALT': 'CYRE',\n",
    "                'DIRECIONAL': 'DIRR',\n",
    "                'EVEN': 'EVEN',\n",
    "                'EZTEC': 'EZTC',\n",
    "                'GAFISA': 'GFSA',\n",
    "                'HELBOR': 'HBOR',\n",
    "                'INTER SA': 'INNT',\n",
    "                'JHSF PART': 'JHSF',\n",
    "                'JOAO FORTES': 'JFEN',\n",
    "                'KALLAS': 'KLAS',\n",
    "                'LAVVI': 'LAVV',\n",
    "                'MELNICK': 'MELK',\n",
    "                'MITRE REALTY': 'MTRE',\n",
    "                'MOURA DUBEUX': 'MDNE',\n",
    "                'MRV': 'MRVE',\n",
    "                'PDG REALT': 'PDGR',\n",
    "                'PLANOEPLANO': 'PLPL',\n",
    "                'RNI': 'RDNI',\n",
    "                'ROSSI RESID': 'RSID',\n",
    "                'TECNISA': 'TCSA',\n",
    "                'TEGRA INCORP': 'TEGA',\n",
    "                'TENDA': 'TEND',\n",
    "                'TRISUL': 'TRIS',\n",
    "                'VIVER': 'VIVR',\n",
    "            }\n",
    "\n",
    "        },\n",
    "        'Tecidos, Vestuário e Calçados': {\n",
    "            'Fios e Tecidos': {\n",
    "                'CEDRO': 'CEDO',\n",
    "                'COTEMINAS': 'CTNM',\n",
    "                'DOHLER': 'DOHL',\n",
    "                'ENCORPAR': 'ECPR',\n",
    "                'IND CATAGUA': 'CATA',\n",
    "                'KARSTEN': 'CTKA',\n",
    "                'PETTENATI': 'PTNT',\n",
    "                'SANTANENSE': 'CTSA',\n",
    "                'SPRINGS': 'SGPS',\n",
    "                'TEKA': 'TEKA',\n",
    "                'TEX RENAUX': 'TXRX',\n",
    "            },\n",
    "            'Vestuário': {\n",
    "                'TRACK FIELD': 'TFCO',\n",
    "            },\n",
    "            'Calçados': {\n",
    "                'ALPARGATAS': 'ALPA',\n",
    "                'CAMBUCI': 'CAMB',\n",
    "                'GRENDENE': 'GRND',\n",
    "                'VULCABRAS': 'VULC',\n",
    "            },\n",
    "            'Acessórios': {\n",
    "                'MUNDIAL': 'MNDL',\n",
    "                'TECHNOS': 'TECN',\n",
    "                'VIVARA S.A.': 'VIVA',\n",
    "            }\n",
    "\n",
    "        },\n",
    "        'Utilidades Domésticas': {\n",
    "            'Eletrodomésticos': {\n",
    "                'WHIRLPOOL': 'WHRL',\n",
    "            },\n",
    "            'Móveis': {\n",
    "                'UNICASA': 'UCAS',\n",
    "            },\n",
    "            'Utensílios Domésticos': {\n",
    "                'HERCULES': 'HETA',\n",
    "            }\n",
    "\n",
    "        },\n",
    "        'Automóveis e Motocicletas': {\n",
    "            'Automóveis e Motocicletas': {\n",
    "                'IOCHP-MAXION': '',\n",
    "                'METAL LEVE': '',\n",
    "                'PLASCAR PART': '',\n",
    "            }\n",
    "        },\n",
    "        'Hoteis e Restaurantes': {\n",
    "            'Hotelaria': {\n",
    "                'HOTEIS OTHON': 'HOOT',\n",
    "            },\n",
    "            'Restaurante e Similares': {\n",
    "                'BK BRASIL': 'BKBR',\n",
    "                'IMC S/A': 'MEAL',\n",
    "            }\n",
    "        },\n",
    "        'Viagens e Lazer': {\n",
    "            'Bicicletas': {\n",
    "                'BIC MONARK': 'BMKS',\n",
    "            },\n",
    "            'Brinquedos e Jogos': {\n",
    "                'ESTRELA': 'ESTR',\n",
    "            },\n",
    "            'Produção de Eventos e Shows': {\n",
    "                'SPTURIS': 'AHEB',\n",
    "                'TIME FOR FUN': 'SHOW',\n",
    "            },\n",
    "            'Viagens e Turismo': {\n",
    "                'CVC BRASIL': 'CVCB',\n",
    "            },\n",
    "            'Atividades Esportivas': {\n",
    "                'SMART FIT': 'SMFT',\n",
    "            },\n",
    "        },\n",
    "        'Diversos': {\n",
    "            'Serviços Educacionais': {\n",
    "                'ANIMA': 'ANIM',\n",
    "                'BAHEMA': 'BAHI',\n",
    "                'COGNA ON': 'COGN',\n",
    "                'CRUZEIRO EDU': 'CSED',\n",
    "                'SER EDUCA': 'SEER',\n",
    "                'YDUQS PART': 'YDUQ',\n",
    "            },\n",
    "            'Aluguel de carros': {\n",
    "                'LOCALIZA': 'RENT',\n",
    "                'LOCAMERICA': 'LCAM',\n",
    "                'MAESTROLOC': 'MSRO',\n",
    "                'MOVIDA': 'MOVI',\n",
    "                'UNIDAS': 'UNID',\n",
    "                'VAMOS': 'VAMO',\n",
    "            },\n",
    "            'Programas de Fidelização': {\n",
    "                'DOTZ SA': 'DOTZ',\n",
    "            }\n",
    "        },\n",
    "        'Comércio': {\n",
    "            'Tecidos, Vestuário e Calçados': {\n",
    "                'AREZZO CO': 'ARZZ',\n",
    "                'CEA MODAS': 'CEAB',\n",
    "                'GRAZZIOTIN': 'CGRA',\n",
    "                'GRUPO SOMA': 'SOMA',\n",
    "                'GUARARAPES': 'GUAR',\n",
    "                'LE LIS BLANC': 'LLIS',\n",
    "                'LOJAS MARISA': 'AMAR',\n",
    "                'LOJAS RENNER': 'LREN',\n",
    "            },\n",
    "            'Eletrodomésticos': {\n",
    "                'ALLIED': 'ALLD',\n",
    "                'MAGAZ LUIZA': 'MGLU',\n",
    "                'VIA': 'VIIA',\n",
    "            },\n",
    "            'Produtos Diversos': {\n",
    "                'AMERICANAS': 'AMER',\n",
    "                'ESPACOLASER': 'ESPA',\n",
    "                'GRUPO SBF': 'SBFG',\n",
    "                'LE BISCUIT': 'LLBI',\n",
    "                'PETZ': 'PETZ',\n",
    "                'QUERO-QUERO': 'LJQQ',\n",
    "                'SARAIVA LIVR': 'SLED',\n",
    "            }\n",
    "        }\n",
    "    },\n",
    "\n",
    "    'Saúde': {\n",
    "        'Medicamentos e Outros Produtos': {\n",
    "            'Medicamentos e Outros Produtos': {\n",
    "                'BIOMM': 'BIOM',\n",
    "                'NORTCQUIMICA': 'NRTQ',\n",
    "                'OUROFINO S/A': 'OFSA',\n",
    "            },\n",
    "        },\n",
    "\n",
    "        'Serviços Médico - Hospitalares, Análises e Diagnósticos': {\n",
    "            'Serviços Médico - Hospitalares, Análises e Diagnósticos': {\n",
    "                'ALLIAR': 'AALR',\n",
    "                'DASA': 'DASA',\n",
    "                'FLEURY': 'FLRY',\n",
    "                'HAPVIDA': 'HAPV',\n",
    "                'IHPARDINI': 'PARD',\n",
    "                'KORA SAUDE': 'KRSA',\n",
    "                'MATER DEI': 'MATD',\n",
    "                'ODONTOPREV': 'ODPV',\n",
    "                'ONCOCLINICAS': 'ONCO',\n",
    "                'QUALICORP': 'QUAL',\n",
    "                'REDE D OR': 'RDOR',\n",
    "            }\n",
    "        },\n",
    "\n",
    "        'Equipamentos': {\n",
    "            'Equipamentos': {\n",
    "                'BAUMER': 'BALM',\n",
    "                'LIFEMED': 'LMED',\n",
    "            }\n",
    "\n",
    "        },\n",
    "\n",
    "        'Comércio e Distribuição': {\n",
    "            'Medicamentos e Outros Produtos': {\n",
    "                'BLAU': 'BLAU',\n",
    "                'D1000VFARMA': 'DMVF',\n",
    "                'DIMED': 'PNVL',\n",
    "                'HYPERA': 'HYPE',\n",
    "                'PAGUE MENOS': 'PGMN',\n",
    "                'PROFARMA': 'PFRM',\n",
    "                'RAIADROGASIL': 'RADL',\n",
    "                'VIVEO': 'VVEO',\n",
    "            },\n",
    "        },\n",
    "    },\n",
    "\n",
    "    'Tecnologia da Informação': {\n",
    "        'Computadores e Equipamentos': {\n",
    "            'Computadores e Equipamentos': {\n",
    "                'INTELBRAS': 'INTB',\n",
    "                'POSITIVO TEC': 'POSI',\n",
    "                'MULTILASER': 'MLAS',\n",
    "            }\n",
    "        },\n",
    "\n",
    "        'Programas e Serviços': {\n",
    "            'Programas e Serviços': {\n",
    "                'BEMOBI TECH': 'BMOB',\n",
    "                'BRQ': 'BRQB',\n",
    "                'ENJOEI': 'ENJU',\n",
    "                'GETNINJAS': 'NINJ',\n",
    "                'INFRACOMM': 'IFCM',\n",
    "                'LOCAWEB': 'LWSA',\n",
    "                'MELIUZ': 'CASH',\n",
    "                'MOBLY': 'MBLY',\n",
    "                'MOSAICO': 'MOSI',\n",
    "                'NEOGRID': 'NGRD',\n",
    "                'PADTEC': 'PDTC',\n",
    "                'QUALITY SOFT': 'QUSW',\n",
    "                'SINQIA': 'SQIA',\n",
    "                'TC': 'TRAD',\n",
    "                'TOTVS': 'TOTS',\n",
    "                'WDC NETWORKS': 'LVTC',\n",
    "                'WESTWING': 'WEST',\n",
    "            }\n",
    "        },\n",
    "    },\n",
    "\n",
    "    'Comunicações': {\n",
    "        'Telecomunicações': {\n",
    "            'Telecomunicações': {\n",
    "                'ALGAR TELEC': 'ALGT',\n",
    "                'BRISANET': 'BRIT',\n",
    "                'DESKTOP': 'DESK',\n",
    "                'OI': 'OIBR',\n",
    "                'TELEBRAS': 'TELB',\n",
    "                'TELEF BRASIL': 'VIVT',\n",
    "                'TIM': 'TIMS',\n",
    "                'UNIFIQUE': 'FIQE',\n",
    "            }\n",
    "        },\n",
    "\n",
    "        'Mídia': {\n",
    "            'Produção e Difusão de Filmes e Programas': {\n",
    "                'CINESYSTEM': 'CNSY',\n",
    "            },\n",
    "\n",
    "            'Publicidade e Propaganda': {\n",
    "                'ELETROMIDIA': 'ELMD',\n",
    "            },\n",
    "        },\n",
    "    },\n",
    "\n",
    "    'Utilidade Pública': {\n",
    "        'Energia Elétrica': {\n",
    "            'Energia Elétrica': {\n",
    "                'AES BRASIL': 'AESB',\n",
    "                'AES SUL': 'AESL',\n",
    "                'AESOPERACOES': 'AESO',\n",
    "                'AFLUENTE T': 'AFLT',\n",
    "                'ALUPAR': 'ALUP',\n",
    "                'AMPLA ENERG': 'CBEE',\n",
    "                'CACHOEIRA': 'CPTE',\n",
    "                'CEB': 'CEBR',\n",
    "                'CEEE-D': 'CEED',\n",
    "                'CEEE-T': 'EEEL',\n",
    "                'CELESC': 'CLSC',\n",
    "                'CELGPAR': 'GPAR',\n",
    "                'CELPE': 'CEPE',\n",
    "                'CEMIG': 'CMIG',\n",
    "                'CEMIG DIST': 'CMGD',\n",
    "                'CEMIG GT': 'CMGT',\n",
    "                'CESP': 'CESP',\n",
    "                'COELBA': 'CEEB',\n",
    "                'COELCE': 'COCE',\n",
    "                'COMERC PAR': 'COMR',\n",
    "                'COPEL': 'CPLE',\n",
    "                'COSERN': 'CSRN',\n",
    "                'CPFL ENERGIA': 'CPFE',\n",
    "                'CPFL GERACAO': 'CPFG',\n",
    "                'CPFL PIRATIN': 'CPFP',\n",
    "                'CPFL RENOVAV': 'CPRE',\n",
    "                'EBE': 'EBEN',\n",
    "                'ELEKTRO': 'EKTR',\n",
    "                'ELETROBRAS': 'ELET',\n",
    "                'ELETROPAR': 'LIPR',\n",
    "                'EMAE': 'EMAE',\n",
    "                'ENERGIAS BR': 'ENBR',\n",
    "                'ENERGISA': 'ENGI',\n",
    "                'ENERGISA MT': 'ENMT',\n",
    "                'ENERSUL': 'ENER',\n",
    "                'ENEVA': 'ENEV',\n",
    "                'ENGIE BRASIL': 'EGIE',\n",
    "                'EQTL PARA': 'EQPA',\n",
    "                'EQTLMARANHAO': 'EQMA',\n",
    "                'EQUATORIAL': 'EQTL',\n",
    "                'ESCELSA': 'ESCE',\n",
    "                'FGENERGIA': 'FGEN',\n",
    "                'FOCUS ON': 'POWE',\n",
    "                'GER PARANAP': 'GEPA',\n",
    "                'ITAPEBI': 'ITPB',\n",
    "                'LIGHT': 'LIGH',\n",
    "                'LIGHT S/A': 'LIGT',\n",
    "                'NEOENERGIA': 'NEOE',\n",
    "                'OMEGAENERGIA': 'MEGA',\n",
    "                'PAUL F LUZ': 'PALF',\n",
    "                'PROMAN': 'PRMN',\n",
    "                'REDE ENERGIA': 'REDE',\n",
    "                'RENOVA': 'RNEW',\n",
    "                'STATKRAFT': 'STKF',\n",
    "                'STO ANTONIO': 'STEN',\n",
    "                'TAESA': 'TAEE',\n",
    "                'TERM. PE III': 'TEPE',\n",
    "                'TERMOPE': 'TMPE',\n",
    "                'TRAN PAULIST': 'TRPL',\n",
    "                'UPTICK': 'UPKP',\n",
    "            },\n",
    "        },\n",
    "\n",
    "        'Água e Saneamento': {\n",
    "            'Água e Saneamento': {\n",
    "                'AMBIPAR': 'AMBP',\n",
    "                'CASAN': 'CASN',\n",
    "                'COPASA': 'CSMG',\n",
    "                'IGUA SA': 'IGSN',\n",
    "                'ORIZON': 'ORVR',\n",
    "                'SABESP': 'SBSP',\n",
    "                'SANEPAR': 'SAPR',\n",
    "                'SANESALTO': 'SNST',\n",
    "            }\n",
    "        },\n",
    "\n",
    "        'Gás': {\n",
    "            'Gás': {\n",
    "                'CEG': 'CEGR',\n",
    "                'COMGAS': 'CGAS',\n",
    "                'COMPASS': 'PASS',\n",
    "            }\n",
    "        },\n",
    "    },\n",
    "\n",
    "    'Financeiro': {\n",
    "        'Intermediários Financeiros': {\n",
    "            'Bancos': {\n",
    "                'ABC BRASIL': 'ABCB',\n",
    "                'ALFA HOLDING': 'RPAD',\n",
    "                'ALFA INVEST': 'BRIV',\n",
    "                'AMAZONIA': 'BAZA',\n",
    "                'BANCO BMG': 'BMGB',\n",
    "                'BANCO INTER': 'BIDI',\n",
    "                'BANCO PAN': 'BPAN',\n",
    "                'BANESE': 'BGIP',\n",
    "                'BANESTES': 'BEES',\n",
    "                'BANPARA': 'BPAR',\n",
    "                'BANRISUL': 'BRSR',\n",
    "                'BR PARTNERS': 'BRBI',\n",
    "                'BRADESCO': 'BBDC',\n",
    "                'BRASIL': 'BBAS',\n",
    "                'BRB BANCO': 'BSLI',\n",
    "                'BTGP BANCO': 'BPAC',\n",
    "                'ITAUSA': 'ITSA',\n",
    "                'ITAUUNIBANCO': 'ITUB',\n",
    "                'MERC BRASIL': 'BMEB',\n",
    "                'MERC INVEST': 'BMIN',\n",
    "                'MODALMAIS': 'MODL',\n",
    "                'NORD BRASIL': 'BNBR',\n",
    "                'NU-NUBANK': 'NUBR',\n",
    "                'PARANA': 'PRBC',\n",
    "                'PINE': 'PINE',\n",
    "                'SANTANDER BR': 'SANB',\n",
    "            },\n",
    "            'Soc. Crédito e Financiamento': {\n",
    "                'ALFA FINANC': 'CRIV',\n",
    "                'FINANSINOS': 'FNCN',\n",
    "                'MERC FINANC': 'MERC',\n",
    "            },\n",
    "\n",
    "            'Soc. Arrendamento Mercantil': {\n",
    "                'BRADESCO LSG': 'BDLS',\n",
    "                'DIBENS LSG': 'DBEN',\n",
    "            }\n",
    "        },\n",
    "\n",
    "        'Securitizadoras de Recebíveis': {\n",
    "            'Securitizadoras de Recebíveis': {\n",
    "                'BRAZIL REALT': 'BZRS',\n",
    "                'BRAZILIAN SC': 'BSCS',\n",
    "                'BRPR 56 SEC': 'WTVR',\n",
    "                'CIBRASEC': 'CBSC',\n",
    "                'ECO SEC AGRO': 'ECOA',\n",
    "                'GAIA AGRO': 'GAFL',\n",
    "                'GAIA SECURIT': 'GAIA',\n",
    "                'OCTANTE SEC': 'OCTS',\n",
    "                'PDG SECURIT': 'PDGS',\n",
    "                'POLO CAP SEC': 'PLSC',\n",
    "                'RBCAPITALRES': 'RBRA',\n",
    "                'TRUESEC': 'APCS',\n",
    "                'VERTCIASEC': 'VERT',\n",
    "                'WTORRE PIC': 'WTPI',\n",
    "            },\n",
    "        },\n",
    "\n",
    "        'Serviços Financeiros Diversos': {\n",
    "            'Gestão de Recursos e Investimentos': {\n",
    "                'BNDESPAR': 'BNDP',\n",
    "                'BRAZILIAN FR': 'BFRE',\n",
    "                'G2D INVEST': 'G2DI',\n",
    "                'GP INVEST': 'GPIV',\n",
    "                'PPLA': 'PPLA',\n",
    "            },\n",
    "\n",
    "            'Serviços Financeiros Diversos': {\n",
    "                'B3': 'B3SA',\n",
    "                'BOA VISTA': 'BOAS',\n",
    "                'CIELO': 'CIEL',\n",
    "                'CLEARSALE': 'CLSA',\n",
    "                'CSU CARDSYST': 'CARD',\n",
    "                'GETNET BR': 'GETT',\n",
    "                'STONE CO': 'STOC',\n",
    "                'XP INC': 'XPBR',\n",
    "            }\n",
    "        },\n",
    "\n",
    "        'Previdência e Seguros': {\n",
    "            'Seguradoras': {\n",
    "                'ALFA CONSORC': 'BRGE',\n",
    "                'BBSEGURIDADE': 'BBSE',\n",
    "                'CAIXA SEGURI': 'CXSE',\n",
    "                'PORTO SEGURO': 'PSSA',\n",
    "                'SEG AL BAHIA': 'CSAB',\n",
    "                'SUL AMERICA': 'SULA',\n",
    "            },\n",
    "            'Resseguradoras': {\n",
    "                'IRBBRASIL RE': 'IRBR',\n",
    "            },\n",
    "\n",
    "            'Corretoras de Seguros e Resseguros': {\n",
    "                'ALPER S.A.': 'APER',\n",
    "                'WIZ S.A.': 'WIZS',\n",
    "            },\n",
    "        },\n",
    "\n",
    "        'Exploração de Imóveis': {\n",
    "            'Exploração de Imóveis': {\n",
    "                'ALIANSCSONAE': 'ALSO',\n",
    "                'BR MALLS PAR': 'BRML',\n",
    "                'BR PROPERT': 'BRPR',\n",
    "                'COR RIBEIRO': 'CORR',\n",
    "                'CYRE COM-CCP': 'CCPR',\n",
    "                'GENERALSHOPP': 'GSHP',\n",
    "                'HABITASUL': 'HBTS',\n",
    "                'HBR REALTY': 'HBRE',\n",
    "                'IGB S/A': 'IGBR',\n",
    "                'IGUATEMI S.A': 'IGTI',\n",
    "                'LOG COM PROP': 'LOGG',\n",
    "                'MENEZES CORT': 'MNZC',\n",
    "                'MULTIPLAN': 'MULT',\n",
    "                'SAO CARLOS': 'SCAR',\n",
    "                'SYN PROP TEC': 'SYNE',\n",
    "            },\n",
    "\n",
    "            'Intermediação Imobiliária': {\n",
    "                'BR BROKERS': 'BBRK',\n",
    "                'LOPES BRASIL': 'LPSB',\n",
    "            },\n",
    "        },\n",
    "\n",
    "        'Holdings Diversificadas': {\n",
    "            'Holdings Diversificadas': {\n",
    "                'MONT ARANHA': 'MOAR',\n",
    "                'PAR AL BAHIA': 'PEAB',\n",
    "                'SIMPAR': 'SIMH',\n",
    "            },\n",
    "        },\n",
    "\n",
    "        'Outros Títulos': {\n",
    "            'Outros Títulos': {\n",
    "                'CEPAC - CTBA': 'CTBA',\n",
    "                'CEPAC - MCRJ': 'MCRJ',\n",
    "                'CEPAC - PMSP': 'PMSP',\n",
    "            }\n",
    "        },\n",
    "\n",
    "    },\n",
    "\n",
    "    'Outros': {\n",
    "        'Outros': {\n",
    "            'Outros': {\n",
    "                '524 PARTICIP': 'QVQP',\n",
    "                'ATOMPAR': 'ATOM',\n",
    "                'B TECH EQI': 'BLUT',\n",
    "                'BETAPART': 'BETP',\n",
    "                'CABINDA PART': 'CABI',\n",
    "                'CACONDE PART': 'CACO',\n",
    "                'CEMEPE': 'MAPT',\n",
    "                'CIMS': 'CMSA',\n",
    "                'GAMA PART': 'OPGM',\n",
    "                'INVEST BEMGE': 'FIGE',\n",
    "                'MGI PARTICIP': 'MGIP',\n",
    "                'POLPAR': 'PPAR',\n",
    "                'PROMPT PART': 'PRPT',\n",
    "                'SUDESTE S/A': 'OPSE',\n",
    "                'SUL 116 PART': 'OPTS',\n",
    "                'YBYRA S/A': 'YBRA',\n",
    "            }\n",
    "        },\n",
    "    },\n",
    "}"
   ]
  },
  {
   "cell_type": "code",
   "execution_count": 2,
   "id": "706b344d",
   "metadata": {},
   "outputs": [],
   "source": [
    "def stock_iterator(stocks):\n",
    "    for _, value in stocks.items():\n",
    "        if isinstance(value, dict):\n",
    "            yield from stock_iterator(value)\n",
    "        else:\n",
    "            for c in {'3', '4'}:\n",
    "                yield f'{value}{c}.SA'"
   ]
  },
  {
   "cell_type": "code",
   "execution_count": 3,
   "id": "a7fd2c22",
   "metadata": {},
   "outputs": [],
   "source": [
    "sectors = {}\n",
    "for sector in b3_companies.keys():\n",
    "    for stock in stock_iterator(b3_companies[sector]):\n",
    "        sectors[stock] = sector\n",
    "\n",
    "sub_sectors = {}\n",
    "\n",
    "for sector in b3_companies.keys():\n",
    "    for sub_sector in b3_companies[sector].keys():\n",
    "        for stock in stock_iterator(b3_companies[sector][sub_sector]):\n",
    "            sub_sectors[stock] = sub_sector\n",
    "\n",
    "segments = {}\n",
    "for sector in b3_companies.keys():\n",
    "    for sub_sector in b3_companies[sector].keys():\n",
    "        for segment in b3_companies[sector][sub_sector].keys():\n",
    "            for stock in stock_iterator(b3_companies[sector][sub_sector][segment]):\n",
    "                segments[stock] = segment\n",
    "\n",
    "# TODO: Criar uma estrutura de dados que simplifique essa busca de setor, subsetor e segmento\n",
    "# Por exemplo:\n",
    "\"\"\"\n",
    "stocks = [\n",
    "    {\n",
    "        'sector': 'Consumo Cíclico', \n",
    "        'sub_sector': 'Comércio', \n",
    "        'segment': 'Eletrodomésticos', \n",
    "        'stocks': ['MGLU3.SA', 'MGLU4.SA', 'MGLU3F.SA', 'MGLU4F.SA'], \n",
    "        'company': 'Magazine Luiza',\n",
    "    },\n",
    "]\n",
    "\"\"\"\n",
    "a = 1"
   ]
  },
  {
   "cell_type": "code",
   "execution_count": 4,
   "id": "90af8bfe",
   "metadata": {},
   "outputs": [],
   "source": [
    "from dateutil.relativedelta import relativedelta\n",
    "\n",
    "from sklearn import preprocessing\n",
    "from sklearn.cluster import KMeans, DBSCAN\n",
    "from sklearn.ensemble import IsolationForest\n",
    "\n",
    "from time import sleep\n",
    "from typing import Dict, List\n",
    "import datetime as dt\n",
    "import matplotlib.pyplot as plt\n",
    "import numpy as np\n",
    "import os\n",
    "import pandas as pd\n",
    "import plotly.express as px\n",
    "import random\n",
    "import seaborn as sns\n",
    "import ssl\n",
    "import yfinance as yf\n",
    "from collections import defaultdict\n",
    "\n",
    "ssl._create_default_https_context = ssl._create_unverified_context"
   ]
  },
  {
   "cell_type": "markdown",
   "id": "2f26e027",
   "metadata": {},
   "source": [
    "#### 2. Obteção dos sinais financeiros das ações da B3"
   ]
  },
  {
   "cell_type": "code",
   "execution_count": 5,
   "id": "b4023de2",
   "metadata": {},
   "outputs": [
    {
     "name": "stdout",
     "output_type": "stream",
     "text": [
      "Start Date: 2019-03-02\n",
      "End Date: 2022-03-02\n"
     ]
    }
   ],
   "source": [
    "end_date = dt.date.today() - relativedelta(days=1)\n",
    "start_date = end_date - relativedelta(years=3)\n",
    "\n",
    "print(\"Start Date:\", start_date)\n",
    "print(\"End Date:\", end_date)"
   ]
  },
  {
   "cell_type": "code",
   "execution_count": 6,
   "id": "973b5c3f",
   "metadata": {},
   "outputs": [],
   "source": [
    "def get_stock_data() -> Dict[str, pd.DataFrame]:\n",
    "    file_name = 'b3_companies.pkl'\n",
    "\n",
    "    if os.path.exists(file_name):\n",
    "        dfs = pd.read_pickle(file_name)\n",
    "        return dfs\n",
    "    \n",
    "    dfs: Dict[str, pd.DataFrame] = dict()\n",
    "\n",
    "    end_date = dt.date.today() - relativedelta(days=1)\n",
    "    start_date = end_date - relativedelta(years=3)\n",
    "\n",
    "    for stock in stock_iterator(b3_companies):\n",
    "        try:\n",
    "            df_ = yf.download(stock, start=start_date, end=end_date)\n",
    "            if len(df_):\n",
    "                dfs[stock] = df_\n",
    "            sleep(1)\n",
    "        except:\n",
    "            continue\n",
    "    \n",
    "    pd.to_pickle(dfs, './b3_companies.pkl')\n",
    "    \n",
    "    return dfs\n",
    "\n",
    "dfs = get_stock_data()"
   ]
  },
  {
   "cell_type": "code",
   "execution_count": 7,
   "id": "763d153b",
   "metadata": {},
   "outputs": [
    {
     "data": {
      "text/html": [
       "<div>\n",
       "<style scoped>\n",
       "    .dataframe tbody tr th:only-of-type {\n",
       "        vertical-align: middle;\n",
       "    }\n",
       "\n",
       "    .dataframe tbody tr th {\n",
       "        vertical-align: top;\n",
       "    }\n",
       "\n",
       "    .dataframe thead th {\n",
       "        text-align: right;\n",
       "    }\n",
       "</style>\n",
       "<table border=\"1\" class=\"dataframe\">\n",
       "  <thead>\n",
       "    <tr style=\"text-align: right;\">\n",
       "      <th></th>\n",
       "      <th>Open</th>\n",
       "      <th>High</th>\n",
       "      <th>Low</th>\n",
       "      <th>Close</th>\n",
       "      <th>Adj Close</th>\n",
       "      <th>Volume</th>\n",
       "    </tr>\n",
       "    <tr>\n",
       "      <th>Date</th>\n",
       "      <th></th>\n",
       "      <th></th>\n",
       "      <th></th>\n",
       "      <th></th>\n",
       "      <th></th>\n",
       "      <th></th>\n",
       "    </tr>\n",
       "  </thead>\n",
       "  <tbody>\n",
       "    <tr>\n",
       "      <th>2020-03-02</th>\n",
       "      <td>25.500000</td>\n",
       "      <td>26.750000</td>\n",
       "      <td>25.480000</td>\n",
       "      <td>26.530001</td>\n",
       "      <td>21.561773</td>\n",
       "      <td>71596400</td>\n",
       "    </tr>\n",
       "    <tr>\n",
       "      <th>2020-03-03</th>\n",
       "      <td>26.570000</td>\n",
       "      <td>27.480000</td>\n",
       "      <td>25.760000</td>\n",
       "      <td>26.049999</td>\n",
       "      <td>21.171661</td>\n",
       "      <td>86855700</td>\n",
       "    </tr>\n",
       "    <tr>\n",
       "      <th>2020-03-04</th>\n",
       "      <td>26.910000</td>\n",
       "      <td>26.940001</td>\n",
       "      <td>26.240000</td>\n",
       "      <td>26.889999</td>\n",
       "      <td>21.854357</td>\n",
       "      <td>42320500</td>\n",
       "    </tr>\n",
       "    <tr>\n",
       "      <th>2020-03-05</th>\n",
       "      <td>26.330000</td>\n",
       "      <td>26.670000</td>\n",
       "      <td>24.709999</td>\n",
       "      <td>25.290001</td>\n",
       "      <td>20.553988</td>\n",
       "      <td>69722300</td>\n",
       "    </tr>\n",
       "    <tr>\n",
       "      <th>2020-03-06</th>\n",
       "      <td>24.100000</td>\n",
       "      <td>24.129999</td>\n",
       "      <td>22.549999</td>\n",
       "      <td>22.830000</td>\n",
       "      <td>18.554665</td>\n",
       "      <td>138597600</td>\n",
       "    </tr>\n",
       "    <tr>\n",
       "      <th>...</th>\n",
       "      <td>...</td>\n",
       "      <td>...</td>\n",
       "      <td>...</td>\n",
       "      <td>...</td>\n",
       "      <td>...</td>\n",
       "      <td>...</td>\n",
       "    </tr>\n",
       "    <tr>\n",
       "      <th>2022-02-21</th>\n",
       "      <td>33.049999</td>\n",
       "      <td>34.000000</td>\n",
       "      <td>33.000000</td>\n",
       "      <td>33.849998</td>\n",
       "      <td>33.849998</td>\n",
       "      <td>51263800</td>\n",
       "    </tr>\n",
       "    <tr>\n",
       "      <th>2022-02-22</th>\n",
       "      <td>34.220001</td>\n",
       "      <td>34.680000</td>\n",
       "      <td>33.209999</td>\n",
       "      <td>33.740002</td>\n",
       "      <td>33.740002</td>\n",
       "      <td>80206700</td>\n",
       "    </tr>\n",
       "    <tr>\n",
       "      <th>2022-02-23</th>\n",
       "      <td>34.180000</td>\n",
       "      <td>34.599998</td>\n",
       "      <td>33.799999</td>\n",
       "      <td>34.220001</td>\n",
       "      <td>34.220001</td>\n",
       "      <td>86530100</td>\n",
       "    </tr>\n",
       "    <tr>\n",
       "      <th>2022-02-24</th>\n",
       "      <td>34.799999</td>\n",
       "      <td>35.290001</td>\n",
       "      <td>32.680000</td>\n",
       "      <td>33.389999</td>\n",
       "      <td>33.389999</td>\n",
       "      <td>139674100</td>\n",
       "    </tr>\n",
       "    <tr>\n",
       "      <th>2022-02-25</th>\n",
       "      <td>33.450001</td>\n",
       "      <td>33.869999</td>\n",
       "      <td>32.900002</td>\n",
       "      <td>33.759998</td>\n",
       "      <td>33.759998</td>\n",
       "      <td>63299400</td>\n",
       "    </tr>\n",
       "  </tbody>\n",
       "</table>\n",
       "<p>495 rows × 6 columns</p>\n",
       "</div>"
      ],
      "text/plain": [
       "                 Open       High        Low      Close  Adj Close     Volume\n",
       "Date                                                                        \n",
       "2020-03-02  25.500000  26.750000  25.480000  26.530001  21.561773   71596400\n",
       "2020-03-03  26.570000  27.480000  25.760000  26.049999  21.171661   86855700\n",
       "2020-03-04  26.910000  26.940001  26.240000  26.889999  21.854357   42320500\n",
       "2020-03-05  26.330000  26.670000  24.709999  25.290001  20.553988   69722300\n",
       "2020-03-06  24.100000  24.129999  22.549999  22.830000  18.554665  138597600\n",
       "...               ...        ...        ...        ...        ...        ...\n",
       "2022-02-21  33.049999  34.000000  33.000000  33.849998  33.849998   51263800\n",
       "2022-02-22  34.220001  34.680000  33.209999  33.740002  33.740002   80206700\n",
       "2022-02-23  34.180000  34.599998  33.799999  34.220001  34.220001   86530100\n",
       "2022-02-24  34.799999  35.290001  32.680000  33.389999  33.389999  139674100\n",
       "2022-02-25  33.450001  33.869999  32.900002  33.759998  33.759998   63299400\n",
       "\n",
       "[495 rows x 6 columns]"
      ]
     },
     "execution_count": 7,
     "metadata": {},
     "output_type": "execute_result"
    }
   ],
   "source": [
    "dfs['PETR4.SA']"
   ]
  },
  {
   "cell_type": "markdown",
   "id": "2808d2dd",
   "metadata": {},
   "source": [
    "#### 3. Remoção dos ativos com falhas no dataset"
   ]
  },
  {
   "cell_type": "code",
   "execution_count": 8,
   "id": "3fa7a3ee",
   "metadata": {},
   "outputs": [
    {
     "data": {
      "text/html": [
       "<div>\n",
       "<style scoped>\n",
       "    .dataframe tbody tr th:only-of-type {\n",
       "        vertical-align: middle;\n",
       "    }\n",
       "\n",
       "    .dataframe tbody tr th {\n",
       "        vertical-align: top;\n",
       "    }\n",
       "\n",
       "    .dataframe thead th {\n",
       "        text-align: right;\n",
       "    }\n",
       "</style>\n",
       "<table border=\"1\" class=\"dataframe\">\n",
       "  <thead>\n",
       "    <tr style=\"text-align: right;\">\n",
       "      <th></th>\n",
       "      <th>RRRP3.SA</th>\n",
       "      <th>CSAN3.SA</th>\n",
       "      <th>DMMO3.SA</th>\n",
       "      <th>ENAT3.SA</th>\n",
       "      <th>RPMG3.SA</th>\n",
       "      <th>PETR4.SA</th>\n",
       "      <th>PETR3.SA</th>\n",
       "      <th>RECV3.SA</th>\n",
       "      <th>PRIO3.SA</th>\n",
       "      <th>UGPA3.SA</th>\n",
       "      <th>...</th>\n",
       "      <th>PEAB3.SA</th>\n",
       "      <th>SIMH3.SA</th>\n",
       "      <th>ATOM3.SA</th>\n",
       "      <th>BLUT4.SA</th>\n",
       "      <th>BLUT3.SA</th>\n",
       "      <th>MAPT4.SA</th>\n",
       "      <th>MAPT3.SA</th>\n",
       "      <th>FIGE4.SA</th>\n",
       "      <th>FIGE3.SA</th>\n",
       "      <th>PPAR3.SA</th>\n",
       "    </tr>\n",
       "    <tr>\n",
       "      <th>Date</th>\n",
       "      <th></th>\n",
       "      <th></th>\n",
       "      <th></th>\n",
       "      <th></th>\n",
       "      <th></th>\n",
       "      <th></th>\n",
       "      <th></th>\n",
       "      <th></th>\n",
       "      <th></th>\n",
       "      <th></th>\n",
       "      <th></th>\n",
       "      <th></th>\n",
       "      <th></th>\n",
       "      <th></th>\n",
       "      <th></th>\n",
       "      <th></th>\n",
       "      <th></th>\n",
       "      <th></th>\n",
       "      <th></th>\n",
       "      <th></th>\n",
       "      <th></th>\n",
       "    </tr>\n",
       "  </thead>\n",
       "  <tbody>\n",
       "    <tr>\n",
       "      <th>2020-03-02</th>\n",
       "      <td>NaN</td>\n",
       "      <td>18.887501</td>\n",
       "      <td>1.589771</td>\n",
       "      <td>13.610000</td>\n",
       "      <td>4.10</td>\n",
       "      <td>26.530001</td>\n",
       "      <td>28.100000</td>\n",
       "      <td>NaN</td>\n",
       "      <td>8.460000</td>\n",
       "      <td>19.719999</td>\n",
       "      <td>...</td>\n",
       "      <td>55.0</td>\n",
       "      <td>NaN</td>\n",
       "      <td>1.66</td>\n",
       "      <td>0.710000</td>\n",
       "      <td>1.033333</td>\n",
       "      <td>36.490002</td>\n",
       "      <td>65.0</td>\n",
       "      <td>38.009998</td>\n",
       "      <td>43.0</td>\n",
       "      <td>250.020004</td>\n",
       "    </tr>\n",
       "    <tr>\n",
       "      <th>2020-03-03</th>\n",
       "      <td>NaN</td>\n",
       "      <td>18.992500</td>\n",
       "      <td>1.409796</td>\n",
       "      <td>13.580000</td>\n",
       "      <td>4.10</td>\n",
       "      <td>26.049999</td>\n",
       "      <td>27.500000</td>\n",
       "      <td>NaN</td>\n",
       "      <td>8.356000</td>\n",
       "      <td>19.980000</td>\n",
       "      <td>...</td>\n",
       "      <td>55.0</td>\n",
       "      <td>NaN</td>\n",
       "      <td>1.68</td>\n",
       "      <td>0.730000</td>\n",
       "      <td>1.033333</td>\n",
       "      <td>36.490002</td>\n",
       "      <td>65.0</td>\n",
       "      <td>38.009998</td>\n",
       "      <td>43.0</td>\n",
       "      <td>250.020004</td>\n",
       "    </tr>\n",
       "    <tr>\n",
       "      <th>2020-03-04</th>\n",
       "      <td>NaN</td>\n",
       "      <td>19.264999</td>\n",
       "      <td>1.339807</td>\n",
       "      <td>13.000000</td>\n",
       "      <td>4.26</td>\n",
       "      <td>26.889999</td>\n",
       "      <td>28.219999</td>\n",
       "      <td>NaN</td>\n",
       "      <td>8.266000</td>\n",
       "      <td>19.950001</td>\n",
       "      <td>...</td>\n",
       "      <td>57.0</td>\n",
       "      <td>NaN</td>\n",
       "      <td>1.66</td>\n",
       "      <td>0.716666</td>\n",
       "      <td>1.016666</td>\n",
       "      <td>36.490002</td>\n",
       "      <td>65.0</td>\n",
       "      <td>38.009998</td>\n",
       "      <td>43.0</td>\n",
       "      <td>250.020004</td>\n",
       "    </tr>\n",
       "    <tr>\n",
       "      <th>2020-03-05</th>\n",
       "      <td>NaN</td>\n",
       "      <td>17.997499</td>\n",
       "      <td>1.229822</td>\n",
       "      <td>13.110000</td>\n",
       "      <td>4.09</td>\n",
       "      <td>25.290001</td>\n",
       "      <td>26.809999</td>\n",
       "      <td>NaN</td>\n",
       "      <td>7.910000</td>\n",
       "      <td>18.100000</td>\n",
       "      <td>...</td>\n",
       "      <td>60.0</td>\n",
       "      <td>NaN</td>\n",
       "      <td>1.60</td>\n",
       "      <td>0.703333</td>\n",
       "      <td>1.003333</td>\n",
       "      <td>36.490002</td>\n",
       "      <td>65.0</td>\n",
       "      <td>38.009998</td>\n",
       "      <td>43.0</td>\n",
       "      <td>250.020004</td>\n",
       "    </tr>\n",
       "    <tr>\n",
       "      <th>2020-03-06</th>\n",
       "      <td>NaN</td>\n",
       "      <td>17.340000</td>\n",
       "      <td>1.179830</td>\n",
       "      <td>12.410000</td>\n",
       "      <td>3.85</td>\n",
       "      <td>22.830000</td>\n",
       "      <td>24.059999</td>\n",
       "      <td>NaN</td>\n",
       "      <td>7.088000</td>\n",
       "      <td>17.200001</td>\n",
       "      <td>...</td>\n",
       "      <td>60.0</td>\n",
       "      <td>NaN</td>\n",
       "      <td>1.55</td>\n",
       "      <td>0.680000</td>\n",
       "      <td>0.950000</td>\n",
       "      <td>36.490002</td>\n",
       "      <td>65.0</td>\n",
       "      <td>38.009998</td>\n",
       "      <td>43.0</td>\n",
       "      <td>250.020004</td>\n",
       "    </tr>\n",
       "    <tr>\n",
       "      <th>...</th>\n",
       "      <td>...</td>\n",
       "      <td>...</td>\n",
       "      <td>...</td>\n",
       "      <td>...</td>\n",
       "      <td>...</td>\n",
       "      <td>...</td>\n",
       "      <td>...</td>\n",
       "      <td>...</td>\n",
       "      <td>...</td>\n",
       "      <td>...</td>\n",
       "      <td>...</td>\n",
       "      <td>...</td>\n",
       "      <td>...</td>\n",
       "      <td>...</td>\n",
       "      <td>...</td>\n",
       "      <td>...</td>\n",
       "      <td>...</td>\n",
       "      <td>...</td>\n",
       "      <td>...</td>\n",
       "      <td>...</td>\n",
       "      <td>...</td>\n",
       "    </tr>\n",
       "    <tr>\n",
       "      <th>2022-02-21</th>\n",
       "      <td>37.040001</td>\n",
       "      <td>21.180000</td>\n",
       "      <td>0.930000</td>\n",
       "      <td>16.389999</td>\n",
       "      <td>2.75</td>\n",
       "      <td>33.849998</td>\n",
       "      <td>36.840000</td>\n",
       "      <td>21.139999</td>\n",
       "      <td>25.270000</td>\n",
       "      <td>15.100000</td>\n",
       "      <td>...</td>\n",
       "      <td>64.5</td>\n",
       "      <td>10.35</td>\n",
       "      <td>3.04</td>\n",
       "      <td>0.700000</td>\n",
       "      <td>1.350000</td>\n",
       "      <td>21.510000</td>\n",
       "      <td>37.0</td>\n",
       "      <td>NaN</td>\n",
       "      <td>NaN</td>\n",
       "      <td>NaN</td>\n",
       "    </tr>\n",
       "    <tr>\n",
       "      <th>2022-02-22</th>\n",
       "      <td>36.099998</td>\n",
       "      <td>20.520000</td>\n",
       "      <td>0.950000</td>\n",
       "      <td>16.059999</td>\n",
       "      <td>2.80</td>\n",
       "      <td>33.740002</td>\n",
       "      <td>36.270000</td>\n",
       "      <td>20.350000</td>\n",
       "      <td>24.540001</td>\n",
       "      <td>15.320000</td>\n",
       "      <td>...</td>\n",
       "      <td>64.5</td>\n",
       "      <td>10.92</td>\n",
       "      <td>3.13</td>\n",
       "      <td>0.690000</td>\n",
       "      <td>1.310000</td>\n",
       "      <td>21.510000</td>\n",
       "      <td>37.0</td>\n",
       "      <td>38.009998</td>\n",
       "      <td>43.0</td>\n",
       "      <td>250.020004</td>\n",
       "    </tr>\n",
       "    <tr>\n",
       "      <th>2022-02-23</th>\n",
       "      <td>31.590000</td>\n",
       "      <td>20.450001</td>\n",
       "      <td>0.930000</td>\n",
       "      <td>16.600000</td>\n",
       "      <td>2.76</td>\n",
       "      <td>34.220001</td>\n",
       "      <td>36.279999</td>\n",
       "      <td>20.700001</td>\n",
       "      <td>24.889999</td>\n",
       "      <td>14.920000</td>\n",
       "      <td>...</td>\n",
       "      <td>64.5</td>\n",
       "      <td>10.90</td>\n",
       "      <td>3.04</td>\n",
       "      <td>0.680000</td>\n",
       "      <td>1.240000</td>\n",
       "      <td>21.510000</td>\n",
       "      <td>37.0</td>\n",
       "      <td>38.009998</td>\n",
       "      <td>43.0</td>\n",
       "      <td>250.020004</td>\n",
       "    </tr>\n",
       "    <tr>\n",
       "      <th>2022-02-24</th>\n",
       "      <td>32.070000</td>\n",
       "      <td>20.510000</td>\n",
       "      <td>0.940000</td>\n",
       "      <td>17.280001</td>\n",
       "      <td>2.78</td>\n",
       "      <td>33.389999</td>\n",
       "      <td>35.709999</td>\n",
       "      <td>20.299999</td>\n",
       "      <td>24.860001</td>\n",
       "      <td>15.460000</td>\n",
       "      <td>...</td>\n",
       "      <td>64.5</td>\n",
       "      <td>10.72</td>\n",
       "      <td>2.91</td>\n",
       "      <td>0.620000</td>\n",
       "      <td>1.230000</td>\n",
       "      <td>21.510000</td>\n",
       "      <td>37.0</td>\n",
       "      <td>38.009998</td>\n",
       "      <td>43.0</td>\n",
       "      <td>250.020004</td>\n",
       "    </tr>\n",
       "    <tr>\n",
       "      <th>2022-02-25</th>\n",
       "      <td>33.480000</td>\n",
       "      <td>20.940001</td>\n",
       "      <td>0.940000</td>\n",
       "      <td>16.930000</td>\n",
       "      <td>2.73</td>\n",
       "      <td>33.759998</td>\n",
       "      <td>36.279999</td>\n",
       "      <td>20.549999</td>\n",
       "      <td>25.650000</td>\n",
       "      <td>15.130000</td>\n",
       "      <td>...</td>\n",
       "      <td>64.5</td>\n",
       "      <td>10.48</td>\n",
       "      <td>2.91</td>\n",
       "      <td>0.610000</td>\n",
       "      <td>1.210000</td>\n",
       "      <td>21.510000</td>\n",
       "      <td>37.0</td>\n",
       "      <td>38.009998</td>\n",
       "      <td>43.0</td>\n",
       "      <td>250.020004</td>\n",
       "    </tr>\n",
       "  </tbody>\n",
       "</table>\n",
       "<p>510 rows × 451 columns</p>\n",
       "</div>"
      ],
      "text/plain": [
       "             RRRP3.SA   CSAN3.SA  DMMO3.SA   ENAT3.SA  RPMG3.SA   PETR4.SA  \\\n",
       "Date                                                                         \n",
       "2020-03-02        NaN  18.887501  1.589771  13.610000      4.10  26.530001   \n",
       "2020-03-03        NaN  18.992500  1.409796  13.580000      4.10  26.049999   \n",
       "2020-03-04        NaN  19.264999  1.339807  13.000000      4.26  26.889999   \n",
       "2020-03-05        NaN  17.997499  1.229822  13.110000      4.09  25.290001   \n",
       "2020-03-06        NaN  17.340000  1.179830  12.410000      3.85  22.830000   \n",
       "...               ...        ...       ...        ...       ...        ...   \n",
       "2022-02-21  37.040001  21.180000  0.930000  16.389999      2.75  33.849998   \n",
       "2022-02-22  36.099998  20.520000  0.950000  16.059999      2.80  33.740002   \n",
       "2022-02-23  31.590000  20.450001  0.930000  16.600000      2.76  34.220001   \n",
       "2022-02-24  32.070000  20.510000  0.940000  17.280001      2.78  33.389999   \n",
       "2022-02-25  33.480000  20.940001  0.940000  16.930000      2.73  33.759998   \n",
       "\n",
       "             PETR3.SA   RECV3.SA   PRIO3.SA   UGPA3.SA  ...  PEAB3.SA  \\\n",
       "Date                                                    ...             \n",
       "2020-03-02  28.100000        NaN   8.460000  19.719999  ...      55.0   \n",
       "2020-03-03  27.500000        NaN   8.356000  19.980000  ...      55.0   \n",
       "2020-03-04  28.219999        NaN   8.266000  19.950001  ...      57.0   \n",
       "2020-03-05  26.809999        NaN   7.910000  18.100000  ...      60.0   \n",
       "2020-03-06  24.059999        NaN   7.088000  17.200001  ...      60.0   \n",
       "...               ...        ...        ...        ...  ...       ...   \n",
       "2022-02-21  36.840000  21.139999  25.270000  15.100000  ...      64.5   \n",
       "2022-02-22  36.270000  20.350000  24.540001  15.320000  ...      64.5   \n",
       "2022-02-23  36.279999  20.700001  24.889999  14.920000  ...      64.5   \n",
       "2022-02-24  35.709999  20.299999  24.860001  15.460000  ...      64.5   \n",
       "2022-02-25  36.279999  20.549999  25.650000  15.130000  ...      64.5   \n",
       "\n",
       "            SIMH3.SA  ATOM3.SA  BLUT4.SA  BLUT3.SA   MAPT4.SA  MAPT3.SA  \\\n",
       "Date                                                                      \n",
       "2020-03-02       NaN      1.66  0.710000  1.033333  36.490002      65.0   \n",
       "2020-03-03       NaN      1.68  0.730000  1.033333  36.490002      65.0   \n",
       "2020-03-04       NaN      1.66  0.716666  1.016666  36.490002      65.0   \n",
       "2020-03-05       NaN      1.60  0.703333  1.003333  36.490002      65.0   \n",
       "2020-03-06       NaN      1.55  0.680000  0.950000  36.490002      65.0   \n",
       "...              ...       ...       ...       ...        ...       ...   \n",
       "2022-02-21     10.35      3.04  0.700000  1.350000  21.510000      37.0   \n",
       "2022-02-22     10.92      3.13  0.690000  1.310000  21.510000      37.0   \n",
       "2022-02-23     10.90      3.04  0.680000  1.240000  21.510000      37.0   \n",
       "2022-02-24     10.72      2.91  0.620000  1.230000  21.510000      37.0   \n",
       "2022-02-25     10.48      2.91  0.610000  1.210000  21.510000      37.0   \n",
       "\n",
       "             FIGE4.SA  FIGE3.SA    PPAR3.SA  \n",
       "Date                                         \n",
       "2020-03-02  38.009998      43.0  250.020004  \n",
       "2020-03-03  38.009998      43.0  250.020004  \n",
       "2020-03-04  38.009998      43.0  250.020004  \n",
       "2020-03-05  38.009998      43.0  250.020004  \n",
       "2020-03-06  38.009998      43.0  250.020004  \n",
       "...               ...       ...         ...  \n",
       "2022-02-21        NaN       NaN         NaN  \n",
       "2022-02-22  38.009998      43.0  250.020004  \n",
       "2022-02-23  38.009998      43.0  250.020004  \n",
       "2022-02-24  38.009998      43.0  250.020004  \n",
       "2022-02-25  38.009998      43.0  250.020004  \n",
       "\n",
       "[510 rows x 451 columns]"
      ]
     },
     "execution_count": 8,
     "metadata": {},
     "output_type": "execute_result"
    }
   ],
   "source": [
    "def get_close_dataframe(dfs: Dict[str, pd.DataFrame]) -> pd.DataFrame:\n",
    "    cdfs = pd.DataFrame()\n",
    "    columns = []\n",
    "\n",
    "    for stock, df in dfs.items():\n",
    "        cdf = df[['Close']].copy()\n",
    "        \n",
    "        cdfs = pd.concat([cdfs, cdf], axis=1)\n",
    "        columns.append(stock)\n",
    "\n",
    "    cdfs.columns = columns\n",
    "    return cdfs\n",
    "\n",
    "# cdfs -> DataFrame com somente os preços de Fechamento\n",
    "cdfs = get_close_dataframe(dfs)\n",
    "cdfs"
   ]
  },
  {
   "cell_type": "code",
   "execution_count": 9,
   "id": "8099238e",
   "metadata": {},
   "outputs": [
    {
     "name": "stdout",
     "output_type": "stream",
     "text": [
      "Ativos que não possui sinais financeiros contínuos na série temporal definida\n"
     ]
    },
    {
     "data": {
      "text/plain": [
       "<AxesSubplot:ylabel='Date'>"
      ]
     },
     "execution_count": 9,
     "metadata": {},
     "output_type": "execute_result"
    },
    {
     "data": {
      "image/png": "[encoded data removed]",
      "text/plain": [
       "<Figure size 1728x216 with 1 Axes>"
      ]
     },
     "metadata": {
      "needs_background": "light"
     },
     "output_type": "display_data"
    }
   ],
   "source": [
    "print(\"Ativos que não possui sinais financeiros contínuos na série temporal definida\")\n",
    "\n",
    "plt.figure(figsize=(24, 3))\n",
    "sns.heatmap(cdfs.isnull(), cmap='summer', cbar=False)"
   ]
  },
  {
   "cell_type": "code",
   "execution_count": 10,
   "id": "05521dcd",
   "metadata": {},
   "outputs": [
    {
     "data": {
      "text/plain": [
       "[(509, 'VSPT4.SA'),\n",
       " (509, 'GRAO3.SA'),\n",
       " (466, 'MEGA3.SA'),\n",
       " (436, 'MODL4.SA'),\n",
       " (436, 'MODL3.SA'),\n",
       " (424, 'PORT3.SA'),\n",
       " (422, 'GETT4.SA'),\n",
       " (422, 'GETT3.SA'),\n",
       " (401, 'ONCO3.SA'),\n",
       " (389, 'VITT3.SA'),\n",
       " (377, 'FNCN3.SA'),\n",
       " (376, 'KRSA3.SA'),\n",
       " (372, 'LAND3.SA'),\n",
       " (371, 'VVEO3.SA'),\n",
       " (369, 'RAIZ4.SA'),\n",
       " (366, 'CLSA3.SA'),\n",
       " (366, 'BRIT3.SA'),\n",
       " (364, 'LVTC3.SA'),\n",
       " (364, 'FIQE3.SA'),\n",
       " (364, 'ARML3.SA'),\n",
       " (363, 'TRAD3.SA'),\n",
       " (362, 'AGXY3.SA'),\n",
       " (359, 'MLAS3.SA'),\n",
       " (359, 'DESK3.SA'),\n",
       " (357, 'TTEN3.SA'),\n",
       " (355, 'CBAV3.SA'),\n",
       " (353, 'SMFT3.SA'),\n",
       " (323, 'DOTZ3.SA'),\n",
       " (314, 'NINJ3.SA'),\n",
       " (311, 'MATD3.SA'),\n",
       " (307, 'IFCM3.SA'),\n",
       " (305, 'RECV3.SA'),\n",
       " (302, 'SOJA3.SA'),\n",
       " (302, 'CXSE3.SA'),\n",
       " (300, 'GGPS3.SA'),\n",
       " (294, 'BLAU3.SA'),\n",
       " (289, 'ALLD3.SA'),\n",
       " (280, 'AESB3.SA'),\n",
       " (260, 'ASAI3.SA'),\n",
       " (255, 'CMIN3.SA'),\n",
       " (252, 'ORVR3.SA'),\n",
       " (252, 'ELMD3.SA'),\n",
       " (251, 'WEST3.SA'),\n",
       " (251, 'OPCT3.SA'),\n",
       " (250, 'CSED3.SA'),\n",
       " (250, 'BMOB3.SA'),\n",
       " (249, 'POWE3.SA'),\n",
       " (248, 'MOSI3.SA'),\n",
       " (248, 'MBLY3.SA'),\n",
       " (247, 'JALL3.SA'),\n",
       " (247, 'INTB3.SA'),\n",
       " (245, 'ESPA3.SA'),\n",
       " (243, 'VAMO3.SA'),\n",
       " (238, 'HBRE3.SA'),\n",
       " (223, 'AVLL3.SA'),\n",
       " (217, 'NGRD3.SA'),\n",
       " (213, 'RDOR3.SA'),\n",
       " (192, 'RRRP3.SA'),\n",
       " (191, 'AERI3.SA'),\n",
       " (188, 'ENJU3.SA'),\n",
       " (188, 'CASH3.SA'),\n",
       " (179, 'TFCO4.SA'),\n",
       " (170, 'GMAT3.SA'),\n",
       " (168, 'SEQL3.SA'),\n",
       " (166, 'BOAS3.SA'),\n",
       " (161, 'MELK3.SA'),\n",
       " (159, 'HBSA3.SA'),\n",
       " (159, 'DEXP4.SA'),\n",
       " (155, 'CURY3.SA'),\n",
       " (154, 'SIMH3.SA'),\n",
       " (154, 'PLPL3.SA'),\n",
       " (151, 'PETZ3.SA'),\n",
       " (148, 'JSLG3.SA'),\n",
       " (144, 'PGMN3.SA'),\n",
       " (144, 'LAVV3.SA'),\n",
       " (126, 'LJQQ3.SA'),\n",
       " (126, 'DMVF3.SA'),\n",
       " (120, 'SOMA3.SA'),\n",
       " (106, 'AMBP3.SA'),\n",
       " (70, 'ALPK3.SA'),\n",
       " (58, 'BIDI4.SA'),\n",
       " (56, 'BIDI3.SA'),\n",
       " (15, 'YDUQ3.SA'),\n",
       " (15, 'WLMM4.SA'),\n",
       " (15, 'WLMM3.SA'),\n",
       " (15, 'WIZS3.SA'),\n",
       " (15, 'WHRL4.SA'),\n",
       " (15, 'WHRL3.SA'),\n",
       " (15, 'WEGE3.SA'),\n",
       " (15, 'VULC3.SA'),\n",
       " (15, 'VLID3.SA'),\n",
       " (15, 'VIVT3.SA'),\n",
       " (15, 'VIVR3.SA'),\n",
       " (15, 'VIVA3.SA'),\n",
       " (15, 'VIIA3.SA'),\n",
       " (15, 'VBBR3.SA'),\n",
       " (15, 'VALE3.SA'),\n",
       " (15, 'USIM3.SA'),\n",
       " (15, 'UNIP3.SA'),\n",
       " (15, 'UGPA3.SA'),\n",
       " (15, 'UCAS3.SA'),\n",
       " (15, 'TXRX4.SA'),\n",
       " (15, 'TXRX3.SA'),\n",
       " (15, 'TUPY3.SA'),\n",
       " (15, 'TRPL4.SA'),\n",
       " (15, 'TRPL3.SA'),\n",
       " (15, 'TRIS3.SA'),\n",
       " (15, 'TPIS3.SA'),\n",
       " (15, 'TOTS3.SA'),\n",
       " (15, 'TKNO4.SA'),\n",
       " (15, 'TIMS3.SA'),\n",
       " (15, 'TGMA3.SA'),\n",
       " (15, 'TEND3.SA'),\n",
       " (15, 'TELB4.SA'),\n",
       " (15, 'TELB3.SA'),\n",
       " (15, 'TEKA4.SA'),\n",
       " (15, 'TEKA3.SA'),\n",
       " (15, 'TECN3.SA'),\n",
       " (15, 'TCSA3.SA'),\n",
       " (15, 'TCNO4.SA'),\n",
       " (15, 'TCNO3.SA'),\n",
       " (15, 'TASA4.SA'),\n",
       " (15, 'TASA3.SA'),\n",
       " (15, 'TAEE4.SA'),\n",
       " (15, 'TAEE3.SA'),\n",
       " (15, 'SYNE3.SA'),\n",
       " (15, 'SUZB3.SA'),\n",
       " (15, 'SULA4.SA'),\n",
       " (15, 'SULA3.SA'),\n",
       " (15, 'STBP3.SA'),\n",
       " (15, 'SQIA3.SA'),\n",
       " (15, 'SOND3.SA'),\n",
       " (15, 'SNSY3.SA'),\n",
       " (15, 'SMTO3.SA'),\n",
       " (15, 'SLED4.SA'),\n",
       " (15, 'SLED3.SA'),\n",
       " (15, 'SLCE3.SA'),\n",
       " (15, 'SHUL4.SA'),\n",
       " (15, 'SHUL3.SA'),\n",
       " (15, 'SHOW3.SA'),\n",
       " (15, 'SGPS3.SA'),\n",
       " (15, 'SEER3.SA'),\n",
       " (15, 'SCAR3.SA'),\n",
       " (15, 'SBSP3.SA'),\n",
       " (15, 'SBFG3.SA'),\n",
       " (15, 'SAPR4.SA'),\n",
       " (15, 'SAPR3.SA'),\n",
       " (15, 'SANB4.SA'),\n",
       " (15, 'SANB3.SA'),\n",
       " (15, 'RSUL4.SA'),\n",
       " (15, 'RSUL3.SA'),\n",
       " (15, 'RSID3.SA'),\n",
       " (15, 'RPMG3.SA'),\n",
       " (15, 'RPAD3.SA'),\n",
       " (15, 'ROMI3.SA'),\n",
       " (15, 'RNEW4.SA'),\n",
       " (15, 'RNEW3.SA'),\n",
       " (15, 'RENT3.SA'),\n",
       " (15, 'REDE3.SA'),\n",
       " (15, 'RDNI3.SA'),\n",
       " (15, 'RCSL4.SA'),\n",
       " (15, 'RCSL3.SA'),\n",
       " (15, 'RAPT4.SA'),\n",
       " (15, 'RAPT3.SA'),\n",
       " (15, 'RANI3.SA'),\n",
       " (15, 'RAIL3.SA'),\n",
       " (15, 'RADL3.SA'),\n",
       " (15, 'QUAL3.SA'),\n",
       " (15, 'PTNT4.SA'),\n",
       " (15, 'PTNT3.SA'),\n",
       " (15, 'PTBL3.SA'),\n",
       " (15, 'PSSA3.SA'),\n",
       " (15, 'PRNR3.SA'),\n",
       " (15, 'PRIO3.SA'),\n",
       " (15, 'POSI3.SA'),\n",
       " (15, 'POMO4.SA'),\n",
       " (15, 'POMO3.SA'),\n",
       " (15, 'PNVL3.SA'),\n",
       " (15, 'PMAM3.SA'),\n",
       " (15, 'PINE4.SA'),\n",
       " (15, 'PFRM3.SA'),\n",
       " (15, 'PETR4.SA'),\n",
       " (15, 'PETR3.SA'),\n",
       " (15, 'PEAB4.SA'),\n",
       " (15, 'PEAB3.SA'),\n",
       " (15, 'PDTC3.SA'),\n",
       " (15, 'PDGR3.SA'),\n",
       " (15, 'PCAR3.SA'),\n",
       " (15, 'PATI4.SA'),\n",
       " (15, 'PATI3.SA'),\n",
       " (15, 'PARD3.SA'),\n",
       " (15, 'OSXB3.SA'),\n",
       " (15, 'OIBR4.SA'),\n",
       " (15, 'OIBR3.SA'),\n",
       " (15, 'OFSA3.SA'),\n",
       " (15, 'ODPV3.SA'),\n",
       " (15, 'ODER4.SA'),\n",
       " (15, 'NUTR3.SA'),\n",
       " (15, 'NTCO3.SA'),\n",
       " (15, 'NORD3.SA'),\n",
       " (15, 'NEOE3.SA'),\n",
       " (15, 'MWET4.SA'),\n",
       " (15, 'MWET3.SA'),\n",
       " (15, 'MULT3.SA'),\n",
       " (15, 'MTSA4.SA'),\n",
       " (15, 'MTSA3.SA'),\n",
       " (15, 'MTRE3.SA'),\n",
       " (15, 'MTIG4.SA'),\n",
       " (15, 'MSPA4.SA'),\n",
       " (15, 'MSPA3.SA'),\n",
       " (15, 'MRVE3.SA'),\n",
       " (15, 'MRFG3.SA'),\n",
       " (15, 'MOVI3.SA'),\n",
       " (15, 'MOAR3.SA'),\n",
       " (15, 'MNPR3.SA'),\n",
       " (15, 'MNDL3.SA'),\n",
       " (15, 'MMXM3.SA'),\n",
       " (15, 'MILS3.SA'),\n",
       " (15, 'MGLU3.SA'),\n",
       " (15, 'MGEL4.SA'),\n",
       " (15, 'MERC4.SA'),\n",
       " (15, 'MERC3.SA'),\n",
       " (15, 'MEAL3.SA'),\n",
       " (15, 'MDNE3.SA'),\n",
       " (15, 'MDIA3.SA'),\n",
       " (15, 'MAPT4.SA'),\n",
       " (15, 'MAPT3.SA'),\n",
       " (15, 'LWSA3.SA'),\n",
       " (15, 'LUXM4.SA'),\n",
       " (15, 'LUPA3.SA'),\n",
       " (15, 'LREN3.SA'),\n",
       " (15, 'LPSB3.SA'),\n",
       " (15, 'LOGN3.SA'),\n",
       " (15, 'LOGG3.SA'),\n",
       " (15, 'LLIS3.SA'),\n",
       " (15, 'LIPR3.SA'),\n",
       " (15, 'LIGT3.SA'),\n",
       " (15, 'LCAM3.SA'),\n",
       " (15, 'KLBN4.SA'),\n",
       " (15, 'KLBN3.SA'),\n",
       " (15, 'KEPL3.SA'),\n",
       " (15, 'JOPA4.SA'),\n",
       " (15, 'JOPA3.SA'),\n",
       " (15, 'JHSF3.SA'),\n",
       " (15, 'JFEN3.SA'),\n",
       " (15, 'JBSS3.SA'),\n",
       " (15, 'ITUB4.SA'),\n",
       " (15, 'ITUB3.SA'),\n",
       " (15, 'ITSA4.SA'),\n",
       " (15, 'ITSA3.SA'),\n",
       " (15, 'IRBR3.SA'),\n",
       " (15, 'INEP4.SA'),\n",
       " (15, 'INEP3.SA'),\n",
       " (15, 'IGTI3.SA'),\n",
       " (15, 'IGBR3.SA'),\n",
       " (15, 'HYPE3.SA'),\n",
       " (15, 'HOOT4.SA'),\n",
       " (15, 'HETA4.SA'),\n",
       " (15, 'HETA3.SA'),\n",
       " (15, 'HBOR3.SA'),\n",
       " (15, 'HAPV3.SA'),\n",
       " (15, 'HAGA4.SA'),\n",
       " (15, 'HAGA3.SA'),\n",
       " (15, 'GUAR3.SA'),\n",
       " (15, 'GSHP3.SA'),\n",
       " (15, 'GRND3.SA'),\n",
       " (15, 'GPAR3.SA'),\n",
       " (15, 'GOLL4.SA'),\n",
       " (15, 'GOAU4.SA'),\n",
       " (15, 'GOAU3.SA'),\n",
       " (15, 'GGBR4.SA'),\n",
       " (15, 'GGBR3.SA'),\n",
       " (15, 'GFSA3.SA'),\n",
       " (15, 'GEPA4.SA'),\n",
       " (15, 'GEPA3.SA'),\n",
       " (15, 'FRTA3.SA'),\n",
       " (15, 'FRIO3.SA'),\n",
       " (15, 'FRAS3.SA'),\n",
       " (15, 'FLRY3.SA'),\n",
       " (15, 'FHER3.SA'),\n",
       " (15, 'FESA4.SA'),\n",
       " (15, 'FESA3.SA'),\n",
       " (15, 'EZTC3.SA'),\n",
       " (15, 'EVEN3.SA'),\n",
       " (15, 'EUCA4.SA'),\n",
       " (15, 'EUCA3.SA'),\n",
       " (15, 'ETER3.SA'),\n",
       " (15, 'ESTR4.SA'),\n",
       " (15, 'ESTR3.SA'),\n",
       " (15, 'EQTL3.SA'),\n",
       " (15, 'EQPA3.SA'),\n",
       " (15, 'EPAR3.SA'),\n",
       " (15, 'ENMT4.SA'),\n",
       " (15, 'ENMT3.SA'),\n",
       " (15, 'ENGI4.SA'),\n",
       " (15, 'ENGI3.SA'),\n",
       " (15, 'ENEV3.SA'),\n",
       " (15, 'ENBR3.SA'),\n",
       " (15, 'ENAT3.SA'),\n",
       " (15, 'EMBR3.SA'),\n",
       " (15, 'EMAE4.SA'),\n",
       " (15, 'EMAE3.SA'),\n",
       " (15, 'ELET3.SA'),\n",
       " (15, 'EKTR4.SA'),\n",
       " (15, 'EKTR3.SA'),\n",
       " (15, 'EGIE3.SA'),\n",
       " (15, 'EEEL4.SA'),\n",
       " (15, 'EEEL3.SA'),\n",
       " (15, 'ECPR4.SA'),\n",
       " (15, 'ECPR3.SA'),\n",
       " (15, 'ECOR3.SA'),\n",
       " (15, 'EALT4.SA'),\n",
       " (15, 'EALT3.SA'),\n",
       " (15, 'DXCO3.SA'),\n",
       " (15, 'DTCY3.SA'),\n",
       " (15, 'DOHL4.SA'),\n",
       " (15, 'DOHL3.SA'),\n",
       " (15, 'DMMO3.SA'),\n",
       " (15, 'DIRR3.SA'),\n",
       " (15, 'DEXP3.SA'),\n",
       " (15, 'DASA3.SA'),\n",
       " (15, 'CYRE3.SA'),\n",
       " (15, 'CVCB3.SA'),\n",
       " (15, 'CTSA4.SA'),\n",
       " (15, 'CTSA3.SA'),\n",
       " (15, 'CTNM4.SA'),\n",
       " (15, 'CTNM3.SA'),\n",
       " (15, 'CTKA4.SA'),\n",
       " (15, 'CTKA3.SA'),\n",
       " (15, 'CSRN3.SA'),\n",
       " (15, 'CSNA3.SA'),\n",
       " (15, 'CSMG3.SA'),\n",
       " (15, 'CSAN3.SA'),\n",
       " (15, 'CSAB4.SA'),\n",
       " (15, 'CSAB3.SA'),\n",
       " (15, 'CRPG3.SA'),\n",
       " (15, 'CRIV4.SA'),\n",
       " (15, 'CRIV3.SA'),\n",
       " (15, 'CRFB3.SA'),\n",
       " (15, 'CRDE3.SA'),\n",
       " (15, 'CPLE3.SA'),\n",
       " (15, 'CPFE3.SA'),\n",
       " (15, 'CORR4.SA'),\n",
       " (15, 'COGN3.SA'),\n",
       " (15, 'COCE3.SA'),\n",
       " (15, 'CMIG4.SA'),\n",
       " (15, 'CMIG3.SA'),\n",
       " (15, 'CLSC4.SA'),\n",
       " (15, 'CLSC3.SA'),\n",
       " (15, 'CIEL3.SA'),\n",
       " (15, 'CGRA4.SA'),\n",
       " (15, 'CGRA3.SA'),\n",
       " (15, 'CGAS3.SA'),\n",
       " (15, 'CESP3.SA'),\n",
       " (15, 'CEPE3.SA'),\n",
       " (15, 'CEGR3.SA'),\n",
       " (15, 'CEED4.SA'),\n",
       " (15, 'CEED3.SA'),\n",
       " (15, 'CEEB3.SA'),\n",
       " (15, 'CEDO4.SA'),\n",
       " (15, 'CEDO3.SA'),\n",
       " (15, 'CEBR3.SA'),\n",
       " (15, 'CEAB3.SA'),\n",
       " (15, 'CCRO3.SA'),\n",
       " (15, 'CBEE3.SA'),\n",
       " (15, 'CASN4.SA'),\n",
       " (15, 'CASN3.SA'),\n",
       " (15, 'CARD3.SA'),\n",
       " (15, 'CAML3.SA'),\n",
       " (15, 'CAMB3.SA'),\n",
       " (15, 'CALI4.SA'),\n",
       " (15, 'BSLI4.SA'),\n",
       " (15, 'BSLI3.SA'),\n",
       " (15, 'BRSR3.SA'),\n",
       " (15, 'BRPR3.SA'),\n",
       " (15, 'BRML3.SA'),\n",
       " (15, 'BRKM3.SA'),\n",
       " (15, 'BRIV4.SA'),\n",
       " (15, 'BRIV3.SA'),\n",
       " (15, 'BRGE3.SA'),\n",
       " (15, 'BRFS3.SA'),\n",
       " (15, 'BRAP4.SA'),\n",
       " (15, 'BRAP3.SA'),\n",
       " (15, 'BPAN4.SA'),\n",
       " (15, 'BPAC3.SA'),\n",
       " (15, 'BOBR4.SA'),\n",
       " (15, 'BOBR3.SA'),\n",
       " (15, 'BNBR3.SA'),\n",
       " (15, 'BMKS3.SA'),\n",
       " (15, 'BMIN4.SA'),\n",
       " (15, 'BMIN3.SA'),\n",
       " (15, 'BMGB4.SA'),\n",
       " (15, 'BMEB4.SA'),\n",
       " (15, 'BMEB3.SA'),\n",
       " (15, 'BLUT4.SA'),\n",
       " (15, 'BLUT3.SA'),\n",
       " (15, 'BKBR3.SA'),\n",
       " (15, 'BIOM3.SA'),\n",
       " (15, 'BGIP4.SA'),\n",
       " (15, 'BGIP3.SA'),\n",
       " (15, 'BEES4.SA'),\n",
       " (15, 'BEES3.SA'),\n",
       " (15, 'BEEF3.SA'),\n",
       " (15, 'BDLL4.SA'),\n",
       " (15, 'BDLL3.SA'),\n",
       " (15, 'BBSE3.SA'),\n",
       " (15, 'BBRK3.SA'),\n",
       " (15, 'BBDC4.SA'),\n",
       " (15, 'BBDC3.SA'),\n",
       " (15, 'BBAS3.SA'),\n",
       " (15, 'BAZA3.SA'),\n",
       " (15, 'BAUH4.SA'),\n",
       " (15, 'BALM4.SA'),\n",
       " (15, 'BALM3.SA'),\n",
       " (15, 'BAHI3.SA'),\n",
       " (15, 'B3SA3.SA'),\n",
       " (15, 'AZUL4.SA'),\n",
       " (15, 'AZEV4.SA'),\n",
       " (15, 'AZEV3.SA'),\n",
       " (15, 'ATOM3.SA'),\n",
       " (15, 'ATMP3.SA'),\n",
       " (15, 'ARZZ3.SA'),\n",
       " (15, 'APER3.SA'),\n",
       " (15, 'ANIM3.SA'),\n",
       " (15, 'AMER3.SA'),\n",
       " (15, 'AMAR3.SA'),\n",
       " (15, 'ALUP4.SA'),\n",
       " (15, 'ALUP3.SA'),\n",
       " (15, 'ALSO3.SA'),\n",
       " (15, 'ALPA4.SA'),\n",
       " (15, 'ALPA3.SA'),\n",
       " (15, 'AHEB3.SA'),\n",
       " (15, 'AGRO3.SA'),\n",
       " (15, 'AFLT3.SA'),\n",
       " (15, 'ABEV3.SA'),\n",
       " (15, 'ABCB4.SA'),\n",
       " (15, 'AALR3.SA'),\n",
       " (12, 'VSPT3.SA'),\n",
       " (12, 'TKNO3.SA'),\n",
       " (12, 'PPAR3.SA'),\n",
       " (12, 'MTIG3.SA'),\n",
       " (12, 'MMAQ4.SA'),\n",
       " (12, 'MMAQ3.SA'),\n",
       " (12, 'MGEL3.SA'),\n",
       " (12, 'LUXM3.SA'),\n",
       " (12, 'HOOT3.SA'),\n",
       " (12, 'FIGE4.SA'),\n",
       " (12, 'FIGE3.SA'),\n",
       " (12, 'CORR3.SA'),\n",
       " (12, 'CALI3.SA'),\n",
       " (12, 'BAUH3.SA')]"
      ]
     },
     "execution_count": 10,
     "metadata": {},
     "output_type": "execute_result"
    }
   ],
   "source": [
    "# Ativos com mais falhas\n",
    "l = [(fails, stock) for stock, fails in dict(cdfs.isnull().sum()).items()]\n",
    "l.sort(reverse=True)\n",
    "l"
   ]
  },
  {
   "cell_type": "code",
   "execution_count": 11,
   "id": "25ca6805",
   "metadata": {},
   "outputs": [
    {
     "name": "stderr",
     "output_type": "stream",
     "text": [
      "/home/durval/faculdade/2022-01/sinais-financeiros/trabalho-grupo/env/lib/python3.8/site-packages/pandas/util/_decorators.py:311: SettingWithCopyWarning: \n",
      "A value is trying to be set on a copy of a slice from a DataFrame\n",
      "\n",
      "See the caveats in the documentation: https://pandas.pydata.org/pandas-docs/stable/user_guide/indexing.html#returning-a-view-versus-a-copy\n",
      "  return func(*args, **kwargs)\n"
     ]
    },
    {
     "name": "stdout",
     "output_type": "stream",
     "text": [
      "369 ativos com sinais financeiros contínuos na série temporal definida\n"
     ]
    },
    {
     "data": {
      "image/png": "[encoded data removed]",
      "text/plain": [
       "<Figure size 1728x216 with 1 Axes>"
      ]
     },
     "metadata": {
      "needs_background": "light"
     },
     "output_type": "display_data"
    }
   ],
   "source": [
    "# Removendo ativos com mais de X dias com sinais financeiros nulos\n",
    "good_stocks = cdfs.columns[ np.where(cdfs.isnull().sum() < 20) ]\n",
    "\n",
    "cdfs = cdfs[good_stocks]\n",
    "\n",
    "# Dropando os dias que todos os ativos estão com valor nulo\n",
    "cdfs.dropna(axis=0, inplace=True)\n",
    "\n",
    "print(len(cdfs.columns), 'ativos com sinais financeiros contínuos na série temporal definida')\n",
    "\n",
    "plt.figure(figsize=(24, 3))\n",
    "sns.heatmap(cdfs.isnull(), cmap='summer', cbar=False)\n",
    "\n",
    "good_stocks = set(good_stocks)\n",
    "dfs = { stock: df[ df.index.isin( cdfs.index ) ] for stock, df in dfs.items() if stock in good_stocks }"
   ]
  },
  {
   "cell_type": "markdown",
   "id": "7ad7c5f3",
   "metadata": {},
   "source": [
    "#### 4. Filtro de volume nos ativos da B3"
   ]
  },
  {
   "cell_type": "code",
   "execution_count": 12,
   "id": "1c8675b1",
   "metadata": {},
   "outputs": [
    {
     "name": "stdout",
     "output_type": "stream",
     "text": [
      "203 ativos com volume maior ou igual a USD $50000\n"
     ]
    }
   ],
   "source": [
    "MINIMUM_VOLUME = 50000\n",
    "dfs = { stock: df for stock, df in dfs.items() if df.Volume.mean() >= MINIMUM_VOLUME }\n",
    "\n",
    "print(f'{len(dfs.keys())} ativos com volume maior ou igual a BRL ${MINIMUM_VOLUME}')"
   ]
  },
  {
   "cell_type": "code",
   "execution_count": 13,
   "id": "cb818bb6",
   "metadata": {},
   "outputs": [
    {
     "name": "stdout",
     "output_type": "stream",
     "text": [
      "Ativos com maior volume de negociação:\n"
     ]
    },
    {
     "data": {
      "text/html": [
       "<div>\n",
       "<style scoped>\n",
       "    .dataframe tbody tr th:only-of-type {\n",
       "        vertical-align: middle;\n",
       "    }\n",
       "\n",
       "    .dataframe tbody tr th {\n",
       "        vertical-align: top;\n",
       "    }\n",
       "\n",
       "    .dataframe thead th {\n",
       "        text-align: right;\n",
       "    }\n",
       "</style>\n",
       "<table border=\"1\" class=\"dataframe\">\n",
       "  <thead>\n",
       "    <tr style=\"text-align: right;\">\n",
       "      <th></th>\n",
       "      <th>Stock</th>\n",
       "      <th>Volume</th>\n",
       "    </tr>\n",
       "  </thead>\n",
       "  <tbody>\n",
       "    <tr>\n",
       "      <th>147</th>\n",
       "      <td>OIBR3.SA</td>\n",
       "      <td>140056846.804124</td>\n",
       "    </tr>\n",
       "    <tr>\n",
       "      <th>4</th>\n",
       "      <td>PETR4.SA</td>\n",
       "      <td>79300489.896907</td>\n",
       "    </tr>\n",
       "    <tr>\n",
       "      <th>127</th>\n",
       "      <td>VIIA3.SA</td>\n",
       "      <td>61369825.773196</td>\n",
       "    </tr>\n",
       "    <tr>\n",
       "      <th>126</th>\n",
       "      <td>MGLU3.SA</td>\n",
       "      <td>56368184.742268</td>\n",
       "    </tr>\n",
       "    <tr>\n",
       "      <th>114</th>\n",
       "      <td>COGN3.SA</td>\n",
       "      <td>51293812.371134</td>\n",
       "    </tr>\n",
       "    <tr>\n",
       "      <th>173</th>\n",
       "      <td>BBDC4.SA</td>\n",
       "      <td>47737206.597938</td>\n",
       "    </tr>\n",
       "    <tr>\n",
       "      <th>183</th>\n",
       "      <td>B3SA3.SA</td>\n",
       "      <td>43564886.391753</td>\n",
       "    </tr>\n",
       "    <tr>\n",
       "      <th>178</th>\n",
       "      <td>ITUB4.SA</td>\n",
       "      <td>39353148.865979</td>\n",
       "    </tr>\n",
       "    <tr>\n",
       "      <th>184</th>\n",
       "      <td>CIEL3.SA</td>\n",
       "      <td>37363789.896907</td>\n",
       "    </tr>\n",
       "    <tr>\n",
       "      <th>188</th>\n",
       "      <td>IRBR3.SA</td>\n",
       "      <td>34640002.509278</td>\n",
       "    </tr>\n",
       "  </tbody>\n",
       "</table>\n",
       "</div>"
      ],
      "text/plain": [
       "        Stock           Volume\n",
       "147  OIBR3.SA 140056846.804124\n",
       "4    PETR4.SA  79300489.896907\n",
       "127  VIIA3.SA  61369825.773196\n",
       "126  MGLU3.SA  56368184.742268\n",
       "114  COGN3.SA  51293812.371134\n",
       "173  BBDC4.SA  47737206.597938\n",
       "183  B3SA3.SA  43564886.391753\n",
       "178  ITUB4.SA  39353148.865979\n",
       "184  CIEL3.SA  37363789.896907\n",
       "188  IRBR3.SA  34640002.509278"
      ]
     },
     "execution_count": 13,
     "metadata": {},
     "output_type": "execute_result"
    }
   ],
   "source": [
    "l = [ [stock, df.Volume.mean()] for stock, df in dfs.items() ]\n",
    "vdf = pd.DataFrame(l, columns=['Stock', 'Volume'] )\n",
    "\n",
    "pd.set_option('float_format', '{:f}'.format)\n",
    "\n",
    "vdf = vdf.sort_values('Volume', ascending=False)\n",
    "\n",
    "print(\"Ativos com maior volume de negociação:\")\n",
    "vdf.head(10)"
   ]
  },
  {
   "cell_type": "markdown",
   "id": "63e58854",
   "metadata": {},
   "source": [
    "#### 5. Separação dos dados do dataset de treinamento e de teste"
   ]
  },
  {
   "cell_type": "code",
   "execution_count": 14,
   "id": "43af7778",
   "metadata": {},
   "outputs": [
    {
     "name": "stdout",
     "output_type": "stream",
     "text": [
      "Data da separação do dataset de test e de treinamento\n"
     ]
    },
    {
     "data": {
      "text/plain": [
       "Timestamp('2021-06-29 00:00:00')"
      ]
     },
     "execution_count": 14,
     "metadata": {},
     "output_type": "execute_result"
    }
   ],
   "source": [
    "d = dfs[ list(dfs.keys())[0] ]\n",
    "split_date = d.index[ int(2/3 * len(d)) ]\n",
    "\n",
    "print(\"Data da separação do dataset de test e de treinamento\")\n",
    "split_date"
   ]
  },
  {
   "cell_type": "code",
   "execution_count": 15,
   "id": "efcccf0c",
   "metadata": {},
   "outputs": [],
   "source": [
    "training_dfs = {\n",
    "   stock: df[ df.index <= split_date ] for stock, df in dfs.items()\n",
    "}\n",
    "\n",
    "test_dfs = {\n",
    "   stock: df[ df.index > split_date ] for stock, df in dfs.items()\n",
    "}"
   ]
  },
  {
   "cell_type": "code",
   "execution_count": 16,
   "id": "ba71497c",
   "metadata": {},
   "outputs": [],
   "source": [
    "dfs = training_dfs"
   ]
  },
  {
   "cell_type": "markdown",
   "id": "ccd93591",
   "metadata": {},
   "source": [
    "#### 6. Aplicar clusterização nos ativos"
   ]
  },
  {
   "cell_type": "code",
   "execution_count": 17,
   "id": "1688fb28",
   "metadata": {},
   "outputs": [
    {
     "data": {
      "text/html": [
       "<div>\n",
       "<style scoped>\n",
       "    .dataframe tbody tr th:only-of-type {\n",
       "        vertical-align: middle;\n",
       "    }\n",
       "\n",
       "    .dataframe tbody tr th {\n",
       "        vertical-align: top;\n",
       "    }\n",
       "\n",
       "    .dataframe thead th {\n",
       "        text-align: right;\n",
       "    }\n",
       "</style>\n",
       "<table border=\"1\" class=\"dataframe\">\n",
       "  <thead>\n",
       "    <tr style=\"text-align: right;\">\n",
       "      <th></th>\n",
       "      <th>Stock</th>\n",
       "      <th>Return</th>\n",
       "      <th>Risk</th>\n",
       "      <th>Sector</th>\n",
       "      <th>Sub-Sector</th>\n",
       "      <th>Segment</th>\n",
       "      <th>Sharpe</th>\n",
       "    </tr>\n",
       "  </thead>\n",
       "  <tbody>\n",
       "    <tr>\n",
       "      <th>0</th>\n",
       "      <td>CSAN3.SA</td>\n",
       "      <td>0.001302</td>\n",
       "      <td>0.033800</td>\n",
       "      <td>Petróleo, Gás e Biocombustíveis</td>\n",
       "      <td>Petróleo, Gás e Biocombustíveis</td>\n",
       "      <td>Exploração, Refino e Distribuição</td>\n",
       "      <td>0.038509</td>\n",
       "    </tr>\n",
       "    <tr>\n",
       "      <th>1</th>\n",
       "      <td>DMMO3.SA</td>\n",
       "      <td>0.000602</td>\n",
       "      <td>0.071980</td>\n",
       "      <td>Petróleo, Gás e Biocombustíveis</td>\n",
       "      <td>Petróleo, Gás e Biocombustíveis</td>\n",
       "      <td>Exploração, Refino e Distribuição</td>\n",
       "      <td>0.008363</td>\n",
       "    </tr>\n",
       "    <tr>\n",
       "      <th>2</th>\n",
       "      <td>ENAT3.SA</td>\n",
       "      <td>0.001666</td>\n",
       "      <td>0.041397</td>\n",
       "      <td>Petróleo, Gás e Biocombustíveis</td>\n",
       "      <td>Petróleo, Gás e Biocombustíveis</td>\n",
       "      <td>Exploração, Refino e Distribuição</td>\n",
       "      <td>0.040257</td>\n",
       "    </tr>\n",
       "    <tr>\n",
       "      <th>3</th>\n",
       "      <td>RPMG3.SA</td>\n",
       "      <td>0.002488</td>\n",
       "      <td>0.059331</td>\n",
       "      <td>Petróleo, Gás e Biocombustíveis</td>\n",
       "      <td>Petróleo, Gás e Biocombustíveis</td>\n",
       "      <td>Exploração, Refino e Distribuição</td>\n",
       "      <td>0.041939</td>\n",
       "    </tr>\n",
       "    <tr>\n",
       "      <th>4</th>\n",
       "      <td>PETR4.SA</td>\n",
       "      <td>0.001207</td>\n",
       "      <td>0.041666</td>\n",
       "      <td>Petróleo, Gás e Biocombustíveis</td>\n",
       "      <td>Petróleo, Gás e Biocombustíveis</td>\n",
       "      <td>Exploração, Refino e Distribuição</td>\n",
       "      <td>0.028969</td>\n",
       "    </tr>\n",
       "    <tr>\n",
       "      <th>...</th>\n",
       "      <td>...</td>\n",
       "      <td>...</td>\n",
       "      <td>...</td>\n",
       "      <td>...</td>\n",
       "      <td>...</td>\n",
       "      <td>...</td>\n",
       "      <td>...</td>\n",
       "    </tr>\n",
       "    <tr>\n",
       "      <th>198</th>\n",
       "      <td>BBRK3.SA</td>\n",
       "      <td>0.000440</td>\n",
       "      <td>0.069264</td>\n",
       "      <td>Financeiro</td>\n",
       "      <td>Exploração de Imóveis</td>\n",
       "      <td>Intermediação Imobiliária</td>\n",
       "      <td>0.006349</td>\n",
       "    </tr>\n",
       "    <tr>\n",
       "      <th>199</th>\n",
       "      <td>LPSB3.SA</td>\n",
       "      <td>-0.000167</td>\n",
       "      <td>0.056455</td>\n",
       "      <td>Financeiro</td>\n",
       "      <td>Exploração de Imóveis</td>\n",
       "      <td>Intermediação Imobiliária</td>\n",
       "      <td>-0.002961</td>\n",
       "    </tr>\n",
       "    <tr>\n",
       "      <th>200</th>\n",
       "      <td>ATOM3.SA</td>\n",
       "      <td>0.007576</td>\n",
       "      <td>0.090616</td>\n",
       "      <td>Outros</td>\n",
       "      <td>Outros</td>\n",
       "      <td>Outros</td>\n",
       "      <td>0.083603</td>\n",
       "    </tr>\n",
       "    <tr>\n",
       "      <th>201</th>\n",
       "      <td>BLUT4.SA</td>\n",
       "      <td>0.006635</td>\n",
       "      <td>0.088048</td>\n",
       "      <td>Outros</td>\n",
       "      <td>Outros</td>\n",
       "      <td>Outros</td>\n",
       "      <td>0.075355</td>\n",
       "    </tr>\n",
       "    <tr>\n",
       "      <th>202</th>\n",
       "      <td>BLUT3.SA</td>\n",
       "      <td>0.007840</td>\n",
       "      <td>0.103547</td>\n",
       "      <td>Outros</td>\n",
       "      <td>Outros</td>\n",
       "      <td>Outros</td>\n",
       "      <td>0.075714</td>\n",
       "    </tr>\n",
       "  </tbody>\n",
       "</table>\n",
       "<p>203 rows × 7 columns</p>\n",
       "</div>"
      ],
      "text/plain": [
       "        Stock    Return     Risk                           Sector  \\\n",
       "0    CSAN3.SA  0.001302 0.033800  Petróleo, Gás e Biocombustíveis   \n",
       "1    DMMO3.SA  0.000602 0.071980  Petróleo, Gás e Biocombustíveis   \n",
       "2    ENAT3.SA  0.001666 0.041397  Petróleo, Gás e Biocombustíveis   \n",
       "3    RPMG3.SA  0.002488 0.059331  Petróleo, Gás e Biocombustíveis   \n",
       "4    PETR4.SA  0.001207 0.041666  Petróleo, Gás e Biocombustíveis   \n",
       "..        ...       ...      ...                              ...   \n",
       "198  BBRK3.SA  0.000440 0.069264                       Financeiro   \n",
       "199  LPSB3.SA -0.000167 0.056455                       Financeiro   \n",
       "200  ATOM3.SA  0.007576 0.090616                           Outros   \n",
       "201  BLUT4.SA  0.006635 0.088048                           Outros   \n",
       "202  BLUT3.SA  0.007840 0.103547                           Outros   \n",
       "\n",
       "                          Sub-Sector                            Segment  \\\n",
       "0    Petróleo, Gás e Biocombustíveis  Exploração, Refino e Distribuição   \n",
       "1    Petróleo, Gás e Biocombustíveis  Exploração, Refino e Distribuição   \n",
       "2    Petróleo, Gás e Biocombustíveis  Exploração, Refino e Distribuição   \n",
       "3    Petróleo, Gás e Biocombustíveis  Exploração, Refino e Distribuição   \n",
       "4    Petróleo, Gás e Biocombustíveis  Exploração, Refino e Distribuição   \n",
       "..                               ...                                ...   \n",
       "198            Exploração de Imóveis          Intermediação Imobiliária   \n",
       "199            Exploração de Imóveis          Intermediação Imobiliária   \n",
       "200                           Outros                             Outros   \n",
       "201                           Outros                             Outros   \n",
       "202                           Outros                             Outros   \n",
       "\n",
       "       Sharpe  \n",
       "0    0.038509  \n",
       "1    0.008363  \n",
       "2    0.040257  \n",
       "3    0.041939  \n",
       "4    0.028969  \n",
       "..        ...  \n",
       "198  0.006349  \n",
       "199 -0.002961  \n",
       "200  0.083603  \n",
       "201  0.075355  \n",
       "202  0.075714  \n",
       "\n",
       "[203 rows x 7 columns]"
      ]
     },
     "execution_count": 17,
     "metadata": {},
     "output_type": "execute_result"
    }
   ],
   "source": [
    "df = pd.DataFrame({\n",
    "    'Stock': list(dfs.keys()),\n",
    "    'Return': [ df.Close.pct_change().mean() for stock, df in dfs.items() ],\n",
    "    'Risk':   [ df.Close.pct_change().std() for stock, df in dfs.items() ],\n",
    "    'Sector': [ sectors[stock] for stock in dfs.keys() ],\n",
    "    'Sub-Sector': [ sub_sectors[stock] for stock in dfs.keys() ],\n",
    "    'Segment': [ segments[stock] for stock in dfs.keys() ],\n",
    "    'Sharpe': [ df.Close.pct_change().mean() / df.Close.pct_change().std() for stock, df in dfs.items() ],\n",
    "})\n",
    "df"
   ]
  },
  {
   "cell_type": "code",
   "execution_count": 18,
   "id": "0ea0dd2e",
   "metadata": {},
   "outputs": [
    {
     "data": {
      "application/vnd.plotly.v1+json": {
       "config": {
        "plotlyServerURL": "https://plot.ly"
       },
       "data": [
        {
         "customdata": [
          [
           "Petróleo, Gás e Biocombustíveis",
           "Petróleo, Gás e Biocombustíveis",
           "Exploração, Refino e Distribuição",
           0.038508854706905474
          ],
          [
           "Petróleo, Gás e Biocombustíveis",
           "Petróleo, Gás e Biocombustíveis",
           "Exploração, Refino e Distribuição",
           0.008362890110629727
          ],
          [
           "Petróleo, Gás e Biocombustíveis",
           "Petróleo, Gás e Biocombustíveis",
           "Exploração, Refino e Distribuição",
           0.040256529229177135
          ],
          [
           "Petróleo, Gás e Biocombustíveis",
           "Petróleo, Gás e Biocombustíveis",
           "Exploração, Refino e Distribuição",
           0.04193868171625743
          ],
          [
           "Petróleo, Gás e Biocombustíveis",
           "Petróleo, Gás e Biocombustíveis",
           "Exploração, Refino e Distribuição",
           0.028969337306252924
          ],
          [
           "Petróleo, Gás e Biocombustíveis",
           "Petróleo, Gás e Biocombustíveis",
           "Exploração, Refino e Distribuição",
           0.026680696359251833
          ],
          [
           "Petróleo, Gás e Biocombustíveis",
           "Petróleo, Gás e Biocombustíveis",
           "Exploração, Refino e Distribuição",
           0.07242836116693716
          ],
          [
           "Petróleo, Gás e Biocombustíveis",
           "Petróleo, Gás e Biocombustíveis",
           "Exploração, Refino e Distribuição",
           0.01653651887884505
          ],
          [
           "Petróleo, Gás e Biocombustíveis",
           "Petróleo, Gás e Biocombustíveis",
           "Exploração, Refino e Distribuição",
           0.016951347268591252
          ]
         ],
         "hovertemplate": "<b>%{hovertext}</b><br><br>Sector=%{customdata[0]}<br>Segment=%{customdata[2]}<br>Risk=%{x}<br>Return=%{y}<br>Sub-Sector=%{customdata[1]}<br>Sharpe=%{customdata[3]}<extra></extra>",
         "hovertext": [
          "CSAN3.SA",
          "DMMO3.SA",
          "ENAT3.SA",
          "RPMG3.SA",
          "PETR4.SA",
          "PETR3.SA",
          "PRIO3.SA",
          "UGPA3.SA",
          "VBBR3.SA"
         ],
         "legendgroup": "Petróleo, Gás e Biocombustíveis, Exploração, Refino e Distribuição",
         "marker": {
          "color": "#636efa",
          "symbol": "circle"
         },
         "mode": "markers",
         "name": "Petróleo, Gás e Biocombustíveis, Exploração, Refino e Distribuição",
         "orientation": "v",
         "showlegend": true,
         "type": "scatter",
         "x": [
          0.03380031491603314,
          0.0719801734327818,
          0.041396614016561126,
          0.059330808510857626,
          0.041665669316091225,
          0.043376188425177,
          0.06173724307314133,
          0.04212164095596907,
          0.0352608361636276
         ],
         "xaxis": "x",
         "y": [
          0.0013016114161491703,
          0.0006019622805624236,
          0.0016664840021466567,
          0.002488255894105075,
          0.0012070268285086392,
          0.0011573069125938415,
          0.004471527338752469,
          0.0006965453108763153,
          0.0005977186787905524
         ],
         "yaxis": "y"
        },
        {
         "customdata": [
          [
           "Petróleo, Gás e Biocombustíveis",
           "Petróleo, Gás e Biocombustíveis",
           "Equipamentos e Serviços",
           0.0680170343134756
          ],
          [
           "Petróleo, Gás e Biocombustíveis",
           "Petróleo, Gás e Biocombustíveis",
           "Equipamentos e Serviços",
           0.06422167170188352
          ]
         ],
         "hovertemplate": "<b>%{hovertext}</b><br><br>Sector=%{customdata[0]}<br>Segment=%{customdata[2]}<br>Risk=%{x}<br>Return=%{y}<br>Sub-Sector=%{customdata[1]}<br>Sharpe=%{customdata[3]}<extra></extra>",
         "hovertext": [
          "LUPA3.SA",
          "OSXB3.SA"
         ],
         "legendgroup": "Petróleo, Gás e Biocombustíveis, Equipamentos e Serviços",
         "marker": {
          "color": "#636efa",
          "symbol": "diamond"
         },
         "mode": "markers",
         "name": "Petróleo, Gás e Biocombustíveis, Equipamentos e Serviços",
         "orientation": "v",
         "showlegend": true,
         "type": "scatter",
         "x": [
          0.07501977526877883,
          0.14609749937399027
         ],
         "xaxis": "x",
         "y": [
          0.005102622628645757,
          0.009382625641262536
         ],
         "yaxis": "y"
        },
        {
         "customdata": [
          [
           "Materiais Básicos",
           "Mineração",
           "Minerais Metálicos",
           0.09184830543604683
          ],
          [
           "Materiais Básicos",
           "Mineração",
           "Minerais Metálicos",
           0.07906663660858305
          ],
          [
           "Materiais Básicos",
           "Mineração",
           "Minerais Metálicos",
           0.0892325883030386
          ],
          [
           "Materiais Básicos",
           "Mineração",
           "Minerais Metálicos",
           0.10214723202407357
          ]
         ],
         "hovertemplate": "<b>%{hovertext}</b><br><br>Sector=%{customdata[0]}<br>Segment=%{customdata[2]}<br>Risk=%{x}<br>Return=%{y}<br>Sub-Sector=%{customdata[1]}<br>Sharpe=%{customdata[3]}<extra></extra>",
         "hovertext": [
          "BRAP4.SA",
          "BRAP3.SA",
          "MMXM3.SA",
          "VALE3.SA"
         ],
         "legendgroup": "Materiais Básicos, Minerais Metálicos",
         "marker": {
          "color": "#EF553B",
          "symbol": "square"
         },
         "mode": "markers",
         "name": "Materiais Básicos, Minerais Metálicos",
         "orientation": "v",
         "showlegend": true,
         "type": "scatter",
         "x": [
          0.03120346193410951,
          0.0310163219081988,
          0.18514754117741364,
          0.03174023725655114
         ],
         "xaxis": "x",
         "y": [
          0.002865985102386151,
          0.002452356253250388,
          0.016521194317204037,
          0.0032421773795440734
         ],
         "yaxis": "y"
        },
        {
         "customdata": [
          [
           "Materiais Básicos",
           "Siderurgia e Metalurgia",
           "Siderurgia",
           0.09472221364514766
          ],
          [
           "Materiais Básicos",
           "Siderurgia e Metalurgia",
           "Siderurgia",
           0.0650389802623718
          ],
          [
           "Materiais Básicos",
           "Siderurgia e Metalurgia",
           "Siderurgia",
           0.06576115346282833
          ],
          [
           "Materiais Básicos",
           "Siderurgia e Metalurgia",
           "Siderurgia",
           0.06323263356907835
          ],
          [
           "Materiais Básicos",
           "Siderurgia e Metalurgia",
           "Siderurgia",
           0.06589990346412403
          ],
          [
           "Materiais Básicos",
           "Siderurgia e Metalurgia",
           "Siderurgia",
           0.11063705056478788
          ],
          [
           "Materiais Básicos",
           "Siderurgia e Metalurgia",
           "Siderurgia",
           0.07839313162426038
          ]
         ],
         "hovertemplate": "<b>%{hovertext}</b><br><br>Sector=%{customdata[0]}<br>Segment=%{customdata[2]}<br>Risk=%{x}<br>Return=%{y}<br>Sub-Sector=%{customdata[1]}<br>Sharpe=%{customdata[3]}<extra></extra>",
         "hovertext": [
          "FESA4.SA",
          "GGBR4.SA",
          "GGBR3.SA",
          "GOAU4.SA",
          "GOAU3.SA",
          "CSNA3.SA",
          "USIM3.SA"
         ],
         "legendgroup": "Materiais Básicos, Siderurgia",
         "marker": {
          "color": "#EF553B",
          "symbol": "x"
         },
         "mode": "markers",
         "name": "Materiais Básicos, Siderurgia",
         "orientation": "v",
         "showlegend": true,
         "type": "scatter",
         "x": [
          0.03339104841504144,
          0.03757240571224963,
          0.03263853984587228,
          0.03775058508881106,
          0.03354706373721956,
          0.045464405486523564,
          0.03821972197349418
         ],
         "xaxis": "x",
         "y": [
          0.0031628740218050243,
          0.0024436709535288295,
          0.002146348027607045,
          0.002387068913939103,
          0.0022107482617875845,
          0.005030047728710527,
          0.002996163695310766
         ],
         "yaxis": "y"
        },
        {
         "customdata": [
          [
           "Materiais Básicos",
           "Siderurgia e Metalurgia",
           "Artefatos de Cobre",
           0.006652363933211259
          ]
         ],
         "hovertemplate": "<b>%{hovertext}</b><br><br>Sector=%{customdata[0]}<br>Segment=%{customdata[2]}<br>Risk=%{x}<br>Return=%{y}<br>Sub-Sector=%{customdata[1]}<br>Sharpe=%{customdata[3]}<extra></extra>",
         "hovertext": [
          "PMAM3.SA"
         ],
         "legendgroup": "Materiais Básicos, Artefatos de Cobre",
         "marker": {
          "color": "#EF553B",
          "symbol": "cross"
         },
         "mode": "markers",
         "name": "Materiais Básicos, Artefatos de Cobre",
         "orientation": "v",
         "showlegend": true,
         "type": "scatter",
         "x": [
          0.05076972691175917
         ],
         "xaxis": "x",
         "y": [
          0.0003377387002067717
         ],
         "yaxis": "y"
        },
        {
         "customdata": [
          [
           "Materiais Básicos",
           "Químicos",
           "Petroquímicos",
           0.11944350779825022
          ]
         ],
         "hovertemplate": "<b>%{hovertext}</b><br><br>Sector=%{customdata[0]}<br>Segment=%{customdata[2]}<br>Risk=%{x}<br>Return=%{y}<br>Sub-Sector=%{customdata[1]}<br>Sharpe=%{customdata[3]}<extra></extra>",
         "hovertext": [
          "DEXP3.SA"
         ],
         "legendgroup": "Materiais Básicos, Petroquímicos",
         "marker": {
          "color": "#EF553B",
          "symbol": "circle"
         },
         "mode": "markers",
         "name": "Materiais Básicos, Petroquímicos",
         "orientation": "v",
         "showlegend": true,
         "type": "scatter",
         "x": [
          0.05836136324854447
         ],
         "xaxis": "x",
         "y": [
          0.006970885946294035
         ],
         "yaxis": "y"
        },
        {
         "customdata": [
          [
           "Materiais Básicos",
           "Químicos",
           "Fertilizantes e Defensivos",
           0.10943250328511317
          ]
         ],
         "hovertemplate": "<b>%{hovertext}</b><br><br>Sector=%{customdata[0]}<br>Segment=%{customdata[2]}<br>Risk=%{x}<br>Return=%{y}<br>Sub-Sector=%{customdata[1]}<br>Sharpe=%{customdata[3]}<extra></extra>",
         "hovertext": [
          "FHER3.SA"
         ],
         "legendgroup": "Materiais Básicos, Fertilizantes e Defensivos",
         "marker": {
          "color": "#EF553B",
          "symbol": "diamond"
         },
         "mode": "markers",
         "name": "Materiais Básicos, Fertilizantes e Defensivos",
         "orientation": "v",
         "showlegend": true,
         "type": "scatter",
         "x": [
          0.06590082423609588
         ],
         "xaxis": "x",
         "y": [
          0.0072116921647082275
         ],
         "yaxis": "y"
        },
        {
         "customdata": [
          [
           "Materiais Básicos",
           "Madeira e Papel",
           "Madeira",
           0.042538653695568335
          ],
          [
           "Materiais Básicos",
           "Madeira e Papel",
           "Madeira",
           0.04091395152500092
          ]
         ],
         "hovertemplate": "<b>%{hovertext}</b><br><br>Sector=%{customdata[0]}<br>Segment=%{customdata[2]}<br>Risk=%{x}<br>Return=%{y}<br>Sub-Sector=%{customdata[1]}<br>Sharpe=%{customdata[3]}<extra></extra>",
         "hovertext": [
          "EUCA4.SA",
          "DXCO3.SA"
         ],
         "legendgroup": "Materiais Básicos, Madeira",
         "marker": {
          "color": "#EF553B",
          "symbol": "square"
         },
         "mode": "markers",
         "name": "Materiais Básicos, Madeira",
         "orientation": "v",
         "showlegend": true,
         "type": "scatter",
         "x": [
          0.04472572346851277,
          0.04042197231951901
         ],
         "xaxis": "x",
         "y": [
          0.0019025720619108182,
          0.0016538226160257297
         ],
         "yaxis": "y"
        },
        {
         "customdata": [
          [
           "Materiais Básicos",
           "Madeira e Papel",
           "Papel e Celulose",
           0.035074792086191735
          ],
          [
           "Materiais Básicos",
           "Madeira e Papel",
           "Papel e Celulose",
           0.06238372824388588
          ],
          [
           "Materiais Básicos",
           "Madeira e Papel",
           "Papel e Celulose",
           0.05621243475974307
          ]
         ],
         "hovertemplate": "<b>%{hovertext}</b><br><br>Sector=%{customdata[0]}<br>Segment=%{customdata[2]}<br>Risk=%{x}<br>Return=%{y}<br>Sub-Sector=%{customdata[1]}<br>Sharpe=%{customdata[3]}<extra></extra>",
         "hovertext": [
          "KLBN4.SA",
          "KLBN3.SA",
          "SUZB3.SA"
         ],
         "legendgroup": "Materiais Básicos, Papel e Celulose",
         "marker": {
          "color": "#EF553B",
          "symbol": "x"
         },
         "mode": "markers",
         "name": "Materiais Básicos, Papel e Celulose",
         "orientation": "v",
         "showlegend": true,
         "type": "scatter",
         "x": [
          0.027920491190760673,
          0.02729400015377718,
          0.0323638438556725
         ],
         "xaxis": "x",
         "y": [
          0.0009793054234602785,
          0.0017027014882818152,
          0.0018192504613115021
         ],
         "yaxis": "y"
        },
        {
         "customdata": [
          [
           "Materiais Básicos",
           "Embalagens",
           "Embalagens",
           0.06284856879137427
          ]
         ],
         "hovertemplate": "<b>%{hovertext}</b><br><br>Sector=%{customdata[0]}<br>Segment=%{customdata[2]}<br>Risk=%{x}<br>Return=%{y}<br>Sub-Sector=%{customdata[1]}<br>Sharpe=%{customdata[3]}<extra></extra>",
         "hovertext": [
          "RANI3.SA"
         ],
         "legendgroup": "Materiais Básicos, Embalagens",
         "marker": {
          "color": "#EF553B",
          "symbol": "cross"
         },
         "mode": "markers",
         "name": "Materiais Básicos, Embalagens",
         "orientation": "v",
         "showlegend": true,
         "type": "scatter",
         "x": [
          0.04698720619694172
         ],
         "xaxis": "x",
         "y": [
          0.0029530786609829793
         ],
         "yaxis": "y"
        },
        {
         "customdata": [
          [
           "Bens Industriais",
           "Construção e Engenharia",
           "Produtos para Construção",
           0.10425534796591923
          ],
          [
           "Bens Industriais",
           "Construção e Engenharia",
           "Produtos para Construção",
           0.051693409825271736
          ],
          [
           "Bens Industriais",
           "Construção e Engenharia",
           "Produtos para Construção",
           0.09255261290765203
          ]
         ],
         "hovertemplate": "<b>%{hovertext}</b><br><br>Sector=%{customdata[0]}<br>Segment=%{customdata[2]}<br>Risk=%{x}<br>Return=%{y}<br>Sub-Sector=%{customdata[1]}<br>Sharpe=%{customdata[3]}<extra></extra>",
         "hovertext": [
          "ETER3.SA",
          "HAGA4.SA",
          "PTBL3.SA"
         ],
         "legendgroup": "Bens Industriais, Produtos para Construção",
         "marker": {
          "color": "#00cc96",
          "symbol": "circle"
         },
         "mode": "markers",
         "name": "Bens Industriais, Produtos para Construção",
         "orientation": "v",
         "showlegend": true,
         "type": "scatter",
         "x": [
          0.059253421839163094,
          0.039839597267224344,
          0.05109115652166385
         ],
         "xaxis": "x",
         "y": [
          0.006177486112013346,
          0.002059444628808404,
          0.004728620032553816
         ],
         "yaxis": "y"
        },
        {
         "customdata": [
          [
           "Bens Industriais",
           "Construção e Engenharia",
           "Construção Pesada",
           0.06688287311077543
          ],
          [
           "Bens Industriais",
           "Construção e Engenharia",
           "Construção Pesada",
           0.06721089016564172
          ]
         ],
         "hovertemplate": "<b>%{hovertext}</b><br><br>Sector=%{customdata[0]}<br>Segment=%{customdata[2]}<br>Risk=%{x}<br>Return=%{y}<br>Sub-Sector=%{customdata[1]}<br>Sharpe=%{customdata[3]}<extra></extra>",
         "hovertext": [
          "AZEV4.SA",
          "AZEV3.SA"
         ],
         "legendgroup": "Bens Industriais, Construção Pesada",
         "marker": {
          "color": "#00cc96",
          "symbol": "diamond"
         },
         "mode": "markers",
         "name": "Bens Industriais, Construção Pesada",
         "orientation": "v",
         "showlegend": true,
         "type": "scatter",
         "x": [
          0.06336700151223551,
          0.13029963715476378
         ],
         "xaxis": "x",
         "y": [
          0.004238167121553162,
          0.008757554601431797
         ],
         "yaxis": "y"
        },
        {
         "customdata": [
          [
           "Bens Industriais",
           "Construção e Engenharia",
           "Engenharia Consultiva",
           0.09022076814187081
          ],
          [
           "Bens Industriais",
           "Construção e Engenharia",
           "Engenharia Consultiva",
           0.06270978545502866
          ]
         ],
         "hovertemplate": "<b>%{hovertext}</b><br><br>Sector=%{customdata[0]}<br>Segment=%{customdata[2]}<br>Risk=%{x}<br>Return=%{y}<br>Sub-Sector=%{customdata[1]}<br>Sharpe=%{customdata[3]}<extra></extra>",
         "hovertext": [
          "TCNO4.SA",
          "TCNO3.SA"
         ],
         "legendgroup": "Bens Industriais, Engenharia Consultiva",
         "marker": {
          "color": "#00cc96",
          "symbol": "square"
         },
         "mode": "markers",
         "name": "Bens Industriais, Engenharia Consultiva",
         "orientation": "v",
         "showlegend": true,
         "type": "scatter",
         "x": [
          0.05559461617923184,
          0.0672699191094197
         ],
         "xaxis": "x",
         "y": [
          0.005015788976242775,
          0.004218482194928842
         ],
         "yaxis": "y"
        },
        {
         "customdata": [
          [
           "Bens Industriais",
           "Material de Transporte",
           "Material Aeronáutico e de Defesa",
           0.029258336236747066
          ]
         ],
         "hovertemplate": "<b>%{hovertext}</b><br><br>Sector=%{customdata[0]}<br>Segment=%{customdata[2]}<br>Risk=%{x}<br>Return=%{y}<br>Sub-Sector=%{customdata[1]}<br>Sharpe=%{customdata[3]}<extra></extra>",
         "hovertext": [
          "EMBR3.SA"
         ],
         "legendgroup": "Bens Industriais, Material Aeronáutico e de Defesa",
         "marker": {
          "color": "#00cc96",
          "symbol": "x"
         },
         "mode": "markers",
         "name": "Bens Industriais, Material Aeronáutico e de Defesa",
         "orientation": "v",
         "showlegend": true,
         "type": "scatter",
         "x": [
          0.04779447306928398
         ],
         "xaxis": "x",
         "y": [
          0.0013983867633192632
         ],
         "yaxis": "y"
        },
        {
         "customdata": [
          [
           "Bens Industriais",
           "Material de Transporte",
           "Material Rodoviário",
           0.09889350506975722
          ],
          [
           "Bens Industriais",
           "Material de Transporte",
           "Material Rodoviário",
           -0.015979316205413308
          ],
          [
           "Bens Industriais",
           "Material de Transporte",
           "Material Rodoviário",
           -0.01467498782112532
          ],
          [
           "Bens Industriais",
           "Material de Transporte",
           "Material Rodoviário",
           0.033660603598766145
          ],
          [
           "Bens Industriais",
           "Material de Transporte",
           "Material Rodoviário",
           0.03352294068330473
          ],
          [
           "Bens Industriais",
           "Material de Transporte",
           "Material Rodoviário",
           0.07370054347627945
          ],
          [
           "Bens Industriais",
           "Material de Transporte",
           "Material Rodoviário",
           0.023129553206331453
          ]
         ],
         "hovertemplate": "<b>%{hovertext}</b><br><br>Sector=%{customdata[0]}<br>Segment=%{customdata[2]}<br>Risk=%{x}<br>Return=%{y}<br>Sub-Sector=%{customdata[1]}<br>Sharpe=%{customdata[3]}<extra></extra>",
         "hovertext": [
          "FRAS3.SA",
          "POMO4.SA",
          "POMO3.SA",
          "RAPT4.SA",
          "RCSL4.SA",
          "RCSL3.SA",
          "TUPY3.SA"
         ],
         "legendgroup": "Bens Industriais, Material Rodoviário",
         "marker": {
          "color": "#00cc96",
          "symbol": "cross"
         },
         "mode": "markers",
         "name": "Bens Industriais, Material Rodoviário",
         "orientation": "v",
         "showlegend": true,
         "type": "scatter",
         "x": [
          0.025629134529717504,
          0.038222294048385445,
          0.03488581340683302,
          0.04121497034801731,
          0.05316475639818075,
          0.06706861982469497,
          0.03373622978756791
         ],
         "xaxis": "x",
         "y": [
          0.0025345549455481078,
          -0.0006107661226954382,
          -0.0005119488868753249,
          0.0013873207792195117,
          0.0017822389751785592,
          0.0049429937312839905,
          0.0007803039218525761
         ],
         "yaxis": "y"
        },
        {
         "customdata": [
          [
           "Bens Industriais",
           "Máquinas e Equipamentos",
           "Motores, Compressores e Outros",
           0.04752724541728268
          ],
          [
           "Bens Industriais",
           "Máquinas e Equipamentos",
           "Motores, Compressores e Outros",
           0.053462751134687875
          ]
         ],
         "hovertemplate": "<b>%{hovertext}</b><br><br>Sector=%{customdata[0]}<br>Segment=%{customdata[2]}<br>Risk=%{x}<br>Return=%{y}<br>Sub-Sector=%{customdata[1]}<br>Sharpe=%{customdata[3]}<extra></extra>",
         "hovertext": [
          "SHUL4.SA",
          "WEGE3.SA"
         ],
         "legendgroup": "Bens Industriais, Motores, Compressores e Outros",
         "marker": {
          "color": "#00cc96",
          "symbol": "circle"
         },
         "mode": "markers",
         "name": "Bens Industriais, Motores, Compressores e Outros",
         "orientation": "v",
         "showlegend": true,
         "type": "scatter",
         "x": [
          0.03347882888052408,
          0.032798242182523564
         ],
         "xaxis": "x",
         "y": [
          0.0015911565164878792,
          0.0017534842594594793
         ],
         "yaxis": "y"
        },
        {
         "customdata": [
          [
           "Bens Industriais",
           "Máquinas e Equipamentos",
           "Máq. e Equip. Industriais",
           0.029613746455536195
          ],
          [
           "Bens Industriais",
           "Máquinas e Equipamentos",
           "Máq. e Equip. Industriais",
           0.06097179258252048
          ],
          [
           "Bens Industriais",
           "Máquinas e Equipamentos",
           "Máq. e Equip. Industriais",
           0.13162764157229104
          ],
          [
           "Bens Industriais",
           "Máquinas e Equipamentos",
           "Máq. e Equip. Industriais",
           0.1355567706547012
          ],
          [
           "Bens Industriais",
           "Máquinas e Equipamentos",
           "Máq. e Equip. Industriais",
           0.09800963429970157
          ],
          [
           "Bens Industriais",
           "Máquinas e Equipamentos",
           "Máq. e Equip. Industriais",
           0.018325970303421216
          ]
         ],
         "hovertemplate": "<b>%{hovertext}</b><br><br>Sector=%{customdata[0]}<br>Segment=%{customdata[2]}<br>Risk=%{x}<br>Return=%{y}<br>Sub-Sector=%{customdata[1]}<br>Sharpe=%{customdata[3]}<extra></extra>",
         "hovertext": [
          "EALT4.SA",
          "ROMI3.SA",
          "INEP4.SA",
          "INEP3.SA",
          "KEPL3.SA",
          "MILS3.SA"
         ],
         "legendgroup": "Bens Industriais, Máq. e Equip. Industriais",
         "marker": {
          "color": "#00cc96",
          "symbol": "diamond"
         },
         "mode": "markers",
         "name": "Bens Industriais, Máq. e Equip. Industriais",
         "orientation": "v",
         "showlegend": true,
         "type": "scatter",
         "x": [
          0.033835690950536394,
          0.04744943057965356,
          0.06744395811294523,
          0.06382896370587668,
          0.023940127412819884,
          0.04513438745111048
         ],
         "xaxis": "x",
         "y": [
          0.0010020015729570652,
          0.0028930768394613417,
          0.008877489144707366,
          0.008652448194204772,
          0.0023463631328187375,
          0.0008271314440921578
         ],
         "yaxis": "y"
        },
        {
         "customdata": [
          [
           "Bens Industriais",
           "Máquinas e Equipamentos",
           "Armas e Munições",
           0.12078324867343905
          ],
          [
           "Bens Industriais",
           "Máquinas e Equipamentos",
           "Armas e Munições",
           0.14021399725365125
          ]
         ],
         "hovertemplate": "<b>%{hovertext}</b><br><br>Sector=%{customdata[0]}<br>Segment=%{customdata[2]}<br>Risk=%{x}<br>Return=%{y}<br>Sub-Sector=%{customdata[1]}<br>Sharpe=%{customdata[3]}<extra></extra>",
         "hovertext": [
          "TASA4.SA",
          "TASA3.SA"
         ],
         "legendgroup": "Bens Industriais, Armas e Munições",
         "marker": {
          "color": "#00cc96",
          "symbol": "square"
         },
         "mode": "markers",
         "name": "Bens Industriais, Armas e Munições",
         "orientation": "v",
         "showlegend": true,
         "type": "scatter",
         "x": [
          0.051675004717315794,
          0.044574711335171095
         ],
         "xaxis": "x",
         "y": [
          0.00624147494497269,
          0.006249998452731977
         ],
         "yaxis": "y"
        },
        {
         "customdata": [
          [
           "Bens Industriais",
           "Transporte",
           "Transporte Aéreo",
           0.03253117036157908
          ],
          [
           "Bens Industriais",
           "Transporte",
           "Transporte Aéreo",
           0.02670146299962774
          ]
         ],
         "hovertemplate": "<b>%{hovertext}</b><br><br>Sector=%{customdata[0]}<br>Segment=%{customdata[2]}<br>Risk=%{x}<br>Return=%{y}<br>Sub-Sector=%{customdata[1]}<br>Sharpe=%{customdata[3]}<extra></extra>",
         "hovertext": [
          "AZUL4.SA",
          "GOLL4.SA"
         ],
         "legendgroup": "Bens Industriais, Transporte Aéreo",
         "marker": {
          "color": "#00cc96",
          "symbol": "x"
         },
         "mode": "markers",
         "name": "Bens Industriais, Transporte Aéreo",
         "orientation": "v",
         "showlegend": true,
         "type": "scatter",
         "x": [
          0.0632933422812097,
          0.06327493305415818
         ],
         "xaxis": "x",
         "y": [
          0.0020590065005037686,
          0.001689533283749527
         ],
         "yaxis": "y"
        },
        {
         "customdata": [
          [
           "Bens Industriais",
           "Transporte",
           "Transporte Ferroviário",
           0.007834067672404701
          ]
         ],
         "hovertemplate": "<b>%{hovertext}</b><br><br>Sector=%{customdata[0]}<br>Segment=%{customdata[2]}<br>Risk=%{x}<br>Return=%{y}<br>Sub-Sector=%{customdata[1]}<br>Sharpe=%{customdata[3]}<extra></extra>",
         "hovertext": [
          "RAIL3.SA"
         ],
         "legendgroup": "Bens Industriais, Transporte Ferroviário",
         "marker": {
          "color": "#00cc96",
          "symbol": "cross"
         },
         "mode": "markers",
         "name": "Bens Industriais, Transporte Ferroviário",
         "orientation": "v",
         "showlegend": true,
         "type": "scatter",
         "x": [
          0.03448736893656075
         ],
         "xaxis": "x",
         "y": [
          0.0002701763820922047
         ],
         "yaxis": "y"
        },
        {
         "customdata": [
          [
           "Bens Industriais",
           "Transporte",
           "Transporte Hidroviário",
           0.018826118180281907
          ]
         ],
         "hovertemplate": "<b>%{hovertext}</b><br><br>Sector=%{customdata[0]}<br>Segment=%{customdata[2]}<br>Risk=%{x}<br>Return=%{y}<br>Sub-Sector=%{customdata[1]}<br>Sharpe=%{customdata[3]}<extra></extra>",
         "hovertext": [
          "LOGN3.SA"
         ],
         "legendgroup": "Bens Industriais, Transporte Hidroviário",
         "marker": {
          "color": "#00cc96",
          "symbol": "circle"
         },
         "mode": "markers",
         "name": "Bens Industriais, Transporte Hidroviário",
         "orientation": "v",
         "showlegend": true,
         "type": "scatter",
         "x": [
          0.04782317985772623
         ],
         "xaxis": "x",
         "y": [
          0.0009003248357584313
         ],
         "yaxis": "y"
        },
        {
         "customdata": [
          [
           "Bens Industriais",
           "Transporte",
           "Transporte Rodoviário",
           -0.009667521715507409
          ]
         ],
         "hovertemplate": "<b>%{hovertext}</b><br><br>Sector=%{customdata[0]}<br>Segment=%{customdata[2]}<br>Risk=%{x}<br>Return=%{y}<br>Sub-Sector=%{customdata[1]}<br>Sharpe=%{customdata[3]}<extra></extra>",
         "hovertext": [
          "TGMA3.SA"
         ],
         "legendgroup": "Bens Industriais, Transporte Rodoviário",
         "marker": {
          "color": "#00cc96",
          "symbol": "diamond"
         },
         "mode": "markers",
         "name": "Bens Industriais, Transporte Rodoviário",
         "orientation": "v",
         "showlegend": true,
         "type": "scatter",
         "x": [
          0.04035838177022405
         ],
         "xaxis": "x",
         "y": [
          -0.00039016553216637937
         ],
         "yaxis": "y"
        },
        {
         "customdata": [
          [
           "Bens Industriais",
           "Transporte",
           "Exploração de Rodovias",
           0.0004310431656465107
          ],
          [
           "Bens Industriais",
           "Transporte",
           "Exploração de Rodovias",
           -0.0041667293849636565
          ],
          [
           "Bens Industriais",
           "Transporte",
           "Exploração de Rodovias",
           0.06725743931876409
          ]
         ],
         "hovertemplate": "<b>%{hovertext}</b><br><br>Sector=%{customdata[0]}<br>Segment=%{customdata[2]}<br>Risk=%{x}<br>Return=%{y}<br>Sub-Sector=%{customdata[1]}<br>Sharpe=%{customdata[3]}<extra></extra>",
         "hovertext": [
          "CCRO3.SA",
          "ECOR3.SA",
          "TPIS3.SA"
         ],
         "legendgroup": "Bens Industriais, Exploração de Rodovias",
         "marker": {
          "color": "#00cc96",
          "symbol": "square"
         },
         "mode": "markers",
         "name": "Bens Industriais, Exploração de Rodovias",
         "orientation": "v",
         "showlegend": true,
         "type": "scatter",
         "x": [
          0.038154521010321824,
          0.04016230145984656,
          0.05997727580873473
         ],
         "xaxis": "x",
         "y": [
          0.000016446245520015422,
          -0.00016734544166051142,
          0.004033917988210753
         ],
         "yaxis": "y"
        },
        {
         "customdata": [
          [
           "Bens Industriais",
           "Transporte",
           "Serviços de Apoio e Armazenagem",
           0.04765672778497421
          ]
         ],
         "hovertemplate": "<b>%{hovertext}</b><br><br>Sector=%{customdata[0]}<br>Segment=%{customdata[2]}<br>Risk=%{x}<br>Return=%{y}<br>Sub-Sector=%{customdata[1]}<br>Sharpe=%{customdata[3]}<extra></extra>",
         "hovertext": [
          "STBP3.SA"
         ],
         "legendgroup": "Bens Industriais, Serviços de Apoio e Armazenagem",
         "marker": {
          "color": "#00cc96",
          "symbol": "x"
         },
         "mode": "markers",
         "name": "Bens Industriais, Serviços de Apoio e Armazenagem",
         "orientation": "v",
         "showlegend": true,
         "type": "scatter",
         "x": [
          0.0410560414408744
         ],
         "xaxis": "x",
         "y": [
          0.0019565965908763714
         ],
         "yaxis": "y"
        },
        {
         "customdata": [
          [
           "Bens Industriais",
           "Serviços Diversos",
           "Serviços Diversos",
           0.0269221494488763
          ],
          [
           "Bens Industriais",
           "Serviços Diversos",
           "Serviços Diversos",
           -0.009179164084942909
          ],
          [
           "Bens Industriais",
           "Serviços Diversos",
           "Serviços Diversos",
           -0.0014326472995977548
          ]
         ],
         "hovertemplate": "<b>%{hovertext}</b><br><br>Sector=%{customdata[0]}<br>Segment=%{customdata[2]}<br>Risk=%{x}<br>Return=%{y}<br>Sub-Sector=%{customdata[1]}<br>Sharpe=%{customdata[3]}<extra></extra>",
         "hovertext": [
          "ATMP3.SA",
          "PRNR3.SA",
          "VLID3.SA"
         ],
         "legendgroup": "Bens Industriais, Serviços Diversos",
         "marker": {
          "color": "#00cc96",
          "symbol": "cross"
         },
         "mode": "markers",
         "name": "Bens Industriais, Serviços Diversos",
         "orientation": "v",
         "showlegend": true,
         "type": "scatter",
         "x": [
          0.05513043197821813,
          0.036607810695035964,
          0.043132559925111315
         ],
         "xaxis": "x",
         "y": [
          0.0014842297288986976,
          -0.000336029101160263,
          -0.00006179374550144906
         ],
         "yaxis": "y"
        },
        {
         "customdata": [
          [
           "Consumo não Cíclico",
           "Agropecuária",
           "Agricultura",
           0.06484935186006391
          ],
          [
           "Consumo não Cíclico",
           "Agropecuária",
           "Agricultura",
           0.1143999721314629
          ]
         ],
         "hovertemplate": "<b>%{hovertext}</b><br><br>Sector=%{customdata[0]}<br>Segment=%{customdata[2]}<br>Risk=%{x}<br>Return=%{y}<br>Sub-Sector=%{customdata[1]}<br>Sharpe=%{customdata[3]}<extra></extra>",
         "hovertext": [
          "AGRO3.SA",
          "SLCE3.SA"
         ],
         "legendgroup": "Consumo não Cíclico, Agricultura",
         "marker": {
          "color": "#ab63fa",
          "symbol": "circle"
         },
         "mode": "markers",
         "name": "Consumo não Cíclico, Agricultura",
         "orientation": "v",
         "showlegend": true,
         "type": "scatter",
         "x": [
          0.02427844857508746,
          0.025781828325207035
         ],
         "xaxis": "x",
         "y": [
          0.001574441654262314,
          0.0029494404419018456
         ],
         "yaxis": "y"
        },
        {
         "customdata": [
          [
           "Consumo não Cíclico",
           "Alimentos Processados",
           "Açucar e Alcool",
           0.039557812662916636
          ]
         ],
         "hovertemplate": "<b>%{hovertext}</b><br><br>Sector=%{customdata[0]}<br>Segment=%{customdata[2]}<br>Risk=%{x}<br>Return=%{y}<br>Sub-Sector=%{customdata[1]}<br>Sharpe=%{customdata[3]}<extra></extra>",
         "hovertext": [
          "SMTO3.SA"
         ],
         "legendgroup": "Consumo não Cíclico, Açucar e Alcool",
         "marker": {
          "color": "#ab63fa",
          "symbol": "diamond"
         },
         "mode": "markers",
         "name": "Consumo não Cíclico, Açucar e Alcool",
         "orientation": "v",
         "showlegend": true,
         "type": "scatter",
         "x": [
          0.039043583006090926
         ],
         "xaxis": "x",
         "y": [
          0.0015444787422439804
         ],
         "yaxis": "y"
        },
        {
         "customdata": [
          [
           "Consumo não Cíclico",
           "Alimentos Processados",
           "Carnes e Derivados",
           0.01625291675934037
          ],
          [
           "Consumo não Cíclico",
           "Alimentos Processados",
           "Carnes e Derivados",
           0.035344168551949565
          ],
          [
           "Consumo não Cíclico",
           "Alimentos Processados",
           "Carnes e Derivados",
           0.05104185416064829
          ],
          [
           "Consumo não Cíclico",
           "Alimentos Processados",
           "Carnes e Derivados",
           -0.005641162038184122
          ]
         ],
         "hovertemplate": "<b>%{hovertext}</b><br><br>Sector=%{customdata[0]}<br>Segment=%{customdata[2]}<br>Risk=%{x}<br>Return=%{y}<br>Sub-Sector=%{customdata[1]}<br>Sharpe=%{customdata[3]}<extra></extra>",
         "hovertext": [
          "BRFS3.SA",
          "JBSS3.SA",
          "MRFG3.SA",
          "BEEF3.SA"
         ],
         "legendgroup": "Consumo não Cíclico, Carnes e Derivados",
         "marker": {
          "color": "#ab63fa",
          "symbol": "square"
         },
         "mode": "markers",
         "name": "Consumo não Cíclico, Carnes e Derivados",
         "orientation": "v",
         "showlegend": true,
         "type": "scatter",
         "x": [
          0.03749253306719522,
          0.03430967990856735,
          0.03909920178799087,
          0.03362215445609201
         ],
         "xaxis": "x",
         "y": [
          0.0006093630190379403,
          0.001212647109651842,
          0.0019956957554603887,
          -0.00018966802135966936
         ],
         "yaxis": "y"
        },
        {
         "customdata": [
          [
           "Consumo não Cíclico",
           "Alimentos Processados",
           "Alimentos Diversos",
           0.020962473009012637
          ],
          [
           "Consumo não Cíclico",
           "Alimentos Processados",
           "Alimentos Diversos",
           -0.019134179758205434
          ]
         ],
         "hovertemplate": "<b>%{hovertext}</b><br><br>Sector=%{customdata[0]}<br>Segment=%{customdata[2]}<br>Risk=%{x}<br>Return=%{y}<br>Sub-Sector=%{customdata[1]}<br>Sharpe=%{customdata[3]}<extra></extra>",
         "hovertext": [
          "CAML3.SA",
          "MDIA3.SA"
         ],
         "legendgroup": "Consumo não Cíclico, Alimentos Diversos",
         "marker": {
          "color": "#ab63fa",
          "symbol": "x"
         },
         "mode": "markers",
         "name": "Consumo não Cíclico, Alimentos Diversos",
         "orientation": "v",
         "showlegend": true,
         "type": "scatter",
         "x": [
          0.02284065282344994,
          0.029063910508614125
         ],
         "xaxis": "x",
         "y": [
          0.0004787965683197976,
          -0.0005561140881482186
         ],
         "yaxis": "y"
        },
        {
         "customdata": [
          [
           "Consumo não Cíclico",
           "Bebidas",
           "Cervejas e Refrigerantes",
           0.03193843724076421
          ]
         ],
         "hovertemplate": "<b>%{hovertext}</b><br><br>Sector=%{customdata[0]}<br>Segment=%{customdata[2]}<br>Risk=%{x}<br>Return=%{y}<br>Sub-Sector=%{customdata[1]}<br>Sharpe=%{customdata[3]}<extra></extra>",
         "hovertext": [
          "ABEV3.SA"
         ],
         "legendgroup": "Consumo não Cíclico, Cervejas e Refrigerantes",
         "marker": {
          "color": "#ab63fa",
          "symbol": "cross"
         },
         "mode": "markers",
         "name": "Consumo não Cíclico, Cervejas e Refrigerantes",
         "orientation": "v",
         "showlegend": true,
         "type": "scatter",
         "x": [
          0.027612172816454977
         ],
         "xaxis": "x",
         "y": [
          0.0008818896485794828
         ],
         "yaxis": "y"
        },
        {
         "customdata": [
          [
           "Consumo não Cíclico",
           "Produtos de Uso Pessoal e de Limpeza",
           "Produtos de Uso Pessoal",
           0.03816831028813432
          ]
         ],
         "hovertemplate": "<b>%{hovertext}</b><br><br>Sector=%{customdata[0]}<br>Segment=%{customdata[2]}<br>Risk=%{x}<br>Return=%{y}<br>Sub-Sector=%{customdata[1]}<br>Sharpe=%{customdata[3]}<extra></extra>",
         "hovertext": [
          "NTCO3.SA"
         ],
         "legendgroup": "Consumo não Cíclico, Produtos de Uso Pessoal",
         "marker": {
          "color": "#ab63fa",
          "symbol": "circle"
         },
         "mode": "markers",
         "name": "Consumo não Cíclico, Produtos de Uso Pessoal",
         "orientation": "v",
         "showlegend": true,
         "type": "scatter",
         "x": [
          0.0386272972272231
         ],
         "xaxis": "x",
         "y": [
          0.0014743386661606416
         ],
         "yaxis": "y"
        },
        {
         "customdata": [
          [
           "Consumo não Cíclico",
           "Produtos de Uso Pessoal e de Limpeza",
           "Produtos de Limpeza",
           0.03672191707929004
          ]
         ],
         "hovertemplate": "<b>%{hovertext}</b><br><br>Sector=%{customdata[0]}<br>Segment=%{customdata[2]}<br>Risk=%{x}<br>Return=%{y}<br>Sub-Sector=%{customdata[1]}<br>Sharpe=%{customdata[3]}<extra></extra>",
         "hovertext": [
          "BOBR4.SA"
         ],
         "legendgroup": "Consumo não Cíclico, Produtos de Limpeza",
         "marker": {
          "color": "#ab63fa",
          "symbol": "diamond"
         },
         "mode": "markers",
         "name": "Consumo não Cíclico, Produtos de Limpeza",
         "orientation": "v",
         "showlegend": true,
         "type": "scatter",
         "x": [
          0.03670230589931704
         ],
         "xaxis": "x",
         "y": [
          0.0013477790338534581
         ],
         "yaxis": "y"
        },
        {
         "customdata": [
          [
           "Consumo não Cíclico",
           "Comércio e Distribuição",
           "Alimentos",
           0.010223471854724503
          ],
          [
           "Consumo não Cíclico",
           "Comércio e Distribuição",
           "Alimentos",
           0.03785359245847213
          ]
         ],
         "hovertemplate": "<b>%{hovertext}</b><br><br>Sector=%{customdata[0]}<br>Segment=%{customdata[2]}<br>Risk=%{x}<br>Return=%{y}<br>Sub-Sector=%{customdata[1]}<br>Sharpe=%{customdata[3]}<extra></extra>",
         "hovertext": [
          "CRFB3.SA",
          "PCAR3.SA"
         ],
         "legendgroup": "Consumo não Cíclico, Alimentos",
         "marker": {
          "color": "#ab63fa",
          "symbol": "square"
         },
         "mode": "markers",
         "name": "Consumo não Cíclico, Alimentos",
         "orientation": "v",
         "showlegend": true,
         "type": "scatter",
         "x": [
          0.024813473359451485,
          0.08523813562825482
         ],
         "xaxis": "x",
         "y": [
          0.0002536798465083085,
          0.003226569647991931
         ],
         "yaxis": "y"
        },
        {
         "customdata": [
          [
           "Consumo Cíclico",
           "Construção Civil",
           "Incorporações",
           0.003674190115973303
          ],
          [
           "Consumo Cíclico",
           "Construção Civil",
           "Incorporações",
           0.011997910996564146
          ],
          [
           "Consumo Cíclico",
           "Construção Civil",
           "Incorporações",
           0.0033129290569117267
          ],
          [
           "Consumo Cíclico",
           "Construção Civil",
           "Incorporações",
           -0.008517493766575469
          ],
          [
           "Consumo Cíclico",
           "Construção Civil",
           "Incorporações",
           0.0024238047193994084
          ],
          [
           "Consumo Cíclico",
           "Construção Civil",
           "Incorporações",
           -0.013100882375175841
          ],
          [
           "Consumo Cíclico",
           "Construção Civil",
           "Incorporações",
           0.025031767796031945
          ],
          [
           "Consumo Cíclico",
           "Construção Civil",
           "Incorporações",
           0.029861337256817323
          ],
          [
           "Consumo Cíclico",
           "Construção Civil",
           "Incorporações",
           -0.005204761443820246
          ],
          [
           "Consumo Cíclico",
           "Construção Civil",
           "Incorporações",
           -0.0008610222653292621
          ],
          [
           "Consumo Cíclico",
           "Construção Civil",
           "Incorporações",
           0.005113727791130952
          ],
          [
           "Consumo Cíclico",
           "Construção Civil",
           "Incorporações",
           0.033611559360374646
          ],
          [
           "Consumo Cíclico",
           "Construção Civil",
           "Incorporações",
           0.040375604174712455
          ],
          [
           "Consumo Cíclico",
           "Construção Civil",
           "Incorporações",
           -0.019453595131508277
          ],
          [
           "Consumo Cíclico",
           "Construção Civil",
           "Incorporações",
           -0.014670132848263542
          ],
          [
           "Consumo Cíclico",
           "Construção Civil",
           "Incorporações",
           -0.006080909957250878
          ],
          [
           "Consumo Cíclico",
           "Construção Civil",
           "Incorporações",
           0.0728848236280769
          ]
         ],
         "hovertemplate": "<b>%{hovertext}</b><br><br>Sector=%{customdata[0]}<br>Segment=%{customdata[2]}<br>Risk=%{x}<br>Return=%{y}<br>Sub-Sector=%{customdata[1]}<br>Sharpe=%{customdata[3]}<extra></extra>",
         "hovertext": [
          "CYRE3.SA",
          "DIRR3.SA",
          "EVEN3.SA",
          "EZTC3.SA",
          "GFSA3.SA",
          "HBOR3.SA",
          "JHSF3.SA",
          "JFEN3.SA",
          "MTRE3.SA",
          "MDNE3.SA",
          "MRVE3.SA",
          "PDGR3.SA",
          "RSID3.SA",
          "TCSA3.SA",
          "TEND3.SA",
          "TRIS3.SA",
          "VIVR3.SA"
         ],
         "legendgroup": "Consumo Cíclico, Incorporações",
         "marker": {
          "color": "#FFA15A",
          "symbol": "x"
         },
         "mode": "markers",
         "name": "Consumo Cíclico, Incorporações",
         "orientation": "v",
         "showlegend": true,
         "type": "scatter",
         "x": [
          0.04542077027890224,
          0.03780480909365574,
          0.047899732671816644,
          0.04369627514739099,
          0.048468303614240635,
          0.05703803465041965,
          0.042873657293863755,
          0.08103861557832336,
          0.04111736809683996,
          0.05188602971415916,
          0.037546926624009144,
          0.055068819623208906,
          0.04912679949162121,
          0.04540589763528826,
          0.03591709309855373,
          0.04633482048588767,
          0.08443017514717913
         ],
         "xaxis": "x",
         "y": [
          0.00016688454521863658,
          0.0004535787347477804,
          0.00015868841618676534,
          -0.00037218275119046935,
          0.00011747770304147985,
          -0.0007472485828663517,
          0.0010732034339466488,
          0.002419921430609884,
          -0.00021400609214179727,
          -0.00004467502684342673,
          0.0001920047621487502,
          0.0018509488996712503,
          0.001983524210644163,
          -0.0008833079491796069,
          -0.0005269085272792328,
          -0.0002817578712600663,
          0.0061536784244897915
         ],
         "yaxis": "y"
        },
        {
         "customdata": [
          [
           "Consumo Cíclico",
           "Tecidos, Vestuário e Calçados",
           "Fios e Tecidos",
           0.03608564287272514
          ],
          [
           "Consumo Cíclico",
           "Tecidos, Vestuário e Calçados",
           "Fios e Tecidos",
           -0.0107115326592106
          ],
          [
           "Consumo Cíclico",
           "Tecidos, Vestuário e Calçados",
           "Fios e Tecidos",
           0.02133297210082493
          ]
         ],
         "hovertemplate": "<b>%{hovertext}</b><br><br>Sector=%{customdata[0]}<br>Segment=%{customdata[2]}<br>Risk=%{x}<br>Return=%{y}<br>Sub-Sector=%{customdata[1]}<br>Sharpe=%{customdata[3]}<extra></extra>",
         "hovertext": [
          "CTSA4.SA",
          "CTSA3.SA",
          "SGPS3.SA"
         ],
         "legendgroup": "Consumo Cíclico, Fios e Tecidos",
         "marker": {
          "color": "#FFA15A",
          "symbol": "cross"
         },
         "mode": "markers",
         "name": "Consumo Cíclico, Fios e Tecidos",
         "orientation": "v",
         "showlegend": true,
         "type": "scatter",
         "x": [
          0.05500966488058245,
          0.059304868619958775,
          0.05128008027950782
         ],
         "xaxis": "x",
         "y": [
          0.0019850591214289888,
          -0.0006352460370728823,
          0.001093956521930803
         ],
         "yaxis": "y"
        },
        {
         "customdata": [
          [
           "Consumo Cíclico",
           "Tecidos, Vestuário e Calçados",
           "Calçados",
           0.054813975357921305
          ],
          [
           "Consumo Cíclico",
           "Tecidos, Vestuário e Calçados",
           "Calçados",
           0.008210219685752243
          ],
          [
           "Consumo Cíclico",
           "Tecidos, Vestuário e Calçados",
           "Calçados",
           0.01559469667698785
          ],
          [
           "Consumo Cíclico",
           "Tecidos, Vestuário e Calçados",
           "Calçados",
           0.033424788630950726
          ]
         ],
         "hovertemplate": "<b>%{hovertext}</b><br><br>Sector=%{customdata[0]}<br>Segment=%{customdata[2]}<br>Risk=%{x}<br>Return=%{y}<br>Sub-Sector=%{customdata[1]}<br>Sharpe=%{customdata[3]}<extra></extra>",
         "hovertext": [
          "ALPA4.SA",
          "CAMB3.SA",
          "GRND3.SA",
          "VULC3.SA"
         ],
         "legendgroup": "Consumo Cíclico, Calçados",
         "marker": {
          "color": "#FFA15A",
          "symbol": "circle"
         },
         "mode": "markers",
         "name": "Consumo Cíclico, Calçados",
         "orientation": "v",
         "showlegend": true,
         "type": "scatter",
         "x": [
          0.03825419106574617,
          0.03839871479655901,
          0.028134187224163158,
          0.03489351821328089
         ],
         "xaxis": "x",
         "y": [
          0.002096864286415024,
          0.0003152618841302947,
          0.0004387441160144112,
          0.0011663084708691432
         ],
         "yaxis": "y"
        },
        {
         "customdata": [
          [
           "Consumo Cíclico",
           "Tecidos, Vestuário e Calçados",
           "Acessórios",
           0.04155497682124568
          ],
          [
           "Consumo Cíclico",
           "Tecidos, Vestuário e Calçados",
           "Acessórios",
           0.03568092919106794
          ]
         ],
         "hovertemplate": "<b>%{hovertext}</b><br><br>Sector=%{customdata[0]}<br>Segment=%{customdata[2]}<br>Risk=%{x}<br>Return=%{y}<br>Sub-Sector=%{customdata[1]}<br>Sharpe=%{customdata[3]}<extra></extra>",
         "hovertext": [
          "TECN3.SA",
          "VIVA3.SA"
         ],
         "legendgroup": "Consumo Cíclico, Acessórios",
         "marker": {
          "color": "#FFA15A",
          "symbol": "diamond"
         },
         "mode": "markers",
         "name": "Consumo Cíclico, Acessórios",
         "orientation": "v",
         "showlegend": true,
         "type": "scatter",
         "x": [
          0.04834735450320257,
          0.04874945125315265
         ],
         "xaxis": "x",
         "y": [
          0.002009073195749131,
          0.001739425718267158
         ],
         "yaxis": "y"
        },
        {
         "customdata": [
          [
           "Consumo Cíclico",
           "Utilidades Domésticas",
           "Móveis",
           0.015243712338652885
          ]
         ],
         "hovertemplate": "<b>%{hovertext}</b><br><br>Sector=%{customdata[0]}<br>Segment=%{customdata[2]}<br>Risk=%{x}<br>Return=%{y}<br>Sub-Sector=%{customdata[1]}<br>Sharpe=%{customdata[3]}<extra></extra>",
         "hovertext": [
          "UCAS3.SA"
         ],
         "legendgroup": "Consumo Cíclico, Móveis",
         "marker": {
          "color": "#FFA15A",
          "symbol": "square"
         },
         "mode": "markers",
         "name": "Consumo Cíclico, Móveis",
         "orientation": "v",
         "showlegend": true,
         "type": "scatter",
         "x": [
          0.03836903830117869
         ],
         "xaxis": "x",
         "y": [
          0.0005848865825739227
         ],
         "yaxis": "y"
        },
        {
         "customdata": [
          [
           "Consumo Cíclico",
           "Hoteis e Restaurantes",
           "Restaurante e Similares",
           0.009364793617791438
          ],
          [
           "Consumo Cíclico",
           "Hoteis e Restaurantes",
           "Restaurante e Similares",
           -0.014832919275426976
          ]
         ],
         "hovertemplate": "<b>%{hovertext}</b><br><br>Sector=%{customdata[0]}<br>Segment=%{customdata[2]}<br>Risk=%{x}<br>Return=%{y}<br>Sub-Sector=%{customdata[1]}<br>Sharpe=%{customdata[3]}<extra></extra>",
         "hovertext": [
          "BKBR3.SA",
          "MEAL3.SA"
         ],
         "legendgroup": "Consumo Cíclico, Restaurante e Similares",
         "marker": {
          "color": "#FFA15A",
          "symbol": "x"
         },
         "mode": "markers",
         "name": "Consumo Cíclico, Restaurante e Similares",
         "orientation": "v",
         "showlegend": true,
         "type": "scatter",
         "x": [
          0.04389202280201378,
          0.05078095200080944
         ],
         "xaxis": "x",
         "y": [
          0.00041103973500825487,
          -0.0007532297617573384
         ],
         "yaxis": "y"
        },
        {
         "customdata": [
          [
           "Consumo Cíclico",
           "Viagens e Lazer",
           "Produção de Eventos e Shows",
           0.044773543772306856
          ]
         ],
         "hovertemplate": "<b>%{hovertext}</b><br><br>Sector=%{customdata[0]}<br>Segment=%{customdata[2]}<br>Risk=%{x}<br>Return=%{y}<br>Sub-Sector=%{customdata[1]}<br>Sharpe=%{customdata[3]}<extra></extra>",
         "hovertext": [
          "SHOW3.SA"
         ],
         "legendgroup": "Consumo Cíclico, Produção de Eventos e Shows",
         "marker": {
          "color": "#FFA15A",
          "symbol": "cross"
         },
         "mode": "markers",
         "name": "Consumo Cíclico, Produção de Eventos e Shows",
         "orientation": "v",
         "showlegend": true,
         "type": "scatter",
         "x": [
          0.05292420905433469
         ],
         "xaxis": "x",
         "y": [
          0.002369604390708973
         ],
         "yaxis": "y"
        },
        {
         "customdata": [
          [
           "Consumo Cíclico",
           "Viagens e Lazer",
           "Viagens e Turismo",
           0.044871964955144145
          ]
         ],
         "hovertemplate": "<b>%{hovertext}</b><br><br>Sector=%{customdata[0]}<br>Segment=%{customdata[2]}<br>Risk=%{x}<br>Return=%{y}<br>Sub-Sector=%{customdata[1]}<br>Sharpe=%{customdata[3]}<extra></extra>",
         "hovertext": [
          "CVCB3.SA"
         ],
         "legendgroup": "Consumo Cíclico, Viagens e Turismo",
         "marker": {
          "color": "#FFA15A",
          "symbol": "circle"
         },
         "mode": "markers",
         "name": "Consumo Cíclico, Viagens e Turismo",
         "orientation": "v",
         "showlegend": true,
         "type": "scatter",
         "x": [
          0.061661850831742984
         ],
         "xaxis": "x",
         "y": [
          0.002766888409591297
         ],
         "yaxis": "y"
        },
        {
         "customdata": [
          [
           "Consumo Cíclico",
           "Diversos",
           "Serviços Educacionais",
           0.03315664581951889
          ],
          [
           "Consumo Cíclico",
           "Diversos",
           "Serviços Educacionais",
           -0.02887375625353139
          ],
          [
           "Consumo Cíclico",
           "Diversos",
           "Serviços Educacionais",
           -0.007171877898546134
          ],
          [
           "Consumo Cíclico",
           "Diversos",
           "Serviços Educacionais",
           -0.005566364501701944
          ]
         ],
         "hovertemplate": "<b>%{hovertext}</b><br><br>Sector=%{customdata[0]}<br>Segment=%{customdata[2]}<br>Risk=%{x}<br>Return=%{y}<br>Sub-Sector=%{customdata[1]}<br>Sharpe=%{customdata[3]}<extra></extra>",
         "hovertext": [
          "ANIM3.SA",
          "COGN3.SA",
          "SEER3.SA",
          "YDUQ3.SA"
         ],
         "legendgroup": "Consumo Cíclico, Serviços Educacionais",
         "marker": {
          "color": "#FFA15A",
          "symbol": "diamond"
         },
         "mode": "markers",
         "name": "Consumo Cíclico, Serviços Educacionais",
         "orientation": "v",
         "showlegend": true,
         "type": "scatter",
         "x": [
          0.03993930901614393,
          0.04789813801099107,
          0.039749789684483686,
          0.04491687590752722
         ],
         "xaxis": "x",
         "y": [
          0.0013242535233246018,
          -0.001382999161927363,
          -0.00028508063811000565,
          -0.0002500237035790108
         ],
         "yaxis": "y"
        },
        {
         "customdata": [
          [
           "Consumo Cíclico",
           "Diversos",
           "Aluguel de carros",
           0.04004123651728125
          ],
          [
           "Consumo Cíclico",
           "Diversos",
           "Aluguel de carros",
           0.040442788734957734
          ],
          [
           "Consumo Cíclico",
           "Diversos",
           "Aluguel de carros",
           0.024618161875087762
          ]
         ],
         "hovertemplate": "<b>%{hovertext}</b><br><br>Sector=%{customdata[0]}<br>Segment=%{customdata[2]}<br>Risk=%{x}<br>Return=%{y}<br>Sub-Sector=%{customdata[1]}<br>Sharpe=%{customdata[3]}<extra></extra>",
         "hovertext": [
          "RENT3.SA",
          "LCAM3.SA",
          "MOVI3.SA"
         ],
         "legendgroup": "Consumo Cíclico, Aluguel de carros",
         "marker": {
          "color": "#FFA15A",
          "symbol": "square"
         },
         "mode": "markers",
         "name": "Consumo Cíclico, Aluguel de carros",
         "orientation": "v",
         "showlegend": true,
         "type": "scatter",
         "x": [
          0.04341859716131059,
          0.04588389493260313,
          0.041806339338782354
         ],
         "xaxis": "x",
         "y": [
          0.001738534318184594,
          0.001855672669096266,
          0.0010291952292469935
         ],
         "yaxis": "y"
        },
        {
         "customdata": [
          [
           "Consumo Cíclico",
           "Comércio",
           "Tecidos, Vestuário e Calçados",
           0.05848418634878517
          ],
          [
           "Consumo Cíclico",
           "Comércio",
           "Tecidos, Vestuário e Calçados",
           0.01943799732165089
          ],
          [
           "Consumo Cíclico",
           "Comércio",
           "Tecidos, Vestuário e Calçados",
           0.005381362873752119
          ],
          [
           "Consumo Cíclico",
           "Comércio",
           "Tecidos, Vestuário e Calçados",
           -0.04697316774553543
          ],
          [
           "Consumo Cíclico",
           "Comércio",
           "Tecidos, Vestuário e Calçados",
           0.008227876960123674
          ],
          [
           "Consumo Cíclico",
           "Comércio",
           "Tecidos, Vestuário e Calçados",
           -0.0030936613083084492
          ]
         ],
         "hovertemplate": "<b>%{hovertext}</b><br><br>Sector=%{customdata[0]}<br>Segment=%{customdata[2]}<br>Risk=%{x}<br>Return=%{y}<br>Sub-Sector=%{customdata[1]}<br>Sharpe=%{customdata[3]}<extra></extra>",
         "hovertext": [
          "ARZZ3.SA",
          "CEAB3.SA",
          "GUAR3.SA",
          "LLIS3.SA",
          "AMAR3.SA",
          "LREN3.SA"
         ],
         "legendgroup": "Consumo Cíclico, Tecidos, Vestuário e Calçados",
         "marker": {
          "color": "#FFA15A",
          "symbol": "x"
         },
         "mode": "markers",
         "name": "Consumo Cíclico, Tecidos, Vestuário e Calçados",
         "orientation": "v",
         "showlegend": true,
         "type": "scatter",
         "x": [
          0.03494389377652245,
          0.04844854251850288,
          0.04700262313498619,
          0.05448119836747111,
          0.05826391609756534,
          0.03764073912993509
         ],
         "xaxis": "x",
         "y": [
          0.002043665195378293,
          0.0009417426397125481,
          0.00025293817110757713,
          -0.0025591544698930113,
          0.00047938833286573663,
          -0.00011644769826241203
         ],
         "yaxis": "y"
        },
        {
         "customdata": [
          [
           "Consumo Cíclico",
           "Comércio",
           "Eletrodomésticos",
           0.05841228624599858
          ],
          [
           "Consumo Cíclico",
           "Comércio",
           "Eletrodomésticos",
           0.03346379842115885
          ]
         ],
         "hovertemplate": "<b>%{hovertext}</b><br><br>Sector=%{customdata[0]}<br>Segment=%{customdata[2]}<br>Risk=%{x}<br>Return=%{y}<br>Sub-Sector=%{customdata[1]}<br>Sharpe=%{customdata[3]}<extra></extra>",
         "hovertext": [
          "MGLU3.SA",
          "VIIA3.SA"
         ],
         "legendgroup": "Consumo Cíclico, Eletrodomésticos",
         "marker": {
          "color": "#FFA15A",
          "symbol": "cross"
         },
         "mode": "markers",
         "name": "Consumo Cíclico, Eletrodomésticos",
         "orientation": "v",
         "showlegend": true,
         "type": "scatter",
         "x": [
          0.0407178219172634,
          0.05210522060781364
         ],
         "xaxis": "x",
         "y": [
          0.0023784210691447844,
          0.0017436385991098874
         ],
         "yaxis": "y"
        },
        {
         "customdata": [
          [
           "Consumo Cíclico",
           "Comércio",
           "Produtos Diversos",
           0.02814997870545092
          ],
          [
           "Consumo Cíclico",
           "Comércio",
           "Produtos Diversos",
           0.010128571675314769
          ]
         ],
         "hovertemplate": "<b>%{hovertext}</b><br><br>Sector=%{customdata[0]}<br>Segment=%{customdata[2]}<br>Risk=%{x}<br>Return=%{y}<br>Sub-Sector=%{customdata[1]}<br>Sharpe=%{customdata[3]}<extra></extra>",
         "hovertext": [
          "AMER3.SA",
          "SBFG3.SA"
         ],
         "legendgroup": "Consumo Cíclico, Produtos Diversos",
         "marker": {
          "color": "#FFA15A",
          "symbol": "circle"
         },
         "mode": "markers",
         "name": "Consumo Cíclico, Produtos Diversos",
         "orientation": "v",
         "showlegend": true,
         "type": "scatter",
         "x": [
          0.046460882113315644,
          0.04754698378628455
         ],
         "xaxis": "x",
         "y": [
          0.0013078728421263008,
          0.0004815830332244123
         ],
         "yaxis": "y"
        },
        {
         "customdata": [
          [
           "Saúde",
           "Serviços Médico - Hospitalares, Análises e Diagnósticos",
           "Serviços Médico - Hospitalares, Análises e Diagnósticos",
           -0.02256527465239982
          ],
          [
           "Saúde",
           "Serviços Médico - Hospitalares, Análises e Diagnósticos",
           "Serviços Médico - Hospitalares, Análises e Diagnósticos",
           0.02274847486678363
          ],
          [
           "Saúde",
           "Serviços Médico - Hospitalares, Análises e Diagnósticos",
           "Serviços Médico - Hospitalares, Análises e Diagnósticos",
           -0.005704850337724565
          ],
          [
           "Saúde",
           "Serviços Médico - Hospitalares, Análises e Diagnósticos",
           "Serviços Médico - Hospitalares, Análises e Diagnósticos",
           0.04897518132401412
          ],
          [
           "Saúde",
           "Serviços Médico - Hospitalares, Análises e Diagnósticos",
           "Serviços Médico - Hospitalares, Análises e Diagnósticos",
           -0.013971832053721935
          ],
          [
           "Saúde",
           "Serviços Médico - Hospitalares, Análises e Diagnósticos",
           "Serviços Médico - Hospitalares, Análises e Diagnósticos",
           -0.01803153647655782
          ],
          [
           "Saúde",
           "Serviços Médico - Hospitalares, Análises e Diagnósticos",
           "Serviços Médico - Hospitalares, Análises e Diagnósticos",
           -0.0005039361171478347
          ]
         ],
         "hovertemplate": "<b>%{hovertext}</b><br><br>Sector=%{customdata[0]}<br>Segment=%{customdata[2]}<br>Risk=%{x}<br>Return=%{y}<br>Sub-Sector=%{customdata[1]}<br>Sharpe=%{customdata[3]}<extra></extra>",
         "hovertext": [
          "AALR3.SA",
          "DASA3.SA",
          "FLRY3.SA",
          "HAPV3.SA",
          "PARD3.SA",
          "ODPV3.SA",
          "QUAL3.SA"
         ],
         "legendgroup": "Saúde, Serviços Médico - Hospitalares, Análises e Diagnósticos",
         "marker": {
          "color": "#19d3f3",
          "symbol": "diamond"
         },
         "mode": "markers",
         "name": "Saúde, Serviços Médico - Hospitalares, Análises e Diagnósticos",
         "orientation": "v",
         "showlegend": true,
         "type": "scatter",
         "x": [
          0.04116255266816659,
          0.05661340062963936,
          0.026181608786284886,
          0.03501157806425898,
          0.034006871959056405,
          0.024426948860494763,
          0.033444561932104225
         ],
         "xaxis": "x",
         "y": [
          -0.0009288443063510521,
          0.0012878685213465035,
          -0.00014936215972660978,
          0.001714698384136959,
          -0.00047513830368436195,
          -0.00044045541938902375,
          -0.000016853922679774886
         ],
         "yaxis": "y"
        },
        {
         "customdata": [
          [
           "Saúde",
           "Comércio e Distribuição",
           "Medicamentos e Outros Produtos",
           -0.006548156771667554
          ],
          [
           "Saúde",
           "Comércio e Distribuição",
           "Medicamentos e Outros Produtos",
           0.0003790050071801198
          ],
          [
           "Saúde",
           "Comércio e Distribuição",
           "Medicamentos e Outros Produtos",
           0.055310715425190865
          ],
          [
           "Saúde",
           "Comércio e Distribuição",
           "Medicamentos e Outros Produtos",
           0.01310087094348409
          ]
         ],
         "hovertemplate": "<b>%{hovertext}</b><br><br>Sector=%{customdata[0]}<br>Segment=%{customdata[2]}<br>Risk=%{x}<br>Return=%{y}<br>Sub-Sector=%{customdata[1]}<br>Sharpe=%{customdata[3]}<extra></extra>",
         "hovertext": [
          "PNVL3.SA",
          "HYPE3.SA",
          "PFRM3.SA",
          "RADL3.SA"
         ],
         "legendgroup": "Saúde, Medicamentos e Outros Produtos",
         "marker": {
          "color": "#19d3f3",
          "symbol": "square"
         },
         "mode": "markers",
         "name": "Saúde, Medicamentos e Outros Produtos",
         "orientation": "v",
         "showlegend": true,
         "type": "scatter",
         "x": [
          0.030664096881038053,
          0.02970357386867155,
          5.603799805197022,
          0.0247619315468421
         ],
         "xaxis": "x",
         "y": [
          -0.00020079331363863926,
          0.00001125780322737108,
          0.3099501763249925,
          0.0003244028695065657
         ],
         "yaxis": "y"
        },
        {
         "customdata": [
          [
           "Tecnologia da Informação",
           "Computadores e Equipamentos",
           "Computadores e Equipamentos",
           0.05958776804181685
          ]
         ],
         "hovertemplate": "<b>%{hovertext}</b><br><br>Sector=%{customdata[0]}<br>Segment=%{customdata[2]}<br>Risk=%{x}<br>Return=%{y}<br>Sub-Sector=%{customdata[1]}<br>Sharpe=%{customdata[3]}<extra></extra>",
         "hovertext": [
          "POSI3.SA"
         ],
         "legendgroup": "Tecnologia da Informação, Computadores e Equipamentos",
         "marker": {
          "color": "#FF6692",
          "symbol": "x"
         },
         "mode": "markers",
         "name": "Tecnologia da Informação, Computadores e Equipamentos",
         "orientation": "v",
         "showlegend": true,
         "type": "scatter",
         "x": [
          0.05891805941331725
         ],
         "xaxis": "x",
         "y": [
          0.003510795657794732
         ],
         "yaxis": "y"
        },
        {
         "customdata": [
          [
           "Tecnologia da Informação",
           "Programas e Serviços",
           "Programas e Serviços",
           0.12249603172738256
          ],
          [
           "Tecnologia da Informação",
           "Programas e Serviços",
           "Programas e Serviços",
           0.06859042539833458
          ],
          [
           "Tecnologia da Informação",
           "Programas e Serviços",
           "Programas e Serviços",
           0.021425640219480322
          ],
          [
           "Tecnologia da Informação",
           "Programas e Serviços",
           "Programas e Serviços",
           0.05415601906918931
          ]
         ],
         "hovertemplate": "<b>%{hovertext}</b><br><br>Sector=%{customdata[0]}<br>Segment=%{customdata[2]}<br>Risk=%{x}<br>Return=%{y}<br>Sub-Sector=%{customdata[1]}<br>Sharpe=%{customdata[3]}<extra></extra>",
         "hovertext": [
          "LWSA3.SA",
          "PDTC3.SA",
          "SQIA3.SA",
          "TOTS3.SA"
         ],
         "legendgroup": "Tecnologia da Informação, Programas e Serviços",
         "marker": {
          "color": "#FF6692",
          "symbol": "cross"
         },
         "mode": "markers",
         "name": "Tecnologia da Informação, Programas e Serviços",
         "orientation": "v",
         "showlegend": true,
         "type": "scatter",
         "x": [
          0.0480896890989959,
          0.058548614351196564,
          0.03661606125788471,
          0.03505728126267308
         ],
         "xaxis": "x",
         "y": [
          0.005890796081630565,
          0.004015874364831609,
          0.00078452255476589,
          0.0018985627925752564
         ],
         "yaxis": "y"
        },
        {
         "customdata": [
          [
           "Comunicações",
           "Telecomunicações",
           "Telecomunicações",
           0.05261617984290388
          ],
          [
           "Comunicações",
           "Telecomunicações",
           "Telecomunicações",
           0.05055564301788258
          ],
          [
           "Comunicações",
           "Telecomunicações",
           "Telecomunicações",
           -0.013478865341192492
          ],
          [
           "Comunicações",
           "Telecomunicações",
           "Telecomunicações",
           -0.02586733156899394
          ]
         ],
         "hovertemplate": "<b>%{hovertext}</b><br><br>Sector=%{customdata[0]}<br>Segment=%{customdata[2]}<br>Risk=%{x}<br>Return=%{y}<br>Sub-Sector=%{customdata[1]}<br>Sharpe=%{customdata[3]}<extra></extra>",
         "hovertext": [
          "OIBR4.SA",
          "OIBR3.SA",
          "VIVT3.SA",
          "TIMS3.SA"
         ],
         "legendgroup": "Comunicações, Telecomunicações",
         "marker": {
          "color": "#B6E880",
          "symbol": "circle"
         },
         "mode": "markers",
         "name": "Comunicações, Telecomunicações",
         "orientation": "v",
         "showlegend": true,
         "type": "scatter",
         "x": [
          0.04798056956687184,
          0.04591070543220174,
          0.02356166410249832,
          0.02730774433489472
         ],
         "xaxis": "x",
         "y": [
          0.0025245542772954896,
          0.002321045234529554,
          -0.0003175844976519839,
          -0.0007063784771120376
         ],
         "yaxis": "y"
        },
        {
         "customdata": [
          [
           "Utilidade Pública",
           "Energia Elétrica",
           "Energia Elétrica",
           0.015641948109534676
          ],
          [
           "Utilidade Pública",
           "Energia Elétrica",
           "Energia Elétrica",
           0.028162533100158885
          ],
          [
           "Utilidade Pública",
           "Energia Elétrica",
           "Energia Elétrica",
           -0.022583847098998737
          ],
          [
           "Utilidade Pública",
           "Energia Elétrica",
           "Energia Elétrica",
           -0.02457866856039164
          ],
          [
           "Utilidade Pública",
           "Energia Elétrica",
           "Energia Elétrica",
           0.03695478847554201
          ],
          [
           "Utilidade Pública",
           "Energia Elétrica",
           "Energia Elétrica",
           -0.00988757572147409
          ],
          [
           "Utilidade Pública",
           "Energia Elétrica",
           "Energia Elétrica",
           0.05601076119302856
          ],
          [
           "Utilidade Pública",
           "Energia Elétrica",
           "Energia Elétrica",
           -0.019486280804919043
          ],
          [
           "Utilidade Pública",
           "Energia Elétrica",
           "Energia Elétrica",
           0.009088817457336142
          ],
          [
           "Utilidade Pública",
           "Energia Elétrica",
           "Energia Elétrica",
           -0.004208577733160726
          ],
          [
           "Utilidade Pública",
           "Energia Elétrica",
           "Energia Elétrica",
           -0.024419337670652744
          ],
          [
           "Utilidade Pública",
           "Energia Elétrica",
           "Energia Elétrica",
           0.030364484174388008
          ],
          [
           "Utilidade Pública",
           "Energia Elétrica",
           "Energia Elétrica",
           0.02221694274834147
          ],
          [
           "Utilidade Pública",
           "Energia Elétrica",
           "Energia Elétrica",
           0.04569897550285967
          ],
          [
           "Utilidade Pública",
           "Energia Elétrica",
           "Energia Elétrica",
           0.045962515518647246
          ],
          [
           "Utilidade Pública",
           "Energia Elétrica",
           "Energia Elétrica",
           0.029981538556535382
          ]
         ],
         "hovertemplate": "<b>%{hovertext}</b><br><br>Sector=%{customdata[0]}<br>Segment=%{customdata[2]}<br>Risk=%{x}<br>Return=%{y}<br>Sub-Sector=%{customdata[1]}<br>Sharpe=%{customdata[3]}<extra></extra>",
         "hovertext": [
          "CMIG4.SA",
          "CMIG3.SA",
          "CPLE3.SA",
          "CPFE3.SA",
          "ELET3.SA",
          "ENBR3.SA",
          "ENEV3.SA",
          "EGIE3.SA",
          "EQTL3.SA",
          "LIGT3.SA",
          "NEOE3.SA",
          "RNEW4.SA",
          "RNEW3.SA",
          "TAEE4.SA",
          "TAEE3.SA",
          "TRPL4.SA"
         ],
         "legendgroup": "Utilidade Pública, Energia Elétrica",
         "marker": {
          "color": "#FF97FF",
          "symbol": "diamond"
         },
         "mode": "markers",
         "name": "Utilidade Pública, Energia Elétrica",
         "orientation": "v",
         "showlegend": true,
         "type": "scatter",
         "x": [
          0.03286751614653194,
          0.034738863662285374,
          0.03027119992849649,
          0.025663487515500915,
          0.04338207664417431,
          0.022644311461484674,
          0.030442295960421705,
          0.021007396868317603,
          0.02631642670939272,
          0.04265968413026124,
          0.027403225002898265,
          0.047960929438156684,
          0.0508531239425581,
          0.01853256166406714,
          0.01742049113081013,
          0.01895222229202607
         ],
         "xaxis": "x",
         "y": [
          0.0005141119820533457,
          0.0009783343977510185,
          -0.0006836401506883863,
          -0.0006307743537472458,
          0.001603175466015213,
          -0.00022389734423607332,
          0.001705096169206678,
          -0.0004093560343564137,
          0.00023918519849103564,
          -0.00017953659673428747,
          -0.0006691686046106467,
          0.0014563088829138485,
          0.001129800943206126,
          0.0008469190814914406,
          0.0008006895939423174,
          0.000568216783380409
         ],
         "yaxis": "y"
        },
        {
         "customdata": [
          [
           "Utilidade Pública",
           "Água e Saneamento",
           "Água e Saneamento",
           -0.009886707603097403
          ],
          [
           "Utilidade Pública",
           "Água e Saneamento",
           "Água e Saneamento",
           -0.026381456988841537
          ],
          [
           "Utilidade Pública",
           "Água e Saneamento",
           "Água e Saneamento",
           -0.04202859597866896
          ],
          [
           "Utilidade Pública",
           "Água e Saneamento",
           "Água e Saneamento",
           -0.035122286533170045
          ]
         ],
         "hovertemplate": "<b>%{hovertext}</b><br><br>Sector=%{customdata[0]}<br>Segment=%{customdata[2]}<br>Risk=%{x}<br>Return=%{y}<br>Sub-Sector=%{customdata[1]}<br>Sharpe=%{customdata[3]}<extra></extra>",
         "hovertext": [
          "CSMG3.SA",
          "SBSP3.SA",
          "SAPR4.SA",
          "SAPR3.SA"
         ],
         "legendgroup": "Utilidade Pública, Água e Saneamento",
         "marker": {
          "color": "#FF97FF",
          "symbol": "square"
         },
         "mode": "markers",
         "name": "Utilidade Pública, Água e Saneamento",
         "orientation": "v",
         "showlegend": true,
         "type": "scatter",
         "x": [
          0.030961884577303162,
          0.034553895636428696,
          0.028603655500101344,
          0.033055526933136986
         ],
         "xaxis": "x",
         "y": [
          -0.00030611109965664743,
          -0.000911582111529363,
          -0.0012021714805267917,
          -0.001160985688450557
         ],
         "yaxis": "y"
        },
        {
         "customdata": [
          [
           "Financeiro",
           "Intermediários Financeiros",
           "Bancos",
           -0.007711867495728348
          ],
          [
           "Financeiro",
           "Intermediários Financeiros",
           "Bancos",
           -0.00863133671457558
          ],
          [
           "Financeiro",
           "Intermediários Financeiros",
           "Bancos",
           0.08255745354866442
          ],
          [
           "Financeiro",
           "Intermediários Financeiros",
           "Bancos",
           0.009904110402004103
          ],
          [
           "Financeiro",
           "Intermediários Financeiros",
           "Bancos",
           0.012972996049758413
          ],
          [
           "Financeiro",
           "Intermediários Financeiros",
           "Bancos",
           -0.014757586799151751
          ],
          [
           "Financeiro",
           "Intermediários Financeiros",
           "Bancos",
           0.0028385570495327948
          ],
          [
           "Financeiro",
           "Intermediários Financeiros",
           "Bancos",
           -0.010327347328359276
          ],
          [
           "Financeiro",
           "Intermediários Financeiros",
           "Bancos",
           0.008236779306786407
          ],
          [
           "Financeiro",
           "Intermediários Financeiros",
           "Bancos",
           0.005040851172043392
          ],
          [
           "Financeiro",
           "Intermediários Financeiros",
           "Bancos",
           0.0061001989402122685
          ],
          [
           "Financeiro",
           "Intermediários Financeiros",
           "Bancos",
           0.02330139805891751
          ],
          [
           "Financeiro",
           "Intermediários Financeiros",
           "Bancos",
           0.019845005958471443
          ]
         ],
         "hovertemplate": "<b>%{hovertext}</b><br><br>Sector=%{customdata[0]}<br>Segment=%{customdata[2]}<br>Risk=%{x}<br>Return=%{y}<br>Sub-Sector=%{customdata[1]}<br>Sharpe=%{customdata[3]}<extra></extra>",
         "hovertext": [
          "ABCB4.SA",
          "BMGB4.SA",
          "BPAN4.SA",
          "BBDC4.SA",
          "BBDC3.SA",
          "BBAS3.SA",
          "ITSA4.SA",
          "ITSA3.SA",
          "ITUB4.SA",
          "ITUB3.SA",
          "PINE4.SA",
          "SANB4.SA",
          "SANB3.SA"
         ],
         "legendgroup": "Financeiro, Bancos",
         "marker": {
          "color": "#FECB52",
          "symbol": "x"
         },
         "mode": "markers",
         "name": "Financeiro, Bancos",
         "orientation": "v",
         "showlegend": true,
         "type": "scatter",
         "x": [
          0.02825286034063901,
          0.03392425097735612,
          0.05370579111293311,
          0.03360517330846542,
          0.032149674819283894,
          0.03549182530924328,
          0.02601662280844868,
          0.01945002138301572,
          0.028645896309968364,
          0.02506738820117482,
          0.04446821509659155,
          0.03362616737020255,
          0.03304993528450994
         ],
         "xaxis": "x",
         "y": [
          -0.00021788231532232654,
          -0.0002928116329753304,
          0.0044338133551002495,
          0.000332829346525523,
          0.0004170776044315875,
          -0.0005237736926614887,
          0.00007384966807795769,
          -0.0002008671263664182,
          0.0002359499259502965,
          0.0001263609731939588,
          0.000271264958605359,
          0.0007835367110888729,
          0.0006558761626481954
         ],
         "yaxis": "y"
        },
        {
         "customdata": [
          [
           "Financeiro",
           "Serviços Financeiros Diversos",
           "Serviços Financeiros Diversos",
           0.018159530208308818
          ],
          [
           "Financeiro",
           "Serviços Financeiros Diversos",
           "Serviços Financeiros Diversos",
           -0.02593873190379142
          ],
          [
           "Financeiro",
           "Serviços Financeiros Diversos",
           "Serviços Financeiros Diversos",
           0.07368560929280793
          ]
         ],
         "hovertemplate": "<b>%{hovertext}</b><br><br>Sector=%{customdata[0]}<br>Segment=%{customdata[2]}<br>Risk=%{x}<br>Return=%{y}<br>Sub-Sector=%{customdata[1]}<br>Sharpe=%{customdata[3]}<extra></extra>",
         "hovertext": [
          "B3SA3.SA",
          "CIEL3.SA",
          "CARD3.SA"
         ],
         "legendgroup": "Financeiro, Serviços Financeiros Diversos",
         "marker": {
          "color": "#FECB52",
          "symbol": "cross"
         },
         "mode": "markers",
         "name": "Financeiro, Serviços Financeiros Diversos",
         "orientation": "v",
         "showlegend": true,
         "type": "scatter",
         "x": [
          0.03213093284893773,
          0.043588929948785604,
          0.03367380899967782
         ],
         "xaxis": "x",
         "y": [
          0.0005834826456914267,
          -0.0011306415679146944,
          0.002481275133350899
         ],
         "yaxis": "y"
        },
        {
         "customdata": [
          [
           "Financeiro",
           "Previdência e Seguros",
           "Seguradoras",
           -0.02491531784078743
          ],
          [
           "Financeiro",
           "Previdência e Seguros",
           "Seguradoras",
           -0.008076665452074064
          ]
         ],
         "hovertemplate": "<b>%{hovertext}</b><br><br>Sector=%{customdata[0]}<br>Segment=%{customdata[2]}<br>Risk=%{x}<br>Return=%{y}<br>Sub-Sector=%{customdata[1]}<br>Sharpe=%{customdata[3]}<extra></extra>",
         "hovertext": [
          "BBSE3.SA",
          "PSSA3.SA"
         ],
         "legendgroup": "Financeiro, Seguradoras",
         "marker": {
          "color": "#FECB52",
          "symbol": "circle"
         },
         "mode": "markers",
         "name": "Financeiro, Seguradoras",
         "orientation": "v",
         "showlegend": true,
         "type": "scatter",
         "x": [
          0.02396961265783474,
          0.023348388513631232
         ],
         "xaxis": "x",
         "y": [
          -0.000597210517890514,
          -0.0001885771228696483
         ],
         "yaxis": "y"
        },
        {
         "customdata": [
          [
           "Financeiro",
           "Previdência e Seguros",
           "Resseguradoras",
           -0.05335620976205613
          ]
         ],
         "hovertemplate": "<b>%{hovertext}</b><br><br>Sector=%{customdata[0]}<br>Segment=%{customdata[2]}<br>Risk=%{x}<br>Return=%{y}<br>Sub-Sector=%{customdata[1]}<br>Sharpe=%{customdata[3]}<extra></extra>",
         "hovertext": [
          "IRBR3.SA"
         ],
         "legendgroup": "Financeiro, Resseguradoras",
         "marker": {
          "color": "#FECB52",
          "symbol": "diamond"
         },
         "mode": "markers",
         "name": "Financeiro, Resseguradoras",
         "orientation": "v",
         "showlegend": true,
         "type": "scatter",
         "x": [
          0.05815555802856498
         ],
         "xaxis": "x",
         "y": [
          -0.0031029601530015403
         ],
         "yaxis": "y"
        },
        {
         "customdata": [
          [
           "Financeiro",
           "Previdência e Seguros",
           "Corretoras de Seguros e Resseguros",
           0.06881231203399474
          ],
          [
           "Financeiro",
           "Previdência e Seguros",
           "Corretoras de Seguros e Resseguros",
           0.03366187902588637
          ]
         ],
         "hovertemplate": "<b>%{hovertext}</b><br><br>Sector=%{customdata[0]}<br>Segment=%{customdata[2]}<br>Risk=%{x}<br>Return=%{y}<br>Sub-Sector=%{customdata[1]}<br>Sharpe=%{customdata[3]}<extra></extra>",
         "hovertext": [
          "APER3.SA",
          "WIZS3.SA"
         ],
         "legendgroup": "Financeiro, Corretoras de Seguros e Resseguros",
         "marker": {
          "color": "#FECB52",
          "symbol": "square"
         },
         "mode": "markers",
         "name": "Financeiro, Corretoras de Seguros e Resseguros",
         "orientation": "v",
         "showlegend": true,
         "type": "scatter",
         "x": [
          0.043657797362703775,
          0.042406536914792056
         ],
         "xaxis": "x",
         "y": [
          0.0030041939748392844,
          0.0014274837155325148
         ],
         "yaxis": "y"
        },
        {
         "customdata": [
          [
           "Financeiro",
           "Exploração de Imóveis",
           "Exploração de Imóveis",
           -0.01474475066029399
          ],
          [
           "Financeiro",
           "Exploração de Imóveis",
           "Exploração de Imóveis",
           -0.018475341287411136
          ],
          [
           "Financeiro",
           "Exploração de Imóveis",
           "Exploração de Imóveis",
           -0.02945072139278284
          ],
          [
           "Financeiro",
           "Exploração de Imóveis",
           "Exploração de Imóveis",
           0.010563655149957801
          ],
          [
           "Financeiro",
           "Exploração de Imóveis",
           "Exploração de Imóveis",
           0.028892925773863442
          ],
          [
           "Financeiro",
           "Exploração de Imóveis",
           "Exploração de Imóveis",
           -0.005438072217588451
          ],
          [
           "Financeiro",
           "Exploração de Imóveis",
           "Exploração de Imóveis",
           -0.04476281409116775
          ]
         ],
         "hovertemplate": "<b>%{hovertext}</b><br><br>Sector=%{customdata[0]}<br>Segment=%{customdata[2]}<br>Risk=%{x}<br>Return=%{y}<br>Sub-Sector=%{customdata[1]}<br>Sharpe=%{customdata[3]}<extra></extra>",
         "hovertext": [
          "ALSO3.SA",
          "BRML3.SA",
          "BRPR3.SA",
          "IGTI3.SA",
          "LOGG3.SA",
          "MULT3.SA",
          "SYNE3.SA"
         ],
         "legendgroup": "Financeiro, Exploração de Imóveis",
         "marker": {
          "color": "#FECB52",
          "symbol": "x"
         },
         "mode": "markers",
         "name": "Financeiro, Exploração de Imóveis",
         "orientation": "v",
         "showlegend": true,
         "type": "scatter",
         "x": [
          0.04256484597597142,
          0.04012486117159099,
          0.030961387222619506,
          0.039978197861522756,
          0.04004420421601257,
          0.03915763031650789,
          0.036447167715575296
         ],
         "xaxis": "x",
         "y": [
          -0.0006276080408095166,
          -0.000741320504255135,
          -0.0009118351890274335,
          0.00042231589572590684,
          0.0011569942200866806,
          -0.0002129420215308008,
          -0.0016314777926019083
         ],
         "yaxis": "y"
        },
        {
         "customdata": [
          [
           "Financeiro",
           "Exploração de Imóveis",
           "Intermediação Imobiliária",
           0.00634894753974571
          ],
          [
           "Financeiro",
           "Exploração de Imóveis",
           "Intermediação Imobiliária",
           -0.002960599380305272
          ]
         ],
         "hovertemplate": "<b>%{hovertext}</b><br><br>Sector=%{customdata[0]}<br>Segment=%{customdata[2]}<br>Risk=%{x}<br>Return=%{y}<br>Sub-Sector=%{customdata[1]}<br>Sharpe=%{customdata[3]}<extra></extra>",
         "hovertext": [
          "BBRK3.SA",
          "LPSB3.SA"
         ],
         "legendgroup": "Financeiro, Intermediação Imobiliária",
         "marker": {
          "color": "#FECB52",
          "symbol": "cross"
         },
         "mode": "markers",
         "name": "Financeiro, Intermediação Imobiliária",
         "orientation": "v",
         "showlegend": true,
         "type": "scatter",
         "x": [
          0.06926430775142987,
          0.05645485312270982
         ],
         "xaxis": "x",
         "y": [
          0.0004397554562906304,
          -0.00016714020317031984
         ],
         "yaxis": "y"
        },
        {
         "customdata": [
          [
           "Outros",
           "Outros",
           "Outros",
           0.08360257712078643
          ],
          [
           "Outros",
           "Outros",
           "Outros",
           0.07535502379417364
          ],
          [
           "Outros",
           "Outros",
           "Outros",
           0.0757135690262229
          ]
         ],
         "hovertemplate": "<b>%{hovertext}</b><br><br>Sector=%{customdata[0]}<br>Segment=%{customdata[2]}<br>Risk=%{x}<br>Return=%{y}<br>Sub-Sector=%{customdata[1]}<br>Sharpe=%{customdata[3]}<extra></extra>",
         "hovertext": [
          "ATOM3.SA",
          "BLUT4.SA",
          "BLUT3.SA"
         ],
         "legendgroup": "Outros, Outros",
         "marker": {
          "color": "#636efa",
          "symbol": "circle"
         },
         "mode": "markers",
         "name": "Outros, Outros",
         "orientation": "v",
         "showlegend": true,
         "type": "scatter",
         "x": [
          0.09061613658122969,
          0.08804809426152521,
          0.10354673901091718
         ],
         "xaxis": "x",
         "y": [
          0.007575742546919972,
          0.006634866238108875,
          0.007839893171543365
         ],
         "yaxis": "y"
        }
       ],
       "layout": {
        "legend": {
         "title": {
          "text": "Sector, Segment"
         },
         "tracegroupgap": 0
        },
        "margin": {
         "t": 60
        },
        "template": {
         "data": {
          "bar": [
           {
            "error_x": {
             "color": "#2a3f5f"
            },
            "error_y": {
             "color": "#2a3f5f"
            },
            "marker": {
             "line": {
              "color": "#E5ECF6",
              "width": 0.5
             },
             "pattern": {
              "fillmode": "overlay",
              "size": 10,
              "solidity": 0.2
             }
            },
            "type": "bar"
           }
          ],
          "barpolar": [
           {
            "marker": {
             "line": {
              "color": "#E5ECF6",
              "width": 0.5
             },
             "pattern": {
              "fillmode": "overlay",
              "size": 10,
              "solidity": 0.2
             }
            },
            "type": "barpolar"
           }
          ],
          "carpet": [
           {
            "aaxis": {
             "endlinecolor": "#2a3f5f",
             "gridcolor": "white",
             "linecolor": "white",
             "minorgridcolor": "white",
             "startlinecolor": "#2a3f5f"
            },
            "baxis": {
             "endlinecolor": "#2a3f5f",
             "gridcolor": "white",
             "linecolor": "white",
             "minorgridcolor": "white",
             "startlinecolor": "#2a3f5f"
            },
            "type": "carpet"
           }
          ],
          "choropleth": [
           {
            "colorbar": {
             "outlinewidth": 0,
             "ticks": ""
            },
            "type": "choropleth"
           }
          ],
          "contour": [
           {
            "colorbar": {
             "outlinewidth": 0,
             "ticks": ""
            },
            "colorscale": [
             [
              0,
              "#0d0887"
             ],
             [
              0.1111111111111111,
              "#46039f"
             ],
             [
              0.2222222222222222,
              "#7201a8"
             ],
             [
              0.3333333333333333,
              "#9c179e"
             ],
             [
              0.4444444444444444,
              "#bd3786"
             ],
             [
              0.5555555555555556,
              "#d8576b"
             ],
             [
              0.6666666666666666,
              "#ed7953"
             ],
             [
              0.7777777777777778,
              "#fb9f3a"
             ],
             [
              0.8888888888888888,
              "#fdca26"
             ],
             [
              1,
              "#f0f921"
             ]
            ],
            "type": "contour"
           }
          ],
          "contourcarpet": [
           {
            "colorbar": {
             "outlinewidth": 0,
             "ticks": ""
            },
            "type": "contourcarpet"
           }
          ],
          "heatmap": [
           {
            "colorbar": {
             "outlinewidth": 0,
             "ticks": ""
            },
            "colorscale": [
             [
              0,
              "#0d0887"
             ],
             [
              0.1111111111111111,
              "#46039f"
             ],
             [
              0.2222222222222222,
              "#7201a8"
             ],
             [
              0.3333333333333333,
              "#9c179e"
             ],
             [
              0.4444444444444444,
              "#bd3786"
             ],
             [
              0.5555555555555556,
              "#d8576b"
             ],
             [
              0.6666666666666666,
              "#ed7953"
             ],
             [
              0.7777777777777778,
              "#fb9f3a"
             ],
             [
              0.8888888888888888,
              "#fdca26"
             ],
             [
              1,
              "#f0f921"
             ]
            ],
            "type": "heatmap"
           }
          ],
          "heatmapgl": [
           {
            "colorbar": {
             "outlinewidth": 0,
             "ticks": ""
            },
            "colorscale": [
             [
              0,
              "#0d0887"
             ],
             [
              0.1111111111111111,
              "#46039f"
             ],
             [
              0.2222222222222222,
              "#7201a8"
             ],
             [
              0.3333333333333333,
              "#9c179e"
             ],
             [
              0.4444444444444444,
              "#bd3786"
             ],
             [
              0.5555555555555556,
              "#d8576b"
             ],
             [
              0.6666666666666666,
              "#ed7953"
             ],
             [
              0.7777777777777778,
              "#fb9f3a"
             ],
             [
              0.8888888888888888,
              "#fdca26"
             ],
             [
              1,
              "#f0f921"
             ]
            ],
            "type": "heatmapgl"
           }
          ],
          "histogram": [
           {
            "marker": {
             "pattern": {
              "fillmode": "overlay",
              "size": 10,
              "solidity": 0.2
             }
            },
            "type": "histogram"
           }
          ],
          "histogram2d": [
           {
            "colorbar": {
             "outlinewidth": 0,
             "ticks": ""
            },
            "colorscale": [
             [
              0,
              "#0d0887"
             ],
             [
              0.1111111111111111,
              "#46039f"
             ],
             [
              0.2222222222222222,
              "#7201a8"
             ],
             [
              0.3333333333333333,
              "#9c179e"
             ],
             [
              0.4444444444444444,
              "#bd3786"
             ],
             [
              0.5555555555555556,
              "#d8576b"
             ],
             [
              0.6666666666666666,
              "#ed7953"
             ],
             [
              0.7777777777777778,
              "#fb9f3a"
             ],
             [
              0.8888888888888888,
              "#fdca26"
             ],
             [
              1,
              "#f0f921"
             ]
            ],
            "type": "histogram2d"
           }
          ],
          "histogram2dcontour": [
           {
            "colorbar": {
             "outlinewidth": 0,
             "ticks": ""
            },
            "colorscale": [
             [
              0,
              "#0d0887"
             ],
             [
              0.1111111111111111,
              "#46039f"
             ],
             [
              0.2222222222222222,
              "#7201a8"
             ],
             [
              0.3333333333333333,
              "#9c179e"
             ],
             [
              0.4444444444444444,
              "#bd3786"
             ],
             [
              0.5555555555555556,
              "#d8576b"
             ],
             [
              0.6666666666666666,
              "#ed7953"
             ],
             [
              0.7777777777777778,
              "#fb9f3a"
             ],
             [
              0.8888888888888888,
              "#fdca26"
             ],
             [
              1,
              "#f0f921"
             ]
            ],
            "type": "histogram2dcontour"
           }
          ],
          "mesh3d": [
           {
            "colorbar": {
             "outlinewidth": 0,
             "ticks": ""
            },
            "type": "mesh3d"
           }
          ],
          "parcoords": [
           {
            "line": {
             "colorbar": {
              "outlinewidth": 0,
              "ticks": ""
             }
            },
            "type": "parcoords"
           }
          ],
          "pie": [
           {
            "automargin": true,
            "type": "pie"
           }
          ],
          "scatter": [
           {
            "marker": {
             "colorbar": {
              "outlinewidth": 0,
              "ticks": ""
             }
            },
            "type": "scatter"
           }
          ],
          "scatter3d": [
           {
            "line": {
             "colorbar": {
              "outlinewidth": 0,
              "ticks": ""
             }
            },
            "marker": {
             "colorbar": {
              "outlinewidth": 0,
              "ticks": ""
             }
            },
            "type": "scatter3d"
           }
          ],
          "scattercarpet": [
           {
            "marker": {
             "colorbar": {
              "outlinewidth": 0,
              "ticks": ""
             }
            },
            "type": "scattercarpet"
           }
          ],
          "scattergeo": [
           {
            "marker": {
             "colorbar": {
              "outlinewidth": 0,
              "ticks": ""
             }
            },
            "type": "scattergeo"
           }
          ],
          "scattergl": [
           {
            "marker": {
             "colorbar": {
              "outlinewidth": 0,
              "ticks": ""
             }
            },
            "type": "scattergl"
           }
          ],
          "scattermapbox": [
           {
            "marker": {
             "colorbar": {
              "outlinewidth": 0,
              "ticks": ""
             }
            },
            "type": "scattermapbox"
           }
          ],
          "scatterpolar": [
           {
            "marker": {
             "colorbar": {
              "outlinewidth": 0,
              "ticks": ""
             }
            },
            "type": "scatterpolar"
           }
          ],
          "scatterpolargl": [
           {
            "marker": {
             "colorbar": {
              "outlinewidth": 0,
              "ticks": ""
             }
            },
            "type": "scatterpolargl"
           }
          ],
          "scatterternary": [
           {
            "marker": {
             "colorbar": {
              "outlinewidth": 0,
              "ticks": ""
             }
            },
            "type": "scatterternary"
           }
          ],
          "surface": [
           {
            "colorbar": {
             "outlinewidth": 0,
             "ticks": ""
            },
            "colorscale": [
             [
              0,
              "#0d0887"
             ],
             [
              0.1111111111111111,
              "#46039f"
             ],
             [
              0.2222222222222222,
              "#7201a8"
             ],
             [
              0.3333333333333333,
              "#9c179e"
             ],
             [
              0.4444444444444444,
              "#bd3786"
             ],
             [
              0.5555555555555556,
              "#d8576b"
             ],
             [
              0.6666666666666666,
              "#ed7953"
             ],
             [
              0.7777777777777778,
              "#fb9f3a"
             ],
             [
              0.8888888888888888,
              "#fdca26"
             ],
             [
              1,
              "#f0f921"
             ]
            ],
            "type": "surface"
           }
          ],
          "table": [
           {
            "cells": {
             "fill": {
              "color": "#EBF0F8"
             },
             "line": {
              "color": "white"
             }
            },
            "header": {
             "fill": {
              "color": "#C8D4E3"
             },
             "line": {
              "color": "white"
             }
            },
            "type": "table"
           }
          ]
         },
         "layout": {
          "annotationdefaults": {
           "arrowcolor": "#2a3f5f",
           "arrowhead": 0,
           "arrowwidth": 1
          },
          "autotypenumbers": "strict",
          "coloraxis": {
           "colorbar": {
            "outlinewidth": 0,
            "ticks": ""
           }
          },
          "colorscale": {
           "diverging": [
            [
             0,
             "#8e0152"
            ],
            [
             0.1,
             "#c51b7d"
            ],
            [
             0.2,
             "#de77ae"
            ],
            [
             0.3,
             "#f1b6da"
            ],
            [
             0.4,
             "#fde0ef"
            ],
            [
             0.5,
             "#f7f7f7"
            ],
            [
             0.6,
             "#e6f5d0"
            ],
            [
             0.7,
             "#b8e186"
            ],
            [
             0.8,
             "#7fbc41"
            ],
            [
             0.9,
             "#4d9221"
            ],
            [
             1,
             "#276419"
            ]
           ],
           "sequential": [
            [
             0,
             "#0d0887"
            ],
            [
             0.1111111111111111,
             "#46039f"
            ],
            [
             0.2222222222222222,
             "#7201a8"
            ],
            [
             0.3333333333333333,
             "#9c179e"
            ],
            [
             0.4444444444444444,
             "#bd3786"
            ],
            [
             0.5555555555555556,
             "#d8576b"
            ],
            [
             0.6666666666666666,
             "#ed7953"
            ],
            [
             0.7777777777777778,
             "#fb9f3a"
            ],
            [
             0.8888888888888888,
             "#fdca26"
            ],
            [
             1,
             "#f0f921"
            ]
           ],
           "sequentialminus": [
            [
             0,
             "#0d0887"
            ],
            [
             0.1111111111111111,
             "#46039f"
            ],
            [
             0.2222222222222222,
             "#7201a8"
            ],
            [
             0.3333333333333333,
             "#9c179e"
            ],
            [
             0.4444444444444444,
             "#bd3786"
            ],
            [
             0.5555555555555556,
             "#d8576b"
            ],
            [
             0.6666666666666666,
             "#ed7953"
            ],
            [
             0.7777777777777778,
             "#fb9f3a"
            ],
            [
             0.8888888888888888,
             "#fdca26"
            ],
            [
             1,
             "#f0f921"
            ]
           ]
          },
          "colorway": [
           "#636efa",
           "#EF553B",
           "#00cc96",
           "#ab63fa",
           "#FFA15A",
           "#19d3f3",
           "#FF6692",
           "#B6E880",
           "#FF97FF",
           "#FECB52"
          ],
          "font": {
           "color": "#2a3f5f"
          },
          "geo": {
           "bgcolor": "white",
           "lakecolor": "white",
           "landcolor": "#E5ECF6",
           "showlakes": true,
           "showland": true,
           "subunitcolor": "white"
          },
          "hoverlabel": {
           "align": "left"
          },
          "hovermode": "closest",
          "mapbox": {
           "style": "light"
          },
          "paper_bgcolor": "white",
          "plot_bgcolor": "#E5ECF6",
          "polar": {
           "angularaxis": {
            "gridcolor": "white",
            "linecolor": "white",
            "ticks": ""
           },
           "bgcolor": "#E5ECF6",
           "radialaxis": {
            "gridcolor": "white",
            "linecolor": "white",
            "ticks": ""
           }
          },
          "scene": {
           "xaxis": {
            "backgroundcolor": "#E5ECF6",
            "gridcolor": "white",
            "gridwidth": 2,
            "linecolor": "white",
            "showbackground": true,
            "ticks": "",
            "zerolinecolor": "white"
           },
           "yaxis": {
            "backgroundcolor": "#E5ECF6",
            "gridcolor": "white",
            "gridwidth": 2,
            "linecolor": "white",
            "showbackground": true,
            "ticks": "",
            "zerolinecolor": "white"
           },
           "zaxis": {
            "backgroundcolor": "#E5ECF6",
            "gridcolor": "white",
            "gridwidth": 2,
            "linecolor": "white",
            "showbackground": true,
            "ticks": "",
            "zerolinecolor": "white"
           }
          },
          "shapedefaults": {
           "line": {
            "color": "#2a3f5f"
           }
          },
          "ternary": {
           "aaxis": {
            "gridcolor": "white",
            "linecolor": "white",
            "ticks": ""
           },
           "baxis": {
            "gridcolor": "white",
            "linecolor": "white",
            "ticks": ""
           },
           "bgcolor": "#E5ECF6",
           "caxis": {
            "gridcolor": "white",
            "linecolor": "white",
            "ticks": ""
           }
          },
          "title": {
           "x": 0.05
          },
          "xaxis": {
           "automargin": true,
           "gridcolor": "white",
           "linecolor": "white",
           "ticks": "",
           "title": {
            "standoff": 15
           },
           "zerolinecolor": "white",
           "zerolinewidth": 2
          },
          "yaxis": {
           "automargin": true,
           "gridcolor": "white",
           "linecolor": "white",
           "ticks": "",
           "title": {
            "standoff": 15
           },
           "zerolinecolor": "white",
           "zerolinewidth": 2
          }
         }
        },
        "xaxis": {
         "anchor": "y",
         "domain": [
          0,
          1
         ],
         "title": {
          "text": "Risk"
         }
        },
        "yaxis": {
         "anchor": "x",
         "domain": [
          0,
          1
         ],
         "title": {
          "text": "Return"
         }
        }
       }
      }
     },
     "metadata": {},
     "output_type": "display_data"
    }
   ],
   "source": [
    "px.scatter(\n",
    "    df, \n",
    "    x='Risk', \n",
    "    y='Return', \n",
    "    color='Sector', \n",
    "    symbol='Segment', \n",
    "    hover_name='Stock', \n",
    "    hover_data=['Sector', 'Sub-Sector', 'Segment', 'Sharpe'],\n",
    ")"
   ]
  },
  {
   "cell_type": "code",
   "execution_count": 19,
   "id": "e7b74292",
   "metadata": {},
   "outputs": [
    {
     "data": {
      "image/png": "[encoded data removed]",
      "text/plain": [
       "<Figure size 432x288 with 1 Axes>"
      ]
     },
     "metadata": {
      "needs_background": "light"
     },
     "output_type": "display_data"
    }
   ],
   "source": [
    "#### Detecção de outliers no eixo do Risco\n",
    "\n",
    "ax = sns.boxplot(data=df[['Risk', 'Return']], orient='h', palette='Set2')\n",
    "\n",
    "ax.set_xlabel('Risk', fontsize=16, labelpad=20)\n",
    "ax.set_ylabel('Variables', fontsize=16, labelpad=20)\n",
    "\n",
    "ax.set_title('Outliers detection: Risk and Return', fontsize=20)\n",
    "ax.tick_params(which='both', labelsize=16)"
   ]
  },
  {
   "cell_type": "code",
   "execution_count": 20,
   "id": "e948199f",
   "metadata": {},
   "outputs": [
    {
     "data": {
      "application/vnd.plotly.v1+json": {
       "config": {
        "plotlyServerURL": "https://plot.ly"
       },
       "data": [
        {
         "alignmentgroup": "True",
         "hovertemplate": "<b>%{hovertext}</b><br><br>Sector=Petróleo, Gás e Biocombustíveis<br>Risk=%{y}<extra></extra>",
         "hovertext": [
          "CSAN3.SA",
          "DMMO3.SA",
          "ENAT3.SA",
          "RPMG3.SA",
          "PETR4.SA",
          "PETR3.SA",
          "PRIO3.SA",
          "UGPA3.SA",
          "VBBR3.SA",
          "LUPA3.SA",
          "OSXB3.SA"
         ],
         "legendgroup": "Petróleo, Gás e Biocombustíveis",
         "marker": {
          "color": "#636efa"
         },
         "name": "Petróleo, Gás e Biocombustíveis",
         "notched": false,
         "offsetgroup": "Petróleo, Gás e Biocombustíveis",
         "orientation": "v",
         "showlegend": true,
         "type": "box",
         "x0": " ",
         "xaxis": "x",
         "y": [
          0.03380031491603314,
          0.0719801734327818,
          0.041396614016561126,
          0.059330808510857626,
          0.041665669316091225,
          0.043376188425177,
          0.06173724307314133,
          0.04212164095596907,
          0.0352608361636276,
          0.07501977526877883,
          0.14609749937399027
         ],
         "y0": " ",
         "yaxis": "y"
        },
        {
         "alignmentgroup": "True",
         "hovertemplate": "<b>%{hovertext}</b><br><br>Sector=Materiais Básicos<br>Risk=%{y}<extra></extra>",
         "hovertext": [
          "BRAP4.SA",
          "BRAP3.SA",
          "MMXM3.SA",
          "VALE3.SA",
          "FESA4.SA",
          "GGBR4.SA",
          "GGBR3.SA",
          "GOAU4.SA",
          "GOAU3.SA",
          "CSNA3.SA",
          "USIM3.SA",
          "PMAM3.SA",
          "DEXP3.SA",
          "FHER3.SA",
          "EUCA4.SA",
          "DXCO3.SA",
          "KLBN4.SA",
          "KLBN3.SA",
          "SUZB3.SA",
          "RANI3.SA"
         ],
         "legendgroup": "Materiais Básicos",
         "marker": {
          "color": "#EF553B"
         },
         "name": "Materiais Básicos",
         "notched": false,
         "offsetgroup": "Materiais Básicos",
         "orientation": "v",
         "showlegend": true,
         "type": "box",
         "x0": " ",
         "xaxis": "x",
         "y": [
          0.03120346193410951,
          0.0310163219081988,
          0.18514754117741364,
          0.03174023725655114,
          0.03339104841504144,
          0.03757240571224963,
          0.03263853984587228,
          0.03775058508881106,
          0.03354706373721956,
          0.045464405486523564,
          0.03821972197349418,
          0.05076972691175917,
          0.05836136324854447,
          0.06590082423609588,
          0.04472572346851277,
          0.04042197231951901,
          0.027920491190760673,
          0.02729400015377718,
          0.0323638438556725,
          0.04698720619694172
         ],
         "y0": " ",
         "yaxis": "y"
        },
        {
         "alignmentgroup": "True",
         "hovertemplate": "<b>%{hovertext}</b><br><br>Sector=Bens Industriais<br>Risk=%{y}<extra></extra>",
         "hovertext": [
          "ETER3.SA",
          "HAGA4.SA",
          "PTBL3.SA",
          "AZEV4.SA",
          "AZEV3.SA",
          "TCNO4.SA",
          "TCNO3.SA",
          "EMBR3.SA",
          "FRAS3.SA",
          "POMO4.SA",
          "POMO3.SA",
          "RAPT4.SA",
          "RCSL4.SA",
          "RCSL3.SA",
          "TUPY3.SA",
          "SHUL4.SA",
          "WEGE3.SA",
          "EALT4.SA",
          "ROMI3.SA",
          "INEP4.SA",
          "INEP3.SA",
          "KEPL3.SA",
          "MILS3.SA",
          "TASA4.SA",
          "TASA3.SA",
          "AZUL4.SA",
          "GOLL4.SA",
          "RAIL3.SA",
          "LOGN3.SA",
          "TGMA3.SA",
          "CCRO3.SA",
          "ECOR3.SA",
          "TPIS3.SA",
          "STBP3.SA",
          "ATMP3.SA",
          "PRNR3.SA",
          "VLID3.SA"
         ],
         "legendgroup": "Bens Industriais",
         "marker": {
          "color": "#00cc96"
         },
         "name": "Bens Industriais",
         "notched": false,
         "offsetgroup": "Bens Industriais",
         "orientation": "v",
         "showlegend": true,
         "type": "box",
         "x0": " ",
         "xaxis": "x",
         "y": [
          0.059253421839163094,
          0.039839597267224344,
          0.05109115652166385,
          0.06336700151223551,
          0.13029963715476378,
          0.05559461617923184,
          0.0672699191094197,
          0.04779447306928398,
          0.025629134529717504,
          0.038222294048385445,
          0.03488581340683302,
          0.04121497034801731,
          0.05316475639818075,
          0.06706861982469497,
          0.03373622978756791,
          0.03347882888052408,
          0.032798242182523564,
          0.033835690950536394,
          0.04744943057965356,
          0.06744395811294523,
          0.06382896370587668,
          0.023940127412819884,
          0.04513438745111048,
          0.051675004717315794,
          0.044574711335171095,
          0.0632933422812097,
          0.06327493305415818,
          0.03448736893656075,
          0.04782317985772623,
          0.04035838177022405,
          0.038154521010321824,
          0.04016230145984656,
          0.05997727580873473,
          0.0410560414408744,
          0.05513043197821813,
          0.036607810695035964,
          0.043132559925111315
         ],
         "y0": " ",
         "yaxis": "y"
        },
        {
         "alignmentgroup": "True",
         "hovertemplate": "<b>%{hovertext}</b><br><br>Sector=Consumo não Cíclico<br>Risk=%{y}<extra></extra>",
         "hovertext": [
          "AGRO3.SA",
          "SLCE3.SA",
          "SMTO3.SA",
          "BRFS3.SA",
          "JBSS3.SA",
          "MRFG3.SA",
          "BEEF3.SA",
          "CAML3.SA",
          "MDIA3.SA",
          "ABEV3.SA",
          "NTCO3.SA",
          "BOBR4.SA",
          "CRFB3.SA",
          "PCAR3.SA"
         ],
         "legendgroup": "Consumo não Cíclico",
         "marker": {
          "color": "#ab63fa"
         },
         "name": "Consumo não Cíclico",
         "notched": false,
         "offsetgroup": "Consumo não Cíclico",
         "orientation": "v",
         "showlegend": true,
         "type": "box",
         "x0": " ",
         "xaxis": "x",
         "y": [
          0.02427844857508746,
          0.025781828325207035,
          0.039043583006090926,
          0.03749253306719522,
          0.03430967990856735,
          0.03909920178799087,
          0.03362215445609201,
          0.02284065282344994,
          0.029063910508614125,
          0.027612172816454977,
          0.0386272972272231,
          0.03670230589931704,
          0.024813473359451485,
          0.08523813562825482
         ],
         "y0": " ",
         "yaxis": "y"
        },
        {
         "alignmentgroup": "True",
         "hovertemplate": "<b>%{hovertext}</b><br><br>Sector=Consumo Cíclico<br>Risk=%{y}<extra></extra>",
         "hovertext": [
          "CYRE3.SA",
          "DIRR3.SA",
          "EVEN3.SA",
          "EZTC3.SA",
          "GFSA3.SA",
          "HBOR3.SA",
          "JHSF3.SA",
          "JFEN3.SA",
          "MTRE3.SA",
          "MDNE3.SA",
          "MRVE3.SA",
          "PDGR3.SA",
          "RSID3.SA",
          "TCSA3.SA",
          "TEND3.SA",
          "TRIS3.SA",
          "VIVR3.SA",
          "CTSA4.SA",
          "CTSA3.SA",
          "SGPS3.SA",
          "ALPA4.SA",
          "CAMB3.SA",
          "GRND3.SA",
          "VULC3.SA",
          "TECN3.SA",
          "VIVA3.SA",
          "UCAS3.SA",
          "BKBR3.SA",
          "MEAL3.SA",
          "SHOW3.SA",
          "CVCB3.SA",
          "ANIM3.SA",
          "COGN3.SA",
          "SEER3.SA",
          "YDUQ3.SA",
          "RENT3.SA",
          "LCAM3.SA",
          "MOVI3.SA",
          "ARZZ3.SA",
          "CEAB3.SA",
          "GUAR3.SA",
          "LLIS3.SA",
          "AMAR3.SA",
          "LREN3.SA",
          "MGLU3.SA",
          "VIIA3.SA",
          "AMER3.SA",
          "SBFG3.SA"
         ],
         "legendgroup": "Consumo Cíclico",
         "marker": {
          "color": "#FFA15A"
         },
         "name": "Consumo Cíclico",
         "notched": false,
         "offsetgroup": "Consumo Cíclico",
         "orientation": "v",
         "showlegend": true,
         "type": "box",
         "x0": " ",
         "xaxis": "x",
         "y": [
          0.04542077027890224,
          0.03780480909365574,
          0.047899732671816644,
          0.04369627514739099,
          0.048468303614240635,
          0.05703803465041965,
          0.042873657293863755,
          0.08103861557832336,
          0.04111736809683996,
          0.05188602971415916,
          0.037546926624009144,
          0.055068819623208906,
          0.04912679949162121,
          0.04540589763528826,
          0.03591709309855373,
          0.04633482048588767,
          0.08443017514717913,
          0.05500966488058245,
          0.059304868619958775,
          0.05128008027950782,
          0.03825419106574617,
          0.03839871479655901,
          0.028134187224163158,
          0.03489351821328089,
          0.04834735450320257,
          0.04874945125315265,
          0.03836903830117869,
          0.04389202280201378,
          0.05078095200080944,
          0.05292420905433469,
          0.061661850831742984,
          0.03993930901614393,
          0.04789813801099107,
          0.039749789684483686,
          0.04491687590752722,
          0.04341859716131059,
          0.04588389493260313,
          0.041806339338782354,
          0.03494389377652245,
          0.04844854251850288,
          0.04700262313498619,
          0.05448119836747111,
          0.05826391609756534,
          0.03764073912993509,
          0.0407178219172634,
          0.05210522060781364,
          0.046460882113315644,
          0.04754698378628455
         ],
         "y0": " ",
         "yaxis": "y"
        },
        {
         "alignmentgroup": "True",
         "hovertemplate": "<b>%{hovertext}</b><br><br>Sector=Saúde<br>Risk=%{y}<extra></extra>",
         "hovertext": [
          "AALR3.SA",
          "DASA3.SA",
          "FLRY3.SA",
          "HAPV3.SA",
          "PARD3.SA",
          "ODPV3.SA",
          "QUAL3.SA",
          "PNVL3.SA",
          "HYPE3.SA",
          "PFRM3.SA",
          "RADL3.SA"
         ],
         "legendgroup": "Saúde",
         "marker": {
          "color": "#19d3f3"
         },
         "name": "Saúde",
         "notched": false,
         "offsetgroup": "Saúde",
         "orientation": "v",
         "showlegend": true,
         "type": "box",
         "x0": " ",
         "xaxis": "x",
         "y": [
          0.04116255266816659,
          0.05661340062963936,
          0.026181608786284886,
          0.03501157806425898,
          0.034006871959056405,
          0.024426948860494763,
          0.033444561932104225,
          0.030664096881038053,
          0.02970357386867155,
          5.603799805197022,
          0.0247619315468421
         ],
         "y0": " ",
         "yaxis": "y"
        },
        {
         "alignmentgroup": "True",
         "hovertemplate": "<b>%{hovertext}</b><br><br>Sector=Tecnologia da Informação<br>Risk=%{y}<extra></extra>",
         "hovertext": [
          "POSI3.SA",
          "LWSA3.SA",
          "PDTC3.SA",
          "SQIA3.SA",
          "TOTS3.SA"
         ],
         "legendgroup": "Tecnologia da Informação",
         "marker": {
          "color": "#FF6692"
         },
         "name": "Tecnologia da Informação",
         "notched": false,
         "offsetgroup": "Tecnologia da Informação",
         "orientation": "v",
         "showlegend": true,
         "type": "box",
         "x0": " ",
         "xaxis": "x",
         "y": [
          0.05891805941331725,
          0.0480896890989959,
          0.058548614351196564,
          0.03661606125788471,
          0.03505728126267308
         ],
         "y0": " ",
         "yaxis": "y"
        },
        {
         "alignmentgroup": "True",
         "hovertemplate": "<b>%{hovertext}</b><br><br>Sector=Comunicações<br>Risk=%{y}<extra></extra>",
         "hovertext": [
          "OIBR4.SA",
          "OIBR3.SA",
          "VIVT3.SA",
          "TIMS3.SA"
         ],
         "legendgroup": "Comunicações",
         "marker": {
          "color": "#B6E880"
         },
         "name": "Comunicações",
         "notched": false,
         "offsetgroup": "Comunicações",
         "orientation": "v",
         "showlegend": true,
         "type": "box",
         "x0": " ",
         "xaxis": "x",
         "y": [
          0.04798056956687184,
          0.04591070543220174,
          0.02356166410249832,
          0.02730774433489472
         ],
         "y0": " ",
         "yaxis": "y"
        },
        {
         "alignmentgroup": "True",
         "hovertemplate": "<b>%{hovertext}</b><br><br>Sector=Utilidade Pública<br>Risk=%{y}<extra></extra>",
         "hovertext": [
          "CMIG4.SA",
          "CMIG3.SA",
          "CPLE3.SA",
          "CPFE3.SA",
          "ELET3.SA",
          "ENBR3.SA",
          "ENEV3.SA",
          "EGIE3.SA",
          "EQTL3.SA",
          "LIGT3.SA",
          "NEOE3.SA",
          "RNEW4.SA",
          "RNEW3.SA",
          "TAEE4.SA",
          "TAEE3.SA",
          "TRPL4.SA",
          "CSMG3.SA",
          "SBSP3.SA",
          "SAPR4.SA",
          "SAPR3.SA"
         ],
         "legendgroup": "Utilidade Pública",
         "marker": {
          "color": "#FF97FF"
         },
         "name": "Utilidade Pública",
         "notched": false,
         "offsetgroup": "Utilidade Pública",
         "orientation": "v",
         "showlegend": true,
         "type": "box",
         "x0": " ",
         "xaxis": "x",
         "y": [
          0.03286751614653194,
          0.034738863662285374,
          0.03027119992849649,
          0.025663487515500915,
          0.04338207664417431,
          0.022644311461484674,
          0.030442295960421705,
          0.021007396868317603,
          0.02631642670939272,
          0.04265968413026124,
          0.027403225002898265,
          0.047960929438156684,
          0.0508531239425581,
          0.01853256166406714,
          0.01742049113081013,
          0.01895222229202607,
          0.030961884577303162,
          0.034553895636428696,
          0.028603655500101344,
          0.033055526933136986
         ],
         "y0": " ",
         "yaxis": "y"
        },
        {
         "alignmentgroup": "True",
         "hovertemplate": "<b>%{hovertext}</b><br><br>Sector=Financeiro<br>Risk=%{y}<extra></extra>",
         "hovertext": [
          "ABCB4.SA",
          "BMGB4.SA",
          "BPAN4.SA",
          "BBDC4.SA",
          "BBDC3.SA",
          "BBAS3.SA",
          "ITSA4.SA",
          "ITSA3.SA",
          "ITUB4.SA",
          "ITUB3.SA",
          "PINE4.SA",
          "SANB4.SA",
          "SANB3.SA",
          "B3SA3.SA",
          "CIEL3.SA",
          "CARD3.SA",
          "BBSE3.SA",
          "PSSA3.SA",
          "IRBR3.SA",
          "APER3.SA",
          "WIZS3.SA",
          "ALSO3.SA",
          "BRML3.SA",
          "BRPR3.SA",
          "IGTI3.SA",
          "LOGG3.SA",
          "MULT3.SA",
          "SYNE3.SA",
          "BBRK3.SA",
          "LPSB3.SA"
         ],
         "legendgroup": "Financeiro",
         "marker": {
          "color": "#FECB52"
         },
         "name": "Financeiro",
         "notched": false,
         "offsetgroup": "Financeiro",
         "orientation": "v",
         "showlegend": true,
         "type": "box",
         "x0": " ",
         "xaxis": "x",
         "y": [
          0.02825286034063901,
          0.03392425097735612,
          0.05370579111293311,
          0.03360517330846542,
          0.032149674819283894,
          0.03549182530924328,
          0.02601662280844868,
          0.01945002138301572,
          0.028645896309968364,
          0.02506738820117482,
          0.04446821509659155,
          0.03362616737020255,
          0.03304993528450994,
          0.03213093284893773,
          0.043588929948785604,
          0.03367380899967782,
          0.02396961265783474,
          0.023348388513631232,
          0.05815555802856498,
          0.043657797362703775,
          0.042406536914792056,
          0.04256484597597142,
          0.04012486117159099,
          0.030961387222619506,
          0.039978197861522756,
          0.04004420421601257,
          0.03915763031650789,
          0.036447167715575296,
          0.06926430775142987,
          0.05645485312270982
         ],
         "y0": " ",
         "yaxis": "y"
        },
        {
         "alignmentgroup": "True",
         "hovertemplate": "<b>%{hovertext}</b><br><br>Sector=Outros<br>Risk=%{y}<extra></extra>",
         "hovertext": [
          "ATOM3.SA",
          "BLUT4.SA",
          "BLUT3.SA"
         ],
         "legendgroup": "Outros",
         "marker": {
          "color": "#636efa"
         },
         "name": "Outros",
         "notched": false,
         "offsetgroup": "Outros",
         "orientation": "v",
         "showlegend": true,
         "type": "box",
         "x0": " ",
         "xaxis": "x",
         "y": [
          0.09061613658122969,
          0.08804809426152521,
          0.10354673901091718
         ],
         "y0": " ",
         "yaxis": "y"
        }
       ],
       "layout": {
        "boxmode": "group",
        "legend": {
         "title": {
          "text": "Sector"
         },
         "tracegroupgap": 0
        },
        "margin": {
         "t": 60
        },
        "template": {
         "data": {
          "bar": [
           {
            "error_x": {
             "color": "#2a3f5f"
            },
            "error_y": {
             "color": "#2a3f5f"
            },
            "marker": {
             "line": {
              "color": "#E5ECF6",
              "width": 0.5
             },
             "pattern": {
              "fillmode": "overlay",
              "size": 10,
              "solidity": 0.2
             }
            },
            "type": "bar"
           }
          ],
          "barpolar": [
           {
            "marker": {
             "line": {
              "color": "#E5ECF6",
              "width": 0.5
             },
             "pattern": {
              "fillmode": "overlay",
              "size": 10,
              "solidity": 0.2
             }
            },
            "type": "barpolar"
           }
          ],
          "carpet": [
           {
            "aaxis": {
             "endlinecolor": "#2a3f5f",
             "gridcolor": "white",
             "linecolor": "white",
             "minorgridcolor": "white",
             "startlinecolor": "#2a3f5f"
            },
            "baxis": {
             "endlinecolor": "#2a3f5f",
             "gridcolor": "white",
             "linecolor": "white",
             "minorgridcolor": "white",
             "startlinecolor": "#2a3f5f"
            },
            "type": "carpet"
           }
          ],
          "choropleth": [
           {
            "colorbar": {
             "outlinewidth": 0,
             "ticks": ""
            },
            "type": "choropleth"
           }
          ],
          "contour": [
           {
            "colorbar": {
             "outlinewidth": 0,
             "ticks": ""
            },
            "colorscale": [
             [
              0,
              "#0d0887"
             ],
             [
              0.1111111111111111,
              "#46039f"
             ],
             [
              0.2222222222222222,
              "#7201a8"
             ],
             [
              0.3333333333333333,
              "#9c179e"
             ],
             [
              0.4444444444444444,
              "#bd3786"
             ],
             [
              0.5555555555555556,
              "#d8576b"
             ],
             [
              0.6666666666666666,
              "#ed7953"
             ],
             [
              0.7777777777777778,
              "#fb9f3a"
             ],
             [
              0.8888888888888888,
              "#fdca26"
             ],
             [
              1,
              "#f0f921"
             ]
            ],
            "type": "contour"
           }
          ],
          "contourcarpet": [
           {
            "colorbar": {
             "outlinewidth": 0,
             "ticks": ""
            },
            "type": "contourcarpet"
           }
          ],
          "heatmap": [
           {
            "colorbar": {
             "outlinewidth": 0,
             "ticks": ""
            },
            "colorscale": [
             [
              0,
              "#0d0887"
             ],
             [
              0.1111111111111111,
              "#46039f"
             ],
             [
              0.2222222222222222,
              "#7201a8"
             ],
             [
              0.3333333333333333,
              "#9c179e"
             ],
             [
              0.4444444444444444,
              "#bd3786"
             ],
             [
              0.5555555555555556,
              "#d8576b"
             ],
             [
              0.6666666666666666,
              "#ed7953"
             ],
             [
              0.7777777777777778,
              "#fb9f3a"
             ],
             [
              0.8888888888888888,
              "#fdca26"
             ],
             [
              1,
              "#f0f921"
             ]
            ],
            "type": "heatmap"
           }
          ],
          "heatmapgl": [
           {
            "colorbar": {
             "outlinewidth": 0,
             "ticks": ""
            },
            "colorscale": [
             [
              0,
              "#0d0887"
             ],
             [
              0.1111111111111111,
              "#46039f"
             ],
             [
              0.2222222222222222,
              "#7201a8"
             ],
             [
              0.3333333333333333,
              "#9c179e"
             ],
             [
              0.4444444444444444,
              "#bd3786"
             ],
             [
              0.5555555555555556,
              "#d8576b"
             ],
             [
              0.6666666666666666,
              "#ed7953"
             ],
             [
              0.7777777777777778,
              "#fb9f3a"
             ],
             [
              0.8888888888888888,
              "#fdca26"
             ],
             [
              1,
              "#f0f921"
             ]
            ],
            "type": "heatmapgl"
           }
          ],
          "histogram": [
           {
            "marker": {
             "pattern": {
              "fillmode": "overlay",
              "size": 10,
              "solidity": 0.2
             }
            },
            "type": "histogram"
           }
          ],
          "histogram2d": [
           {
            "colorbar": {
             "outlinewidth": 0,
             "ticks": ""
            },
            "colorscale": [
             [
              0,
              "#0d0887"
             ],
             [
              0.1111111111111111,
              "#46039f"
             ],
             [
              0.2222222222222222,
              "#7201a8"
             ],
             [
              0.3333333333333333,
              "#9c179e"
             ],
             [
              0.4444444444444444,
              "#bd3786"
             ],
             [
              0.5555555555555556,
              "#d8576b"
             ],
             [
              0.6666666666666666,
              "#ed7953"
             ],
             [
              0.7777777777777778,
              "#fb9f3a"
             ],
             [
              0.8888888888888888,
              "#fdca26"
             ],
             [
              1,
              "#f0f921"
             ]
            ],
            "type": "histogram2d"
           }
          ],
          "histogram2dcontour": [
           {
            "colorbar": {
             "outlinewidth": 0,
             "ticks": ""
            },
            "colorscale": [
             [
              0,
              "#0d0887"
             ],
             [
              0.1111111111111111,
              "#46039f"
             ],
             [
              0.2222222222222222,
              "#7201a8"
             ],
             [
              0.3333333333333333,
              "#9c179e"
             ],
             [
              0.4444444444444444,
              "#bd3786"
             ],
             [
              0.5555555555555556,
              "#d8576b"
             ],
             [
              0.6666666666666666,
              "#ed7953"
             ],
             [
              0.7777777777777778,
              "#fb9f3a"
             ],
             [
              0.8888888888888888,
              "#fdca26"
             ],
             [
              1,
              "#f0f921"
             ]
            ],
            "type": "histogram2dcontour"
           }
          ],
          "mesh3d": [
           {
            "colorbar": {
             "outlinewidth": 0,
             "ticks": ""
            },
            "type": "mesh3d"
           }
          ],
          "parcoords": [
           {
            "line": {
             "colorbar": {
              "outlinewidth": 0,
              "ticks": ""
             }
            },
            "type": "parcoords"
           }
          ],
          "pie": [
           {
            "automargin": true,
            "type": "pie"
           }
          ],
          "scatter": [
           {
            "marker": {
             "colorbar": {
              "outlinewidth": 0,
              "ticks": ""
             }
            },
            "type": "scatter"
           }
          ],
          "scatter3d": [
           {
            "line": {
             "colorbar": {
              "outlinewidth": 0,
              "ticks": ""
             }
            },
            "marker": {
             "colorbar": {
              "outlinewidth": 0,
              "ticks": ""
             }
            },
            "type": "scatter3d"
           }
          ],
          "scattercarpet": [
           {
            "marker": {
             "colorbar": {
              "outlinewidth": 0,
              "ticks": ""
             }
            },
            "type": "scattercarpet"
           }
          ],
          "scattergeo": [
           {
            "marker": {
             "colorbar": {
              "outlinewidth": 0,
              "ticks": ""
             }
            },
            "type": "scattergeo"
           }
          ],
          "scattergl": [
           {
            "marker": {
             "colorbar": {
              "outlinewidth": 0,
              "ticks": ""
             }
            },
            "type": "scattergl"
           }
          ],
          "scattermapbox": [
           {
            "marker": {
             "colorbar": {
              "outlinewidth": 0,
              "ticks": ""
             }
            },
            "type": "scattermapbox"
           }
          ],
          "scatterpolar": [
           {
            "marker": {
             "colorbar": {
              "outlinewidth": 0,
              "ticks": ""
             }
            },
            "type": "scatterpolar"
           }
          ],
          "scatterpolargl": [
           {
            "marker": {
             "colorbar": {
              "outlinewidth": 0,
              "ticks": ""
             }
            },
            "type": "scatterpolargl"
           }
          ],
          "scatterternary": [
           {
            "marker": {
             "colorbar": {
              "outlinewidth": 0,
              "ticks": ""
             }
            },
            "type": "scatterternary"
           }
          ],
          "surface": [
           {
            "colorbar": {
             "outlinewidth": 0,
             "ticks": ""
            },
            "colorscale": [
             [
              0,
              "#0d0887"
             ],
             [
              0.1111111111111111,
              "#46039f"
             ],
             [
              0.2222222222222222,
              "#7201a8"
             ],
             [
              0.3333333333333333,
              "#9c179e"
             ],
             [
              0.4444444444444444,
              "#bd3786"
             ],
             [
              0.5555555555555556,
              "#d8576b"
             ],
             [
              0.6666666666666666,
              "#ed7953"
             ],
             [
              0.7777777777777778,
              "#fb9f3a"
             ],
             [
              0.8888888888888888,
              "#fdca26"
             ],
             [
              1,
              "#f0f921"
             ]
            ],
            "type": "surface"
           }
          ],
          "table": [
           {
            "cells": {
             "fill": {
              "color": "#EBF0F8"
             },
             "line": {
              "color": "white"
             }
            },
            "header": {
             "fill": {
              "color": "#C8D4E3"
             },
             "line": {
              "color": "white"
             }
            },
            "type": "table"
           }
          ]
         },
         "layout": {
          "annotationdefaults": {
           "arrowcolor": "#2a3f5f",
           "arrowhead": 0,
           "arrowwidth": 1
          },
          "autotypenumbers": "strict",
          "coloraxis": {
           "colorbar": {
            "outlinewidth": 0,
            "ticks": ""
           }
          },
          "colorscale": {
           "diverging": [
            [
             0,
             "#8e0152"
            ],
            [
             0.1,
             "#c51b7d"
            ],
            [
             0.2,
             "#de77ae"
            ],
            [
             0.3,
             "#f1b6da"
            ],
            [
             0.4,
             "#fde0ef"
            ],
            [
             0.5,
             "#f7f7f7"
            ],
            [
             0.6,
             "#e6f5d0"
            ],
            [
             0.7,
             "#b8e186"
            ],
            [
             0.8,
             "#7fbc41"
            ],
            [
             0.9,
             "#4d9221"
            ],
            [
             1,
             "#276419"
            ]
           ],
           "sequential": [
            [
             0,
             "#0d0887"
            ],
            [
             0.1111111111111111,
             "#46039f"
            ],
            [
             0.2222222222222222,
             "#7201a8"
            ],
            [
             0.3333333333333333,
             "#9c179e"
            ],
            [
             0.4444444444444444,
             "#bd3786"
            ],
            [
             0.5555555555555556,
             "#d8576b"
            ],
            [
             0.6666666666666666,
             "#ed7953"
            ],
            [
             0.7777777777777778,
             "#fb9f3a"
            ],
            [
             0.8888888888888888,
             "#fdca26"
            ],
            [
             1,
             "#f0f921"
            ]
           ],
           "sequentialminus": [
            [
             0,
             "#0d0887"
            ],
            [
             0.1111111111111111,
             "#46039f"
            ],
            [
             0.2222222222222222,
             "#7201a8"
            ],
            [
             0.3333333333333333,
             "#9c179e"
            ],
            [
             0.4444444444444444,
             "#bd3786"
            ],
            [
             0.5555555555555556,
             "#d8576b"
            ],
            [
             0.6666666666666666,
             "#ed7953"
            ],
            [
             0.7777777777777778,
             "#fb9f3a"
            ],
            [
             0.8888888888888888,
             "#fdca26"
            ],
            [
             1,
             "#f0f921"
            ]
           ]
          },
          "colorway": [
           "#636efa",
           "#EF553B",
           "#00cc96",
           "#ab63fa",
           "#FFA15A",
           "#19d3f3",
           "#FF6692",
           "#B6E880",
           "#FF97FF",
           "#FECB52"
          ],
          "font": {
           "color": "#2a3f5f"
          },
          "geo": {
           "bgcolor": "white",
           "lakecolor": "white",
           "landcolor": "#E5ECF6",
           "showlakes": true,
           "showland": true,
           "subunitcolor": "white"
          },
          "hoverlabel": {
           "align": "left"
          },
          "hovermode": "closest",
          "mapbox": {
           "style": "light"
          },
          "paper_bgcolor": "white",
          "plot_bgcolor": "#E5ECF6",
          "polar": {
           "angularaxis": {
            "gridcolor": "white",
            "linecolor": "white",
            "ticks": ""
           },
           "bgcolor": "#E5ECF6",
           "radialaxis": {
            "gridcolor": "white",
            "linecolor": "white",
            "ticks": ""
           }
          },
          "scene": {
           "xaxis": {
            "backgroundcolor": "#E5ECF6",
            "gridcolor": "white",
            "gridwidth": 2,
            "linecolor": "white",
            "showbackground": true,
            "ticks": "",
            "zerolinecolor": "white"
           },
           "yaxis": {
            "backgroundcolor": "#E5ECF6",
            "gridcolor": "white",
            "gridwidth": 2,
            "linecolor": "white",
            "showbackground": true,
            "ticks": "",
            "zerolinecolor": "white"
           },
           "zaxis": {
            "backgroundcolor": "#E5ECF6",
            "gridcolor": "white",
            "gridwidth": 2,
            "linecolor": "white",
            "showbackground": true,
            "ticks": "",
            "zerolinecolor": "white"
           }
          },
          "shapedefaults": {
           "line": {
            "color": "#2a3f5f"
           }
          },
          "ternary": {
           "aaxis": {
            "gridcolor": "white",
            "linecolor": "white",
            "ticks": ""
           },
           "baxis": {
            "gridcolor": "white",
            "linecolor": "white",
            "ticks": ""
           },
           "bgcolor": "#E5ECF6",
           "caxis": {
            "gridcolor": "white",
            "linecolor": "white",
            "ticks": ""
           }
          },
          "title": {
           "x": 0.05
          },
          "xaxis": {
           "automargin": true,
           "gridcolor": "white",
           "linecolor": "white",
           "ticks": "",
           "title": {
            "standoff": 15
           },
           "zerolinecolor": "white",
           "zerolinewidth": 2
          },
          "yaxis": {
           "automargin": true,
           "gridcolor": "white",
           "linecolor": "white",
           "ticks": "",
           "title": {
            "standoff": 15
           },
           "zerolinecolor": "white",
           "zerolinewidth": 2
          }
         }
        },
        "xaxis": {
         "anchor": "y",
         "domain": [
          0,
          1
         ]
        },
        "yaxis": {
         "anchor": "x",
         "domain": [
          0,
          1
         ],
         "title": {
          "text": "Risk"
         }
        }
       }
      }
     },
     "metadata": {},
     "output_type": "display_data"
    }
   ],
   "source": [
    "#### Detecção de outliers no eixo do Risco, por Setor\n",
    "px.box(df, y=\"Risk\", color=\"Sector\", hover_name='Stock')"
   ]
  },
  {
   "cell_type": "code",
   "execution_count": 21,
   "id": "05438498",
   "metadata": {},
   "outputs": [
    {
     "name": "stderr",
     "output_type": "stream",
     "text": [
      "/home/durval/faculdade/2022-01/sinais-financeiros/trabalho-grupo/env/lib/python3.8/site-packages/sklearn/base.py:450: UserWarning:\n",
      "\n",
      "X does not have valid feature names, but IsolationForest was fitted with feature names\n",
      "\n"
     ]
    },
    {
     "data": {
      "application/vnd.plotly.v1+json": {
       "config": {
        "plotlyServerURL": "https://plot.ly"
       },
       "data": [
        {
         "customdata": [
          [
           "Petróleo, Gás e Biocombustíveis",
           "Petróleo, Gás e Biocombustíveis",
           "Exploração, Refino e Distribuição",
           0.038508854706905474
          ],
          [
           "Petróleo, Gás e Biocombustíveis",
           "Petróleo, Gás e Biocombustíveis",
           "Exploração, Refino e Distribuição",
           0.008362890110629727
          ],
          [
           "Petróleo, Gás e Biocombustíveis",
           "Petróleo, Gás e Biocombustíveis",
           "Exploração, Refino e Distribuição",
           0.040256529229177135
          ],
          [
           "Petróleo, Gás e Biocombustíveis",
           "Petróleo, Gás e Biocombustíveis",
           "Exploração, Refino e Distribuição",
           0.04193868171625743
          ],
          [
           "Petróleo, Gás e Biocombustíveis",
           "Petróleo, Gás e Biocombustíveis",
           "Exploração, Refino e Distribuição",
           0.028969337306252924
          ],
          [
           "Petróleo, Gás e Biocombustíveis",
           "Petróleo, Gás e Biocombustíveis",
           "Exploração, Refino e Distribuição",
           0.026680696359251833
          ],
          [
           "Petróleo, Gás e Biocombustíveis",
           "Petróleo, Gás e Biocombustíveis",
           "Exploração, Refino e Distribuição",
           0.07242836116693716
          ],
          [
           "Petróleo, Gás e Biocombustíveis",
           "Petróleo, Gás e Biocombustíveis",
           "Exploração, Refino e Distribuição",
           0.01653651887884505
          ],
          [
           "Petróleo, Gás e Biocombustíveis",
           "Petróleo, Gás e Biocombustíveis",
           "Exploração, Refino e Distribuição",
           0.016951347268591252
          ],
          [
           "Petróleo, Gás e Biocombustíveis",
           "Petróleo, Gás e Biocombustíveis",
           "Equipamentos e Serviços",
           0.0680170343134756
          ],
          [
           "Materiais Básicos",
           "Mineração",
           "Minerais Metálicos",
           0.09184830543604683
          ],
          [
           "Materiais Básicos",
           "Mineração",
           "Minerais Metálicos",
           0.07906663660858305
          ],
          [
           "Materiais Básicos",
           "Mineração",
           "Minerais Metálicos",
           0.10214723202407357
          ],
          [
           "Materiais Básicos",
           "Siderurgia e Metalurgia",
           "Siderurgia",
           0.09472221364514766
          ],
          [
           "Materiais Básicos",
           "Siderurgia e Metalurgia",
           "Siderurgia",
           0.0650389802623718
          ],
          [
           "Materiais Básicos",
           "Siderurgia e Metalurgia",
           "Siderurgia",
           0.06576115346282833
          ],
          [
           "Materiais Básicos",
           "Siderurgia e Metalurgia",
           "Siderurgia",
           0.06323263356907835
          ],
          [
           "Materiais Básicos",
           "Siderurgia e Metalurgia",
           "Siderurgia",
           0.06589990346412403
          ],
          [
           "Materiais Básicos",
           "Siderurgia e Metalurgia",
           "Siderurgia",
           0.11063705056478788
          ],
          [
           "Materiais Básicos",
           "Siderurgia e Metalurgia",
           "Siderurgia",
           0.07839313162426038
          ],
          [
           "Materiais Básicos",
           "Siderurgia e Metalurgia",
           "Artefatos de Cobre",
           0.006652363933211259
          ],
          [
           "Materiais Básicos",
           "Químicos",
           "Petroquímicos",
           0.11944350779825022
          ],
          [
           "Materiais Básicos",
           "Químicos",
           "Fertilizantes e Defensivos",
           0.10943250328511317
          ],
          [
           "Materiais Básicos",
           "Madeira e Papel",
           "Madeira",
           0.042538653695568335
          ],
          [
           "Materiais Básicos",
           "Madeira e Papel",
           "Madeira",
           0.04091395152500092
          ],
          [
           "Materiais Básicos",
           "Madeira e Papel",
           "Papel e Celulose",
           0.035074792086191735
          ],
          [
           "Materiais Básicos",
           "Madeira e Papel",
           "Papel e Celulose",
           0.06238372824388588
          ],
          [
           "Materiais Básicos",
           "Madeira e Papel",
           "Papel e Celulose",
           0.05621243475974307
          ],
          [
           "Materiais Básicos",
           "Embalagens",
           "Embalagens",
           0.06284856879137427
          ],
          [
           "Bens Industriais",
           "Construção e Engenharia",
           "Produtos para Construção",
           0.10425534796591923
          ],
          [
           "Bens Industriais",
           "Construção e Engenharia",
           "Produtos para Construção",
           0.051693409825271736
          ],
          [
           "Bens Industriais",
           "Construção e Engenharia",
           "Produtos para Construção",
           0.09255261290765203
          ],
          [
           "Bens Industriais",
           "Construção e Engenharia",
           "Construção Pesada",
           0.06688287311077543
          ],
          [
           "Bens Industriais",
           "Construção e Engenharia",
           "Engenharia Consultiva",
           0.09022076814187081
          ],
          [
           "Bens Industriais",
           "Construção e Engenharia",
           "Engenharia Consultiva",
           0.06270978545502866
          ],
          [
           "Bens Industriais",
           "Material de Transporte",
           "Material Aeronáutico e de Defesa",
           0.029258336236747066
          ],
          [
           "Bens Industriais",
           "Material de Transporte",
           "Material Rodoviário",
           0.09889350506975722
          ],
          [
           "Bens Industriais",
           "Material de Transporte",
           "Material Rodoviário",
           -0.015979316205413308
          ],
          [
           "Bens Industriais",
           "Material de Transporte",
           "Material Rodoviário",
           -0.01467498782112532
          ],
          [
           "Bens Industriais",
           "Material de Transporte",
           "Material Rodoviário",
           0.033660603598766145
          ],
          [
           "Bens Industriais",
           "Material de Transporte",
           "Material Rodoviário",
           0.03352294068330473
          ],
          [
           "Bens Industriais",
           "Material de Transporte",
           "Material Rodoviário",
           0.07370054347627945
          ],
          [
           "Bens Industriais",
           "Material de Transporte",
           "Material Rodoviário",
           0.023129553206331453
          ],
          [
           "Bens Industriais",
           "Máquinas e Equipamentos",
           "Motores, Compressores e Outros",
           0.04752724541728268
          ],
          [
           "Bens Industriais",
           "Máquinas e Equipamentos",
           "Motores, Compressores e Outros",
           0.053462751134687875
          ],
          [
           "Bens Industriais",
           "Máquinas e Equipamentos",
           "Máq. e Equip. Industriais",
           0.029613746455536195
          ],
          [
           "Bens Industriais",
           "Máquinas e Equipamentos",
           "Máq. e Equip. Industriais",
           0.06097179258252048
          ],
          [
           "Bens Industriais",
           "Máquinas e Equipamentos",
           "Máq. e Equip. Industriais",
           0.09800963429970157
          ],
          [
           "Bens Industriais",
           "Máquinas e Equipamentos",
           "Máq. e Equip. Industriais",
           0.018325970303421216
          ],
          [
           "Bens Industriais",
           "Máquinas e Equipamentos",
           "Armas e Munições",
           0.12078324867343905
          ],
          [
           "Bens Industriais",
           "Máquinas e Equipamentos",
           "Armas e Munições",
           0.14021399725365125
          ],
          [
           "Bens Industriais",
           "Transporte",
           "Transporte Aéreo",
           0.03253117036157908
          ],
          [
           "Bens Industriais",
           "Transporte",
           "Transporte Aéreo",
           0.02670146299962774
          ],
          [
           "Bens Industriais",
           "Transporte",
           "Transporte Ferroviário",
           0.007834067672404701
          ],
          [
           "Bens Industriais",
           "Transporte",
           "Transporte Hidroviário",
           0.018826118180281907
          ],
          [
           "Bens Industriais",
           "Transporte",
           "Transporte Rodoviário",
           -0.009667521715507409
          ],
          [
           "Bens Industriais",
           "Transporte",
           "Exploração de Rodovias",
           0.0004310431656465107
          ],
          [
           "Bens Industriais",
           "Transporte",
           "Exploração de Rodovias",
           -0.0041667293849636565
          ],
          [
           "Bens Industriais",
           "Transporte",
           "Exploração de Rodovias",
           0.06725743931876409
          ],
          [
           "Bens Industriais",
           "Transporte",
           "Serviços de Apoio e Armazenagem",
           0.04765672778497421
          ],
          [
           "Bens Industriais",
           "Serviços Diversos",
           "Serviços Diversos",
           0.0269221494488763
          ],
          [
           "Bens Industriais",
           "Serviços Diversos",
           "Serviços Diversos",
           -0.009179164084942909
          ],
          [
           "Bens Industriais",
           "Serviços Diversos",
           "Serviços Diversos",
           -0.0014326472995977548
          ],
          [
           "Consumo não Cíclico",
           "Agropecuária",
           "Agricultura",
           0.06484935186006391
          ],
          [
           "Consumo não Cíclico",
           "Agropecuária",
           "Agricultura",
           0.1143999721314629
          ],
          [
           "Consumo não Cíclico",
           "Alimentos Processados",
           "Açucar e Alcool",
           0.039557812662916636
          ],
          [
           "Consumo não Cíclico",
           "Alimentos Processados",
           "Carnes e Derivados",
           0.01625291675934037
          ],
          [
           "Consumo não Cíclico",
           "Alimentos Processados",
           "Carnes e Derivados",
           0.035344168551949565
          ],
          [
           "Consumo não Cíclico",
           "Alimentos Processados",
           "Carnes e Derivados",
           0.05104185416064829
          ],
          [
           "Consumo não Cíclico",
           "Alimentos Processados",
           "Carnes e Derivados",
           -0.005641162038184122
          ],
          [
           "Consumo não Cíclico",
           "Alimentos Processados",
           "Alimentos Diversos",
           0.020962473009012637
          ],
          [
           "Consumo não Cíclico",
           "Alimentos Processados",
           "Alimentos Diversos",
           -0.019134179758205434
          ],
          [
           "Consumo não Cíclico",
           "Bebidas",
           "Cervejas e Refrigerantes",
           0.03193843724076421
          ],
          [
           "Consumo não Cíclico",
           "Produtos de Uso Pessoal e de Limpeza",
           "Produtos de Uso Pessoal",
           0.03816831028813432
          ],
          [
           "Consumo não Cíclico",
           "Produtos de Uso Pessoal e de Limpeza",
           "Produtos de Limpeza",
           0.03672191707929004
          ],
          [
           "Consumo não Cíclico",
           "Comércio e Distribuição",
           "Alimentos",
           0.010223471854724503
          ],
          [
           "Consumo não Cíclico",
           "Comércio e Distribuição",
           "Alimentos",
           0.03785359245847213
          ],
          [
           "Consumo Cíclico",
           "Construção Civil",
           "Incorporações",
           0.003674190115973303
          ],
          [
           "Consumo Cíclico",
           "Construção Civil",
           "Incorporações",
           0.011997910996564146
          ],
          [
           "Consumo Cíclico",
           "Construção Civil",
           "Incorporações",
           0.0033129290569117267
          ],
          [
           "Consumo Cíclico",
           "Construção Civil",
           "Incorporações",
           -0.008517493766575469
          ],
          [
           "Consumo Cíclico",
           "Construção Civil",
           "Incorporações",
           0.0024238047193994084
          ],
          [
           "Consumo Cíclico",
           "Construção Civil",
           "Incorporações",
           -0.013100882375175841
          ],
          [
           "Consumo Cíclico",
           "Construção Civil",
           "Incorporações",
           0.025031767796031945
          ],
          [
           "Consumo Cíclico",
           "Construção Civil",
           "Incorporações",
           0.029861337256817323
          ],
          [
           "Consumo Cíclico",
           "Construção Civil",
           "Incorporações",
           -0.005204761443820246
          ],
          [
           "Consumo Cíclico",
           "Construção Civil",
           "Incorporações",
           -0.0008610222653292621
          ],
          [
           "Consumo Cíclico",
           "Construção Civil",
           "Incorporações",
           0.005113727791130952
          ],
          [
           "Consumo Cíclico",
           "Construção Civil",
           "Incorporações",
           0.033611559360374646
          ],
          [
           "Consumo Cíclico",
           "Construção Civil",
           "Incorporações",
           0.040375604174712455
          ],
          [
           "Consumo Cíclico",
           "Construção Civil",
           "Incorporações",
           -0.019453595131508277
          ],
          [
           "Consumo Cíclico",
           "Construção Civil",
           "Incorporações",
           -0.014670132848263542
          ],
          [
           "Consumo Cíclico",
           "Construção Civil",
           "Incorporações",
           -0.006080909957250878
          ],
          [
           "Consumo Cíclico",
           "Construção Civil",
           "Incorporações",
           0.0728848236280769
          ],
          [
           "Consumo Cíclico",
           "Tecidos, Vestuário e Calçados",
           "Fios e Tecidos",
           0.03608564287272514
          ],
          [
           "Consumo Cíclico",
           "Tecidos, Vestuário e Calçados",
           "Fios e Tecidos",
           -0.0107115326592106
          ],
          [
           "Consumo Cíclico",
           "Tecidos, Vestuário e Calçados",
           "Fios e Tecidos",
           0.02133297210082493
          ],
          [
           "Consumo Cíclico",
           "Tecidos, Vestuário e Calçados",
           "Calçados",
           0.054813975357921305
          ],
          [
           "Consumo Cíclico",
           "Tecidos, Vestuário e Calçados",
           "Calçados",
           0.008210219685752243
          ],
          [
           "Consumo Cíclico",
           "Tecidos, Vestuário e Calçados",
           "Calçados",
           0.01559469667698785
          ],
          [
           "Consumo Cíclico",
           "Tecidos, Vestuário e Calçados",
           "Calçados",
           0.033424788630950726
          ],
          [
           "Consumo Cíclico",
           "Tecidos, Vestuário e Calçados",
           "Acessórios",
           0.04155497682124568
          ],
          [
           "Consumo Cíclico",
           "Tecidos, Vestuário e Calçados",
           "Acessórios",
           0.03568092919106794
          ],
          [
           "Consumo Cíclico",
           "Utilidades Domésticas",
           "Móveis",
           0.015243712338652885
          ],
          [
           "Consumo Cíclico",
           "Hoteis e Restaurantes",
           "Restaurante e Similares",
           0.009364793617791438
          ],
          [
           "Consumo Cíclico",
           "Hoteis e Restaurantes",
           "Restaurante e Similares",
           -0.014832919275426976
          ],
          [
           "Consumo Cíclico",
           "Viagens e Lazer",
           "Produção de Eventos e Shows",
           0.044773543772306856
          ],
          [
           "Consumo Cíclico",
           "Viagens e Lazer",
           "Viagens e Turismo",
           0.044871964955144145
          ],
          [
           "Consumo Cíclico",
           "Diversos",
           "Serviços Educacionais",
           0.03315664581951889
          ],
          [
           "Consumo Cíclico",
           "Diversos",
           "Serviços Educacionais",
           -0.02887375625353139
          ],
          [
           "Consumo Cíclico",
           "Diversos",
           "Serviços Educacionais",
           -0.007171877898546134
          ],
          [
           "Consumo Cíclico",
           "Diversos",
           "Serviços Educacionais",
           -0.005566364501701944
          ],
          [
           "Consumo Cíclico",
           "Diversos",
           "Aluguel de carros",
           0.04004123651728125
          ],
          [
           "Consumo Cíclico",
           "Diversos",
           "Aluguel de carros",
           0.040442788734957734
          ],
          [
           "Consumo Cíclico",
           "Diversos",
           "Aluguel de carros",
           0.024618161875087762
          ],
          [
           "Consumo Cíclico",
           "Comércio",
           "Tecidos, Vestuário e Calçados",
           0.05848418634878517
          ],
          [
           "Consumo Cíclico",
           "Comércio",
           "Tecidos, Vestuário e Calçados",
           0.01943799732165089
          ],
          [
           "Consumo Cíclico",
           "Comércio",
           "Tecidos, Vestuário e Calçados",
           0.005381362873752119
          ],
          [
           "Consumo Cíclico",
           "Comércio",
           "Tecidos, Vestuário e Calçados",
           -0.04697316774553543
          ],
          [
           "Consumo Cíclico",
           "Comércio",
           "Tecidos, Vestuário e Calçados",
           0.008227876960123674
          ],
          [
           "Consumo Cíclico",
           "Comércio",
           "Tecidos, Vestuário e Calçados",
           -0.0030936613083084492
          ],
          [
           "Consumo Cíclico",
           "Comércio",
           "Eletrodomésticos",
           0.05841228624599858
          ],
          [
           "Consumo Cíclico",
           "Comércio",
           "Eletrodomésticos",
           0.03346379842115885
          ],
          [
           "Consumo Cíclico",
           "Comércio",
           "Produtos Diversos",
           0.02814997870545092
          ],
          [
           "Consumo Cíclico",
           "Comércio",
           "Produtos Diversos",
           0.010128571675314769
          ],
          [
           "Saúde",
           "Serviços Médico - Hospitalares, Análises e Diagnósticos",
           "Serviços Médico - Hospitalares, Análises e Diagnósticos",
           -0.02256527465239982
          ],
          [
           "Saúde",
           "Serviços Médico - Hospitalares, Análises e Diagnósticos",
           "Serviços Médico - Hospitalares, Análises e Diagnósticos",
           0.02274847486678363
          ],
          [
           "Saúde",
           "Serviços Médico - Hospitalares, Análises e Diagnósticos",
           "Serviços Médico - Hospitalares, Análises e Diagnósticos",
           -0.005704850337724565
          ],
          [
           "Saúde",
           "Serviços Médico - Hospitalares, Análises e Diagnósticos",
           "Serviços Médico - Hospitalares, Análises e Diagnósticos",
           0.04897518132401412
          ],
          [
           "Saúde",
           "Serviços Médico - Hospitalares, Análises e Diagnósticos",
           "Serviços Médico - Hospitalares, Análises e Diagnósticos",
           -0.013971832053721935
          ],
          [
           "Saúde",
           "Serviços Médico - Hospitalares, Análises e Diagnósticos",
           "Serviços Médico - Hospitalares, Análises e Diagnósticos",
           -0.01803153647655782
          ],
          [
           "Saúde",
           "Serviços Médico - Hospitalares, Análises e Diagnósticos",
           "Serviços Médico - Hospitalares, Análises e Diagnósticos",
           -0.0005039361171478347
          ],
          [
           "Saúde",
           "Comércio e Distribuição",
           "Medicamentos e Outros Produtos",
           -0.006548156771667554
          ],
          [
           "Saúde",
           "Comércio e Distribuição",
           "Medicamentos e Outros Produtos",
           0.0003790050071801198
          ],
          [
           "Saúde",
           "Comércio e Distribuição",
           "Medicamentos e Outros Produtos",
           0.01310087094348409
          ],
          [
           "Tecnologia da Informação",
           "Computadores e Equipamentos",
           "Computadores e Equipamentos",
           0.05958776804181685
          ],
          [
           "Tecnologia da Informação",
           "Programas e Serviços",
           "Programas e Serviços",
           0.12249603172738256
          ],
          [
           "Tecnologia da Informação",
           "Programas e Serviços",
           "Programas e Serviços",
           0.06859042539833458
          ],
          [
           "Tecnologia da Informação",
           "Programas e Serviços",
           "Programas e Serviços",
           0.021425640219480322
          ],
          [
           "Tecnologia da Informação",
           "Programas e Serviços",
           "Programas e Serviços",
           0.05415601906918931
          ],
          [
           "Comunicações",
           "Telecomunicações",
           "Telecomunicações",
           0.05261617984290388
          ],
          [
           "Comunicações",
           "Telecomunicações",
           "Telecomunicações",
           0.05055564301788258
          ],
          [
           "Comunicações",
           "Telecomunicações",
           "Telecomunicações",
           -0.013478865341192492
          ],
          [
           "Comunicações",
           "Telecomunicações",
           "Telecomunicações",
           -0.02586733156899394
          ],
          [
           "Utilidade Pública",
           "Energia Elétrica",
           "Energia Elétrica",
           0.015641948109534676
          ],
          [
           "Utilidade Pública",
           "Energia Elétrica",
           "Energia Elétrica",
           0.028162533100158885
          ],
          [
           "Utilidade Pública",
           "Energia Elétrica",
           "Energia Elétrica",
           -0.022583847098998737
          ],
          [
           "Utilidade Pública",
           "Energia Elétrica",
           "Energia Elétrica",
           -0.02457866856039164
          ],
          [
           "Utilidade Pública",
           "Energia Elétrica",
           "Energia Elétrica",
           0.03695478847554201
          ],
          [
           "Utilidade Pública",
           "Energia Elétrica",
           "Energia Elétrica",
           -0.00988757572147409
          ],
          [
           "Utilidade Pública",
           "Energia Elétrica",
           "Energia Elétrica",
           0.05601076119302856
          ],
          [
           "Utilidade Pública",
           "Energia Elétrica",
           "Energia Elétrica",
           -0.019486280804919043
          ],
          [
           "Utilidade Pública",
           "Energia Elétrica",
           "Energia Elétrica",
           0.009088817457336142
          ],
          [
           "Utilidade Pública",
           "Energia Elétrica",
           "Energia Elétrica",
           -0.004208577733160726
          ],
          [
           "Utilidade Pública",
           "Energia Elétrica",
           "Energia Elétrica",
           -0.024419337670652744
          ],
          [
           "Utilidade Pública",
           "Energia Elétrica",
           "Energia Elétrica",
           0.030364484174388008
          ],
          [
           "Utilidade Pública",
           "Energia Elétrica",
           "Energia Elétrica",
           0.02221694274834147
          ],
          [
           "Utilidade Pública",
           "Energia Elétrica",
           "Energia Elétrica",
           0.04569897550285967
          ],
          [
           "Utilidade Pública",
           "Energia Elétrica",
           "Energia Elétrica",
           0.045962515518647246
          ],
          [
           "Utilidade Pública",
           "Energia Elétrica",
           "Energia Elétrica",
           0.029981538556535382
          ],
          [
           "Utilidade Pública",
           "Água e Saneamento",
           "Água e Saneamento",
           -0.009886707603097403
          ],
          [
           "Utilidade Pública",
           "Água e Saneamento",
           "Água e Saneamento",
           -0.026381456988841537
          ],
          [
           "Utilidade Pública",
           "Água e Saneamento",
           "Água e Saneamento",
           -0.04202859597866896
          ],
          [
           "Utilidade Pública",
           "Água e Saneamento",
           "Água e Saneamento",
           -0.035122286533170045
          ],
          [
           "Financeiro",
           "Intermediários Financeiros",
           "Bancos",
           -0.007711867495728348
          ],
          [
           "Financeiro",
           "Intermediários Financeiros",
           "Bancos",
           -0.00863133671457558
          ],
          [
           "Financeiro",
           "Intermediários Financeiros",
           "Bancos",
           0.08255745354866442
          ],
          [
           "Financeiro",
           "Intermediários Financeiros",
           "Bancos",
           0.009904110402004103
          ],
          [
           "Financeiro",
           "Intermediários Financeiros",
           "Bancos",
           0.012972996049758413
          ],
          [
           "Financeiro",
           "Intermediários Financeiros",
           "Bancos",
           -0.014757586799151751
          ],
          [
           "Financeiro",
           "Intermediários Financeiros",
           "Bancos",
           0.0028385570495327948
          ],
          [
           "Financeiro",
           "Intermediários Financeiros",
           "Bancos",
           -0.010327347328359276
          ],
          [
           "Financeiro",
           "Intermediários Financeiros",
           "Bancos",
           0.008236779306786407
          ],
          [
           "Financeiro",
           "Intermediários Financeiros",
           "Bancos",
           0.005040851172043392
          ],
          [
           "Financeiro",
           "Intermediários Financeiros",
           "Bancos",
           0.0061001989402122685
          ],
          [
           "Financeiro",
           "Intermediários Financeiros",
           "Bancos",
           0.02330139805891751
          ],
          [
           "Financeiro",
           "Intermediários Financeiros",
           "Bancos",
           0.019845005958471443
          ],
          [
           "Financeiro",
           "Serviços Financeiros Diversos",
           "Serviços Financeiros Diversos",
           0.018159530208308818
          ],
          [
           "Financeiro",
           "Serviços Financeiros Diversos",
           "Serviços Financeiros Diversos",
           -0.02593873190379142
          ],
          [
           "Financeiro",
           "Serviços Financeiros Diversos",
           "Serviços Financeiros Diversos",
           0.07368560929280793
          ],
          [
           "Financeiro",
           "Previdência e Seguros",
           "Seguradoras",
           -0.02491531784078743
          ],
          [
           "Financeiro",
           "Previdência e Seguros",
           "Seguradoras",
           -0.008076665452074064
          ],
          [
           "Financeiro",
           "Previdência e Seguros",
           "Corretoras de Seguros e Resseguros",
           0.06881231203399474
          ],
          [
           "Financeiro",
           "Previdência e Seguros",
           "Corretoras de Seguros e Resseguros",
           0.03366187902588637
          ],
          [
           "Financeiro",
           "Exploração de Imóveis",
           "Exploração de Imóveis",
           -0.01474475066029399
          ],
          [
           "Financeiro",
           "Exploração de Imóveis",
           "Exploração de Imóveis",
           -0.018475341287411136
          ],
          [
           "Financeiro",
           "Exploração de Imóveis",
           "Exploração de Imóveis",
           -0.02945072139278284
          ],
          [
           "Financeiro",
           "Exploração de Imóveis",
           "Exploração de Imóveis",
           0.010563655149957801
          ],
          [
           "Financeiro",
           "Exploração de Imóveis",
           "Exploração de Imóveis",
           0.028892925773863442
          ],
          [
           "Financeiro",
           "Exploração de Imóveis",
           "Exploração de Imóveis",
           -0.005438072217588451
          ],
          [
           "Financeiro",
           "Exploração de Imóveis",
           "Exploração de Imóveis",
           -0.04476281409116775
          ],
          [
           "Financeiro",
           "Exploração de Imóveis",
           "Intermediação Imobiliária",
           0.00634894753974571
          ],
          [
           "Financeiro",
           "Exploração de Imóveis",
           "Intermediação Imobiliária",
           -0.002960599380305272
          ],
          [
           "Outros",
           "Outros",
           "Outros",
           0.07535502379417364
          ]
         ],
         "hovertemplate": "<b>%{hovertext}</b><br><br>iso_forest_outliers=1<br>Risk=%{x}<br>Return=%{y}<br>Sector=%{customdata[0]}<br>Sub-Sector=%{customdata[1]}<br>Segment=%{customdata[2]}<br>Sharpe=%{customdata[3]}<extra></extra>",
         "hovertext": [
          "CSAN3.SA",
          "DMMO3.SA",
          "ENAT3.SA",
          "RPMG3.SA",
          "PETR4.SA",
          "PETR3.SA",
          "PRIO3.SA",
          "UGPA3.SA",
          "VBBR3.SA",
          "LUPA3.SA",
          "BRAP4.SA",
          "BRAP3.SA",
          "VALE3.SA",
          "FESA4.SA",
          "GGBR4.SA",
          "GGBR3.SA",
          "GOAU4.SA",
          "GOAU3.SA",
          "CSNA3.SA",
          "USIM3.SA",
          "PMAM3.SA",
          "DEXP3.SA",
          "FHER3.SA",
          "EUCA4.SA",
          "DXCO3.SA",
          "KLBN4.SA",
          "KLBN3.SA",
          "SUZB3.SA",
          "RANI3.SA",
          "ETER3.SA",
          "HAGA4.SA",
          "PTBL3.SA",
          "AZEV4.SA",
          "TCNO4.SA",
          "TCNO3.SA",
          "EMBR3.SA",
          "FRAS3.SA",
          "POMO4.SA",
          "POMO3.SA",
          "RAPT4.SA",
          "RCSL4.SA",
          "RCSL3.SA",
          "TUPY3.SA",
          "SHUL4.SA",
          "WEGE3.SA",
          "EALT4.SA",
          "ROMI3.SA",
          "KEPL3.SA",
          "MILS3.SA",
          "TASA4.SA",
          "TASA3.SA",
          "AZUL4.SA",
          "GOLL4.SA",
          "RAIL3.SA",
          "LOGN3.SA",
          "TGMA3.SA",
          "CCRO3.SA",
          "ECOR3.SA",
          "TPIS3.SA",
          "STBP3.SA",
          "ATMP3.SA",
          "PRNR3.SA",
          "VLID3.SA",
          "AGRO3.SA",
          "SLCE3.SA",
          "SMTO3.SA",
          "BRFS3.SA",
          "JBSS3.SA",
          "MRFG3.SA",
          "BEEF3.SA",
          "CAML3.SA",
          "MDIA3.SA",
          "ABEV3.SA",
          "NTCO3.SA",
          "BOBR4.SA",
          "CRFB3.SA",
          "PCAR3.SA",
          "CYRE3.SA",
          "DIRR3.SA",
          "EVEN3.SA",
          "EZTC3.SA",
          "GFSA3.SA",
          "HBOR3.SA",
          "JHSF3.SA",
          "JFEN3.SA",
          "MTRE3.SA",
          "MDNE3.SA",
          "MRVE3.SA",
          "PDGR3.SA",
          "RSID3.SA",
          "TCSA3.SA",
          "TEND3.SA",
          "TRIS3.SA",
          "VIVR3.SA",
          "CTSA4.SA",
          "CTSA3.SA",
          "SGPS3.SA",
          "ALPA4.SA",
          "CAMB3.SA",
          "GRND3.SA",
          "VULC3.SA",
          "TECN3.SA",
          "VIVA3.SA",
          "UCAS3.SA",
          "BKBR3.SA",
          "MEAL3.SA",
          "SHOW3.SA",
          "CVCB3.SA",
          "ANIM3.SA",
          "COGN3.SA",
          "SEER3.SA",
          "YDUQ3.SA",
          "RENT3.SA",
          "LCAM3.SA",
          "MOVI3.SA",
          "ARZZ3.SA",
          "CEAB3.SA",
          "GUAR3.SA",
          "LLIS3.SA",
          "AMAR3.SA",
          "LREN3.SA",
          "MGLU3.SA",
          "VIIA3.SA",
          "AMER3.SA",
          "SBFG3.SA",
          "AALR3.SA",
          "DASA3.SA",
          "FLRY3.SA",
          "HAPV3.SA",
          "PARD3.SA",
          "ODPV3.SA",
          "QUAL3.SA",
          "PNVL3.SA",
          "HYPE3.SA",
          "RADL3.SA",
          "POSI3.SA",
          "LWSA3.SA",
          "PDTC3.SA",
          "SQIA3.SA",
          "TOTS3.SA",
          "OIBR4.SA",
          "OIBR3.SA",
          "VIVT3.SA",
          "TIMS3.SA",
          "CMIG4.SA",
          "CMIG3.SA",
          "CPLE3.SA",
          "CPFE3.SA",
          "ELET3.SA",
          "ENBR3.SA",
          "ENEV3.SA",
          "EGIE3.SA",
          "EQTL3.SA",
          "LIGT3.SA",
          "NEOE3.SA",
          "RNEW4.SA",
          "RNEW3.SA",
          "TAEE4.SA",
          "TAEE3.SA",
          "TRPL4.SA",
          "CSMG3.SA",
          "SBSP3.SA",
          "SAPR4.SA",
          "SAPR3.SA",
          "ABCB4.SA",
          "BMGB4.SA",
          "BPAN4.SA",
          "BBDC4.SA",
          "BBDC3.SA",
          "BBAS3.SA",
          "ITSA4.SA",
          "ITSA3.SA",
          "ITUB4.SA",
          "ITUB3.SA",
          "PINE4.SA",
          "SANB4.SA",
          "SANB3.SA",
          "B3SA3.SA",
          "CIEL3.SA",
          "CARD3.SA",
          "BBSE3.SA",
          "PSSA3.SA",
          "APER3.SA",
          "WIZS3.SA",
          "ALSO3.SA",
          "BRML3.SA",
          "BRPR3.SA",
          "IGTI3.SA",
          "LOGG3.SA",
          "MULT3.SA",
          "SYNE3.SA",
          "BBRK3.SA",
          "LPSB3.SA",
          "BLUT4.SA"
         ],
         "legendgroup": "1",
         "marker": {
          "color": "#636efa",
          "symbol": "circle"
         },
         "mode": "markers",
         "name": "1",
         "orientation": "v",
         "showlegend": true,
         "type": "scatter",
         "x": [
          0.03380031491603314,
          0.0719801734327818,
          0.041396614016561126,
          0.059330808510857626,
          0.041665669316091225,
          0.043376188425177,
          0.06173724307314133,
          0.04212164095596907,
          0.0352608361636276,
          0.07501977526877883,
          0.03120346193410951,
          0.0310163219081988,
          0.03174023725655114,
          0.03339104841504144,
          0.03757240571224963,
          0.03263853984587228,
          0.03775058508881106,
          0.03354706373721956,
          0.045464405486523564,
          0.03821972197349418,
          0.05076972691175917,
          0.05836136324854447,
          0.06590082423609588,
          0.04472572346851277,
          0.04042197231951901,
          0.027920491190760673,
          0.02729400015377718,
          0.0323638438556725,
          0.04698720619694172,
          0.059253421839163094,
          0.039839597267224344,
          0.05109115652166385,
          0.06336700151223551,
          0.05559461617923184,
          0.0672699191094197,
          0.04779447306928398,
          0.025629134529717504,
          0.038222294048385445,
          0.03488581340683302,
          0.04121497034801731,
          0.05316475639818075,
          0.06706861982469497,
          0.03373622978756791,
          0.03347882888052408,
          0.032798242182523564,
          0.033835690950536394,
          0.04744943057965356,
          0.023940127412819884,
          0.04513438745111048,
          0.051675004717315794,
          0.044574711335171095,
          0.0632933422812097,
          0.06327493305415818,
          0.03448736893656075,
          0.04782317985772623,
          0.04035838177022405,
          0.038154521010321824,
          0.04016230145984656,
          0.05997727580873473,
          0.0410560414408744,
          0.05513043197821813,
          0.036607810695035964,
          0.043132559925111315,
          0.02427844857508746,
          0.025781828325207035,
          0.039043583006090926,
          0.03749253306719522,
          0.03430967990856735,
          0.03909920178799087,
          0.03362215445609201,
          0.02284065282344994,
          0.029063910508614125,
          0.027612172816454977,
          0.0386272972272231,
          0.03670230589931704,
          0.024813473359451485,
          0.08523813562825482,
          0.04542077027890224,
          0.03780480909365574,
          0.047899732671816644,
          0.04369627514739099,
          0.048468303614240635,
          0.05703803465041965,
          0.042873657293863755,
          0.08103861557832336,
          0.04111736809683996,
          0.05188602971415916,
          0.037546926624009144,
          0.055068819623208906,
          0.04912679949162121,
          0.04540589763528826,
          0.03591709309855373,
          0.04633482048588767,
          0.08443017514717913,
          0.05500966488058245,
          0.059304868619958775,
          0.05128008027950782,
          0.03825419106574617,
          0.03839871479655901,
          0.028134187224163158,
          0.03489351821328089,
          0.04834735450320257,
          0.04874945125315265,
          0.03836903830117869,
          0.04389202280201378,
          0.05078095200080944,
          0.05292420905433469,
          0.061661850831742984,
          0.03993930901614393,
          0.04789813801099107,
          0.039749789684483686,
          0.04491687590752722,
          0.04341859716131059,
          0.04588389493260313,
          0.041806339338782354,
          0.03494389377652245,
          0.04844854251850288,
          0.04700262313498619,
          0.05448119836747111,
          0.05826391609756534,
          0.03764073912993509,
          0.0407178219172634,
          0.05210522060781364,
          0.046460882113315644,
          0.04754698378628455,
          0.04116255266816659,
          0.05661340062963936,
          0.026181608786284886,
          0.03501157806425898,
          0.034006871959056405,
          0.024426948860494763,
          0.033444561932104225,
          0.030664096881038053,
          0.02970357386867155,
          0.0247619315468421,
          0.05891805941331725,
          0.0480896890989959,
          0.058548614351196564,
          0.03661606125788471,
          0.03505728126267308,
          0.04798056956687184,
          0.04591070543220174,
          0.02356166410249832,
          0.02730774433489472,
          0.03286751614653194,
          0.034738863662285374,
          0.03027119992849649,
          0.025663487515500915,
          0.04338207664417431,
          0.022644311461484674,
          0.030442295960421705,
          0.021007396868317603,
          0.02631642670939272,
          0.04265968413026124,
          0.027403225002898265,
          0.047960929438156684,
          0.0508531239425581,
          0.01853256166406714,
          0.01742049113081013,
          0.01895222229202607,
          0.030961884577303162,
          0.034553895636428696,
          0.028603655500101344,
          0.033055526933136986,
          0.02825286034063901,
          0.03392425097735612,
          0.05370579111293311,
          0.03360517330846542,
          0.032149674819283894,
          0.03549182530924328,
          0.02601662280844868,
          0.01945002138301572,
          0.028645896309968364,
          0.02506738820117482,
          0.04446821509659155,
          0.03362616737020255,
          0.03304993528450994,
          0.03213093284893773,
          0.043588929948785604,
          0.03367380899967782,
          0.02396961265783474,
          0.023348388513631232,
          0.043657797362703775,
          0.042406536914792056,
          0.04256484597597142,
          0.04012486117159099,
          0.030961387222619506,
          0.039978197861522756,
          0.04004420421601257,
          0.03915763031650789,
          0.036447167715575296,
          0.06926430775142987,
          0.05645485312270982,
          0.08804809426152521
         ],
         "xaxis": "x",
         "y": [
          0.0013016114161491703,
          0.0006019622805624236,
          0.0016664840021466567,
          0.002488255894105075,
          0.0012070268285086392,
          0.0011573069125938415,
          0.004471527338752469,
          0.0006965453108763153,
          0.0005977186787905524,
          0.005102622628645757,
          0.002865985102386151,
          0.002452356253250388,
          0.0032421773795440734,
          0.0031628740218050243,
          0.0024436709535288295,
          0.002146348027607045,
          0.002387068913939103,
          0.0022107482617875845,
          0.005030047728710527,
          0.002996163695310766,
          0.0003377387002067717,
          0.006970885946294035,
          0.0072116921647082275,
          0.0019025720619108182,
          0.0016538226160257297,
          0.0009793054234602785,
          0.0017027014882818152,
          0.0018192504613115021,
          0.0029530786609829793,
          0.006177486112013346,
          0.002059444628808404,
          0.004728620032553816,
          0.004238167121553162,
          0.005015788976242775,
          0.004218482194928842,
          0.0013983867633192632,
          0.0025345549455481078,
          -0.0006107661226954382,
          -0.0005119488868753249,
          0.0013873207792195117,
          0.0017822389751785592,
          0.0049429937312839905,
          0.0007803039218525761,
          0.0015911565164878792,
          0.0017534842594594793,
          0.0010020015729570652,
          0.0028930768394613417,
          0.0023463631328187375,
          0.0008271314440921578,
          0.00624147494497269,
          0.006249998452731977,
          0.0020590065005037686,
          0.001689533283749527,
          0.0002701763820922047,
          0.0009003248357584313,
          -0.00039016553216637937,
          0.000016446245520015422,
          -0.00016734544166051142,
          0.004033917988210753,
          0.0019565965908763714,
          0.0014842297288986976,
          -0.000336029101160263,
          -0.00006179374550144906,
          0.001574441654262314,
          0.0029494404419018456,
          0.0015444787422439804,
          0.0006093630190379403,
          0.001212647109651842,
          0.0019956957554603887,
          -0.00018966802135966936,
          0.0004787965683197976,
          -0.0005561140881482186,
          0.0008818896485794828,
          0.0014743386661606416,
          0.0013477790338534581,
          0.0002536798465083085,
          0.003226569647991931,
          0.00016688454521863658,
          0.0004535787347477804,
          0.00015868841618676534,
          -0.00037218275119046935,
          0.00011747770304147985,
          -0.0007472485828663517,
          0.0010732034339466488,
          0.002419921430609884,
          -0.00021400609214179727,
          -0.00004467502684342673,
          0.0001920047621487502,
          0.0018509488996712503,
          0.001983524210644163,
          -0.0008833079491796069,
          -0.0005269085272792328,
          -0.0002817578712600663,
          0.0061536784244897915,
          0.0019850591214289888,
          -0.0006352460370728823,
          0.001093956521930803,
          0.002096864286415024,
          0.0003152618841302947,
          0.0004387441160144112,
          0.0011663084708691432,
          0.002009073195749131,
          0.001739425718267158,
          0.0005848865825739227,
          0.00041103973500825487,
          -0.0007532297617573384,
          0.002369604390708973,
          0.002766888409591297,
          0.0013242535233246018,
          -0.001382999161927363,
          -0.00028508063811000565,
          -0.0002500237035790108,
          0.001738534318184594,
          0.001855672669096266,
          0.0010291952292469935,
          0.002043665195378293,
          0.0009417426397125481,
          0.00025293817110757713,
          -0.0025591544698930113,
          0.00047938833286573663,
          -0.00011644769826241203,
          0.0023784210691447844,
          0.0017436385991098874,
          0.0013078728421263008,
          0.0004815830332244123,
          -0.0009288443063510521,
          0.0012878685213465035,
          -0.00014936215972660978,
          0.001714698384136959,
          -0.00047513830368436195,
          -0.00044045541938902375,
          -0.000016853922679774886,
          -0.00020079331363863926,
          0.00001125780322737108,
          0.0003244028695065657,
          0.003510795657794732,
          0.005890796081630565,
          0.004015874364831609,
          0.00078452255476589,
          0.0018985627925752564,
          0.0025245542772954896,
          0.002321045234529554,
          -0.0003175844976519839,
          -0.0007063784771120376,
          0.0005141119820533457,
          0.0009783343977510185,
          -0.0006836401506883863,
          -0.0006307743537472458,
          0.001603175466015213,
          -0.00022389734423607332,
          0.001705096169206678,
          -0.0004093560343564137,
          0.00023918519849103564,
          -0.00017953659673428747,
          -0.0006691686046106467,
          0.0014563088829138485,
          0.001129800943206126,
          0.0008469190814914406,
          0.0008006895939423174,
          0.000568216783380409,
          -0.00030611109965664743,
          -0.000911582111529363,
          -0.0012021714805267917,
          -0.001160985688450557,
          -0.00021788231532232654,
          -0.0002928116329753304,
          0.0044338133551002495,
          0.000332829346525523,
          0.0004170776044315875,
          -0.0005237736926614887,
          0.00007384966807795769,
          -0.0002008671263664182,
          0.0002359499259502965,
          0.0001263609731939588,
          0.000271264958605359,
          0.0007835367110888729,
          0.0006558761626481954,
          0.0005834826456914267,
          -0.0011306415679146944,
          0.002481275133350899,
          -0.000597210517890514,
          -0.0001885771228696483,
          0.0030041939748392844,
          0.0014274837155325148,
          -0.0006276080408095166,
          -0.000741320504255135,
          -0.0009118351890274335,
          0.00042231589572590684,
          0.0011569942200866806,
          -0.0002129420215308008,
          -0.0016314777926019083,
          0.0004397554562906304,
          -0.00016714020317031984,
          0.006634866238108875
         ],
         "yaxis": "y"
        },
        {
         "customdata": [
          [
           "Petróleo, Gás e Biocombustíveis",
           "Petróleo, Gás e Biocombustíveis",
           "Equipamentos e Serviços",
           0.06422167170188352
          ],
          [
           "Materiais Básicos",
           "Mineração",
           "Minerais Metálicos",
           0.0892325883030386
          ],
          [
           "Bens Industriais",
           "Construção e Engenharia",
           "Construção Pesada",
           0.06721089016564172
          ],
          [
           "Bens Industriais",
           "Máquinas e Equipamentos",
           "Máq. e Equip. Industriais",
           0.13162764157229104
          ],
          [
           "Bens Industriais",
           "Máquinas e Equipamentos",
           "Máq. e Equip. Industriais",
           0.1355567706547012
          ],
          [
           "Saúde",
           "Comércio e Distribuição",
           "Medicamentos e Outros Produtos",
           0.055310715425190865
          ],
          [
           "Financeiro",
           "Previdência e Seguros",
           "Resseguradoras",
           -0.05335620976205613
          ],
          [
           "Outros",
           "Outros",
           "Outros",
           0.08360257712078643
          ],
          [
           "Outros",
           "Outros",
           "Outros",
           0.0757135690262229
          ]
         ],
         "hovertemplate": "<b>%{hovertext}</b><br><br>iso_forest_outliers=-1<br>Risk=%{x}<br>Return=%{y}<br>Sector=%{customdata[0]}<br>Sub-Sector=%{customdata[1]}<br>Segment=%{customdata[2]}<br>Sharpe=%{customdata[3]}<extra></extra>",
         "hovertext": [
          "OSXB3.SA",
          "MMXM3.SA",
          "AZEV3.SA",
          "INEP4.SA",
          "INEP3.SA",
          "PFRM3.SA",
          "IRBR3.SA",
          "ATOM3.SA",
          "BLUT3.SA"
         ],
         "legendgroup": "-1",
         "marker": {
          "color": "#EF553B",
          "symbol": "circle"
         },
         "mode": "markers",
         "name": "-1",
         "orientation": "v",
         "showlegend": true,
         "type": "scatter",
         "x": [
          0.14609749937399027,
          0.18514754117741364,
          0.13029963715476378,
          0.06744395811294523,
          0.06382896370587668,
          5.603799805197022,
          0.05815555802856498,
          0.09061613658122969,
          0.10354673901091718
         ],
         "xaxis": "x",
         "y": [
          0.009382625641262536,
          0.016521194317204037,
          0.008757554601431797,
          0.008877489144707366,
          0.008652448194204772,
          0.3099501763249925,
          -0.0031029601530015403,
          0.007575742546919972,
          0.007839893171543365
         ],
         "yaxis": "y"
        }
       ],
       "layout": {
        "legend": {
         "title": {
          "text": "iso_forest_outliers"
         },
         "tracegroupgap": 0
        },
        "margin": {
         "t": 60
        },
        "template": {
         "data": {
          "bar": [
           {
            "error_x": {
             "color": "#2a3f5f"
            },
            "error_y": {
             "color": "#2a3f5f"
            },
            "marker": {
             "line": {
              "color": "#E5ECF6",
              "width": 0.5
             },
             "pattern": {
              "fillmode": "overlay",
              "size": 10,
              "solidity": 0.2
             }
            },
            "type": "bar"
           }
          ],
          "barpolar": [
           {
            "marker": {
             "line": {
              "color": "#E5ECF6",
              "width": 0.5
             },
             "pattern": {
              "fillmode": "overlay",
              "size": 10,
              "solidity": 0.2
             }
            },
            "type": "barpolar"
           }
          ],
          "carpet": [
           {
            "aaxis": {
             "endlinecolor": "#2a3f5f",
             "gridcolor": "white",
             "linecolor": "white",
             "minorgridcolor": "white",
             "startlinecolor": "#2a3f5f"
            },
            "baxis": {
             "endlinecolor": "#2a3f5f",
             "gridcolor": "white",
             "linecolor": "white",
             "minorgridcolor": "white",
             "startlinecolor": "#2a3f5f"
            },
            "type": "carpet"
           }
          ],
          "choropleth": [
           {
            "colorbar": {
             "outlinewidth": 0,
             "ticks": ""
            },
            "type": "choropleth"
           }
          ],
          "contour": [
           {
            "colorbar": {
             "outlinewidth": 0,
             "ticks": ""
            },
            "colorscale": [
             [
              0,
              "#0d0887"
             ],
             [
              0.1111111111111111,
              "#46039f"
             ],
             [
              0.2222222222222222,
              "#7201a8"
             ],
             [
              0.3333333333333333,
              "#9c179e"
             ],
             [
              0.4444444444444444,
              "#bd3786"
             ],
             [
              0.5555555555555556,
              "#d8576b"
             ],
             [
              0.6666666666666666,
              "#ed7953"
             ],
             [
              0.7777777777777778,
              "#fb9f3a"
             ],
             [
              0.8888888888888888,
              "#fdca26"
             ],
             [
              1,
              "#f0f921"
             ]
            ],
            "type": "contour"
           }
          ],
          "contourcarpet": [
           {
            "colorbar": {
             "outlinewidth": 0,
             "ticks": ""
            },
            "type": "contourcarpet"
           }
          ],
          "heatmap": [
           {
            "colorbar": {
             "outlinewidth": 0,
             "ticks": ""
            },
            "colorscale": [
             [
              0,
              "#0d0887"
             ],
             [
              0.1111111111111111,
              "#46039f"
             ],
             [
              0.2222222222222222,
              "#7201a8"
             ],
             [
              0.3333333333333333,
              "#9c179e"
             ],
             [
              0.4444444444444444,
              "#bd3786"
             ],
             [
              0.5555555555555556,
              "#d8576b"
             ],
             [
              0.6666666666666666,
              "#ed7953"
             ],
             [
              0.7777777777777778,
              "#fb9f3a"
             ],
             [
              0.8888888888888888,
              "#fdca26"
             ],
             [
              1,
              "#f0f921"
             ]
            ],
            "type": "heatmap"
           }
          ],
          "heatmapgl": [
           {
            "colorbar": {
             "outlinewidth": 0,
             "ticks": ""
            },
            "colorscale": [
             [
              0,
              "#0d0887"
             ],
             [
              0.1111111111111111,
              "#46039f"
             ],
             [
              0.2222222222222222,
              "#7201a8"
             ],
             [
              0.3333333333333333,
              "#9c179e"
             ],
             [
              0.4444444444444444,
              "#bd3786"
             ],
             [
              0.5555555555555556,
              "#d8576b"
             ],
             [
              0.6666666666666666,
              "#ed7953"
             ],
             [
              0.7777777777777778,
              "#fb9f3a"
             ],
             [
              0.8888888888888888,
              "#fdca26"
             ],
             [
              1,
              "#f0f921"
             ]
            ],
            "type": "heatmapgl"
           }
          ],
          "histogram": [
           {
            "marker": {
             "pattern": {
              "fillmode": "overlay",
              "size": 10,
              "solidity": 0.2
             }
            },
            "type": "histogram"
           }
          ],
          "histogram2d": [
           {
            "colorbar": {
             "outlinewidth": 0,
             "ticks": ""
            },
            "colorscale": [
             [
              0,
              "#0d0887"
             ],
             [
              0.1111111111111111,
              "#46039f"
             ],
             [
              0.2222222222222222,
              "#7201a8"
             ],
             [
              0.3333333333333333,
              "#9c179e"
             ],
             [
              0.4444444444444444,
              "#bd3786"
             ],
             [
              0.5555555555555556,
              "#d8576b"
             ],
             [
              0.6666666666666666,
              "#ed7953"
             ],
             [
              0.7777777777777778,
              "#fb9f3a"
             ],
             [
              0.8888888888888888,
              "#fdca26"
             ],
             [
              1,
              "#f0f921"
             ]
            ],
            "type": "histogram2d"
           }
          ],
          "histogram2dcontour": [
           {
            "colorbar": {
             "outlinewidth": 0,
             "ticks": ""
            },
            "colorscale": [
             [
              0,
              "#0d0887"
             ],
             [
              0.1111111111111111,
              "#46039f"
             ],
             [
              0.2222222222222222,
              "#7201a8"
             ],
             [
              0.3333333333333333,
              "#9c179e"
             ],
             [
              0.4444444444444444,
              "#bd3786"
             ],
             [
              0.5555555555555556,
              "#d8576b"
             ],
             [
              0.6666666666666666,
              "#ed7953"
             ],
             [
              0.7777777777777778,
              "#fb9f3a"
             ],
             [
              0.8888888888888888,
              "#fdca26"
             ],
             [
              1,
              "#f0f921"
             ]
            ],
            "type": "histogram2dcontour"
           }
          ],
          "mesh3d": [
           {
            "colorbar": {
             "outlinewidth": 0,
             "ticks": ""
            },
            "type": "mesh3d"
           }
          ],
          "parcoords": [
           {
            "line": {
             "colorbar": {
              "outlinewidth": 0,
              "ticks": ""
             }
            },
            "type": "parcoords"
           }
          ],
          "pie": [
           {
            "automargin": true,
            "type": "pie"
           }
          ],
          "scatter": [
           {
            "marker": {
             "colorbar": {
              "outlinewidth": 0,
              "ticks": ""
             }
            },
            "type": "scatter"
           }
          ],
          "scatter3d": [
           {
            "line": {
             "colorbar": {
              "outlinewidth": 0,
              "ticks": ""
             }
            },
            "marker": {
             "colorbar": {
              "outlinewidth": 0,
              "ticks": ""
             }
            },
            "type": "scatter3d"
           }
          ],
          "scattercarpet": [
           {
            "marker": {
             "colorbar": {
              "outlinewidth": 0,
              "ticks": ""
             }
            },
            "type": "scattercarpet"
           }
          ],
          "scattergeo": [
           {
            "marker": {
             "colorbar": {
              "outlinewidth": 0,
              "ticks": ""
             }
            },
            "type": "scattergeo"
           }
          ],
          "scattergl": [
           {
            "marker": {
             "colorbar": {
              "outlinewidth": 0,
              "ticks": ""
             }
            },
            "type": "scattergl"
           }
          ],
          "scattermapbox": [
           {
            "marker": {
             "colorbar": {
              "outlinewidth": 0,
              "ticks": ""
             }
            },
            "type": "scattermapbox"
           }
          ],
          "scatterpolar": [
           {
            "marker": {
             "colorbar": {
              "outlinewidth": 0,
              "ticks": ""
             }
            },
            "type": "scatterpolar"
           }
          ],
          "scatterpolargl": [
           {
            "marker": {
             "colorbar": {
              "outlinewidth": 0,
              "ticks": ""
             }
            },
            "type": "scatterpolargl"
           }
          ],
          "scatterternary": [
           {
            "marker": {
             "colorbar": {
              "outlinewidth": 0,
              "ticks": ""
             }
            },
            "type": "scatterternary"
           }
          ],
          "surface": [
           {
            "colorbar": {
             "outlinewidth": 0,
             "ticks": ""
            },
            "colorscale": [
             [
              0,
              "#0d0887"
             ],
             [
              0.1111111111111111,
              "#46039f"
             ],
             [
              0.2222222222222222,
              "#7201a8"
             ],
             [
              0.3333333333333333,
              "#9c179e"
             ],
             [
              0.4444444444444444,
              "#bd3786"
             ],
             [
              0.5555555555555556,
              "#d8576b"
             ],
             [
              0.6666666666666666,
              "#ed7953"
             ],
             [
              0.7777777777777778,
              "#fb9f3a"
             ],
             [
              0.8888888888888888,
              "#fdca26"
             ],
             [
              1,
              "#f0f921"
             ]
            ],
            "type": "surface"
           }
          ],
          "table": [
           {
            "cells": {
             "fill": {
              "color": "#EBF0F8"
             },
             "line": {
              "color": "white"
             }
            },
            "header": {
             "fill": {
              "color": "#C8D4E3"
             },
             "line": {
              "color": "white"
             }
            },
            "type": "table"
           }
          ]
         },
         "layout": {
          "annotationdefaults": {
           "arrowcolor": "#2a3f5f",
           "arrowhead": 0,
           "arrowwidth": 1
          },
          "autotypenumbers": "strict",
          "coloraxis": {
           "colorbar": {
            "outlinewidth": 0,
            "ticks": ""
           }
          },
          "colorscale": {
           "diverging": [
            [
             0,
             "#8e0152"
            ],
            [
             0.1,
             "#c51b7d"
            ],
            [
             0.2,
             "#de77ae"
            ],
            [
             0.3,
             "#f1b6da"
            ],
            [
             0.4,
             "#fde0ef"
            ],
            [
             0.5,
             "#f7f7f7"
            ],
            [
             0.6,
             "#e6f5d0"
            ],
            [
             0.7,
             "#b8e186"
            ],
            [
             0.8,
             "#7fbc41"
            ],
            [
             0.9,
             "#4d9221"
            ],
            [
             1,
             "#276419"
            ]
           ],
           "sequential": [
            [
             0,
             "#0d0887"
            ],
            [
             0.1111111111111111,
             "#46039f"
            ],
            [
             0.2222222222222222,
             "#7201a8"
            ],
            [
             0.3333333333333333,
             "#9c179e"
            ],
            [
             0.4444444444444444,
             "#bd3786"
            ],
            [
             0.5555555555555556,
             "#d8576b"
            ],
            [
             0.6666666666666666,
             "#ed7953"
            ],
            [
             0.7777777777777778,
             "#fb9f3a"
            ],
            [
             0.8888888888888888,
             "#fdca26"
            ],
            [
             1,
             "#f0f921"
            ]
           ],
           "sequentialminus": [
            [
             0,
             "#0d0887"
            ],
            [
             0.1111111111111111,
             "#46039f"
            ],
            [
             0.2222222222222222,
             "#7201a8"
            ],
            [
             0.3333333333333333,
             "#9c179e"
            ],
            [
             0.4444444444444444,
             "#bd3786"
            ],
            [
             0.5555555555555556,
             "#d8576b"
            ],
            [
             0.6666666666666666,
             "#ed7953"
            ],
            [
             0.7777777777777778,
             "#fb9f3a"
            ],
            [
             0.8888888888888888,
             "#fdca26"
            ],
            [
             1,
             "#f0f921"
            ]
           ]
          },
          "colorway": [
           "#636efa",
           "#EF553B",
           "#00cc96",
           "#ab63fa",
           "#FFA15A",
           "#19d3f3",
           "#FF6692",
           "#B6E880",
           "#FF97FF",
           "#FECB52"
          ],
          "font": {
           "color": "#2a3f5f"
          },
          "geo": {
           "bgcolor": "white",
           "lakecolor": "white",
           "landcolor": "#E5ECF6",
           "showlakes": true,
           "showland": true,
           "subunitcolor": "white"
          },
          "hoverlabel": {
           "align": "left"
          },
          "hovermode": "closest",
          "mapbox": {
           "style": "light"
          },
          "paper_bgcolor": "white",
          "plot_bgcolor": "#E5ECF6",
          "polar": {
           "angularaxis": {
            "gridcolor": "white",
            "linecolor": "white",
            "ticks": ""
           },
           "bgcolor": "#E5ECF6",
           "radialaxis": {
            "gridcolor": "white",
            "linecolor": "white",
            "ticks": ""
           }
          },
          "scene": {
           "xaxis": {
            "backgroundcolor": "#E5ECF6",
            "gridcolor": "white",
            "gridwidth": 2,
            "linecolor": "white",
            "showbackground": true,
            "ticks": "",
            "zerolinecolor": "white"
           },
           "yaxis": {
            "backgroundcolor": "#E5ECF6",
            "gridcolor": "white",
            "gridwidth": 2,
            "linecolor": "white",
            "showbackground": true,
            "ticks": "",
            "zerolinecolor": "white"
           },
           "zaxis": {
            "backgroundcolor": "#E5ECF6",
            "gridcolor": "white",
            "gridwidth": 2,
            "linecolor": "white",
            "showbackground": true,
            "ticks": "",
            "zerolinecolor": "white"
           }
          },
          "shapedefaults": {
           "line": {
            "color": "#2a3f5f"
           }
          },
          "ternary": {
           "aaxis": {
            "gridcolor": "white",
            "linecolor": "white",
            "ticks": ""
           },
           "baxis": {
            "gridcolor": "white",
            "linecolor": "white",
            "ticks": ""
           },
           "bgcolor": "#E5ECF6",
           "caxis": {
            "gridcolor": "white",
            "linecolor": "white",
            "ticks": ""
           }
          },
          "title": {
           "x": 0.05
          },
          "xaxis": {
           "automargin": true,
           "gridcolor": "white",
           "linecolor": "white",
           "ticks": "",
           "title": {
            "standoff": 15
           },
           "zerolinecolor": "white",
           "zerolinewidth": 2
          },
          "yaxis": {
           "automargin": true,
           "gridcolor": "white",
           "linecolor": "white",
           "ticks": "",
           "title": {
            "standoff": 15
           },
           "zerolinecolor": "white",
           "zerolinewidth": 2
          }
         }
        },
        "title": {
         "text": "Isolation Forest Outlier Detection",
         "x": 0.5
        },
        "xaxis": {
         "anchor": "y",
         "domain": [
          0,
          1
         ],
         "title": {
          "text": "Risk"
         }
        },
        "yaxis": {
         "anchor": "x",
         "domain": [
          0,
          1
         ],
         "title": {
          "text": "Return"
         }
        }
       }
      }
     },
     "metadata": {},
     "output_type": "display_data"
    }
   ],
   "source": [
    "isf = IsolationForest(contamination=0.04)\n",
    "preds = isf.fit_predict(df[[\"Risk\", \"Return\"]])\n",
    "\n",
    "df_ = df.copy()\n",
    "df_[\"iso_forest_outliers\"] = preds\n",
    "df_[\"iso_forest_outliers\"] = df_[\"iso_forest_outliers\"].astype(str)\n",
    "#extract the scores from the data in terms of strength of outlier\n",
    "df_[\"iso_forest_scores\"] = isf.decision_function(df_[[\"Risk\", \"Return\"]])\n",
    "\n",
    "fig = px.scatter(\n",
    "    df_, \n",
    "    x='Risk', \n",
    "    y='Return', \n",
    "    color='iso_forest_outliers', \n",
    "    hover_name='Stock',\n",
    "    hover_data=['Sector', 'Sub-Sector', 'Segment', 'Sharpe'],\n",
    ")\n",
    "\n",
    "fig.update_layout(title='Isolation Forest Outlier Detection', title_x=0.5)\n",
    "fig.show()"
   ]
  },
  {
   "cell_type": "code",
   "execution_count": 22,
   "id": "9884becc",
   "metadata": {},
   "outputs": [
    {
     "data": {
      "text/html": [
       "<div>\n",
       "<style scoped>\n",
       "    .dataframe tbody tr th:only-of-type {\n",
       "        vertical-align: middle;\n",
       "    }\n",
       "\n",
       "    .dataframe tbody tr th {\n",
       "        vertical-align: top;\n",
       "    }\n",
       "\n",
       "    .dataframe thead th {\n",
       "        text-align: right;\n",
       "    }\n",
       "</style>\n",
       "<table border=\"1\" class=\"dataframe\">\n",
       "  <thead>\n",
       "    <tr style=\"text-align: right;\">\n",
       "      <th></th>\n",
       "      <th>Stock</th>\n",
       "      <th>Return</th>\n",
       "      <th>Risk</th>\n",
       "      <th>Sector</th>\n",
       "      <th>Sub-Sector</th>\n",
       "      <th>Segment</th>\n",
       "      <th>Sharpe</th>\n",
       "    </tr>\n",
       "  </thead>\n",
       "  <tbody>\n",
       "    <tr>\n",
       "      <th>0</th>\n",
       "      <td>CSAN3.SA</td>\n",
       "      <td>0.001302</td>\n",
       "      <td>0.033800</td>\n",
       "      <td>Petróleo, Gás e Biocombustíveis</td>\n",
       "      <td>Petróleo, Gás e Biocombustíveis</td>\n",
       "      <td>Exploração, Refino e Distribuição</td>\n",
       "      <td>0.038509</td>\n",
       "    </tr>\n",
       "    <tr>\n",
       "      <th>1</th>\n",
       "      <td>DMMO3.SA</td>\n",
       "      <td>0.000602</td>\n",
       "      <td>0.071980</td>\n",
       "      <td>Petróleo, Gás e Biocombustíveis</td>\n",
       "      <td>Petróleo, Gás e Biocombustíveis</td>\n",
       "      <td>Exploração, Refino e Distribuição</td>\n",
       "      <td>0.008363</td>\n",
       "    </tr>\n",
       "    <tr>\n",
       "      <th>2</th>\n",
       "      <td>ENAT3.SA</td>\n",
       "      <td>0.001666</td>\n",
       "      <td>0.041397</td>\n",
       "      <td>Petróleo, Gás e Biocombustíveis</td>\n",
       "      <td>Petróleo, Gás e Biocombustíveis</td>\n",
       "      <td>Exploração, Refino e Distribuição</td>\n",
       "      <td>0.040257</td>\n",
       "    </tr>\n",
       "    <tr>\n",
       "      <th>3</th>\n",
       "      <td>RPMG3.SA</td>\n",
       "      <td>0.002488</td>\n",
       "      <td>0.059331</td>\n",
       "      <td>Petróleo, Gás e Biocombustíveis</td>\n",
       "      <td>Petróleo, Gás e Biocombustíveis</td>\n",
       "      <td>Exploração, Refino e Distribuição</td>\n",
       "      <td>0.041939</td>\n",
       "    </tr>\n",
       "    <tr>\n",
       "      <th>4</th>\n",
       "      <td>PETR4.SA</td>\n",
       "      <td>0.001207</td>\n",
       "      <td>0.041666</td>\n",
       "      <td>Petróleo, Gás e Biocombustíveis</td>\n",
       "      <td>Petróleo, Gás e Biocombustíveis</td>\n",
       "      <td>Exploração, Refino e Distribuição</td>\n",
       "      <td>0.028969</td>\n",
       "    </tr>\n",
       "    <tr>\n",
       "      <th>...</th>\n",
       "      <td>...</td>\n",
       "      <td>...</td>\n",
       "      <td>...</td>\n",
       "      <td>...</td>\n",
       "      <td>...</td>\n",
       "      <td>...</td>\n",
       "      <td>...</td>\n",
       "    </tr>\n",
       "    <tr>\n",
       "      <th>196</th>\n",
       "      <td>MULT3.SA</td>\n",
       "      <td>-0.000213</td>\n",
       "      <td>0.039158</td>\n",
       "      <td>Financeiro</td>\n",
       "      <td>Exploração de Imóveis</td>\n",
       "      <td>Exploração de Imóveis</td>\n",
       "      <td>-0.005438</td>\n",
       "    </tr>\n",
       "    <tr>\n",
       "      <th>197</th>\n",
       "      <td>SYNE3.SA</td>\n",
       "      <td>-0.001631</td>\n",
       "      <td>0.036447</td>\n",
       "      <td>Financeiro</td>\n",
       "      <td>Exploração de Imóveis</td>\n",
       "      <td>Exploração de Imóveis</td>\n",
       "      <td>-0.044763</td>\n",
       "    </tr>\n",
       "    <tr>\n",
       "      <th>198</th>\n",
       "      <td>BBRK3.SA</td>\n",
       "      <td>0.000440</td>\n",
       "      <td>0.069264</td>\n",
       "      <td>Financeiro</td>\n",
       "      <td>Exploração de Imóveis</td>\n",
       "      <td>Intermediação Imobiliária</td>\n",
       "      <td>0.006349</td>\n",
       "    </tr>\n",
       "    <tr>\n",
       "      <th>199</th>\n",
       "      <td>LPSB3.SA</td>\n",
       "      <td>-0.000167</td>\n",
       "      <td>0.056455</td>\n",
       "      <td>Financeiro</td>\n",
       "      <td>Exploração de Imóveis</td>\n",
       "      <td>Intermediação Imobiliária</td>\n",
       "      <td>-0.002961</td>\n",
       "    </tr>\n",
       "    <tr>\n",
       "      <th>201</th>\n",
       "      <td>BLUT4.SA</td>\n",
       "      <td>0.006635</td>\n",
       "      <td>0.088048</td>\n",
       "      <td>Outros</td>\n",
       "      <td>Outros</td>\n",
       "      <td>Outros</td>\n",
       "      <td>0.075355</td>\n",
       "    </tr>\n",
       "  </tbody>\n",
       "</table>\n",
       "<p>194 rows × 7 columns</p>\n",
       "</div>"
      ],
      "text/plain": [
       "        Stock    Return     Risk                           Sector  \\\n",
       "0    CSAN3.SA  0.001302 0.033800  Petróleo, Gás e Biocombustíveis   \n",
       "1    DMMO3.SA  0.000602 0.071980  Petróleo, Gás e Biocombustíveis   \n",
       "2    ENAT3.SA  0.001666 0.041397  Petróleo, Gás e Biocombustíveis   \n",
       "3    RPMG3.SA  0.002488 0.059331  Petróleo, Gás e Biocombustíveis   \n",
       "4    PETR4.SA  0.001207 0.041666  Petróleo, Gás e Biocombustíveis   \n",
       "..        ...       ...      ...                              ...   \n",
       "196  MULT3.SA -0.000213 0.039158                       Financeiro   \n",
       "197  SYNE3.SA -0.001631 0.036447                       Financeiro   \n",
       "198  BBRK3.SA  0.000440 0.069264                       Financeiro   \n",
       "199  LPSB3.SA -0.000167 0.056455                       Financeiro   \n",
       "201  BLUT4.SA  0.006635 0.088048                           Outros   \n",
       "\n",
       "                          Sub-Sector                            Segment  \\\n",
       "0    Petróleo, Gás e Biocombustíveis  Exploração, Refino e Distribuição   \n",
       "1    Petróleo, Gás e Biocombustíveis  Exploração, Refino e Distribuição   \n",
       "2    Petróleo, Gás e Biocombustíveis  Exploração, Refino e Distribuição   \n",
       "3    Petróleo, Gás e Biocombustíveis  Exploração, Refino e Distribuição   \n",
       "4    Petróleo, Gás e Biocombustíveis  Exploração, Refino e Distribuição   \n",
       "..                               ...                                ...   \n",
       "196            Exploração de Imóveis              Exploração de Imóveis   \n",
       "197            Exploração de Imóveis              Exploração de Imóveis   \n",
       "198            Exploração de Imóveis          Intermediação Imobiliária   \n",
       "199            Exploração de Imóveis          Intermediação Imobiliária   \n",
       "201                           Outros                             Outros   \n",
       "\n",
       "       Sharpe  \n",
       "0    0.038509  \n",
       "1    0.008363  \n",
       "2    0.040257  \n",
       "3    0.041939  \n",
       "4    0.028969  \n",
       "..        ...  \n",
       "196 -0.005438  \n",
       "197 -0.044763  \n",
       "198  0.006349  \n",
       "199 -0.002961  \n",
       "201  0.075355  \n",
       "\n",
       "[194 rows x 7 columns]"
      ]
     },
     "execution_count": 22,
     "metadata": {},
     "output_type": "execute_result"
    }
   ],
   "source": [
    "# Remove outliers\n",
    "outliers = [ False if pred == 1 else True for pred in preds ]\n",
    "outliers\n",
    "\n",
    "valid_stocks = [ stock for stock, is_outlier in zip(df['Stock'], outliers) if is_outlier is False]\n",
    "\n",
    "df = df[ df['Stock'].isin(valid_stocks) ]\n",
    "df"
   ]
  },
  {
   "cell_type": "code",
   "execution_count": 23,
   "id": "298305ed",
   "metadata": {},
   "outputs": [],
   "source": [
    "# DBSCAN Not working well\n",
    "\n",
    "# df_ = df.copy()\n",
    "\n",
    "# df_['Return'] = preprocessing.normalize([df_['Return']])[0]\n",
    "# df_['Risk'] = preprocessing.normalize([df_['Risk']])[0]\n",
    "\n",
    "# clustering = DBSCAN(eps=0.01, min_samples=5).fit(df_[[\"Risk\", \"Return\"]])\n",
    "# core_samples = clustering.core_sample_indices_\n",
    "# labels = clustering.labels_\n",
    "\n",
    "# df_['labels'] = labels\n",
    "\n",
    "# px.scatter(df_, x='Risk', y='Return', hover_name='Stock', color='labels', template='plotly_dark')\n"
   ]
  },
  {
   "cell_type": "code",
   "execution_count": 24,
   "id": "ba409f71",
   "metadata": {},
   "outputs": [
    {
     "name": "stdout",
     "output_type": "stream",
     "text": [
      "BEST_NUMBER_OF_CLUSTERS: 10\n"
     ]
    }
   ],
   "source": [
    "# Descobrindo o melhor número de clusters (Quantidade de ativos na carteira)\n",
    "\n",
    "DIFF_INERCIA = 0.0001\n",
    "BEST_NUMBER_OF_CLUSTERS = None\n",
    "\n",
    "# df_ = df.copy()\n",
    "\n",
    "# df_['Return'] = preprocessing.normalize([df_['Return']])[0]\n",
    "# df_['Risk'] = preprocessing.normalize([df_['Risk']])[0]\n",
    "\n",
    "wcss = []\n",
    "for i in range(1, 30):\n",
    "    kmeans = KMeans(n_clusters=i, init='k-means++', random_state=42)\n",
    "    kmeans.fit(df[[\"Risk\", \"Return\"]])\n",
    "    wcss.append(kmeans.inertia_)\n",
    "\n",
    "for i, (v0, v1) in enumerate(zip(wcss, wcss[1:])):\n",
    "    if v0 - v1 > DIFF_INERCIA:\n",
    "        BEST_NUMBER_OF_CLUSTERS = i + 1\n",
    "    else:\n",
    "        break\n",
    "\n",
    "print('BEST_NUMBER_OF_CLUSTERS:', BEST_NUMBER_OF_CLUSTERS)"
   ]
  },
  {
   "cell_type": "code",
   "execution_count": 25,
   "id": "8a10c251",
   "metadata": {},
   "outputs": [
    {
     "name": "stderr",
     "output_type": "stream",
     "text": [
      "/tmp/ipykernel_47229/4016209629.py:27: SettingWithCopyWarning:\n",
      "\n",
      "\n",
      "A value is trying to be set on a copy of a slice from a DataFrame.\n",
      "Try using .loc[row_indexer,col_indexer] = value instead\n",
      "\n",
      "See the caveats in the documentation: https://pandas.pydata.org/pandas-docs/stable/user_guide/indexing.html#returning-a-view-versus-a-copy\n",
      "\n"
     ]
    },
    {
     "data": {
      "application/vnd.plotly.v1+json": {
       "config": {
        "plotlyServerURL": "https://plot.ly"
       },
       "data": [
        {
         "hovertemplate": "<b>%{hovertext}</b><br><br>Risk=%{x}<br>Return=%{y}<br>cluster=%{marker.color}<extra></extra>",
         "hovertext": [
          "CSAN3.SA",
          "DMMO3.SA",
          "ENAT3.SA",
          "RPMG3.SA",
          "PETR4.SA",
          "PETR3.SA",
          "PRIO3.SA",
          "UGPA3.SA",
          "VBBR3.SA",
          "LUPA3.SA",
          "BRAP4.SA",
          "BRAP3.SA",
          "VALE3.SA",
          "FESA4.SA",
          "GGBR4.SA",
          "GGBR3.SA",
          "GOAU4.SA",
          "GOAU3.SA",
          "CSNA3.SA",
          "USIM3.SA",
          "PMAM3.SA",
          "DEXP3.SA",
          "FHER3.SA",
          "EUCA4.SA",
          "DXCO3.SA",
          "KLBN4.SA",
          "KLBN3.SA",
          "SUZB3.SA",
          "RANI3.SA",
          "ETER3.SA",
          "HAGA4.SA",
          "PTBL3.SA",
          "AZEV4.SA",
          "TCNO4.SA",
          "TCNO3.SA",
          "EMBR3.SA",
          "FRAS3.SA",
          "POMO4.SA",
          "POMO3.SA",
          "RAPT4.SA",
          "RCSL4.SA",
          "RCSL3.SA",
          "TUPY3.SA",
          "SHUL4.SA",
          "WEGE3.SA",
          "EALT4.SA",
          "ROMI3.SA",
          "KEPL3.SA",
          "MILS3.SA",
          "TASA4.SA",
          "TASA3.SA",
          "AZUL4.SA",
          "GOLL4.SA",
          "RAIL3.SA",
          "LOGN3.SA",
          "TGMA3.SA",
          "CCRO3.SA",
          "ECOR3.SA",
          "TPIS3.SA",
          "STBP3.SA",
          "ATMP3.SA",
          "PRNR3.SA",
          "VLID3.SA",
          "AGRO3.SA",
          "SLCE3.SA",
          "SMTO3.SA",
          "BRFS3.SA",
          "JBSS3.SA",
          "MRFG3.SA",
          "BEEF3.SA",
          "CAML3.SA",
          "MDIA3.SA",
          "ABEV3.SA",
          "NTCO3.SA",
          "BOBR4.SA",
          "CRFB3.SA",
          "PCAR3.SA",
          "CYRE3.SA",
          "DIRR3.SA",
          "EVEN3.SA",
          "EZTC3.SA",
          "GFSA3.SA",
          "HBOR3.SA",
          "JHSF3.SA",
          "JFEN3.SA",
          "MTRE3.SA",
          "MDNE3.SA",
          "MRVE3.SA",
          "PDGR3.SA",
          "RSID3.SA",
          "TCSA3.SA",
          "TEND3.SA",
          "TRIS3.SA",
          "VIVR3.SA",
          "CTSA4.SA",
          "CTSA3.SA",
          "SGPS3.SA",
          "ALPA4.SA",
          "CAMB3.SA",
          "GRND3.SA",
          "VULC3.SA",
          "TECN3.SA",
          "VIVA3.SA",
          "UCAS3.SA",
          "BKBR3.SA",
          "MEAL3.SA",
          "SHOW3.SA",
          "CVCB3.SA",
          "ANIM3.SA",
          "COGN3.SA",
          "SEER3.SA",
          "YDUQ3.SA",
          "RENT3.SA",
          "LCAM3.SA",
          "MOVI3.SA",
          "ARZZ3.SA",
          "CEAB3.SA",
          "GUAR3.SA",
          "LLIS3.SA",
          "AMAR3.SA",
          "LREN3.SA",
          "MGLU3.SA",
          "VIIA3.SA",
          "AMER3.SA",
          "SBFG3.SA",
          "AALR3.SA",
          "DASA3.SA",
          "FLRY3.SA",
          "HAPV3.SA",
          "PARD3.SA",
          "ODPV3.SA",
          "QUAL3.SA",
          "PNVL3.SA",
          "HYPE3.SA",
          "RADL3.SA",
          "POSI3.SA",
          "LWSA3.SA",
          "PDTC3.SA",
          "SQIA3.SA",
          "TOTS3.SA",
          "OIBR4.SA",
          "OIBR3.SA",
          "VIVT3.SA",
          "TIMS3.SA",
          "CMIG4.SA",
          "CMIG3.SA",
          "CPLE3.SA",
          "CPFE3.SA",
          "ELET3.SA",
          "ENBR3.SA",
          "ENEV3.SA",
          "EGIE3.SA",
          "EQTL3.SA",
          "LIGT3.SA",
          "NEOE3.SA",
          "RNEW4.SA",
          "RNEW3.SA",
          "TAEE4.SA",
          "TAEE3.SA",
          "TRPL4.SA",
          "CSMG3.SA",
          "SBSP3.SA",
          "SAPR4.SA",
          "SAPR3.SA",
          "ABCB4.SA",
          "BMGB4.SA",
          "BPAN4.SA",
          "BBDC4.SA",
          "BBDC3.SA",
          "BBAS3.SA",
          "ITSA4.SA",
          "ITSA3.SA",
          "ITUB4.SA",
          "ITUB3.SA",
          "PINE4.SA",
          "SANB4.SA",
          "SANB3.SA",
          "B3SA3.SA",
          "CIEL3.SA",
          "CARD3.SA",
          "BBSE3.SA",
          "PSSA3.SA",
          "APER3.SA",
          "WIZS3.SA",
          "ALSO3.SA",
          "BRML3.SA",
          "BRPR3.SA",
          "IGTI3.SA",
          "LOGG3.SA",
          "MULT3.SA",
          "SYNE3.SA",
          "BBRK3.SA",
          "LPSB3.SA",
          "BLUT4.SA"
         ],
         "legendgroup": "",
         "marker": {
          "color": [
           0,
           1,
           8,
           7,
           8,
           8,
           7,
           8,
           0,
           1,
           0,
           0,
           0,
           0,
           3,
           0,
           3,
           0,
           9,
           3,
           2,
           7,
           1,
           8,
           3,
           5,
           5,
           0,
           9,
           7,
           3,
           2,
           7,
           2,
           1,
           9,
           5,
           3,
           0,
           8,
           2,
           1,
           0,
           0,
           0,
           0,
           9,
           5,
           8,
           2,
           9,
           7,
           7,
           0,
           9,
           3,
           3,
           3,
           7,
           8,
           2,
           3,
           8,
           5,
           5,
           3,
           3,
           0,
           3,
           0,
           4,
           5,
           5,
           3,
           3,
           5,
           6,
           8,
           3,
           9,
           8,
           9,
           2,
           8,
           6,
           8,
           2,
           3,
           2,
           9,
           8,
           0,
           9,
           6,
           2,
           7,
           2,
           3,
           3,
           5,
           0,
           9,
           9,
           3,
           8,
           2,
           2,
           7,
           3,
           9,
           3,
           8,
           8,
           9,
           8,
           0,
           9,
           9,
           2,
           7,
           3,
           3,
           2,
           9,
           9,
           8,
           2,
           5,
           0,
           0,
           5,
           0,
           0,
           5,
           5,
           7,
           9,
           7,
           3,
           0,
           9,
           9,
           5,
           5,
           0,
           0,
           0,
           5,
           8,
           4,
           0,
           4,
           5,
           8,
           5,
           9,
           2,
           4,
           4,
           4,
           0,
           0,
           5,
           0,
           5,
           0,
           2,
           0,
           0,
           0,
           5,
           4,
           5,
           5,
           8,
           0,
           0,
           0,
           8,
           0,
           5,
           5,
           8,
           8,
           8,
           3,
           0,
           3,
           3,
           3,
           3,
           1,
           2,
           6
          ],
          "coloraxis": "coloraxis",
          "symbol": "circle"
         },
         "mode": "markers",
         "name": "",
         "orientation": "v",
         "showlegend": false,
         "type": "scatter",
         "x": [
          0.03380031491603314,
          0.0719801734327818,
          0.041396614016561126,
          0.059330808510857626,
          0.041665669316091225,
          0.043376188425177,
          0.06173724307314133,
          0.04212164095596907,
          0.0352608361636276,
          0.07501977526877883,
          0.03120346193410951,
          0.0310163219081988,
          0.03174023725655114,
          0.03339104841504144,
          0.03757240571224963,
          0.03263853984587228,
          0.03775058508881106,
          0.03354706373721956,
          0.045464405486523564,
          0.03821972197349418,
          0.05076972691175917,
          0.05836136324854447,
          0.06590082423609588,
          0.04472572346851277,
          0.04042197231951901,
          0.027920491190760673,
          0.02729400015377718,
          0.0323638438556725,
          0.04698720619694172,
          0.059253421839163094,
          0.039839597267224344,
          0.05109115652166385,
          0.06336700151223551,
          0.05559461617923184,
          0.0672699191094197,
          0.04779447306928398,
          0.025629134529717504,
          0.038222294048385445,
          0.03488581340683302,
          0.04121497034801731,
          0.05316475639818075,
          0.06706861982469497,
          0.03373622978756791,
          0.03347882888052408,
          0.032798242182523564,
          0.033835690950536394,
          0.04744943057965356,
          0.023940127412819884,
          0.04513438745111048,
          0.051675004717315794,
          0.044574711335171095,
          0.0632933422812097,
          0.06327493305415818,
          0.03448736893656075,
          0.04782317985772623,
          0.04035838177022405,
          0.038154521010321824,
          0.04016230145984656,
          0.05997727580873473,
          0.0410560414408744,
          0.05513043197821813,
          0.036607810695035964,
          0.043132559925111315,
          0.02427844857508746,
          0.025781828325207035,
          0.039043583006090926,
          0.03749253306719522,
          0.03430967990856735,
          0.03909920178799087,
          0.03362215445609201,
          0.02284065282344994,
          0.029063910508614125,
          0.027612172816454977,
          0.0386272972272231,
          0.03670230589931704,
          0.024813473359451485,
          0.08523813562825482,
          0.04542077027890224,
          0.03780480909365574,
          0.047899732671816644,
          0.04369627514739099,
          0.048468303614240635,
          0.05703803465041965,
          0.042873657293863755,
          0.08103861557832336,
          0.04111736809683996,
          0.05188602971415916,
          0.037546926624009144,
          0.055068819623208906,
          0.04912679949162121,
          0.04540589763528826,
          0.03591709309855373,
          0.04633482048588767,
          0.08443017514717913,
          0.05500966488058245,
          0.059304868619958775,
          0.05128008027950782,
          0.03825419106574617,
          0.03839871479655901,
          0.028134187224163158,
          0.03489351821328089,
          0.04834735450320257,
          0.04874945125315265,
          0.03836903830117869,
          0.04389202280201378,
          0.05078095200080944,
          0.05292420905433469,
          0.061661850831742984,
          0.03993930901614393,
          0.04789813801099107,
          0.039749789684483686,
          0.04491687590752722,
          0.04341859716131059,
          0.04588389493260313,
          0.041806339338782354,
          0.03494389377652245,
          0.04844854251850288,
          0.04700262313498619,
          0.05448119836747111,
          0.05826391609756534,
          0.03764073912993509,
          0.0407178219172634,
          0.05210522060781364,
          0.046460882113315644,
          0.04754698378628455,
          0.04116255266816659,
          0.05661340062963936,
          0.026181608786284886,
          0.03501157806425898,
          0.034006871959056405,
          0.024426948860494763,
          0.033444561932104225,
          0.030664096881038053,
          0.02970357386867155,
          0.0247619315468421,
          0.05891805941331725,
          0.0480896890989959,
          0.058548614351196564,
          0.03661606125788471,
          0.03505728126267308,
          0.04798056956687184,
          0.04591070543220174,
          0.02356166410249832,
          0.02730774433489472,
          0.03286751614653194,
          0.034738863662285374,
          0.03027119992849649,
          0.025663487515500915,
          0.04338207664417431,
          0.022644311461484674,
          0.030442295960421705,
          0.021007396868317603,
          0.02631642670939272,
          0.04265968413026124,
          0.027403225002898265,
          0.047960929438156684,
          0.0508531239425581,
          0.01853256166406714,
          0.01742049113081013,
          0.01895222229202607,
          0.030961884577303162,
          0.034553895636428696,
          0.028603655500101344,
          0.033055526933136986,
          0.02825286034063901,
          0.03392425097735612,
          0.05370579111293311,
          0.03360517330846542,
          0.032149674819283894,
          0.03549182530924328,
          0.02601662280844868,
          0.01945002138301572,
          0.028645896309968364,
          0.02506738820117482,
          0.04446821509659155,
          0.03362616737020255,
          0.03304993528450994,
          0.03213093284893773,
          0.043588929948785604,
          0.03367380899967782,
          0.02396961265783474,
          0.023348388513631232,
          0.043657797362703775,
          0.042406536914792056,
          0.04256484597597142,
          0.04012486117159099,
          0.030961387222619506,
          0.039978197861522756,
          0.04004420421601257,
          0.03915763031650789,
          0.036447167715575296,
          0.06926430775142987,
          0.05645485312270982,
          0.08804809426152521
         ],
         "xaxis": "x",
         "y": [
          0.0013016114161491703,
          0.0006019622805624236,
          0.0016664840021466567,
          0.002488255894105075,
          0.0012070268285086392,
          0.0011573069125938415,
          0.004471527338752469,
          0.0006965453108763153,
          0.0005977186787905524,
          0.005102622628645757,
          0.002865985102386151,
          0.002452356253250388,
          0.0032421773795440734,
          0.0031628740218050243,
          0.0024436709535288295,
          0.002146348027607045,
          0.002387068913939103,
          0.0022107482617875845,
          0.005030047728710527,
          0.002996163695310766,
          0.0003377387002067717,
          0.006970885946294035,
          0.0072116921647082275,
          0.0019025720619108182,
          0.0016538226160257297,
          0.0009793054234602785,
          0.0017027014882818152,
          0.0018192504613115021,
          0.0029530786609829793,
          0.006177486112013346,
          0.002059444628808404,
          0.004728620032553816,
          0.004238167121553162,
          0.005015788976242775,
          0.004218482194928842,
          0.0013983867633192632,
          0.0025345549455481078,
          -0.0006107661226954382,
          -0.0005119488868753249,
          0.0013873207792195117,
          0.0017822389751785592,
          0.0049429937312839905,
          0.0007803039218525761,
          0.0015911565164878792,
          0.0017534842594594793,
          0.0010020015729570652,
          0.0028930768394613417,
          0.0023463631328187375,
          0.0008271314440921578,
          0.00624147494497269,
          0.006249998452731977,
          0.0020590065005037686,
          0.001689533283749527,
          0.0002701763820922047,
          0.0009003248357584313,
          -0.00039016553216637937,
          0.000016446245520015422,
          -0.00016734544166051142,
          0.004033917988210753,
          0.0019565965908763714,
          0.0014842297288986976,
          -0.000336029101160263,
          -0.00006179374550144906,
          0.001574441654262314,
          0.0029494404419018456,
          0.0015444787422439804,
          0.0006093630190379403,
          0.001212647109651842,
          0.0019956957554603887,
          -0.00018966802135966936,
          0.0004787965683197976,
          -0.0005561140881482186,
          0.0008818896485794828,
          0.0014743386661606416,
          0.0013477790338534581,
          0.0002536798465083085,
          0.003226569647991931,
          0.00016688454521863658,
          0.0004535787347477804,
          0.00015868841618676534,
          -0.00037218275119046935,
          0.00011747770304147985,
          -0.0007472485828663517,
          0.0010732034339466488,
          0.002419921430609884,
          -0.00021400609214179727,
          -0.00004467502684342673,
          0.0001920047621487502,
          0.0018509488996712503,
          0.001983524210644163,
          -0.0008833079491796069,
          -0.0005269085272792328,
          -0.0002817578712600663,
          0.0061536784244897915,
          0.0019850591214289888,
          -0.0006352460370728823,
          0.001093956521930803,
          0.002096864286415024,
          0.0003152618841302947,
          0.0004387441160144112,
          0.0011663084708691432,
          0.002009073195749131,
          0.001739425718267158,
          0.0005848865825739227,
          0.00041103973500825487,
          -0.0007532297617573384,
          0.002369604390708973,
          0.002766888409591297,
          0.0013242535233246018,
          -0.001382999161927363,
          -0.00028508063811000565,
          -0.0002500237035790108,
          0.001738534318184594,
          0.001855672669096266,
          0.0010291952292469935,
          0.002043665195378293,
          0.0009417426397125481,
          0.00025293817110757713,
          -0.0025591544698930113,
          0.00047938833286573663,
          -0.00011644769826241203,
          0.0023784210691447844,
          0.0017436385991098874,
          0.0013078728421263008,
          0.0004815830332244123,
          -0.0009288443063510521,
          0.0012878685213465035,
          -0.00014936215972660978,
          0.001714698384136959,
          -0.00047513830368436195,
          -0.00044045541938902375,
          -0.000016853922679774886,
          -0.00020079331363863926,
          0.00001125780322737108,
          0.0003244028695065657,
          0.003510795657794732,
          0.005890796081630565,
          0.004015874364831609,
          0.00078452255476589,
          0.0018985627925752564,
          0.0025245542772954896,
          0.002321045234529554,
          -0.0003175844976519839,
          -0.0007063784771120376,
          0.0005141119820533457,
          0.0009783343977510185,
          -0.0006836401506883863,
          -0.0006307743537472458,
          0.001603175466015213,
          -0.00022389734423607332,
          0.001705096169206678,
          -0.0004093560343564137,
          0.00023918519849103564,
          -0.00017953659673428747,
          -0.0006691686046106467,
          0.0014563088829138485,
          0.001129800943206126,
          0.0008469190814914406,
          0.0008006895939423174,
          0.000568216783380409,
          -0.00030611109965664743,
          -0.000911582111529363,
          -0.0012021714805267917,
          -0.001160985688450557,
          -0.00021788231532232654,
          -0.0002928116329753304,
          0.0044338133551002495,
          0.000332829346525523,
          0.0004170776044315875,
          -0.0005237736926614887,
          0.00007384966807795769,
          -0.0002008671263664182,
          0.0002359499259502965,
          0.0001263609731939588,
          0.000271264958605359,
          0.0007835367110888729,
          0.0006558761626481954,
          0.0005834826456914267,
          -0.0011306415679146944,
          0.002481275133350899,
          -0.000597210517890514,
          -0.0001885771228696483,
          0.0030041939748392844,
          0.0014274837155325148,
          -0.0006276080408095166,
          -0.000741320504255135,
          -0.0009118351890274335,
          0.00042231589572590684,
          0.0011569942200866806,
          -0.0002129420215308008,
          -0.0016314777926019083,
          0.0004397554562906304,
          -0.00016714020317031984,
          0.006634866238108875
         ],
         "yaxis": "y"
        }
       ],
       "layout": {
        "coloraxis": {
         "colorbar": {
          "title": {
           "text": "cluster"
          }
         },
         "colorscale": [
          [
           0,
           "#0d0887"
          ],
          [
           0.1111111111111111,
           "#46039f"
          ],
          [
           0.2222222222222222,
           "#7201a8"
          ],
          [
           0.3333333333333333,
           "#9c179e"
          ],
          [
           0.4444444444444444,
           "#bd3786"
          ],
          [
           0.5555555555555556,
           "#d8576b"
          ],
          [
           0.6666666666666666,
           "#ed7953"
          ],
          [
           0.7777777777777778,
           "#fb9f3a"
          ],
          [
           0.8888888888888888,
           "#fdca26"
          ],
          [
           1,
           "#f0f921"
          ]
         ]
        },
        "legend": {
         "tracegroupgap": 0
        },
        "margin": {
         "t": 60
        },
        "template": {
         "data": {
          "bar": [
           {
            "error_x": {
             "color": "#f2f5fa"
            },
            "error_y": {
             "color": "#f2f5fa"
            },
            "marker": {
             "line": {
              "color": "rgb(17,17,17)",
              "width": 0.5
             },
             "pattern": {
              "fillmode": "overlay",
              "size": 10,
              "solidity": 0.2
             }
            },
            "type": "bar"
           }
          ],
          "barpolar": [
           {
            "marker": {
             "line": {
              "color": "rgb(17,17,17)",
              "width": 0.5
             },
             "pattern": {
              "fillmode": "overlay",
              "size": 10,
              "solidity": 0.2
             }
            },
            "type": "barpolar"
           }
          ],
          "carpet": [
           {
            "aaxis": {
             "endlinecolor": "#A2B1C6",
             "gridcolor": "#506784",
             "linecolor": "#506784",
             "minorgridcolor": "#506784",
             "startlinecolor": "#A2B1C6"
            },
            "baxis": {
             "endlinecolor": "#A2B1C6",
             "gridcolor": "#506784",
             "linecolor": "#506784",
             "minorgridcolor": "#506784",
             "startlinecolor": "#A2B1C6"
            },
            "type": "carpet"
           }
          ],
          "choropleth": [
           {
            "colorbar": {
             "outlinewidth": 0,
             "ticks": ""
            },
            "type": "choropleth"
           }
          ],
          "contour": [
           {
            "colorbar": {
             "outlinewidth": 0,
             "ticks": ""
            },
            "colorscale": [
             [
              0,
              "#0d0887"
             ],
             [
              0.1111111111111111,
              "#46039f"
             ],
             [
              0.2222222222222222,
              "#7201a8"
             ],
             [
              0.3333333333333333,
              "#9c179e"
             ],
             [
              0.4444444444444444,
              "#bd3786"
             ],
             [
              0.5555555555555556,
              "#d8576b"
             ],
             [
              0.6666666666666666,
              "#ed7953"
             ],
             [
              0.7777777777777778,
              "#fb9f3a"
             ],
             [
              0.8888888888888888,
              "#fdca26"
             ],
             [
              1,
              "#f0f921"
             ]
            ],
            "type": "contour"
           }
          ],
          "contourcarpet": [
           {
            "colorbar": {
             "outlinewidth": 0,
             "ticks": ""
            },
            "type": "contourcarpet"
           }
          ],
          "heatmap": [
           {
            "colorbar": {
             "outlinewidth": 0,
             "ticks": ""
            },
            "colorscale": [
             [
              0,
              "#0d0887"
             ],
             [
              0.1111111111111111,
              "#46039f"
             ],
             [
              0.2222222222222222,
              "#7201a8"
             ],
             [
              0.3333333333333333,
              "#9c179e"
             ],
             [
              0.4444444444444444,
              "#bd3786"
             ],
             [
              0.5555555555555556,
              "#d8576b"
             ],
             [
              0.6666666666666666,
              "#ed7953"
             ],
             [
              0.7777777777777778,
              "#fb9f3a"
             ],
             [
              0.8888888888888888,
              "#fdca26"
             ],
             [
              1,
              "#f0f921"
             ]
            ],
            "type": "heatmap"
           }
          ],
          "heatmapgl": [
           {
            "colorbar": {
             "outlinewidth": 0,
             "ticks": ""
            },
            "colorscale": [
             [
              0,
              "#0d0887"
             ],
             [
              0.1111111111111111,
              "#46039f"
             ],
             [
              0.2222222222222222,
              "#7201a8"
             ],
             [
              0.3333333333333333,
              "#9c179e"
             ],
             [
              0.4444444444444444,
              "#bd3786"
             ],
             [
              0.5555555555555556,
              "#d8576b"
             ],
             [
              0.6666666666666666,
              "#ed7953"
             ],
             [
              0.7777777777777778,
              "#fb9f3a"
             ],
             [
              0.8888888888888888,
              "#fdca26"
             ],
             [
              1,
              "#f0f921"
             ]
            ],
            "type": "heatmapgl"
           }
          ],
          "histogram": [
           {
            "marker": {
             "pattern": {
              "fillmode": "overlay",
              "size": 10,
              "solidity": 0.2
             }
            },
            "type": "histogram"
           }
          ],
          "histogram2d": [
           {
            "colorbar": {
             "outlinewidth": 0,
             "ticks": ""
            },
            "colorscale": [
             [
              0,
              "#0d0887"
             ],
             [
              0.1111111111111111,
              "#46039f"
             ],
             [
              0.2222222222222222,
              "#7201a8"
             ],
             [
              0.3333333333333333,
              "#9c179e"
             ],
             [
              0.4444444444444444,
              "#bd3786"
             ],
             [
              0.5555555555555556,
              "#d8576b"
             ],
             [
              0.6666666666666666,
              "#ed7953"
             ],
             [
              0.7777777777777778,
              "#fb9f3a"
             ],
             [
              0.8888888888888888,
              "#fdca26"
             ],
             [
              1,
              "#f0f921"
             ]
            ],
            "type": "histogram2d"
           }
          ],
          "histogram2dcontour": [
           {
            "colorbar": {
             "outlinewidth": 0,
             "ticks": ""
            },
            "colorscale": [
             [
              0,
              "#0d0887"
             ],
             [
              0.1111111111111111,
              "#46039f"
             ],
             [
              0.2222222222222222,
              "#7201a8"
             ],
             [
              0.3333333333333333,
              "#9c179e"
             ],
             [
              0.4444444444444444,
              "#bd3786"
             ],
             [
              0.5555555555555556,
              "#d8576b"
             ],
             [
              0.6666666666666666,
              "#ed7953"
             ],
             [
              0.7777777777777778,
              "#fb9f3a"
             ],
             [
              0.8888888888888888,
              "#fdca26"
             ],
             [
              1,
              "#f0f921"
             ]
            ],
            "type": "histogram2dcontour"
           }
          ],
          "mesh3d": [
           {
            "colorbar": {
             "outlinewidth": 0,
             "ticks": ""
            },
            "type": "mesh3d"
           }
          ],
          "parcoords": [
           {
            "line": {
             "colorbar": {
              "outlinewidth": 0,
              "ticks": ""
             }
            },
            "type": "parcoords"
           }
          ],
          "pie": [
           {
            "automargin": true,
            "type": "pie"
           }
          ],
          "scatter": [
           {
            "marker": {
             "line": {
              "color": "#283442"
             }
            },
            "type": "scatter"
           }
          ],
          "scatter3d": [
           {
            "line": {
             "colorbar": {
              "outlinewidth": 0,
              "ticks": ""
             }
            },
            "marker": {
             "colorbar": {
              "outlinewidth": 0,
              "ticks": ""
             }
            },
            "type": "scatter3d"
           }
          ],
          "scattercarpet": [
           {
            "marker": {
             "colorbar": {
              "outlinewidth": 0,
              "ticks": ""
             }
            },
            "type": "scattercarpet"
           }
          ],
          "scattergeo": [
           {
            "marker": {
             "colorbar": {
              "outlinewidth": 0,
              "ticks": ""
             }
            },
            "type": "scattergeo"
           }
          ],
          "scattergl": [
           {
            "marker": {
             "line": {
              "color": "#283442"
             }
            },
            "type": "scattergl"
           }
          ],
          "scattermapbox": [
           {
            "marker": {
             "colorbar": {
              "outlinewidth": 0,
              "ticks": ""
             }
            },
            "type": "scattermapbox"
           }
          ],
          "scatterpolar": [
           {
            "marker": {
             "colorbar": {
              "outlinewidth": 0,
              "ticks": ""
             }
            },
            "type": "scatterpolar"
           }
          ],
          "scatterpolargl": [
           {
            "marker": {
             "colorbar": {
              "outlinewidth": 0,
              "ticks": ""
             }
            },
            "type": "scatterpolargl"
           }
          ],
          "scatterternary": [
           {
            "marker": {
             "colorbar": {
              "outlinewidth": 0,
              "ticks": ""
             }
            },
            "type": "scatterternary"
           }
          ],
          "surface": [
           {
            "colorbar": {
             "outlinewidth": 0,
             "ticks": ""
            },
            "colorscale": [
             [
              0,
              "#0d0887"
             ],
             [
              0.1111111111111111,
              "#46039f"
             ],
             [
              0.2222222222222222,
              "#7201a8"
             ],
             [
              0.3333333333333333,
              "#9c179e"
             ],
             [
              0.4444444444444444,
              "#bd3786"
             ],
             [
              0.5555555555555556,
              "#d8576b"
             ],
             [
              0.6666666666666666,
              "#ed7953"
             ],
             [
              0.7777777777777778,
              "#fb9f3a"
             ],
             [
              0.8888888888888888,
              "#fdca26"
             ],
             [
              1,
              "#f0f921"
             ]
            ],
            "type": "surface"
           }
          ],
          "table": [
           {
            "cells": {
             "fill": {
              "color": "#506784"
             },
             "line": {
              "color": "rgb(17,17,17)"
             }
            },
            "header": {
             "fill": {
              "color": "#2a3f5f"
             },
             "line": {
              "color": "rgb(17,17,17)"
             }
            },
            "type": "table"
           }
          ]
         },
         "layout": {
          "annotationdefaults": {
           "arrowcolor": "#f2f5fa",
           "arrowhead": 0,
           "arrowwidth": 1
          },
          "autotypenumbers": "strict",
          "coloraxis": {
           "colorbar": {
            "outlinewidth": 0,
            "ticks": ""
           }
          },
          "colorscale": {
           "diverging": [
            [
             0,
             "#8e0152"
            ],
            [
             0.1,
             "#c51b7d"
            ],
            [
             0.2,
             "#de77ae"
            ],
            [
             0.3,
             "#f1b6da"
            ],
            [
             0.4,
             "#fde0ef"
            ],
            [
             0.5,
             "#f7f7f7"
            ],
            [
             0.6,
             "#e6f5d0"
            ],
            [
             0.7,
             "#b8e186"
            ],
            [
             0.8,
             "#7fbc41"
            ],
            [
             0.9,
             "#4d9221"
            ],
            [
             1,
             "#276419"
            ]
           ],
           "sequential": [
            [
             0,
             "#0d0887"
            ],
            [
             0.1111111111111111,
             "#46039f"
            ],
            [
             0.2222222222222222,
             "#7201a8"
            ],
            [
             0.3333333333333333,
             "#9c179e"
            ],
            [
             0.4444444444444444,
             "#bd3786"
            ],
            [
             0.5555555555555556,
             "#d8576b"
            ],
            [
             0.6666666666666666,
             "#ed7953"
            ],
            [
             0.7777777777777778,
             "#fb9f3a"
            ],
            [
             0.8888888888888888,
             "#fdca26"
            ],
            [
             1,
             "#f0f921"
            ]
           ],
           "sequentialminus": [
            [
             0,
             "#0d0887"
            ],
            [
             0.1111111111111111,
             "#46039f"
            ],
            [
             0.2222222222222222,
             "#7201a8"
            ],
            [
             0.3333333333333333,
             "#9c179e"
            ],
            [
             0.4444444444444444,
             "#bd3786"
            ],
            [
             0.5555555555555556,
             "#d8576b"
            ],
            [
             0.6666666666666666,
             "#ed7953"
            ],
            [
             0.7777777777777778,
             "#fb9f3a"
            ],
            [
             0.8888888888888888,
             "#fdca26"
            ],
            [
             1,
             "#f0f921"
            ]
           ]
          },
          "colorway": [
           "#636efa",
           "#EF553B",
           "#00cc96",
           "#ab63fa",
           "#FFA15A",
           "#19d3f3",
           "#FF6692",
           "#B6E880",
           "#FF97FF",
           "#FECB52"
          ],
          "font": {
           "color": "#f2f5fa"
          },
          "geo": {
           "bgcolor": "rgb(17,17,17)",
           "lakecolor": "rgb(17,17,17)",
           "landcolor": "rgb(17,17,17)",
           "showlakes": true,
           "showland": true,
           "subunitcolor": "#506784"
          },
          "hoverlabel": {
           "align": "left"
          },
          "hovermode": "closest",
          "mapbox": {
           "style": "dark"
          },
          "paper_bgcolor": "rgb(17,17,17)",
          "plot_bgcolor": "rgb(17,17,17)",
          "polar": {
           "angularaxis": {
            "gridcolor": "#506784",
            "linecolor": "#506784",
            "ticks": ""
           },
           "bgcolor": "rgb(17,17,17)",
           "radialaxis": {
            "gridcolor": "#506784",
            "linecolor": "#506784",
            "ticks": ""
           }
          },
          "scene": {
           "xaxis": {
            "backgroundcolor": "rgb(17,17,17)",
            "gridcolor": "#506784",
            "gridwidth": 2,
            "linecolor": "#506784",
            "showbackground": true,
            "ticks": "",
            "zerolinecolor": "#C8D4E3"
           },
           "yaxis": {
            "backgroundcolor": "rgb(17,17,17)",
            "gridcolor": "#506784",
            "gridwidth": 2,
            "linecolor": "#506784",
            "showbackground": true,
            "ticks": "",
            "zerolinecolor": "#C8D4E3"
           },
           "zaxis": {
            "backgroundcolor": "rgb(17,17,17)",
            "gridcolor": "#506784",
            "gridwidth": 2,
            "linecolor": "#506784",
            "showbackground": true,
            "ticks": "",
            "zerolinecolor": "#C8D4E3"
           }
          },
          "shapedefaults": {
           "line": {
            "color": "#f2f5fa"
           }
          },
          "sliderdefaults": {
           "bgcolor": "#C8D4E3",
           "bordercolor": "rgb(17,17,17)",
           "borderwidth": 1,
           "tickwidth": 0
          },
          "ternary": {
           "aaxis": {
            "gridcolor": "#506784",
            "linecolor": "#506784",
            "ticks": ""
           },
           "baxis": {
            "gridcolor": "#506784",
            "linecolor": "#506784",
            "ticks": ""
           },
           "bgcolor": "rgb(17,17,17)",
           "caxis": {
            "gridcolor": "#506784",
            "linecolor": "#506784",
            "ticks": ""
           }
          },
          "title": {
           "x": 0.05
          },
          "updatemenudefaults": {
           "bgcolor": "#506784",
           "borderwidth": 0
          },
          "xaxis": {
           "automargin": true,
           "gridcolor": "#283442",
           "linecolor": "#506784",
           "ticks": "",
           "title": {
            "standoff": 15
           },
           "zerolinecolor": "#283442",
           "zerolinewidth": 2
          },
          "yaxis": {
           "automargin": true,
           "gridcolor": "#283442",
           "linecolor": "#506784",
           "ticks": "",
           "title": {
            "standoff": 15
           },
           "zerolinecolor": "#283442",
           "zerolinewidth": 2
          }
         }
        },
        "xaxis": {
         "anchor": "y",
         "domain": [
          0,
          1
         ],
         "title": {
          "text": "Risk"
         }
        },
        "yaxis": {
         "anchor": "x",
         "domain": [
          0,
          1
         ],
         "title": {
          "text": "Return"
         }
        }
       }
      }
     },
     "metadata": {},
     "output_type": "display_data"
    }
   ],
   "source": [
    "# TODO: A Clusterização não tá legal. Ativos muito diferentes estão sendo agrupados juntos\n",
    "# Ideias:\n",
    "#         1. Usar outro algorótimo de cluster\n",
    "#         2. Normalizar os dados de maneira diferente\n",
    "#         3. Usar outra escala na hora de normalizar (logarítmica por exmeplo)\n",
    "\n",
    "\n",
    "# colors = {'#FFFFFF', '#F0A3FF', '#0075DC', '#993F00', '#4C005C', '#191919', '#005C31', '#2BCE48', '#FFCC99', '#808080', '#94FFB5', '#8F7C00', '#9DCC00', '#C20088', '#003380', '#FFA405', '#FFA8BB', '#426600', '#FF0010', '#5EF1F2', '#00998F', '#E0FF66', '#740AFF', '#990000', '#FFFF80', '#FFFF00', '#FF5005'}\n",
    "\n",
    "# df_ = df.copy()\n",
    "\n",
    "# df['Return'] = preprocessing.normalize([df['Return']])[0]\n",
    "# df['Risk'] = preprocessing.normalize([df['Risk']])[0]\n",
    "\n",
    "kmeans = KMeans(n_clusters=BEST_NUMBER_OF_CLUSTERS).fit(df[[\"Risk\", \"Return\"]])\n",
    "y_kmeans = kmeans.predict(df[[\"Risk\", \"Return\"]])\n",
    "\n",
    "# mapping_colors = defaultdict(lambda: False)\n",
    "\n",
    "# for cluster in y_kmeans:\n",
    "#     if mapping_colors[cluster] is False:\n",
    "#         color = colors.pop()\n",
    "#         mapping_colors[cluster] = color\n",
    "\n",
    "# df['cluster'] = [ mapping_colors[cluster] for cluster in y_kmeans ]\n",
    "\n",
    "df['cluster'] = y_kmeans\n",
    "\n",
    "px.scatter(\n",
    "    df, \n",
    "    x='Risk', \n",
    "    y='Return', \n",
    "    hover_name='Stock', \n",
    "    color='cluster', \n",
    "    template='plotly_dark',\n",
    ")"
   ]
  },
  {
   "cell_type": "markdown",
   "id": "7f5a07aa",
   "metadata": {},
   "source": [
    "#### 7. Escolher os melhores ativos de cada cluster"
   ]
  },
  {
   "cell_type": "code",
   "execution_count": 26,
   "id": "ca13db6f",
   "metadata": {},
   "outputs": [
    {
     "name": "stderr",
     "output_type": "stream",
     "text": [
      "/tmp/ipykernel_47229/3870674153.py:11: SettingWithCopyWarning:\n",
      "\n",
      "\n",
      "A value is trying to be set on a copy of a slice from a DataFrame.\n",
      "Try using .loc[row_indexer,col_indexer] = value instead\n",
      "\n",
      "See the caveats in the documentation: https://pandas.pydata.org/pandas-docs/stable/user_guide/indexing.html#returning-a-view-versus-a-copy\n",
      "\n",
      "/home/durval/faculdade/2022-01/sinais-financeiros/trabalho-grupo/env/lib/python3.8/site-packages/pandas/core/indexing.py:1817: SettingWithCopyWarning:\n",
      "\n",
      "\n",
      "A value is trying to be set on a copy of a slice from a DataFrame.\n",
      "Try using .loc[row_indexer,col_indexer] = value instead\n",
      "\n",
      "See the caveats in the documentation: https://pandas.pydata.org/pandas-docs/stable/user_guide/indexing.html#returning-a-view-versus-a-copy\n",
      "\n"
     ]
    },
    {
     "data": {
      "text/html": [
       "<div>\n",
       "<style scoped>\n",
       "    .dataframe tbody tr th:only-of-type {\n",
       "        vertical-align: middle;\n",
       "    }\n",
       "\n",
       "    .dataframe tbody tr th {\n",
       "        vertical-align: top;\n",
       "    }\n",
       "\n",
       "    .dataframe thead th {\n",
       "        text-align: right;\n",
       "    }\n",
       "</style>\n",
       "<table border=\"1\" class=\"dataframe\">\n",
       "  <thead>\n",
       "    <tr style=\"text-align: right;\">\n",
       "      <th></th>\n",
       "      <th>Stock</th>\n",
       "      <th>Return</th>\n",
       "      <th>Risk</th>\n",
       "      <th>Sector</th>\n",
       "      <th>Sub-Sector</th>\n",
       "      <th>Segment</th>\n",
       "      <th>Sharpe</th>\n",
       "      <th>cluster</th>\n",
       "      <th>selected</th>\n",
       "    </tr>\n",
       "  </thead>\n",
       "  <tbody>\n",
       "    <tr>\n",
       "      <th>14</th>\n",
       "      <td>VALE3.SA</td>\n",
       "      <td>0.003242</td>\n",
       "      <td>0.031740</td>\n",
       "      <td>Materiais Básicos</td>\n",
       "      <td>Mineração</td>\n",
       "      <td>Minerais Metálicos</td>\n",
       "      <td>0.102147</td>\n",
       "      <td>0</td>\n",
       "      <td>True</td>\n",
       "    </tr>\n",
       "    <tr>\n",
       "      <th>21</th>\n",
       "      <td>USIM3.SA</td>\n",
       "      <td>0.002996</td>\n",
       "      <td>0.038220</td>\n",
       "      <td>Materiais Básicos</td>\n",
       "      <td>Siderurgia e Metalurgia</td>\n",
       "      <td>Siderurgia</td>\n",
       "      <td>0.078393</td>\n",
       "      <td>3</td>\n",
       "      <td>True</td>\n",
       "    </tr>\n",
       "    <tr>\n",
       "      <th>23</th>\n",
       "      <td>DEXP3.SA</td>\n",
       "      <td>0.006971</td>\n",
       "      <td>0.058361</td>\n",
       "      <td>Materiais Básicos</td>\n",
       "      <td>Químicos</td>\n",
       "      <td>Petroquímicos</td>\n",
       "      <td>0.119444</td>\n",
       "      <td>7</td>\n",
       "      <td>True</td>\n",
       "    </tr>\n",
       "    <tr>\n",
       "      <th>24</th>\n",
       "      <td>FHER3.SA</td>\n",
       "      <td>0.007212</td>\n",
       "      <td>0.065901</td>\n",
       "      <td>Materiais Básicos</td>\n",
       "      <td>Químicos</td>\n",
       "      <td>Fertilizantes e Defensivos</td>\n",
       "      <td>0.109433</td>\n",
       "      <td>1</td>\n",
       "      <td>True</td>\n",
       "    </tr>\n",
       "    <tr>\n",
       "      <th>54</th>\n",
       "      <td>TASA4.SA</td>\n",
       "      <td>0.006241</td>\n",
       "      <td>0.051675</td>\n",
       "      <td>Bens Industriais</td>\n",
       "      <td>Máquinas e Equipamentos</td>\n",
       "      <td>Armas e Munições</td>\n",
       "      <td>0.120783</td>\n",
       "      <td>2</td>\n",
       "      <td>True</td>\n",
       "    </tr>\n",
       "    <tr>\n",
       "      <th>55</th>\n",
       "      <td>TASA3.SA</td>\n",
       "      <td>0.006250</td>\n",
       "      <td>0.044575</td>\n",
       "      <td>Bens Industriais</td>\n",
       "      <td>Máquinas e Equipamentos</td>\n",
       "      <td>Armas e Munições</td>\n",
       "      <td>0.140214</td>\n",
       "      <td>9</td>\n",
       "      <td>True</td>\n",
       "    </tr>\n",
       "    <tr>\n",
       "      <th>69</th>\n",
       "      <td>SLCE3.SA</td>\n",
       "      <td>0.002949</td>\n",
       "      <td>0.025782</td>\n",
       "      <td>Consumo não Cíclico</td>\n",
       "      <td>Agropecuária</td>\n",
       "      <td>Agricultura</td>\n",
       "      <td>0.114400</td>\n",
       "      <td>5</td>\n",
       "      <td>True</td>\n",
       "    </tr>\n",
       "    <tr>\n",
       "      <th>164</th>\n",
       "      <td>TAEE3.SA</td>\n",
       "      <td>0.000801</td>\n",
       "      <td>0.017420</td>\n",
       "      <td>Utilidade Pública</td>\n",
       "      <td>Energia Elétrica</td>\n",
       "      <td>Energia Elétrica</td>\n",
       "      <td>0.045963</td>\n",
       "      <td>4</td>\n",
       "      <td>True</td>\n",
       "    </tr>\n",
       "    <tr>\n",
       "      <th>189</th>\n",
       "      <td>APER3.SA</td>\n",
       "      <td>0.003004</td>\n",
       "      <td>0.043658</td>\n",
       "      <td>Financeiro</td>\n",
       "      <td>Previdência e Seguros</td>\n",
       "      <td>Corretoras de Seguros e Resseguros</td>\n",
       "      <td>0.068812</td>\n",
       "      <td>8</td>\n",
       "      <td>True</td>\n",
       "    </tr>\n",
       "    <tr>\n",
       "      <th>201</th>\n",
       "      <td>BLUT4.SA</td>\n",
       "      <td>0.006635</td>\n",
       "      <td>0.088048</td>\n",
       "      <td>Outros</td>\n",
       "      <td>Outros</td>\n",
       "      <td>Outros</td>\n",
       "      <td>0.075355</td>\n",
       "      <td>6</td>\n",
       "      <td>True</td>\n",
       "    </tr>\n",
       "  </tbody>\n",
       "</table>\n",
       "</div>"
      ],
      "text/plain": [
       "        Stock   Return     Risk               Sector               Sub-Sector  \\\n",
       "14   VALE3.SA 0.003242 0.031740    Materiais Básicos                Mineração   \n",
       "21   USIM3.SA 0.002996 0.038220    Materiais Básicos  Siderurgia e Metalurgia   \n",
       "23   DEXP3.SA 0.006971 0.058361    Materiais Básicos                 Químicos   \n",
       "24   FHER3.SA 0.007212 0.065901    Materiais Básicos                 Químicos   \n",
       "54   TASA4.SA 0.006241 0.051675     Bens Industriais  Máquinas e Equipamentos   \n",
       "55   TASA3.SA 0.006250 0.044575     Bens Industriais  Máquinas e Equipamentos   \n",
       "69   SLCE3.SA 0.002949 0.025782  Consumo não Cíclico             Agropecuária   \n",
       "164  TAEE3.SA 0.000801 0.017420    Utilidade Pública         Energia Elétrica   \n",
       "189  APER3.SA 0.003004 0.043658           Financeiro    Previdência e Seguros   \n",
       "201  BLUT4.SA 0.006635 0.088048               Outros                   Outros   \n",
       "\n",
       "                                Segment   Sharpe  cluster  selected  \n",
       "14                   Minerais Metálicos 0.102147        0      True  \n",
       "21                           Siderurgia 0.078393        3      True  \n",
       "23                        Petroquímicos 0.119444        7      True  \n",
       "24           Fertilizantes e Defensivos 0.109433        1      True  \n",
       "54                     Armas e Munições 0.120783        2      True  \n",
       "55                     Armas e Munições 0.140214        9      True  \n",
       "69                          Agricultura 0.114400        5      True  \n",
       "164                    Energia Elétrica 0.045963        4      True  \n",
       "189  Corretoras de Seguros e Resseguros 0.068812        8      True  \n",
       "201                              Outros 0.075355        6      True  "
      ]
     },
     "execution_count": 26,
     "metadata": {},
     "output_type": "execute_result"
    }
   ],
   "source": [
    "best_stocks = []\n",
    "\n",
    "for cluster in range(BEST_NUMBER_OF_CLUSTERS):\n",
    "    cdf = df[ df['cluster'] == cluster ]\n",
    "    index = cdf['Sharpe'].idxmax()\n",
    "    row = cdf.loc[ index ]\n",
    "    best_stocks.append(index)\n",
    "\n",
    "\n",
    "# Marcos todos os ativos com selected igual a False\n",
    "df['selected'] = [False] * len(df)\n",
    "\n",
    "# Marcando os melhores ativos como selecionados\n",
    "df.loc[ df.index.isin(best_stocks), 'selected' ] = True\n",
    "\n",
    "df[df.index.isin(best_stocks)]"
   ]
  },
  {
   "cell_type": "code",
   "execution_count": 27,
   "id": "342edfc9",
   "metadata": {},
   "outputs": [
    {
     "data": {
      "application/vnd.plotly.v1+json": {
       "config": {
        "plotlyServerURL": "https://plot.ly"
       },
       "data": [
        {
         "hovertemplate": "<b>%{hovertext}</b><br><br>selected=False<br>Risk=%{x}<br>Return=%{y}<extra></extra>",
         "hovertext": [
          "CSAN3.SA",
          "DMMO3.SA",
          "ENAT3.SA",
          "RPMG3.SA",
          "PETR4.SA",
          "PETR3.SA",
          "PRIO3.SA",
          "UGPA3.SA",
          "VBBR3.SA",
          "LUPA3.SA",
          "BRAP4.SA",
          "BRAP3.SA",
          "FESA4.SA",
          "GGBR4.SA",
          "GGBR3.SA",
          "GOAU4.SA",
          "GOAU3.SA",
          "CSNA3.SA",
          "PMAM3.SA",
          "EUCA4.SA",
          "DXCO3.SA",
          "KLBN4.SA",
          "KLBN3.SA",
          "SUZB3.SA",
          "RANI3.SA",
          "ETER3.SA",
          "HAGA4.SA",
          "PTBL3.SA",
          "AZEV4.SA",
          "TCNO4.SA",
          "TCNO3.SA",
          "EMBR3.SA",
          "FRAS3.SA",
          "POMO4.SA",
          "POMO3.SA",
          "RAPT4.SA",
          "RCSL4.SA",
          "RCSL3.SA",
          "TUPY3.SA",
          "SHUL4.SA",
          "WEGE3.SA",
          "EALT4.SA",
          "ROMI3.SA",
          "KEPL3.SA",
          "MILS3.SA",
          "AZUL4.SA",
          "GOLL4.SA",
          "RAIL3.SA",
          "LOGN3.SA",
          "TGMA3.SA",
          "CCRO3.SA",
          "ECOR3.SA",
          "TPIS3.SA",
          "STBP3.SA",
          "ATMP3.SA",
          "PRNR3.SA",
          "VLID3.SA",
          "AGRO3.SA",
          "SMTO3.SA",
          "BRFS3.SA",
          "JBSS3.SA",
          "MRFG3.SA",
          "BEEF3.SA",
          "CAML3.SA",
          "MDIA3.SA",
          "ABEV3.SA",
          "NTCO3.SA",
          "BOBR4.SA",
          "CRFB3.SA",
          "PCAR3.SA",
          "CYRE3.SA",
          "DIRR3.SA",
          "EVEN3.SA",
          "EZTC3.SA",
          "GFSA3.SA",
          "HBOR3.SA",
          "JHSF3.SA",
          "JFEN3.SA",
          "MTRE3.SA",
          "MDNE3.SA",
          "MRVE3.SA",
          "PDGR3.SA",
          "RSID3.SA",
          "TCSA3.SA",
          "TEND3.SA",
          "TRIS3.SA",
          "VIVR3.SA",
          "CTSA4.SA",
          "CTSA3.SA",
          "SGPS3.SA",
          "ALPA4.SA",
          "CAMB3.SA",
          "GRND3.SA",
          "VULC3.SA",
          "TECN3.SA",
          "VIVA3.SA",
          "UCAS3.SA",
          "BKBR3.SA",
          "MEAL3.SA",
          "SHOW3.SA",
          "CVCB3.SA",
          "ANIM3.SA",
          "COGN3.SA",
          "SEER3.SA",
          "YDUQ3.SA",
          "RENT3.SA",
          "LCAM3.SA",
          "MOVI3.SA",
          "ARZZ3.SA",
          "CEAB3.SA",
          "GUAR3.SA",
          "LLIS3.SA",
          "AMAR3.SA",
          "LREN3.SA",
          "MGLU3.SA",
          "VIIA3.SA",
          "AMER3.SA",
          "SBFG3.SA",
          "AALR3.SA",
          "DASA3.SA",
          "FLRY3.SA",
          "HAPV3.SA",
          "PARD3.SA",
          "ODPV3.SA",
          "QUAL3.SA",
          "PNVL3.SA",
          "HYPE3.SA",
          "RADL3.SA",
          "POSI3.SA",
          "LWSA3.SA",
          "PDTC3.SA",
          "SQIA3.SA",
          "TOTS3.SA",
          "OIBR4.SA",
          "OIBR3.SA",
          "VIVT3.SA",
          "TIMS3.SA",
          "CMIG4.SA",
          "CMIG3.SA",
          "CPLE3.SA",
          "CPFE3.SA",
          "ELET3.SA",
          "ENBR3.SA",
          "ENEV3.SA",
          "EGIE3.SA",
          "EQTL3.SA",
          "LIGT3.SA",
          "NEOE3.SA",
          "RNEW4.SA",
          "RNEW3.SA",
          "TAEE4.SA",
          "TRPL4.SA",
          "CSMG3.SA",
          "SBSP3.SA",
          "SAPR4.SA",
          "SAPR3.SA",
          "ABCB4.SA",
          "BMGB4.SA",
          "BPAN4.SA",
          "BBDC4.SA",
          "BBDC3.SA",
          "BBAS3.SA",
          "ITSA4.SA",
          "ITSA3.SA",
          "ITUB4.SA",
          "ITUB3.SA",
          "PINE4.SA",
          "SANB4.SA",
          "SANB3.SA",
          "B3SA3.SA",
          "CIEL3.SA",
          "CARD3.SA",
          "BBSE3.SA",
          "PSSA3.SA",
          "WIZS3.SA",
          "ALSO3.SA",
          "BRML3.SA",
          "BRPR3.SA",
          "IGTI3.SA",
          "LOGG3.SA",
          "MULT3.SA",
          "SYNE3.SA",
          "BBRK3.SA",
          "LPSB3.SA"
         ],
         "legendgroup": "False",
         "marker": {
          "color": "#636efa",
          "symbol": "circle"
         },
         "mode": "markers",
         "name": "False",
         "orientation": "v",
         "showlegend": true,
         "type": "scatter",
         "x": [
          0.03380031491603314,
          0.0719801734327818,
          0.041396614016561126,
          0.059330808510857626,
          0.041665669316091225,
          0.043376188425177,
          0.06173724307314133,
          0.04212164095596907,
          0.0352608361636276,
          0.07501977526877883,
          0.03120346193410951,
          0.0310163219081988,
          0.03339104841504144,
          0.03757240571224963,
          0.03263853984587228,
          0.03775058508881106,
          0.03354706373721956,
          0.045464405486523564,
          0.05076972691175917,
          0.04472572346851277,
          0.04042197231951901,
          0.027920491190760673,
          0.02729400015377718,
          0.0323638438556725,
          0.04698720619694172,
          0.059253421839163094,
          0.039839597267224344,
          0.05109115652166385,
          0.06336700151223551,
          0.05559461617923184,
          0.0672699191094197,
          0.04779447306928398,
          0.025629134529717504,
          0.038222294048385445,
          0.03488581340683302,
          0.04121497034801731,
          0.05316475639818075,
          0.06706861982469497,
          0.03373622978756791,
          0.03347882888052408,
          0.032798242182523564,
          0.033835690950536394,
          0.04744943057965356,
          0.023940127412819884,
          0.04513438745111048,
          0.0632933422812097,
          0.06327493305415818,
          0.03448736893656075,
          0.04782317985772623,
          0.04035838177022405,
          0.038154521010321824,
          0.04016230145984656,
          0.05997727580873473,
          0.0410560414408744,
          0.05513043197821813,
          0.036607810695035964,
          0.043132559925111315,
          0.02427844857508746,
          0.039043583006090926,
          0.03749253306719522,
          0.03430967990856735,
          0.03909920178799087,
          0.03362215445609201,
          0.02284065282344994,
          0.029063910508614125,
          0.027612172816454977,
          0.0386272972272231,
          0.03670230589931704,
          0.024813473359451485,
          0.08523813562825482,
          0.04542077027890224,
          0.03780480909365574,
          0.047899732671816644,
          0.04369627514739099,
          0.048468303614240635,
          0.05703803465041965,
          0.042873657293863755,
          0.08103861557832336,
          0.04111736809683996,
          0.05188602971415916,
          0.037546926624009144,
          0.055068819623208906,
          0.04912679949162121,
          0.04540589763528826,
          0.03591709309855373,
          0.04633482048588767,
          0.08443017514717913,
          0.05500966488058245,
          0.059304868619958775,
          0.05128008027950782,
          0.03825419106574617,
          0.03839871479655901,
          0.028134187224163158,
          0.03489351821328089,
          0.04834735450320257,
          0.04874945125315265,
          0.03836903830117869,
          0.04389202280201378,
          0.05078095200080944,
          0.05292420905433469,
          0.061661850831742984,
          0.03993930901614393,
          0.04789813801099107,
          0.039749789684483686,
          0.04491687590752722,
          0.04341859716131059,
          0.04588389493260313,
          0.041806339338782354,
          0.03494389377652245,
          0.04844854251850288,
          0.04700262313498619,
          0.05448119836747111,
          0.05826391609756534,
          0.03764073912993509,
          0.0407178219172634,
          0.05210522060781364,
          0.046460882113315644,
          0.04754698378628455,
          0.04116255266816659,
          0.05661340062963936,
          0.026181608786284886,
          0.03501157806425898,
          0.034006871959056405,
          0.024426948860494763,
          0.033444561932104225,
          0.030664096881038053,
          0.02970357386867155,
          0.0247619315468421,
          0.05891805941331725,
          0.0480896890989959,
          0.058548614351196564,
          0.03661606125788471,
          0.03505728126267308,
          0.04798056956687184,
          0.04591070543220174,
          0.02356166410249832,
          0.02730774433489472,
          0.03286751614653194,
          0.034738863662285374,
          0.03027119992849649,
          0.025663487515500915,
          0.04338207664417431,
          0.022644311461484674,
          0.030442295960421705,
          0.021007396868317603,
          0.02631642670939272,
          0.04265968413026124,
          0.027403225002898265,
          0.047960929438156684,
          0.0508531239425581,
          0.01853256166406714,
          0.01895222229202607,
          0.030961884577303162,
          0.034553895636428696,
          0.028603655500101344,
          0.033055526933136986,
          0.02825286034063901,
          0.03392425097735612,
          0.05370579111293311,
          0.03360517330846542,
          0.032149674819283894,
          0.03549182530924328,
          0.02601662280844868,
          0.01945002138301572,
          0.028645896309968364,
          0.02506738820117482,
          0.04446821509659155,
          0.03362616737020255,
          0.03304993528450994,
          0.03213093284893773,
          0.043588929948785604,
          0.03367380899967782,
          0.02396961265783474,
          0.023348388513631232,
          0.042406536914792056,
          0.04256484597597142,
          0.04012486117159099,
          0.030961387222619506,
          0.039978197861522756,
          0.04004420421601257,
          0.03915763031650789,
          0.036447167715575296,
          0.06926430775142987,
          0.05645485312270982
         ],
         "xaxis": "x",
         "y": [
          0.0013016114161491703,
          0.0006019622805624236,
          0.0016664840021466567,
          0.002488255894105075,
          0.0012070268285086392,
          0.0011573069125938415,
          0.004471527338752469,
          0.0006965453108763153,
          0.0005977186787905524,
          0.005102622628645757,
          0.002865985102386151,
          0.002452356253250388,
          0.0031628740218050243,
          0.0024436709535288295,
          0.002146348027607045,
          0.002387068913939103,
          0.0022107482617875845,
          0.005030047728710527,
          0.0003377387002067717,
          0.0019025720619108182,
          0.0016538226160257297,
          0.0009793054234602785,
          0.0017027014882818152,
          0.0018192504613115021,
          0.0029530786609829793,
          0.006177486112013346,
          0.002059444628808404,
          0.004728620032553816,
          0.004238167121553162,
          0.005015788976242775,
          0.004218482194928842,
          0.0013983867633192632,
          0.0025345549455481078,
          -0.0006107661226954382,
          -0.0005119488868753249,
          0.0013873207792195117,
          0.0017822389751785592,
          0.0049429937312839905,
          0.0007803039218525761,
          0.0015911565164878792,
          0.0017534842594594793,
          0.0010020015729570652,
          0.0028930768394613417,
          0.0023463631328187375,
          0.0008271314440921578,
          0.0020590065005037686,
          0.001689533283749527,
          0.0002701763820922047,
          0.0009003248357584313,
          -0.00039016553216637937,
          0.000016446245520015422,
          -0.00016734544166051142,
          0.004033917988210753,
          0.0019565965908763714,
          0.0014842297288986976,
          -0.000336029101160263,
          -0.00006179374550144906,
          0.001574441654262314,
          0.0015444787422439804,
          0.0006093630190379403,
          0.001212647109651842,
          0.0019956957554603887,
          -0.00018966802135966936,
          0.0004787965683197976,
          -0.0005561140881482186,
          0.0008818896485794828,
          0.0014743386661606416,
          0.0013477790338534581,
          0.0002536798465083085,
          0.003226569647991931,
          0.00016688454521863658,
          0.0004535787347477804,
          0.00015868841618676534,
          -0.00037218275119046935,
          0.00011747770304147985,
          -0.0007472485828663517,
          0.0010732034339466488,
          0.002419921430609884,
          -0.00021400609214179727,
          -0.00004467502684342673,
          0.0001920047621487502,
          0.0018509488996712503,
          0.001983524210644163,
          -0.0008833079491796069,
          -0.0005269085272792328,
          -0.0002817578712600663,
          0.0061536784244897915,
          0.0019850591214289888,
          -0.0006352460370728823,
          0.001093956521930803,
          0.002096864286415024,
          0.0003152618841302947,
          0.0004387441160144112,
          0.0011663084708691432,
          0.002009073195749131,
          0.001739425718267158,
          0.0005848865825739227,
          0.00041103973500825487,
          -0.0007532297617573384,
          0.002369604390708973,
          0.002766888409591297,
          0.0013242535233246018,
          -0.001382999161927363,
          -0.00028508063811000565,
          -0.0002500237035790108,
          0.001738534318184594,
          0.001855672669096266,
          0.0010291952292469935,
          0.002043665195378293,
          0.0009417426397125481,
          0.00025293817110757713,
          -0.0025591544698930113,
          0.00047938833286573663,
          -0.00011644769826241203,
          0.0023784210691447844,
          0.0017436385991098874,
          0.0013078728421263008,
          0.0004815830332244123,
          -0.0009288443063510521,
          0.0012878685213465035,
          -0.00014936215972660978,
          0.001714698384136959,
          -0.00047513830368436195,
          -0.00044045541938902375,
          -0.000016853922679774886,
          -0.00020079331363863926,
          0.00001125780322737108,
          0.0003244028695065657,
          0.003510795657794732,
          0.005890796081630565,
          0.004015874364831609,
          0.00078452255476589,
          0.0018985627925752564,
          0.0025245542772954896,
          0.002321045234529554,
          -0.0003175844976519839,
          -0.0007063784771120376,
          0.0005141119820533457,
          0.0009783343977510185,
          -0.0006836401506883863,
          -0.0006307743537472458,
          0.001603175466015213,
          -0.00022389734423607332,
          0.001705096169206678,
          -0.0004093560343564137,
          0.00023918519849103564,
          -0.00017953659673428747,
          -0.0006691686046106467,
          0.0014563088829138485,
          0.001129800943206126,
          0.0008469190814914406,
          0.000568216783380409,
          -0.00030611109965664743,
          -0.000911582111529363,
          -0.0012021714805267917,
          -0.001160985688450557,
          -0.00021788231532232654,
          -0.0002928116329753304,
          0.0044338133551002495,
          0.000332829346525523,
          0.0004170776044315875,
          -0.0005237736926614887,
          0.00007384966807795769,
          -0.0002008671263664182,
          0.0002359499259502965,
          0.0001263609731939588,
          0.000271264958605359,
          0.0007835367110888729,
          0.0006558761626481954,
          0.0005834826456914267,
          -0.0011306415679146944,
          0.002481275133350899,
          -0.000597210517890514,
          -0.0001885771228696483,
          0.0014274837155325148,
          -0.0006276080408095166,
          -0.000741320504255135,
          -0.0009118351890274335,
          0.00042231589572590684,
          0.0011569942200866806,
          -0.0002129420215308008,
          -0.0016314777926019083,
          0.0004397554562906304,
          -0.00016714020317031984
         ],
         "yaxis": "y"
        },
        {
         "hovertemplate": "<b>%{hovertext}</b><br><br>selected=True<br>Risk=%{x}<br>Return=%{y}<extra></extra>",
         "hovertext": [
          "VALE3.SA",
          "USIM3.SA",
          "DEXP3.SA",
          "FHER3.SA",
          "TASA4.SA",
          "TASA3.SA",
          "SLCE3.SA",
          "TAEE3.SA",
          "APER3.SA",
          "BLUT4.SA"
         ],
         "legendgroup": "True",
         "marker": {
          "color": "#EF553B",
          "symbol": "circle"
         },
         "mode": "markers",
         "name": "True",
         "orientation": "v",
         "showlegend": true,
         "type": "scatter",
         "x": [
          0.03174023725655114,
          0.03821972197349418,
          0.05836136324854447,
          0.06590082423609588,
          0.051675004717315794,
          0.044574711335171095,
          0.025781828325207035,
          0.01742049113081013,
          0.043657797362703775,
          0.08804809426152521
         ],
         "xaxis": "x",
         "y": [
          0.0032421773795440734,
          0.002996163695310766,
          0.006970885946294035,
          0.0072116921647082275,
          0.00624147494497269,
          0.006249998452731977,
          0.0029494404419018456,
          0.0008006895939423174,
          0.0030041939748392844,
          0.006634866238108875
         ],
         "yaxis": "y"
        }
       ],
       "layout": {
        "legend": {
         "title": {
          "text": "selected"
         },
         "tracegroupgap": 0
        },
        "margin": {
         "t": 60
        },
        "template": {
         "data": {
          "bar": [
           {
            "error_x": {
             "color": "#f2f5fa"
            },
            "error_y": {
             "color": "#f2f5fa"
            },
            "marker": {
             "line": {
              "color": "rgb(17,17,17)",
              "width": 0.5
             },
             "pattern": {
              "fillmode": "overlay",
              "size": 10,
              "solidity": 0.2
             }
            },
            "type": "bar"
           }
          ],
          "barpolar": [
           {
            "marker": {
             "line": {
              "color": "rgb(17,17,17)",
              "width": 0.5
             },
             "pattern": {
              "fillmode": "overlay",
              "size": 10,
              "solidity": 0.2
             }
            },
            "type": "barpolar"
           }
          ],
          "carpet": [
           {
            "aaxis": {
             "endlinecolor": "#A2B1C6",
             "gridcolor": "#506784",
             "linecolor": "#506784",
             "minorgridcolor": "#506784",
             "startlinecolor": "#A2B1C6"
            },
            "baxis": {
             "endlinecolor": "#A2B1C6",
             "gridcolor": "#506784",
             "linecolor": "#506784",
             "minorgridcolor": "#506784",
             "startlinecolor": "#A2B1C6"
            },
            "type": "carpet"
           }
          ],
          "choropleth": [
           {
            "colorbar": {
             "outlinewidth": 0,
             "ticks": ""
            },
            "type": "choropleth"
           }
          ],
          "contour": [
           {
            "colorbar": {
             "outlinewidth": 0,
             "ticks": ""
            },
            "colorscale": [
             [
              0,
              "#0d0887"
             ],
             [
              0.1111111111111111,
              "#46039f"
             ],
             [
              0.2222222222222222,
              "#7201a8"
             ],
             [
              0.3333333333333333,
              "#9c179e"
             ],
             [
              0.4444444444444444,
              "#bd3786"
             ],
             [
              0.5555555555555556,
              "#d8576b"
             ],
             [
              0.6666666666666666,
              "#ed7953"
             ],
             [
              0.7777777777777778,
              "#fb9f3a"
             ],
             [
              0.8888888888888888,
              "#fdca26"
             ],
             [
              1,
              "#f0f921"
             ]
            ],
            "type": "contour"
           }
          ],
          "contourcarpet": [
           {
            "colorbar": {
             "outlinewidth": 0,
             "ticks": ""
            },
            "type": "contourcarpet"
           }
          ],
          "heatmap": [
           {
            "colorbar": {
             "outlinewidth": 0,
             "ticks": ""
            },
            "colorscale": [
             [
              0,
              "#0d0887"
             ],
             [
              0.1111111111111111,
              "#46039f"
             ],
             [
              0.2222222222222222,
              "#7201a8"
             ],
             [
              0.3333333333333333,
              "#9c179e"
             ],
             [
              0.4444444444444444,
              "#bd3786"
             ],
             [
              0.5555555555555556,
              "#d8576b"
             ],
             [
              0.6666666666666666,
              "#ed7953"
             ],
             [
              0.7777777777777778,
              "#fb9f3a"
             ],
             [
              0.8888888888888888,
              "#fdca26"
             ],
             [
              1,
              "#f0f921"
             ]
            ],
            "type": "heatmap"
           }
          ],
          "heatmapgl": [
           {
            "colorbar": {
             "outlinewidth": 0,
             "ticks": ""
            },
            "colorscale": [
             [
              0,
              "#0d0887"
             ],
             [
              0.1111111111111111,
              "#46039f"
             ],
             [
              0.2222222222222222,
              "#7201a8"
             ],
             [
              0.3333333333333333,
              "#9c179e"
             ],
             [
              0.4444444444444444,
              "#bd3786"
             ],
             [
              0.5555555555555556,
              "#d8576b"
             ],
             [
              0.6666666666666666,
              "#ed7953"
             ],
             [
              0.7777777777777778,
              "#fb9f3a"
             ],
             [
              0.8888888888888888,
              "#fdca26"
             ],
             [
              1,
              "#f0f921"
             ]
            ],
            "type": "heatmapgl"
           }
          ],
          "histogram": [
           {
            "marker": {
             "pattern": {
              "fillmode": "overlay",
              "size": 10,
              "solidity": 0.2
             }
            },
            "type": "histogram"
           }
          ],
          "histogram2d": [
           {
            "colorbar": {
             "outlinewidth": 0,
             "ticks": ""
            },
            "colorscale": [
             [
              0,
              "#0d0887"
             ],
             [
              0.1111111111111111,
              "#46039f"
             ],
             [
              0.2222222222222222,
              "#7201a8"
             ],
             [
              0.3333333333333333,
              "#9c179e"
             ],
             [
              0.4444444444444444,
              "#bd3786"
             ],
             [
              0.5555555555555556,
              "#d8576b"
             ],
             [
              0.6666666666666666,
              "#ed7953"
             ],
             [
              0.7777777777777778,
              "#fb9f3a"
             ],
             [
              0.8888888888888888,
              "#fdca26"
             ],
             [
              1,
              "#f0f921"
             ]
            ],
            "type": "histogram2d"
           }
          ],
          "histogram2dcontour": [
           {
            "colorbar": {
             "outlinewidth": 0,
             "ticks": ""
            },
            "colorscale": [
             [
              0,
              "#0d0887"
             ],
             [
              0.1111111111111111,
              "#46039f"
             ],
             [
              0.2222222222222222,
              "#7201a8"
             ],
             [
              0.3333333333333333,
              "#9c179e"
             ],
             [
              0.4444444444444444,
              "#bd3786"
             ],
             [
              0.5555555555555556,
              "#d8576b"
             ],
             [
              0.6666666666666666,
              "#ed7953"
             ],
             [
              0.7777777777777778,
              "#fb9f3a"
             ],
             [
              0.8888888888888888,
              "#fdca26"
             ],
             [
              1,
              "#f0f921"
             ]
            ],
            "type": "histogram2dcontour"
           }
          ],
          "mesh3d": [
           {
            "colorbar": {
             "outlinewidth": 0,
             "ticks": ""
            },
            "type": "mesh3d"
           }
          ],
          "parcoords": [
           {
            "line": {
             "colorbar": {
              "outlinewidth": 0,
              "ticks": ""
             }
            },
            "type": "parcoords"
           }
          ],
          "pie": [
           {
            "automargin": true,
            "type": "pie"
           }
          ],
          "scatter": [
           {
            "marker": {
             "line": {
              "color": "#283442"
             }
            },
            "type": "scatter"
           }
          ],
          "scatter3d": [
           {
            "line": {
             "colorbar": {
              "outlinewidth": 0,
              "ticks": ""
             }
            },
            "marker": {
             "colorbar": {
              "outlinewidth": 0,
              "ticks": ""
             }
            },
            "type": "scatter3d"
           }
          ],
          "scattercarpet": [
           {
            "marker": {
             "colorbar": {
              "outlinewidth": 0,
              "ticks": ""
             }
            },
            "type": "scattercarpet"
           }
          ],
          "scattergeo": [
           {
            "marker": {
             "colorbar": {
              "outlinewidth": 0,
              "ticks": ""
             }
            },
            "type": "scattergeo"
           }
          ],
          "scattergl": [
           {
            "marker": {
             "line": {
              "color": "#283442"
             }
            },
            "type": "scattergl"
           }
          ],
          "scattermapbox": [
           {
            "marker": {
             "colorbar": {
              "outlinewidth": 0,
              "ticks": ""
             }
            },
            "type": "scattermapbox"
           }
          ],
          "scatterpolar": [
           {
            "marker": {
             "colorbar": {
              "outlinewidth": 0,
              "ticks": ""
             }
            },
            "type": "scatterpolar"
           }
          ],
          "scatterpolargl": [
           {
            "marker": {
             "colorbar": {
              "outlinewidth": 0,
              "ticks": ""
             }
            },
            "type": "scatterpolargl"
           }
          ],
          "scatterternary": [
           {
            "marker": {
             "colorbar": {
              "outlinewidth": 0,
              "ticks": ""
             }
            },
            "type": "scatterternary"
           }
          ],
          "surface": [
           {
            "colorbar": {
             "outlinewidth": 0,
             "ticks": ""
            },
            "colorscale": [
             [
              0,
              "#0d0887"
             ],
             [
              0.1111111111111111,
              "#46039f"
             ],
             [
              0.2222222222222222,
              "#7201a8"
             ],
             [
              0.3333333333333333,
              "#9c179e"
             ],
             [
              0.4444444444444444,
              "#bd3786"
             ],
             [
              0.5555555555555556,
              "#d8576b"
             ],
             [
              0.6666666666666666,
              "#ed7953"
             ],
             [
              0.7777777777777778,
              "#fb9f3a"
             ],
             [
              0.8888888888888888,
              "#fdca26"
             ],
             [
              1,
              "#f0f921"
             ]
            ],
            "type": "surface"
           }
          ],
          "table": [
           {
            "cells": {
             "fill": {
              "color": "#506784"
             },
             "line": {
              "color": "rgb(17,17,17)"
             }
            },
            "header": {
             "fill": {
              "color": "#2a3f5f"
             },
             "line": {
              "color": "rgb(17,17,17)"
             }
            },
            "type": "table"
           }
          ]
         },
         "layout": {
          "annotationdefaults": {
           "arrowcolor": "#f2f5fa",
           "arrowhead": 0,
           "arrowwidth": 1
          },
          "autotypenumbers": "strict",
          "coloraxis": {
           "colorbar": {
            "outlinewidth": 0,
            "ticks": ""
           }
          },
          "colorscale": {
           "diverging": [
            [
             0,
             "#8e0152"
            ],
            [
             0.1,
             "#c51b7d"
            ],
            [
             0.2,
             "#de77ae"
            ],
            [
             0.3,
             "#f1b6da"
            ],
            [
             0.4,
             "#fde0ef"
            ],
            [
             0.5,
             "#f7f7f7"
            ],
            [
             0.6,
             "#e6f5d0"
            ],
            [
             0.7,
             "#b8e186"
            ],
            [
             0.8,
             "#7fbc41"
            ],
            [
             0.9,
             "#4d9221"
            ],
            [
             1,
             "#276419"
            ]
           ],
           "sequential": [
            [
             0,
             "#0d0887"
            ],
            [
             0.1111111111111111,
             "#46039f"
            ],
            [
             0.2222222222222222,
             "#7201a8"
            ],
            [
             0.3333333333333333,
             "#9c179e"
            ],
            [
             0.4444444444444444,
             "#bd3786"
            ],
            [
             0.5555555555555556,
             "#d8576b"
            ],
            [
             0.6666666666666666,
             "#ed7953"
            ],
            [
             0.7777777777777778,
             "#fb9f3a"
            ],
            [
             0.8888888888888888,
             "#fdca26"
            ],
            [
             1,
             "#f0f921"
            ]
           ],
           "sequentialminus": [
            [
             0,
             "#0d0887"
            ],
            [
             0.1111111111111111,
             "#46039f"
            ],
            [
             0.2222222222222222,
             "#7201a8"
            ],
            [
             0.3333333333333333,
             "#9c179e"
            ],
            [
             0.4444444444444444,
             "#bd3786"
            ],
            [
             0.5555555555555556,
             "#d8576b"
            ],
            [
             0.6666666666666666,
             "#ed7953"
            ],
            [
             0.7777777777777778,
             "#fb9f3a"
            ],
            [
             0.8888888888888888,
             "#fdca26"
            ],
            [
             1,
             "#f0f921"
            ]
           ]
          },
          "colorway": [
           "#636efa",
           "#EF553B",
           "#00cc96",
           "#ab63fa",
           "#FFA15A",
           "#19d3f3",
           "#FF6692",
           "#B6E880",
           "#FF97FF",
           "#FECB52"
          ],
          "font": {
           "color": "#f2f5fa"
          },
          "geo": {
           "bgcolor": "rgb(17,17,17)",
           "lakecolor": "rgb(17,17,17)",
           "landcolor": "rgb(17,17,17)",
           "showlakes": true,
           "showland": true,
           "subunitcolor": "#506784"
          },
          "hoverlabel": {
           "align": "left"
          },
          "hovermode": "closest",
          "mapbox": {
           "style": "dark"
          },
          "paper_bgcolor": "rgb(17,17,17)",
          "plot_bgcolor": "rgb(17,17,17)",
          "polar": {
           "angularaxis": {
            "gridcolor": "#506784",
            "linecolor": "#506784",
            "ticks": ""
           },
           "bgcolor": "rgb(17,17,17)",
           "radialaxis": {
            "gridcolor": "#506784",
            "linecolor": "#506784",
            "ticks": ""
           }
          },
          "scene": {
           "xaxis": {
            "backgroundcolor": "rgb(17,17,17)",
            "gridcolor": "#506784",
            "gridwidth": 2,
            "linecolor": "#506784",
            "showbackground": true,
            "ticks": "",
            "zerolinecolor": "#C8D4E3"
           },
           "yaxis": {
            "backgroundcolor": "rgb(17,17,17)",
            "gridcolor": "#506784",
            "gridwidth": 2,
            "linecolor": "#506784",
            "showbackground": true,
            "ticks": "",
            "zerolinecolor": "#C8D4E3"
           },
           "zaxis": {
            "backgroundcolor": "rgb(17,17,17)",
            "gridcolor": "#506784",
            "gridwidth": 2,
            "linecolor": "#506784",
            "showbackground": true,
            "ticks": "",
            "zerolinecolor": "#C8D4E3"
           }
          },
          "shapedefaults": {
           "line": {
            "color": "#f2f5fa"
           }
          },
          "sliderdefaults": {
           "bgcolor": "#C8D4E3",
           "bordercolor": "rgb(17,17,17)",
           "borderwidth": 1,
           "tickwidth": 0
          },
          "ternary": {
           "aaxis": {
            "gridcolor": "#506784",
            "linecolor": "#506784",
            "ticks": ""
           },
           "baxis": {
            "gridcolor": "#506784",
            "linecolor": "#506784",
            "ticks": ""
           },
           "bgcolor": "rgb(17,17,17)",
           "caxis": {
            "gridcolor": "#506784",
            "linecolor": "#506784",
            "ticks": ""
           }
          },
          "title": {
           "x": 0.05
          },
          "updatemenudefaults": {
           "bgcolor": "#506784",
           "borderwidth": 0
          },
          "xaxis": {
           "automargin": true,
           "gridcolor": "#283442",
           "linecolor": "#506784",
           "ticks": "",
           "title": {
            "standoff": 15
           },
           "zerolinecolor": "#283442",
           "zerolinewidth": 2
          },
          "yaxis": {
           "automargin": true,
           "gridcolor": "#283442",
           "linecolor": "#506784",
           "ticks": "",
           "title": {
            "standoff": 15
           },
           "zerolinecolor": "#283442",
           "zerolinewidth": 2
          }
         }
        },
        "xaxis": {
         "anchor": "y",
         "domain": [
          0,
          1
         ],
         "title": {
          "text": "Risk"
         }
        },
        "yaxis": {
         "anchor": "x",
         "domain": [
          0,
          1
         ],
         "title": {
          "text": "Return"
         }
        }
       }
      }
     },
     "metadata": {},
     "output_type": "display_data"
    }
   ],
   "source": [
    "bdf = df[df.index.isin(best_stocks)]\n",
    "\n",
    "px.scatter(\n",
    "    df, \n",
    "    x='Risk', \n",
    "    y='Return', \n",
    "    hover_name='Stock', \n",
    "    # color='cluster', \n",
    "    template='plotly_dark',\n",
    "    color='selected',\n",
    ")"
   ]
  },
  {
   "cell_type": "markdown",
   "id": "0c4b949a",
   "metadata": {},
   "source": [
    "#### 8. Encontrando a melhor distribuição de recurso nos ativos selecionados"
   ]
  },
  {
   "cell_type": "code",
   "execution_count": 28,
   "id": "bbfe1d99",
   "metadata": {},
   "outputs": [
    {
     "data": {
      "text/plain": [
       "<AxesSubplot:>"
      ]
     },
     "execution_count": 28,
     "metadata": {},
     "output_type": "execute_result"
    },
    {
     "data": {
      "image/png": "[encoded data removed]",
      "text/plain": [
       "<Figure size 1440x576 with 2 Axes>"
      ]
     },
     "metadata": {
      "needs_background": "light"
     },
     "output_type": "display_data"
    }
   ],
   "source": [
    "stocks: List[str] = list(df[ df['selected'] == True ].Stock.values)\n",
    "\n",
    "cdfs = get_close_dataframe(dfs)\n",
    "cdfs = cdfs[stocks]\n",
    "\n",
    "stock_return = cdfs.diff().dropna()\n",
    "\n",
    "# Retorno em relação ao primeiro dia\n",
    "stock_return = stock_return * 100 / cdfs.iloc[0]\n",
    "\n",
    "# Correção dos ativos selecionados\n",
    "f, ax = plt.subplots(figsize=(20, 8))\n",
    "sns.heatmap(stock_return.corr(), annot=True, ax=ax)"
   ]
  },
  {
   "cell_type": "code",
   "execution_count": 29,
   "id": "0b5a7d48",
   "metadata": {},
   "outputs": [
    {
     "data": {
      "text/plain": [
       "Text(0.5, 1.0, '1000 Portifolios aleatórios')"
      ]
     },
     "execution_count": 29,
     "metadata": {},
     "output_type": "execute_result"
    },
    {
     "data": {
      "image/png": "[encoded data removed]",
      "text/plain": [
       "<Figure size 1440x360 with 1 Axes>"
      ]
     },
     "metadata": {
      "needs_background": "light"
     },
     "output_type": "display_data"
    }
   ],
   "source": [
    "retp = []\n",
    "risp = []\n",
    "\n",
    "C = stock_return.cov()\n",
    "MU = stock_return.mean()\n",
    "SIG = stock_return.std()\n",
    "\n",
    "N = len(stock_return.columns)\n",
    "\n",
    "QTD = 1000\n",
    "\n",
    "for i in range(QTD):\n",
    "    q = [ random.randint(0,10000) for _ in range(N) ]\n",
    "    s = sum(q)\n",
    "    q = [ i/s for i in q ]\n",
    "\n",
    "    retp.append( np.dot(pd.DataFrame(q).transpose(),MU)[0] )\n",
    "    risp.append(np.sqrt(np.dot(np.dot(pd.DataFrame(q).transpose(),C),pd.DataFrame(q)))[0][0])\n",
    "\n",
    "fig = plt.subplots(figsize=(20,5))\n",
    "\n",
    "ax1 = plt.subplot(1, 1, 1)     \n",
    "\n",
    "for risk, return_ in zip(risp, retp):\n",
    "    ax1.plot(risk, return_, 'g*', markersize=5.0)\n",
    "\n",
    "\n",
    "# for p in range(0, len(SIG)):\n",
    "for i, (sig, mu) in enumerate(zip(SIG, MU)):\n",
    "    ax1.plot(sig, mu, 'b*', markersize=15.0) \n",
    "    ax1.text(sig+0.02, mu, f'r{i+1}', fontsize=16)\n",
    "\n",
    "ax1.set_ylabel(\"Retorno do Capital [%]\",fontsize=20)\n",
    "ax1.set_xlabel(\"Risco do Capital [%]\",fontsize=20)\n",
    "\n",
    "ax1.set_title(f'{QTD} Portifolios aleatórios', fontsize=25)  \n"
   ]
  },
  {
   "cell_type": "code",
   "execution_count": 30,
   "id": "bddbf477",
   "metadata": {},
   "outputs": [],
   "source": [
    "def TPM_Fronteira(ret, N):\n",
    "    C = ret.cov()\n",
    "    MU = ret.mean()\n",
    "    ONE = np.ones(len(ret.columns))\n",
    "    \n",
    "    a = np.dot(pd.DataFrame(MU).transpose(), np.dot(np.linalg.inv(C),pd.DataFrame(MU)))\n",
    "    b = np.dot(pd.DataFrame(ONE).transpose(), np.dot(np.linalg.inv(C),pd.DataFrame(MU)))\n",
    "    c = np.dot(pd.DataFrame(MU).transpose(), np.dot(np.linalg.inv(C),pd.DataFrame(ONE)))\n",
    "    d = np.dot(pd.DataFrame(ONE).transpose(), np.dot(np.linalg.inv(C),pd.DataFrame(ONE)))\n",
    "    \n",
    "    target_mus = np.arange(-0.5, 1.0, 0.002)\n",
    "\n",
    "    risk_at_target_mus = np.zeros(len(target_mus))\n",
    "\n",
    "    for i in range(0, len(target_mus)):\n",
    "        target_mu = target_mus[i]\n",
    "\n",
    "        v1=np.linalg.det([[target_mu,b[0][0]],[1,d[0][0]]])*np.dot(np.linalg.inv(C),pd.DataFrame(MU))\n",
    "        v2=np.linalg.det([[a[0][0],target_mu],[c[0][0],1]])*np.dot(np.linalg.inv(C),pd.DataFrame(ONE))\n",
    "        v3=np.linalg.det([[a[0][0],b[0][0]],[c[0][0],d[0][0]]])\n",
    "\n",
    "        opt_q=(v1+v2)/v3\n",
    "\n",
    "        risk_at_target_mus[i]=(\n",
    "            np.dot(\n",
    "                np.dot(pd.DataFrame(opt_q).transpose(),C),\n",
    "                pd.DataFrame(opt_q),\n",
    "            )\n",
    "        )**0.5\n",
    "\n",
    "    return risk_at_target_mus, target_mus\n",
    "\n",
    "risk_at_target_mus, target_mus = TPM_Fronteira(stock_return, 1000)"
   ]
  },
  {
   "cell_type": "code",
   "execution_count": 37,
   "id": "a7b1f330",
   "metadata": {},
   "outputs": [
    {
     "data": {
      "text/plain": [
       "'VALE3.SA'"
      ]
     },
     "execution_count": 37,
     "metadata": {},
     "output_type": "execute_result"
    }
   ],
   "source": []
  },
  {
   "cell_type": "code",
   "execution_count": 39,
   "id": "91f6d241",
   "metadata": {},
   "outputs": [
    {
     "data": {
      "text/plain": [
       "Text(0.5, 0, 'Risco do Capital [%]')"
      ]
     },
     "execution_count": 39,
     "metadata": {},
     "output_type": "execute_result"
    },
    {
     "data": {
      "image/png": "[encoded data removed]",
      "text/plain": [
       "<Figure size 1440x360 with 1 Axes>"
      ]
     },
     "metadata": {
      "needs_background": "light"
     },
     "output_type": "display_data"
    }
   ],
   "source": [
    "# Fronteira de eficiencia\n",
    "fig = plt.subplots(figsize=(20,5))\n",
    "\n",
    "for risk, return_ in zip(risp, retp):\n",
    "    plt.plot(risk, return_, 'g*', markersize=5.0)\n",
    "\n",
    "#plt.plot(100*risk_minrisk,100*mu_minrisk,'k*',markersize=15.0)\n",
    "# plt.axis([-0.5,np.max(SIG)+0.05,np.min(MU)-0.01,np.max(MU)+.1])\n",
    "\n",
    "plt.axvline(x= 0, color= 'k',linestyle='dashed',linewidth=4)\n",
    "\n",
    "for i, (sig, mu) in enumerate(zip(SIG, MU)):\n",
    "    plt.plot(sig, mu, 'y*', markersize=15.0) \n",
    "    plt.text(sig+0.01, mu, f'r{i+1}', fontsize=16)\n",
    "\n",
    "plt.plot(risk_at_target_mus,target_mus, 'b*')\n",
    "\n",
    "plt.title('Teoria Moderna do Portfólio - Markowitz (1952)')\n",
    "plt.ylabel('Retorno do Capital [%]')\n",
    "plt.xlabel('Risco do Capital [%]')"
   ]
  },
  {
   "cell_type": "code",
   "execution_count": 32,
   "id": "88f45e28",
   "metadata": {},
   "outputs": [],
   "source": [
    "def TPM_Menor_Risco(ret):\n",
    "    C = ret.cov()\n",
    "    MU = ret.mean()\n",
    "    ONE = np.ones(len(ret.columns))\n",
    "    d = np.dot(pd.DataFrame(ONE).transpose(),np.dot(np.linalg.inv(C),pd.DataFrame(ONE)))\n",
    "    q_minrisk = np.dot(np.linalg.inv(C),pd.DataFrame(ONE))/d\n",
    "    mu_minrisk = np.dot(q_minrisk.transpose(),MU.values)\n",
    "    risk_minrisk = (np.dot(np.dot(pd.DataFrame(q_minrisk).transpose(),C),pd.DataFrame(q_minrisk)))**0.5\n",
    "    return q_minrisk,mu_minrisk,risk_minrisk\n",
    "\n",
    "q_minrisk, mu_minrisk, risk_minrisk = TPM_Menor_Risco(stock_return)"
   ]
  },
  {
   "cell_type": "code",
   "execution_count": 42,
   "id": "a9ecbaca",
   "metadata": {},
   "outputs": [
    {
     "name": "stdout",
     "output_type": "stream",
     "text": [
      "CARTEIRA COM O MENOR RISCO\n",
      "VALE3.SA: 7.00%\n",
      "USIM3.SA: 7.00%\n",
      "DEXP3.SA: -2.00%\n",
      "FHER3.SA: 0.00%\n",
      "TASA4.SA: 2.00%\n",
      "TASA3.SA: -2.00%\n",
      "SLCE3.SA: 9.00%\n",
      "TAEE3.SA: 75.00%\n",
      "APER3.SA: 4.00%\n",
      "BLUT4.SA: 1.00%\n"
     ]
    },
    {
     "data": {
      "image/png": "[encoded data removed]",
      "text/plain": [
       "<Figure size 1440x576 with 2 Axes>"
      ]
     },
     "metadata": {
      "needs_background": "light"
     },
     "output_type": "display_data"
    }
   ],
   "source": [
    "fig = plt.subplots(figsize=(20,8))\n",
    "ax1 = plt.subplot(1,2, 1) \n",
    "\n",
    "srt = stock_return.copy()\n",
    "\n",
    "for risk, return_ in zip(risp, retp):\n",
    "    plt.plot(risk, return_, 'g*', markersize=5.0)\n",
    "\n",
    "ax1.plot(risk_at_target_mus,target_mus,'b*')\n",
    "ax1.plot(risk_minrisk,mu_minrisk,'r*',markersize=25)\n",
    "\n",
    "# plt.axis([-0.5, np.max(SIG)+0.05, np.min(MU)-0.01, np.max(MU)+.01])\n",
    "\n",
    "ax1.axvline(x= 0, color= 'k',linestyle='dashed',linewidth=4)\n",
    "\n",
    "for i, (sig, mu) in enumerate(zip(SIG, MU)):\n",
    "    plt.plot(sig, mu, 'y*', markersize=15.0) \n",
    "    plt.text(sig+0.01, mu, f'r{i+1}', fontsize=16)\n",
    "\n",
    "srt['port'] = pd.DataFrame(srt * [q_minrisk[i][0] for i in range(len(q_minrisk))]).sum(axis=1)\n",
    "\n",
    "pesos = [q_minrisk[i][0] for i in range(len(q_minrisk))] + [1]\n",
    "\n",
    "ax1.set_xlabel('Risco do Capital [%]', fontsize=15)\n",
    "ax1.set_ylabel('Retorno do Capital [%]', fontsize=15)\n",
    "ax1.set_title(\"Teoria Moderna do Portfólio - Markowitz (1952)\", fontsize=20)\n",
    "\n",
    "ax2 = plt.subplot(1, 2, 2)\n",
    "\n",
    "for i, stock in enumerate(srt.columns):\n",
    "    mean = srt[stock].mean()\n",
    "    mean = round(mean, 2)\n",
    "\n",
    "    risk = srt[stock].std()\n",
    "    risk = round(risk, 2)\n",
    "\n",
    "    labeldf = f\"{stock}, retorno [%]= {mean}, risco [%]= {risk}\"\n",
    "    \n",
    "    p = round(pesos[i], 2)\n",
    "\n",
    "    # Stocks\n",
    "    if stock != 'port':\n",
    "\n",
    "        ax2.plot(\n",
    "            srt[ srt.columns[i] ].cumsum(),\n",
    "            label=f\"{labeldf}, representação na carteira = {p}\"\n",
    "        )\n",
    "\n",
    "    else:\n",
    "        ax2.plot(\n",
    "            srt[ srt.columns[i] ].cumsum(),\n",
    "            linewidth=5.0,\n",
    "            label=f\"{labeldf}, representação na carteira = {p}\"\n",
    "        )\n",
    "\n",
    "ax2.legend(loc='upper left')\n",
    "\n",
    "ax2.set_xlabel(\"Dias\",fontsize=15)\n",
    "ax2.set_ylabel('Capital [%]',fontsize=15)\n",
    "ax2.set_title(\"Ativos e Portifolio\",fontsize=20) "
   ]
  },
  {
   "cell_type": "markdown",
   "id": "06855e18",
   "metadata": {},
   "source": [
    "#### 9. Realizando simulação do portfólio"
   ]
  },
  {
   "cell_type": "code",
   "execution_count": 66,
   "id": "a350d084",
   "metadata": {},
   "outputs": [
    {
     "name": "stdout",
     "output_type": "stream",
     "text": [
      "CARTEIRA COM O MENOR RISCO\n",
      "VALE3.SA: 7.00%\n",
      "USIM3.SA: 7.00%\n",
      "DEXP3.SA: -2.00%\n",
      "FHER3.SA: 0.00%\n",
      "TASA4.SA: 2.00%\n",
      "TASA3.SA: -2.00%\n",
      "SLCE3.SA: 9.00%\n",
      "TAEE3.SA: 75.00%\n",
      "APER3.SA: 4.00%\n",
      "BLUT4.SA: 1.00%\n"
     ]
    }
   ],
   "source": [
    "positions = { }\n",
    "print(\"CARTEIRA COM O MENOR RISCO\")\n",
    "for stock, pos in zip(srt.columns, q_minrisk):\n",
    "    pos = round(pos[0], 2)\n",
    "    positions[stock] = pos\n",
    "    print(f\"{stock}: {pos:.2%}\")"
   ]
  },
  {
   "cell_type": "code",
   "execution_count": 67,
   "id": "8d30264c",
   "metadata": {},
   "outputs": [
    {
     "data": {
      "text/plain": [
       "{'VALE3.SA': 0.07,\n",
       " 'USIM3.SA': 0.07,\n",
       " 'SLCE3.SA': 0.09,\n",
       " 'TAEE3.SA': 0.75,\n",
       " 'APER3.SA': 0.04}"
      ]
     },
     "execution_count": 67,
     "metadata": {},
     "output_type": "execute_result"
    }
   ],
   "source": [
    "positions = { k:v for k,v in positions.items() if v > 0.02 }\n",
    "positions"
   ]
  },
  {
   "cell_type": "code",
   "execution_count": 69,
   "id": "512b4c43",
   "metadata": {},
   "outputs": [
    {
     "data": {
      "text/plain": [
       "1.0"
      ]
     },
     "execution_count": 69,
     "metadata": {},
     "output_type": "execute_result"
    }
   ],
   "source": [
    "\n",
    "sum(positions.values()) - 1\n",
    "\n",
    "# Menor posição na carteira\n",
    "k = min(list(zip(positions.keys(),positions.values())))[0]\n",
    "\n",
    "positions[k] -= (sum(positions.values()) - 1)\n",
    "\n",
    "positions[k] = round(positions[k], 2)\n",
    "\n",
    "# 100%\n",
    "sum(positions.values())"
   ]
  },
  {
   "cell_type": "code",
   "execution_count": 70,
   "id": "d5b1a855",
   "metadata": {},
   "outputs": [
    {
     "data": {
      "text/plain": [
       "{'VALE3.SA': 7000.0,\n",
       " 'USIM3.SA': 7000.0,\n",
       " 'SLCE3.SA': 9000.0,\n",
       " 'TAEE3.SA': 75000.0,\n",
       " 'APER3.SA': 2000.0}"
      ]
     },
     "execution_count": 70,
     "metadata": {},
     "output_type": "execute_result"
    }
   ],
   "source": [
    "TOTAL_MONEY = 100000\n",
    "\n",
    "pos_money = { k: round(v*TOTAL_MONEY, 2) for k,v in positions.items() }\n",
    "pos_money"
   ]
  },
  {
   "cell_type": "code",
   "execution_count": 82,
   "id": "f36592f1",
   "metadata": {},
   "outputs": [
    {
     "data": {
      "text/plain": [
       "0"
      ]
     },
     "execution_count": 82,
     "metadata": {},
     "output_type": "execute_result"
    }
   ],
   "source": []
  },
  {
   "cell_type": "code",
   "execution_count": 114,
   "id": "ee686b78",
   "metadata": {},
   "outputs": [],
   "source": [
    "cdf = pd.DataFrame()\n",
    "\n",
    "for stock in pos_money.keys():\n",
    "    sdf = test_dfs[stock]\n",
    "    sdf = sdf[['Close']]\n",
    "\n",
    "    cdf = pd.concat([cdf, sdf], axis=1)\n",
    "\n",
    "cdf.columns = pos_money.keys()\n",
    "\n",
    "stock_qty = list(pos_money.values()) / cdf.iloc[0] \n",
    "\n",
    "stock_qty = [int(x) for x in stock_qty]\n",
    "\n",
    "# Quantidade de ações compradas por ativo\n",
    "stock_qty = { k:v for k,v in zip(pos_money.keys(), stock_qty) }"
   ]
  },
  {
   "cell_type": "code",
   "execution_count": 120,
   "id": "aeb62c36",
   "metadata": {},
   "outputs": [
    {
     "name": "stdout",
     "output_type": "stream",
     "text": [
      "VALE3.SA: 61 ações, valor total = BRL 5565.64\n",
      "USIM3.SA: 354 ações, valor total = BRL 4761.3\n",
      "SLCE3.SA: 192 ações, valor total = BRL 8352.0\n",
      "TAEE3.SA: 6072 ações, valor total = BRL 79543.2\n",
      "APER3.SA: 40 ações, valor total = BRL 1264.0\n"
     ]
    }
   ],
   "source": [
    "stock_value = {}\n",
    "\n",
    "for stock, qty in stock_qty.items():\n",
    "    curr_price = cdf.iloc[-1][stock]\n",
    "    curr_value = round(curr_price * qty, 2)\n",
    "    print(f\"{stock}: {qty} ações, valor total = BRL {curr_value}\")\n",
    "    stock_value[stock] = curr_value"
   ]
  },
  {
   "cell_type": "code",
   "execution_count": 125,
   "id": "5b7518ac",
   "metadata": {},
   "outputs": [
    {
     "name": "stdout",
     "output_type": "stream",
     "text": [
      "LOSS: VALE3.SA: BRL -1434.36\n",
      "LOSS: USIM3.SA: BRL -2238.7\n",
      "LOSS: SLCE3.SA: BRL -648.0\n",
      "WIN: TAEE3.SA: BRL 4543.2\n",
      "LOSS: APER3.SA: BRL -736.0\n",
      "\n",
      "Total: BRL -513.86\n"
     ]
    }
   ],
   "source": [
    "diffs = []\n",
    "\n",
    "for stock in stock_value.keys():\n",
    "    diff = stock_value[stock] - pos_money[stock]\n",
    "    diff = round(diff, 2)\n",
    "    diffs.append(diff)\n",
    "\n",
    "    if diff > 0:\n",
    "        print(f\"WIN: {stock}: BRL {diff}\")\n",
    "    else:\n",
    "        print(f\"LOSS: {stock}: BRL {diff}\")\n",
    "\n",
    "result = round(sum(diffs), 2)\n",
    "print(f\"\\nTotal: BRL {result}\")\n"
   ]
  },
  {
   "cell_type": "code",
   "execution_count": null,
   "id": "f7c3736a",
   "metadata": {},
   "outputs": [],
   "source": []
  },
  {
   "cell_type": "code",
   "execution_count": null,
   "id": "c8551c0a",
   "metadata": {},
   "outputs": [],
   "source": []
  },
  {
   "cell_type": "code",
   "execution_count": null,
   "id": "23eca351",
   "metadata": {},
   "outputs": [],
   "source": []
  },
  {
   "cell_type": "code",
   "execution_count": null,
   "id": "59cc1a39",
   "metadata": {},
   "outputs": [],
   "source": []
  },
  {
   "cell_type": "code",
   "execution_count": null,
   "id": "26df40c4",
   "metadata": {},
   "outputs": [],
   "source": []
  }
 ],
 "metadata": {
  "kernelspec": {
   "display_name": "Python 3 (ipykernel)",
   "language": "python",
   "name": "python3"
  },
  "language_info": {
   "codemirror_mode": {
    "name": "ipython",
    "version": 3
   },
   "file_extension": ".py",
   "mimetype": "text/x-python",
   "name": "python",
   "nbconvert_exporter": "python",
   "pygments_lexer": "ipython3",
   "version": "3.8.10"
  }
 },
 "nbformat": 4,
 "nbformat_minor": 5
}
