{
 "cells": [
  {
   "cell_type": "markdown",
   "id": "087f826e",
   "metadata": {},
   "source": [
    "#### 1. Classificação dos setores, subsetores e segmentos das várias ações da B3"
   ]
  },
  {
   "cell_type": "code",
   "execution_count": 1,
   "id": "035898fc",
   "metadata": {},
   "outputs": [],
   "source": [
    "# Sector > Subsector > Segment > Companies\n",
    "b3_companies = {\n",
    "    'Petróleo, Gás e Biocombustíveis': {\n",
    "        'Petróleo, Gás e Biocombustíveis': {\n",
    "            'Exploração, Refino e Distribuição': {\n",
    "                '3R PETROLEUM': 'RRRP',\n",
    "                'COSAN': 'CSAN',\n",
    "                'DOMMO': 'DMMO',\n",
    "                'ENAUTA PART': 'ENAT',\n",
    "                'PET MANGUINH': 'RPMG',\n",
    "                'PETROBRAS': 'PETR',\n",
    "                'PETRORECSA': 'RECV',\n",
    "                'PETRORIO': 'PRIO',\n",
    "                'ULTRAPAR': 'UGPA',\n",
    "                'VIBRA': 'VBBR',\n",
    "\n",
    "            },\n",
    "\n",
    "            'Equipamentos e Serviços': {\n",
    "                'LUPATECH': 'LUPA',\n",
    "                'OCEANPACT': 'OPCT',\n",
    "                'OSX BRASIL': 'OSXB',\n",
    "            }\n",
    "        }\n",
    "    },\n",
    "\n",
    "    'Materiais Básicos': {\n",
    "        'Mineração': {\n",
    "            'Minerais Metálicos': {\n",
    "                'AURA 360': 'AURA',\n",
    "                'BRADESPAR': 'BRAP',\n",
    "                'CBA': 'CBAV',\n",
    "                'CSNMINERACAO': 'CMIN',\n",
    "                'LITEL': 'LTEL',\n",
    "                'LITELA': 'LTLA',\n",
    "                'MMX MINER': 'MMXM',\n",
    "                'VALE': 'VALE',\n",
    "            }\n",
    "\n",
    "        },\n",
    "        'Siderurgia e Metalurgia': {\n",
    "            'Siderurgia': {\n",
    "                'FERBASA': 'FESA',\n",
    "                'GERDAU': 'GGBR',\n",
    "                'GERDAU MET': 'GOAU',\n",
    "                'SID NACIONAL': 'CSNA',\n",
    "                'USIMINAS': 'USIM',\n",
    "\n",
    "            },\n",
    "\n",
    "            'Artefatos de Ferro e Aço': {\n",
    "                'MANGELS INDL' : 'MGEL',\n",
    "                'PANATLANTICA' : 'PATI',\n",
    "                'TEKNO' : 'TKNO',\n",
    "\n",
    "            },\n",
    "\n",
    "            'Artefatos de Cobre': {\n",
    "                'PARANAPANEMA': 'PMAM',\n",
    "            }\n",
    "        },\n",
    "\n",
    "        'Químicos': {\n",
    "            'Petroquímicos': {\n",
    "                'DEXXOS PAR': 'DEXP',\n",
    "                'BRASKEM': 'BRKM',\n",
    "            },\n",
    "\n",
    "            'Fertilizantes e Defensivos': {\n",
    "                'FER HERINGER': 'FHER',\n",
    "                'NUTRIPLANT': 'NUTR',\n",
    "                'VITTIA': 'VITT',\n",
    "            },\n",
    "\n",
    "            'Químicos Diversos': {\n",
    "                'CRISTAL': 'CRPG',\n",
    "                'UNIPAR': 'UNIP',\n",
    "            }\n",
    "        },\n",
    "\n",
    "        'Madeira e Papel': {\n",
    "            'Madeira': {\n",
    "                'EUCATEX': 'EUCA',\n",
    "                'DEXCO': 'DXCO',\n",
    "\n",
    "            },\n",
    "\n",
    "            'Papel e Celulose': {\n",
    "                'KLABIN S/A': 'KLBN',\n",
    "                'MELHOR SP': 'MSPA',\n",
    "                'SUZANO HOLD': 'NEMO',\n",
    "                'SUZANO S.A': 'SUZB',\n",
    "            }\n",
    "        },\n",
    "        'Embalagens': {\n",
    "            'Embalagens': {\n",
    "                'IRANI': 'RANI',\n",
    "                'METAL IGUACU': 'MTIG',\n",
    "            }\n",
    "\n",
    "        },\n",
    "        'Materiais Diversos': {\n",
    "            'Materiais Diversos': {\n",
    "                'SANSUY': 'SNSY',\n",
    "            }\n",
    "        },\n",
    "    },\n",
    "\n",
    "    'Bens Industriais': {\n",
    "        'Construção e Engenharia': {\n",
    "            'Produtos para Construção': {\n",
    "                'ETERNIT': 'ETER',\n",
    "                'HAGA S/A': 'HAGA',\n",
    "                'PORTOBELLO': 'PTBL',\n",
    "            },\n",
    "\n",
    "            'Construção Pesada': {\n",
    "                'AZEVEDO': 'AZEV',\n",
    "            },\n",
    "\n",
    "            'Engenharia Consultiva': {\n",
    "                'SONDOTECNICA': 'SOND',\n",
    "                'TECNOSOLO': 'TCNO',\n",
    "            }\n",
    "        },\n",
    "\n",
    "        'Material de Transporte': {\n",
    "            'Material Aeronáutico e de Defesa': {\n",
    "                'EMBRAER': 'EMBR',\n",
    "            },\n",
    "\n",
    "            'Material Rodoviário': {\n",
    "                'FRAS-LE': 'FRAS',\n",
    "                'MARCOPOLO': 'POMO',\n",
    "                'RANDON PART': 'RAPT',\n",
    "                'RECRUSUL': 'RCSL',\n",
    "                'RIOSULENSE': 'RSUL',\n",
    "                'TUPY': 'TUPY',\n",
    "                'WETZEL S/A': 'MWET',\n",
    "            },\n",
    "        },\n",
    "\n",
    "        'Máquinas e Equipamentos': {\n",
    "        \t'Motores, Compressores e Outros': {\n",
    "                'SCHULZ': 'SHUL',\n",
    "                'WEG': 'WEGE',\n",
    "            },\n",
    "\n",
    "            'Máq. e Equip. Industriais': {\n",
    "                'ACO ALTONA': 'EALT',\n",
    "                'AERIS': 'AERI',\n",
    "                'ARMAC': 'ARML',\n",
    "                'BARDELLA': 'BDLL',\n",
    "                'INDS ROMI': 'ROMI',\n",
    "                'INEPAR': 'INEP',\n",
    "                'KEPLER WEBER': 'KEPL',\n",
    "                'METALFRIO': 'FRIO',\n",
    "                'MILLS': 'MILS',\n",
    "                'NORDON MET': 'NORD',\n",
    "                'PRATICA': 'PTCA',\n",
    "            },\n",
    "\n",
    "            'Máq. e Equip. Construção e Agrícolas': {\n",
    "                'METISA': 'MTSA',\n",
    "                'STARA': 'STTR',\n",
    "            },\n",
    "\n",
    "            'Armas e Munições': {\n",
    "                'TAURUS ARMAS': 'TASA',\n",
    "            },\n",
    "        },\n",
    "\n",
    "        'Transporte': {\n",
    "            'Transporte Aéreo': {\n",
    "                'AZUL': 'AZUL',\n",
    "                'GOL': 'GOLL',\n",
    "            },\n",
    "\n",
    "            'Transporte Ferroviário': {\n",
    "                'ALL NORTE': 'FRRN',\n",
    "                'ALL PAULISTA': 'GASC',\n",
    "                'FER C ATLANT': 'VSPT',\n",
    "                'MRS LOGIST': 'MRSA',\n",
    "                'RUMO S.A': 'RAIL',\n",
    "            },\n",
    "\n",
    "            'Transporte Hidroviário': {\n",
    "                'HIDROVIAS': 'HBSA',\n",
    "                'LOG-IN': 'LOGN',\n",
    "                'TREVISA': 'LUXM',\n",
    "            },\n",
    "\n",
    "            'Transporte Rodoviário': {\n",
    "                'JSL': 'JSLG',\n",
    "                'TEGMA': 'TGMA',\n",
    "            },\n",
    "            'Exploração de Rodovias': {\n",
    "                'AUTOBAN': 'ANHB',\n",
    "                'CCR SA': 'CCRO',\n",
    "                'CONC RAPOSO': 'RPTA',\n",
    "                'CONC RIO TER': 'CRTE',\n",
    "                'ECOPISTAS': 'ASCP',\n",
    "                'ECORODOVIAS': 'ECOR',\n",
    "                'ECOVIAS': 'ECOV',\n",
    "                'ROD COLINAS': 'COLN',\n",
    "                'ROD TIETE': 'RDVT',\n",
    "                'RT BANDEIRAS': 'CRBD',\n",
    "                'TRIANGULOSOL': 'TRIA',\n",
    "                'TRIUNFO PART': 'TPIS',\n",
    "                'VIAOESTE': 'VOES',\n",
    "            },\n",
    "            'Serviços de Apoio e Armazenagem': {\n",
    "                'GRUAIRPORT': 'AGRU',\n",
    "                'HMOBI S.A': 'HMOB',\n",
    "                'INVEPAR': 'IVPR',\n",
    "                'PORTO VM': 'PSVM',\n",
    "                'SALUS INFRA': 'SAIP',\n",
    "                'SANTOS BRP': 'STBP',\n",
    "                'WILSON SONS': 'PORT',\n",
    "            },\n",
    "        },\n",
    "\n",
    "        'Serviços Diversos': {\n",
    "            'Serviços Diversos': {\n",
    "                'ATMASA': 'ATMP',\n",
    "                'BBMLOGISTICA':\t'BBML',\n",
    "                'DTCOM-DIRECT':\t'DTCY',\n",
    "                'ESTAPAR':\t'ALPK',\n",
    "                'FLEX S/A':\t'FLEX',\n",
    "                'GPS':\t'GGPS',\n",
    "                'PRINER': 'PRNR',\n",
    "                'SEQUOIA LOG': 'SEQL',\n",
    "                'VALID': 'VLID'\n",
    "            }\n",
    "        },\n",
    "\n",
    "        'Comércio': {\n",
    "            'Material de Transporte': {\n",
    "            'EMBPAR S/A': 'EPAR',\n",
    "            'MINASMAQUINA': 'MMAQ',\n",
    "            'RODOBENS': 'RBNS',\n",
    "            'WLM IND COM': 'WLMM'\n",
    "            }\n",
    "        }\n",
    "    },\n",
    "\n",
    "    'Consumo não Cíclico': {\n",
    "        'Agropecuária': {\n",
    "            'Agricultura': {\n",
    "                '3TENTOS': 'TTEN',\n",
    "                'AGRIBRASIL': 'GRAO',\n",
    "                'AGROGALAXY': 'AGXY',\n",
    "                'ALIPERTI': 'APTI',\n",
    "                'BOA SAFRA': 'SOJA',\n",
    "                'BRASILAGRO': 'AGRO',\n",
    "                'POMIFRUTAS': 'FRTA',\n",
    "                'RAIZEN': 'RAIZ',\n",
    "                'SLC AGRICOLA': 'SLCE',\n",
    "                'TERRASANTAPA': 'LAND',\n",
    "\n",
    "            }\n",
    "        },\n",
    "\n",
    "        'Alimentos Processados': {\n",
    "            'Açucar e Alcool': {\n",
    "                'JALLESMACHAD': 'JALL',\n",
    "                'RAIZEN ENERG': 'RESA',\n",
    "                'SAO MARTINHO': 'SMTO',\n",
    "\n",
    "            },\n",
    "\n",
    "            'Carnes e Derivados': {\n",
    "                'BRF SA': 'BRFS',\n",
    "                'EXCELSIOR': 'BAUH',\n",
    "                'JBS': 'JBSS',\n",
    "                'MARFRIG': 'MRFG',\n",
    "                'MINERVA': 'BEEF',\n",
    "                'MINUPAR': 'MNPR',\n",
    "\n",
    "            },\n",
    "            'Alimentos Diversos': {\n",
    "                'CAMIL': 'CAML',\n",
    "                'J.MACEDO': 'JMCD',\n",
    "                'JOSAPAR': 'JOPA',\n",
    "                'M.DIASBRANCO': 'MDIA',\n",
    "                'ODERICH': 'ODER',\n",
    "            },\n",
    "        },\n",
    "\n",
    "        'Bebidas': {\n",
    "            'Cervejas e Refrigerantes': {\n",
    "                'AMBEV S/A': 'ABEV',\n",
    "            }\n",
    "        },\n",
    "\n",
    "        'Produtos de Uso Pessoal e de Limpeza': {\n",
    "            'Produtos de Uso Pessoal': {\n",
    "                'GRUPO NATURA': 'NTCO',\n",
    "            },\n",
    "\n",
    "            'Produtos de Limpeza': {\n",
    "                'BOMBRIL': 'BOBR',\n",
    "            },\n",
    "        },\n",
    "\n",
    "        'Comércio e Distribuição': {\n",
    "            'Alimentos': {\n",
    "                'ASSAI': 'ASAI',\n",
    "                'CARREFOUR BR': 'CRFB',\n",
    "                'GRUPO MATEUS': 'GMAT',\n",
    "                'P.ACUCAR-CBD': 'PCAR',\n",
    "            }\n",
    "\n",
    "        },\n",
    "    },\n",
    "\n",
    "    'Consumo Cíclico': {\n",
    "        'Construção Civil': {\n",
    "            'Incorporações': {\n",
    "                'ALPHAVILLE': 'AVLL',\n",
    "                'CONST A LIND': 'CALI',\n",
    "                'CR2': 'CRDE',\n",
    "                'CURY S/A': 'CURY',\n",
    "                'CYRELA REALT': 'CYRE',\n",
    "                'DIRECIONAL': 'DIRR',\n",
    "                'EVEN': 'EVEN',\n",
    "                'EZTEC': 'EZTC',\n",
    "                'GAFISA': 'GFSA',\n",
    "                'HELBOR': 'HBOR',\n",
    "                'INTER SA': 'INNT',\n",
    "                'JHSF PART': 'JHSF',\n",
    "                'JOAO FORTES': 'JFEN',\n",
    "                'KALLAS': 'KLAS',\n",
    "                'LAVVI': 'LAVV',\n",
    "                'MELNICK': 'MELK',\n",
    "                'MITRE REALTY': 'MTRE',\n",
    "                'MOURA DUBEUX': 'MDNE',\n",
    "                'MRV': 'MRVE',\n",
    "                'PDG REALT': 'PDGR',\n",
    "                'PLANOEPLANO': 'PLPL',\n",
    "                'RNI': 'RDNI',\n",
    "                'ROSSI RESID': 'RSID',\n",
    "                'TECNISA': 'TCSA',\n",
    "                'TEGRA INCORP': 'TEGA',\n",
    "                'TENDA': 'TEND',\n",
    "                'TRISUL': 'TRIS',\n",
    "                'VIVER': 'VIVR',\n",
    "            }\n",
    "\n",
    "        },\n",
    "        'Tecidos, Vestuário e Calçados': {\n",
    "            'Fios e Tecidos': {\n",
    "                'CEDRO': 'CEDO',\n",
    "                'COTEMINAS': 'CTNM',\n",
    "                'DOHLER': 'DOHL',\n",
    "                'ENCORPAR': 'ECPR',\n",
    "                'IND CATAGUA': 'CATA',\n",
    "                'KARSTEN': 'CTKA',\n",
    "                'PETTENATI': 'PTNT',\n",
    "                'SANTANENSE': 'CTSA',\n",
    "                'SPRINGS': 'SGPS',\n",
    "                'TEKA': 'TEKA',\n",
    "                'TEX RENAUX': 'TXRX',\n",
    "            },\n",
    "            'Vestuário': {\n",
    "                'TRACK FIELD': 'TFCO',\n",
    "            },\n",
    "            'Calçados': {\n",
    "                'ALPARGATAS': 'ALPA',\n",
    "                'CAMBUCI': 'CAMB',\n",
    "                'GRENDENE': 'GRND',\n",
    "                'VULCABRAS': 'VULC',\n",
    "            },\n",
    "            'Acessórios': {\n",
    "                'MUNDIAL': 'MNDL',\n",
    "                'TECHNOS': 'TECN',\n",
    "                'VIVARA S.A.': 'VIVA',\n",
    "            }\n",
    "\n",
    "        },\n",
    "        'Utilidades Domésticas': {\n",
    "            'Eletrodomésticos': {\n",
    "                'WHIRLPOOL': 'WHRL',\n",
    "            },\n",
    "            'Móveis': {\n",
    "                'UNICASA': 'UCAS',\n",
    "            },\n",
    "            'Utensílios Domésticos': {\n",
    "                'HERCULES': 'HETA',\n",
    "            }\n",
    "\n",
    "        },\n",
    "        'Automóveis e Motocicletas': {\n",
    "            'Automóveis e Motocicletas': {\n",
    "                'IOCHP-MAXION': '',\n",
    "                'METAL LEVE': '',\n",
    "                'PLASCAR PART': '',\n",
    "            }\n",
    "        },\n",
    "        'Hoteis e Restaurantes': {\n",
    "            'Hotelaria': {\n",
    "                'HOTEIS OTHON': 'HOOT',\n",
    "            },\n",
    "            'Restaurante e Similares': {\n",
    "                'BK BRASIL': 'BKBR',\n",
    "                'IMC S/A': 'MEAL',\n",
    "            }\n",
    "        },\n",
    "        'Viagens e Lazer': {\n",
    "            'Bicicletas': {\n",
    "                'BIC MONARK': 'BMKS',\n",
    "            },\n",
    "            'Brinquedos e Jogos': {\n",
    "                'ESTRELA': 'ESTR',\n",
    "            },\n",
    "            'Produção de Eventos e Shows': {\n",
    "                'SPTURIS': 'AHEB',\n",
    "                'TIME FOR FUN': 'SHOW',\n",
    "            },\n",
    "            'Viagens e Turismo': {\n",
    "                'CVC BRASIL': 'CVCB',\n",
    "            },\n",
    "            'Atividades Esportivas': {\n",
    "                'SMART FIT': 'SMFT',\n",
    "            },\n",
    "        },\n",
    "        'Diversos': {\n",
    "            'Serviços Educacionais': {\n",
    "                'ANIMA': 'ANIM',\n",
    "                'BAHEMA': 'BAHI',\n",
    "                'COGNA ON': 'COGN',\n",
    "                'CRUZEIRO EDU': 'CSED',\n",
    "                'SER EDUCA': 'SEER',\n",
    "                'YDUQS PART': 'YDUQ',\n",
    "            },\n",
    "            'Aluguel de carros': {\n",
    "                'LOCALIZA': 'RENT',\n",
    "                'LOCAMERICA': 'LCAM',\n",
    "                'MAESTROLOC': 'MSRO',\n",
    "                'MOVIDA': 'MOVI',\n",
    "                'UNIDAS': 'UNID',\n",
    "                'VAMOS': 'VAMO',\n",
    "            },\n",
    "            'Programas de Fidelização': {\n",
    "                'DOTZ SA': 'DOTZ',\n",
    "            }\n",
    "        },\n",
    "        'Comércio': {\n",
    "            'Tecidos, Vestuário e Calçados': {\n",
    "                'AREZZO CO': 'ARZZ',\n",
    "                'CEA MODAS': 'CEAB',\n",
    "                'GRAZZIOTIN': 'CGRA',\n",
    "                'GRUPO SOMA': 'SOMA',\n",
    "                'GUARARAPES': 'GUAR',\n",
    "                'LE LIS BLANC': 'LLIS',\n",
    "                'LOJAS MARISA': 'AMAR',\n",
    "                'LOJAS RENNER': 'LREN',\n",
    "            },\n",
    "            'Eletrodomésticos': {\n",
    "                'ALLIED': 'ALLD',\n",
    "                'MAGAZ LUIZA': 'MGLU',\n",
    "                'VIA': 'VIIA',\n",
    "            },\n",
    "            'Produtos Diversos': {\n",
    "                'AMERICANAS': 'AMER',\n",
    "                'ESPACOLASER': 'ESPA',\n",
    "                'GRUPO SBF': 'SBFG',\n",
    "                'LE BISCUIT': 'LLBI',\n",
    "                'PETZ': 'PETZ',\n",
    "                'QUERO-QUERO': 'LJQQ',\n",
    "                'SARAIVA LIVR': 'SLED',\n",
    "            }\n",
    "        }\n",
    "    },\n",
    "\n",
    "    'Saúde': {\n",
    "        'Medicamentos e Outros Produtos': {\n",
    "            'Medicamentos e Outros Produtos': {\n",
    "                'BIOMM': 'BIOM',\n",
    "                'NORTCQUIMICA': 'NRTQ',\n",
    "                'OUROFINO S/A': 'OFSA',\n",
    "            },\n",
    "        },\n",
    "\n",
    "        'Serviços Médico - Hospitalares, Análises e Diagnósticos': {\n",
    "            'Serviços Médico - Hospitalares, Análises e Diagnósticos': {\n",
    "                'ALLIAR': 'AALR',\n",
    "                'DASA': 'DASA',\n",
    "                'FLEURY': 'FLRY',\n",
    "                'HAPVIDA': 'HAPV',\n",
    "                'IHPARDINI': 'PARD',\n",
    "                'KORA SAUDE': 'KRSA',\n",
    "                'MATER DEI': 'MATD',\n",
    "                'ODONTOPREV': 'ODPV',\n",
    "                'ONCOCLINICAS': 'ONCO',\n",
    "                'QUALICORP': 'QUAL',\n",
    "                'REDE D OR': 'RDOR',\n",
    "            }\n",
    "        },\n",
    "\n",
    "        'Equipamentos': {\n",
    "            'Equipamentos': {\n",
    "                'BAUMER': 'BALM',\n",
    "                'LIFEMED': 'LMED',\n",
    "            }\n",
    "\n",
    "        },\n",
    "\n",
    "        'Comércio e Distribuição': {\n",
    "            'Medicamentos e Outros Produtos': {\n",
    "                'BLAU': 'BLAU',\n",
    "                'D1000VFARMA': 'DMVF',\n",
    "                'DIMED': 'PNVL',\n",
    "                'HYPERA': 'HYPE',\n",
    "                'PAGUE MENOS': 'PGMN',\n",
    "                'PROFARMA': 'PFRM',\n",
    "                'RAIADROGASIL': 'RADL',\n",
    "                'VIVEO': 'VVEO',\n",
    "            },\n",
    "        },\n",
    "    },\n",
    "\n",
    "    'Tecnologia da Informação': {\n",
    "        'Computadores e Equipamentos': {\n",
    "            'Computadores e Equipamentos': {\n",
    "                'INTELBRAS': 'INTB',\n",
    "                'POSITIVO TEC': 'POSI',\n",
    "                'MULTILASER': 'MLAS',\n",
    "            }\n",
    "        },\n",
    "\n",
    "        'Programas e Serviços': {\n",
    "            'Programas e Serviços': {\n",
    "                'BEMOBI TECH': 'BMOB',\n",
    "                'BRQ': 'BRQB',\n",
    "                'ENJOEI': 'ENJU',\n",
    "                'GETNINJAS': 'NINJ',\n",
    "                'INFRACOMM': 'IFCM',\n",
    "                'LOCAWEB': 'LWSA',\n",
    "                'MELIUZ': 'CASH',\n",
    "                'MOBLY': 'MBLY',\n",
    "                'MOSAICO': 'MOSI',\n",
    "                'NEOGRID': 'NGRD',\n",
    "                'PADTEC': 'PDTC',\n",
    "                'QUALITY SOFT': 'QUSW',\n",
    "                'SINQIA': 'SQIA',\n",
    "                'TC': 'TRAD',\n",
    "                'TOTVS': 'TOTS',\n",
    "                'WDC NETWORKS': 'LVTC',\n",
    "                'WESTWING': 'WEST',\n",
    "            }\n",
    "        },\n",
    "    },\n",
    "\n",
    "    'Comunicações': {\n",
    "        'Telecomunicações': {\n",
    "            'Telecomunicações': {\n",
    "                'ALGAR TELEC': 'ALGT',\n",
    "                'BRISANET': 'BRIT',\n",
    "                'DESKTOP': 'DESK',\n",
    "                'OI': 'OIBR',\n",
    "                'TELEBRAS': 'TELB',\n",
    "                'TELEF BRASIL': 'VIVT',\n",
    "                'TIM': 'TIMS',\n",
    "                'UNIFIQUE': 'FIQE',\n",
    "            }\n",
    "        },\n",
    "\n",
    "        'Mídia': {\n",
    "            'Produção e Difusão de Filmes e Programas': {\n",
    "                'CINESYSTEM': 'CNSY',\n",
    "            },\n",
    "\n",
    "            'Publicidade e Propaganda': {\n",
    "                'ELETROMIDIA': 'ELMD',\n",
    "            },\n",
    "        },\n",
    "    },\n",
    "\n",
    "    'Utilidade Pública': {\n",
    "        'Energia Elétrica': {\n",
    "            'Energia Elétrica': {\n",
    "                'AES BRASIL': 'AESB',\n",
    "                'AES SUL': 'AESL',\n",
    "                'AESOPERACOES': 'AESO',\n",
    "                'AFLUENTE T': 'AFLT',\n",
    "                'ALUPAR': 'ALUP',\n",
    "                'AMPLA ENERG': 'CBEE',\n",
    "                'CACHOEIRA': 'CPTE',\n",
    "                'CEB': 'CEBR',\n",
    "                'CEEE-D': 'CEED',\n",
    "                'CEEE-T': 'EEEL',\n",
    "                'CELESC': 'CLSC',\n",
    "                'CELGPAR': 'GPAR',\n",
    "                'CELPE': 'CEPE',\n",
    "                'CEMIG': 'CMIG',\n",
    "                'CEMIG DIST': 'CMGD',\n",
    "                'CEMIG GT': 'CMGT',\n",
    "                'CESP': 'CESP',\n",
    "                'COELBA': 'CEEB',\n",
    "                'COELCE': 'COCE',\n",
    "                'COMERC PAR': 'COMR',\n",
    "                'COPEL': 'CPLE',\n",
    "                'COSERN': 'CSRN',\n",
    "                'CPFL ENERGIA': 'CPFE',\n",
    "                'CPFL GERACAO': 'CPFG',\n",
    "                'CPFL PIRATIN': 'CPFP',\n",
    "                'CPFL RENOVAV': 'CPRE',\n",
    "                'EBE': 'EBEN',\n",
    "                'ELEKTRO': 'EKTR',\n",
    "                'ELETROBRAS': 'ELET',\n",
    "                'ELETROPAR': 'LIPR',\n",
    "                'EMAE': 'EMAE',\n",
    "                'ENERGIAS BR': 'ENBR',\n",
    "                'ENERGISA': 'ENGI',\n",
    "                'ENERGISA MT': 'ENMT',\n",
    "                'ENERSUL': 'ENER',\n",
    "                'ENEVA': 'ENEV',\n",
    "                'ENGIE BRASIL': 'EGIE',\n",
    "                'EQTL PARA': 'EQPA',\n",
    "                'EQTLMARANHAO': 'EQMA',\n",
    "                'EQUATORIAL': 'EQTL',\n",
    "                'ESCELSA': 'ESCE',\n",
    "                'FGENERGIA': 'FGEN',\n",
    "                'FOCUS ON': 'POWE',\n",
    "                'GER PARANAP': 'GEPA',\n",
    "                'ITAPEBI': 'ITPB',\n",
    "                'LIGHT': 'LIGH',\n",
    "                'LIGHT S/A': 'LIGT',\n",
    "                'NEOENERGIA': 'NEOE',\n",
    "                'OMEGAENERGIA': 'MEGA',\n",
    "                'PAUL F LUZ': 'PALF',\n",
    "                'PROMAN': 'PRMN',\n",
    "                'REDE ENERGIA': 'REDE',\n",
    "                'RENOVA': 'RNEW',\n",
    "                'STATKRAFT': 'STKF',\n",
    "                'STO ANTONIO': 'STEN',\n",
    "                'TAESA': 'TAEE',\n",
    "                'TERM. PE III': 'TEPE',\n",
    "                'TERMOPE': 'TMPE',\n",
    "                'TRAN PAULIST': 'TRPL',\n",
    "                'UPTICK': 'UPKP',\n",
    "            },\n",
    "        },\n",
    "\n",
    "        'Água e Saneamento': {\n",
    "            'Água e Saneamento': {\n",
    "                'AMBIPAR': 'AMBP',\n",
    "                'CASAN': 'CASN',\n",
    "                'COPASA': 'CSMG',\n",
    "                'IGUA SA': 'IGSN',\n",
    "                'ORIZON': 'ORVR',\n",
    "                'SABESP': 'SBSP',\n",
    "                'SANEPAR': 'SAPR',\n",
    "                'SANESALTO': 'SNST',\n",
    "            }\n",
    "        },\n",
    "\n",
    "        'Gás': {\n",
    "            'Gás': {\n",
    "                'CEG': 'CEGR',\n",
    "                'COMGAS': 'CGAS',\n",
    "                'COMPASS': 'PASS',\n",
    "            }\n",
    "        },\n",
    "    },\n",
    "\n",
    "    'Financeiro': {\n",
    "        'Intermediários Financeiros': {\n",
    "            'Bancos': {\n",
    "                'ABC BRASIL': 'ABCB',\n",
    "                'ALFA HOLDING': 'RPAD',\n",
    "                'ALFA INVEST': 'BRIV',\n",
    "                'AMAZONIA': 'BAZA',\n",
    "                'BANCO BMG': 'BMGB',\n",
    "                'BANCO INTER': 'BIDI',\n",
    "                'BANCO PAN': 'BPAN',\n",
    "                'BANESE': 'BGIP',\n",
    "                'BANESTES': 'BEES',\n",
    "                'BANPARA': 'BPAR',\n",
    "                'BANRISUL': 'BRSR',\n",
    "                'BR PARTNERS': 'BRBI',\n",
    "                'BRADESCO': 'BBDC',\n",
    "                'BRASIL': 'BBAS',\n",
    "                'BRB BANCO': 'BSLI',\n",
    "                'BTGP BANCO': 'BPAC',\n",
    "                'ITAUSA': 'ITSA',\n",
    "                'ITAUUNIBANCO': 'ITUB',\n",
    "                'MERC BRASIL': 'BMEB',\n",
    "                'MERC INVEST': 'BMIN',\n",
    "                'MODALMAIS': 'MODL',\n",
    "                'NORD BRASIL': 'BNBR',\n",
    "                'NU-NUBANK': 'NUBR',\n",
    "                'PARANA': 'PRBC',\n",
    "                'PINE': 'PINE',\n",
    "                'SANTANDER BR': 'SANB',\n",
    "            },\n",
    "            'Soc. Crédito e Financiamento': {\n",
    "                'ALFA FINANC': 'CRIV',\n",
    "                'FINANSINOS': 'FNCN',\n",
    "                'MERC FINANC': 'MERC',\n",
    "            },\n",
    "\n",
    "            'Soc. Arrendamento Mercantil': {\n",
    "                'BRADESCO LSG': 'BDLS',\n",
    "                'DIBENS LSG': 'DBEN',\n",
    "            }\n",
    "        },\n",
    "\n",
    "        'Securitizadoras de Recebíveis': {\n",
    "            'Securitizadoras de Recebíveis': {\n",
    "                'BRAZIL REALT': 'BZRS',\n",
    "                'BRAZILIAN SC': 'BSCS',\n",
    "                'BRPR 56 SEC': 'WTVR',\n",
    "                'CIBRASEC': 'CBSC',\n",
    "                'ECO SEC AGRO': 'ECOA',\n",
    "                'GAIA AGRO': 'GAFL',\n",
    "                'GAIA SECURIT': 'GAIA',\n",
    "                'OCTANTE SEC': 'OCTS',\n",
    "                'PDG SECURIT': 'PDGS',\n",
    "                'POLO CAP SEC': 'PLSC',\n",
    "                'RBCAPITALRES': 'RBRA',\n",
    "                'TRUESEC': 'APCS',\n",
    "                'VERTCIASEC': 'VERT',\n",
    "                'WTORRE PIC': 'WTPI',\n",
    "            },\n",
    "        },\n",
    "\n",
    "        'Serviços Financeiros Diversos': {\n",
    "            'Gestão de Recursos e Investimentos': {\n",
    "                'BNDESPAR': 'BNDP',\n",
    "                'BRAZILIAN FR': 'BFRE',\n",
    "                'G2D INVEST': 'G2DI',\n",
    "                'GP INVEST': 'GPIV',\n",
    "                'PPLA': 'PPLA',\n",
    "            },\n",
    "\n",
    "            'Serviços Financeiros Diversos': {\n",
    "                'B3': 'B3SA',\n",
    "                'BOA VISTA': 'BOAS',\n",
    "                'CIELO': 'CIEL',\n",
    "                'CLEARSALE': 'CLSA',\n",
    "                'CSU CARDSYST': 'CARD',\n",
    "                'GETNET BR': 'GETT',\n",
    "                'STONE CO': 'STOC',\n",
    "                'XP INC': 'XPBR',\n",
    "            }\n",
    "        },\n",
    "\n",
    "        'Previdência e Seguros': {\n",
    "            'Seguradoras': {\n",
    "                'ALFA CONSORC': 'BRGE',\n",
    "                'BBSEGURIDADE': 'BBSE',\n",
    "                'CAIXA SEGURI': 'CXSE',\n",
    "                'PORTO SEGURO': 'PSSA',\n",
    "                'SEG AL BAHIA': 'CSAB',\n",
    "                'SUL AMERICA': 'SULA',\n",
    "            },\n",
    "            'Resseguradoras': {\n",
    "                'IRBBRASIL RE': 'IRBR',\n",
    "            },\n",
    "\n",
    "            'Corretoras de Seguros e Resseguros': {\n",
    "                'ALPER S.A.': 'APER',\n",
    "                'WIZ S.A.': 'WIZS',\n",
    "            },\n",
    "        },\n",
    "\n",
    "        'Exploração de Imóveis': {\n",
    "            'Exploração de Imóveis': {\n",
    "                'ALIANSCSONAE': 'ALSO',\n",
    "                'BR MALLS PAR': 'BRML',\n",
    "                'BR PROPERT': 'BRPR',\n",
    "                'COR RIBEIRO': 'CORR',\n",
    "                'CYRE COM-CCP': 'CCPR',\n",
    "                'GENERALSHOPP': 'GSHP',\n",
    "                'HABITASUL': 'HBTS',\n",
    "                'HBR REALTY': 'HBRE',\n",
    "                'IGB S/A': 'IGBR',\n",
    "                'IGUATEMI S.A': 'IGTI',\n",
    "                'LOG COM PROP': 'LOGG',\n",
    "                'MENEZES CORT': 'MNZC',\n",
    "                'MULTIPLAN': 'MULT',\n",
    "                'SAO CARLOS': 'SCAR',\n",
    "                'SYN PROP TEC': 'SYNE',\n",
    "            },\n",
    "\n",
    "            'Intermediação Imobiliária': {\n",
    "                'BR BROKERS': 'BBRK',\n",
    "                'LOPES BRASIL': 'LPSB',\n",
    "            },\n",
    "        },\n",
    "\n",
    "        'Holdings Diversificadas': {\n",
    "            'Holdings Diversificadas': {\n",
    "                'MONT ARANHA': 'MOAR',\n",
    "                'PAR AL BAHIA': 'PEAB',\n",
    "                'SIMPAR': 'SIMH',\n",
    "            },\n",
    "        },\n",
    "\n",
    "        'Outros Títulos': {\n",
    "            'Outros Títulos': {\n",
    "                'CEPAC - CTBA': 'CTBA',\n",
    "                'CEPAC - MCRJ': 'MCRJ',\n",
    "                'CEPAC - PMSP': 'PMSP',\n",
    "            }\n",
    "        },\n",
    "\n",
    "    },\n",
    "\n",
    "    'Outros': {\n",
    "        'Outros': {\n",
    "            'Outros': {\n",
    "                '524 PARTICIP': 'QVQP',\n",
    "                'ATOMPAR': 'ATOM',\n",
    "                'B TECH EQI': 'BLUT',\n",
    "                'BETAPART': 'BETP',\n",
    "                'CABINDA PART': 'CABI',\n",
    "                'CACONDE PART': 'CACO',\n",
    "                'CEMEPE': 'MAPT',\n",
    "                'CIMS': 'CMSA',\n",
    "                'GAMA PART': 'OPGM',\n",
    "                'INVEST BEMGE': 'FIGE',\n",
    "                'MGI PARTICIP': 'MGIP',\n",
    "                'POLPAR': 'PPAR',\n",
    "                'PROMPT PART': 'PRPT',\n",
    "                'SUDESTE S/A': 'OPSE',\n",
    "                'SUL 116 PART': 'OPTS',\n",
    "                'YBYRA S/A': 'YBRA',\n",
    "            }\n",
    "        },\n",
    "    },\n",
    "}"
   ]
  },
  {
   "cell_type": "code",
   "execution_count": 2,
   "id": "706b344d",
   "metadata": {},
   "outputs": [],
   "source": [
    "def stock_iterator(stocks):\n",
    "    for _, value in stocks.items():\n",
    "        if isinstance(value, dict):\n",
    "            yield from stock_iterator(value)\n",
    "        else:\n",
    "            for c in {'3', '4'}:\n",
    "                yield f'{value}{c}.SA'"
   ]
  },
  {
   "cell_type": "code",
   "execution_count": 3,
   "id": "a7fd2c22",
   "metadata": {},
   "outputs": [],
   "source": [
    "sectors = {}\n",
    "for sector in b3_companies.keys():\n",
    "    for stock in stock_iterator(b3_companies[sector]):\n",
    "        sectors[stock] = sector\n",
    "\n",
    "sub_sectors = {}\n",
    "\n",
    "for sector in b3_companies.keys():\n",
    "    for sub_sector in b3_companies[sector].keys():\n",
    "        for stock in stock_iterator(b3_companies[sector][sub_sector]):\n",
    "            sub_sectors[stock] = sub_sector\n",
    "\n",
    "segments = {}\n",
    "for sector in b3_companies.keys():\n",
    "    for sub_sector in b3_companies[sector].keys():\n",
    "        for segment in b3_companies[sector][sub_sector].keys():\n",
    "            for stock in stock_iterator(b3_companies[sector][sub_sector][segment]):\n",
    "                segments[stock] = segment\n",
    "\n",
    "# TODO: Criar uma estrutura de dados que simplifique essa busca de setor, subsetor e segmento\n",
    "# Por exemplo:\n",
    "\"\"\"\n",
    "stocks = [\n",
    "    {\n",
    "        'sector': 'Consumo Cíclico', \n",
    "        'sub_sector': 'Comércio', \n",
    "        'segment': 'Eletrodomésticos', \n",
    "        'stocks': ['MGLU3.SA', 'MGLU4.SA', 'MGLU3F.SA', 'MGLU4F.SA'], \n",
    "        'company': 'Magazine Luiza',\n",
    "    },\n",
    "]\n",
    "\"\"\"\n",
    "a = 1"
   ]
  },
  {
   "cell_type": "code",
   "execution_count": 141,
   "id": "90af8bfe",
   "metadata": {},
   "outputs": [],
   "source": [
    "from dateutil.relativedelta import relativedelta\n",
    "from time import sleep\n",
    "from typing import Dict\n",
    "import datetime as dt\n",
    "import os\n",
    "import pandas as pd\n",
    "import ssl\n",
    "import yfinance as yf\n",
    "import seaborn as sns\n",
    "import matplotlib.pyplot as plt\n",
    "import plotly.express as px\n",
    "import numpy as np\n",
    "from sklearn.ensemble import IsolationForest\n",
    "from sklearn.cluster import KMeans\n",
    "from sklearn import preprocessing\n",
    "\n",
    "ssl._create_default_https_context = ssl._create_unverified_context"
   ]
  },
  {
   "cell_type": "markdown",
   "id": "2f26e027",
   "metadata": {},
   "source": [
    "#### 2. Obteção dos sinais financeiros das ações da B3"
   ]
  },
  {
   "cell_type": "code",
   "execution_count": 5,
   "id": "b4023de2",
   "metadata": {},
   "outputs": [
    {
     "name": "stdout",
     "output_type": "stream",
     "text": [
      "Start Date: 2019-02-28\n",
      "End Date: 2022-02-28\n"
     ]
    }
   ],
   "source": [
    "end_date = dt.date.today() - relativedelta(days=1)\n",
    "start_date = end_date - relativedelta(years=3)\n",
    "\n",
    "print(\"Start Date:\", start_date)\n",
    "print(\"End Date:\", end_date)"
   ]
  },
  {
   "cell_type": "code",
   "execution_count": 6,
   "id": "973b5c3f",
   "metadata": {},
   "outputs": [],
   "source": [
    "def get_stock_data() -> Dict[str, pd.DataFrame]:\n",
    "    file_name = 'b3_companies.pkl'\n",
    "\n",
    "    if os.path.exists(file_name):\n",
    "        dfs = pd.read_pickle(file_name)\n",
    "        return dfs\n",
    "    \n",
    "    dfs: Dict[str, pd.DataFrame] = dict()\n",
    "\n",
    "    end_date = dt.date.today() - relativedelta(days=1)\n",
    "    start_date = end_date - relativedelta(years=3)\n",
    "\n",
    "    for stock in stock_iterator(b3_companies):\n",
    "        try:\n",
    "            df_ = yf.download(stock, start=start_date, end=end_date)\n",
    "            if len(df_):\n",
    "                dfs[stock] = df_\n",
    "            sleep(1)\n",
    "        except:\n",
    "            continue\n",
    "    \n",
    "    pd.to_pickle(dfs, './b3_companies.pkl')\n",
    "    \n",
    "    return dfs\n",
    "\n",
    "dfs = get_stock_data()"
   ]
  },
  {
   "cell_type": "markdown",
   "id": "2808d2dd",
   "metadata": {},
   "source": [
    "#### 3. Remoção dos ativos com falhas no dataset"
   ]
  },
  {
   "cell_type": "code",
   "execution_count": 11,
   "id": "3fa7a3ee",
   "metadata": {},
   "outputs": [
    {
     "data": {
      "text/html": [
       "<div>\n",
       "<style scoped>\n",
       "    .dataframe tbody tr th:only-of-type {\n",
       "        vertical-align: middle;\n",
       "    }\n",
       "\n",
       "    .dataframe tbody tr th {\n",
       "        vertical-align: top;\n",
       "    }\n",
       "\n",
       "    .dataframe thead th {\n",
       "        text-align: right;\n",
       "    }\n",
       "</style>\n",
       "<table border=\"1\" class=\"dataframe\">\n",
       "  <thead>\n",
       "    <tr style=\"text-align: right;\">\n",
       "      <th></th>\n",
       "      <th>RRRP3.SA</th>\n",
       "      <th>CSAN3.SA</th>\n",
       "      <th>DMMO3.SA</th>\n",
       "      <th>ENAT3.SA</th>\n",
       "      <th>RPMG3.SA</th>\n",
       "      <th>PETR4.SA</th>\n",
       "      <th>PETR3.SA</th>\n",
       "      <th>RECV3.SA</th>\n",
       "      <th>PRIO3.SA</th>\n",
       "      <th>UGPA3.SA</th>\n",
       "      <th>...</th>\n",
       "      <th>PEAB3.SA</th>\n",
       "      <th>SIMH3.SA</th>\n",
       "      <th>ATOM3.SA</th>\n",
       "      <th>BLUT4.SA</th>\n",
       "      <th>BLUT3.SA</th>\n",
       "      <th>MAPT4.SA</th>\n",
       "      <th>MAPT3.SA</th>\n",
       "      <th>FIGE4.SA</th>\n",
       "      <th>FIGE3.SA</th>\n",
       "      <th>PPAR3.SA</th>\n",
       "    </tr>\n",
       "    <tr>\n",
       "      <th>Date</th>\n",
       "      <th></th>\n",
       "      <th></th>\n",
       "      <th></th>\n",
       "      <th></th>\n",
       "      <th></th>\n",
       "      <th></th>\n",
       "      <th></th>\n",
       "      <th></th>\n",
       "      <th></th>\n",
       "      <th></th>\n",
       "      <th></th>\n",
       "      <th></th>\n",
       "      <th></th>\n",
       "      <th></th>\n",
       "      <th></th>\n",
       "      <th></th>\n",
       "      <th></th>\n",
       "      <th></th>\n",
       "      <th></th>\n",
       "      <th></th>\n",
       "      <th></th>\n",
       "    </tr>\n",
       "  </thead>\n",
       "  <tbody>\n",
       "    <tr>\n",
       "      <th>2020-03-02</th>\n",
       "      <td>NaN</td>\n",
       "      <td>18.887501</td>\n",
       "      <td>1.589771</td>\n",
       "      <td>13.610000</td>\n",
       "      <td>4.10</td>\n",
       "      <td>26.530001</td>\n",
       "      <td>28.100000</td>\n",
       "      <td>NaN</td>\n",
       "      <td>8.460000</td>\n",
       "      <td>19.719999</td>\n",
       "      <td>...</td>\n",
       "      <td>55.0</td>\n",
       "      <td>NaN</td>\n",
       "      <td>1.66</td>\n",
       "      <td>0.710000</td>\n",
       "      <td>1.033333</td>\n",
       "      <td>36.490002</td>\n",
       "      <td>65.0</td>\n",
       "      <td>38.009998</td>\n",
       "      <td>43.0</td>\n",
       "      <td>250.020004</td>\n",
       "    </tr>\n",
       "    <tr>\n",
       "      <th>2020-03-03</th>\n",
       "      <td>NaN</td>\n",
       "      <td>18.992500</td>\n",
       "      <td>1.409796</td>\n",
       "      <td>13.580000</td>\n",
       "      <td>4.10</td>\n",
       "      <td>26.049999</td>\n",
       "      <td>27.500000</td>\n",
       "      <td>NaN</td>\n",
       "      <td>8.356000</td>\n",
       "      <td>19.980000</td>\n",
       "      <td>...</td>\n",
       "      <td>55.0</td>\n",
       "      <td>NaN</td>\n",
       "      <td>1.68</td>\n",
       "      <td>0.730000</td>\n",
       "      <td>1.033333</td>\n",
       "      <td>36.490002</td>\n",
       "      <td>65.0</td>\n",
       "      <td>38.009998</td>\n",
       "      <td>43.0</td>\n",
       "      <td>250.020004</td>\n",
       "    </tr>\n",
       "    <tr>\n",
       "      <th>2020-03-04</th>\n",
       "      <td>NaN</td>\n",
       "      <td>19.264999</td>\n",
       "      <td>1.339807</td>\n",
       "      <td>13.000000</td>\n",
       "      <td>4.26</td>\n",
       "      <td>26.889999</td>\n",
       "      <td>28.219999</td>\n",
       "      <td>NaN</td>\n",
       "      <td>8.266000</td>\n",
       "      <td>19.950001</td>\n",
       "      <td>...</td>\n",
       "      <td>57.0</td>\n",
       "      <td>NaN</td>\n",
       "      <td>1.66</td>\n",
       "      <td>0.716666</td>\n",
       "      <td>1.016666</td>\n",
       "      <td>36.490002</td>\n",
       "      <td>65.0</td>\n",
       "      <td>38.009998</td>\n",
       "      <td>43.0</td>\n",
       "      <td>250.020004</td>\n",
       "    </tr>\n",
       "    <tr>\n",
       "      <th>2020-03-05</th>\n",
       "      <td>NaN</td>\n",
       "      <td>17.997499</td>\n",
       "      <td>1.229822</td>\n",
       "      <td>13.110000</td>\n",
       "      <td>4.09</td>\n",
       "      <td>25.290001</td>\n",
       "      <td>26.809999</td>\n",
       "      <td>NaN</td>\n",
       "      <td>7.910000</td>\n",
       "      <td>18.100000</td>\n",
       "      <td>...</td>\n",
       "      <td>60.0</td>\n",
       "      <td>NaN</td>\n",
       "      <td>1.60</td>\n",
       "      <td>0.703333</td>\n",
       "      <td>1.003333</td>\n",
       "      <td>36.490002</td>\n",
       "      <td>65.0</td>\n",
       "      <td>38.009998</td>\n",
       "      <td>43.0</td>\n",
       "      <td>250.020004</td>\n",
       "    </tr>\n",
       "    <tr>\n",
       "      <th>2020-03-06</th>\n",
       "      <td>NaN</td>\n",
       "      <td>17.340000</td>\n",
       "      <td>1.179830</td>\n",
       "      <td>12.410000</td>\n",
       "      <td>3.85</td>\n",
       "      <td>22.830000</td>\n",
       "      <td>24.059999</td>\n",
       "      <td>NaN</td>\n",
       "      <td>7.088000</td>\n",
       "      <td>17.200001</td>\n",
       "      <td>...</td>\n",
       "      <td>60.0</td>\n",
       "      <td>NaN</td>\n",
       "      <td>1.55</td>\n",
       "      <td>0.680000</td>\n",
       "      <td>0.950000</td>\n",
       "      <td>36.490002</td>\n",
       "      <td>65.0</td>\n",
       "      <td>38.009998</td>\n",
       "      <td>43.0</td>\n",
       "      <td>250.020004</td>\n",
       "    </tr>\n",
       "    <tr>\n",
       "      <th>...</th>\n",
       "      <td>...</td>\n",
       "      <td>...</td>\n",
       "      <td>...</td>\n",
       "      <td>...</td>\n",
       "      <td>...</td>\n",
       "      <td>...</td>\n",
       "      <td>...</td>\n",
       "      <td>...</td>\n",
       "      <td>...</td>\n",
       "      <td>...</td>\n",
       "      <td>...</td>\n",
       "      <td>...</td>\n",
       "      <td>...</td>\n",
       "      <td>...</td>\n",
       "      <td>...</td>\n",
       "      <td>...</td>\n",
       "      <td>...</td>\n",
       "      <td>...</td>\n",
       "      <td>...</td>\n",
       "      <td>...</td>\n",
       "      <td>...</td>\n",
       "    </tr>\n",
       "    <tr>\n",
       "      <th>2022-02-21</th>\n",
       "      <td>37.040001</td>\n",
       "      <td>21.180000</td>\n",
       "      <td>0.930000</td>\n",
       "      <td>16.389999</td>\n",
       "      <td>2.75</td>\n",
       "      <td>33.849998</td>\n",
       "      <td>36.840000</td>\n",
       "      <td>21.139999</td>\n",
       "      <td>25.270000</td>\n",
       "      <td>15.100000</td>\n",
       "      <td>...</td>\n",
       "      <td>64.5</td>\n",
       "      <td>10.35</td>\n",
       "      <td>3.04</td>\n",
       "      <td>0.700000</td>\n",
       "      <td>1.350000</td>\n",
       "      <td>21.510000</td>\n",
       "      <td>37.0</td>\n",
       "      <td>NaN</td>\n",
       "      <td>NaN</td>\n",
       "      <td>NaN</td>\n",
       "    </tr>\n",
       "    <tr>\n",
       "      <th>2022-02-22</th>\n",
       "      <td>36.099998</td>\n",
       "      <td>20.520000</td>\n",
       "      <td>0.950000</td>\n",
       "      <td>16.059999</td>\n",
       "      <td>2.80</td>\n",
       "      <td>33.740002</td>\n",
       "      <td>36.270000</td>\n",
       "      <td>20.350000</td>\n",
       "      <td>24.540001</td>\n",
       "      <td>15.320000</td>\n",
       "      <td>...</td>\n",
       "      <td>64.5</td>\n",
       "      <td>10.92</td>\n",
       "      <td>3.13</td>\n",
       "      <td>0.690000</td>\n",
       "      <td>1.310000</td>\n",
       "      <td>21.510000</td>\n",
       "      <td>37.0</td>\n",
       "      <td>38.009998</td>\n",
       "      <td>43.0</td>\n",
       "      <td>250.020004</td>\n",
       "    </tr>\n",
       "    <tr>\n",
       "      <th>2022-02-23</th>\n",
       "      <td>31.590000</td>\n",
       "      <td>20.450001</td>\n",
       "      <td>0.930000</td>\n",
       "      <td>16.600000</td>\n",
       "      <td>2.76</td>\n",
       "      <td>34.220001</td>\n",
       "      <td>36.279999</td>\n",
       "      <td>20.700001</td>\n",
       "      <td>24.889999</td>\n",
       "      <td>14.920000</td>\n",
       "      <td>...</td>\n",
       "      <td>64.5</td>\n",
       "      <td>10.90</td>\n",
       "      <td>3.04</td>\n",
       "      <td>0.680000</td>\n",
       "      <td>1.240000</td>\n",
       "      <td>21.510000</td>\n",
       "      <td>37.0</td>\n",
       "      <td>38.009998</td>\n",
       "      <td>43.0</td>\n",
       "      <td>250.020004</td>\n",
       "    </tr>\n",
       "    <tr>\n",
       "      <th>2022-02-24</th>\n",
       "      <td>32.070000</td>\n",
       "      <td>20.510000</td>\n",
       "      <td>0.940000</td>\n",
       "      <td>17.280001</td>\n",
       "      <td>2.78</td>\n",
       "      <td>33.389999</td>\n",
       "      <td>35.709999</td>\n",
       "      <td>20.299999</td>\n",
       "      <td>24.860001</td>\n",
       "      <td>15.460000</td>\n",
       "      <td>...</td>\n",
       "      <td>64.5</td>\n",
       "      <td>10.72</td>\n",
       "      <td>2.91</td>\n",
       "      <td>0.620000</td>\n",
       "      <td>1.230000</td>\n",
       "      <td>21.510000</td>\n",
       "      <td>37.0</td>\n",
       "      <td>38.009998</td>\n",
       "      <td>43.0</td>\n",
       "      <td>250.020004</td>\n",
       "    </tr>\n",
       "    <tr>\n",
       "      <th>2022-02-25</th>\n",
       "      <td>33.480000</td>\n",
       "      <td>20.940001</td>\n",
       "      <td>0.940000</td>\n",
       "      <td>16.930000</td>\n",
       "      <td>2.73</td>\n",
       "      <td>33.759998</td>\n",
       "      <td>36.279999</td>\n",
       "      <td>20.549999</td>\n",
       "      <td>25.650000</td>\n",
       "      <td>15.130000</td>\n",
       "      <td>...</td>\n",
       "      <td>64.5</td>\n",
       "      <td>10.48</td>\n",
       "      <td>2.91</td>\n",
       "      <td>0.610000</td>\n",
       "      <td>1.210000</td>\n",
       "      <td>21.510000</td>\n",
       "      <td>37.0</td>\n",
       "      <td>38.009998</td>\n",
       "      <td>43.0</td>\n",
       "      <td>250.020004</td>\n",
       "    </tr>\n",
       "  </tbody>\n",
       "</table>\n",
       "<p>510 rows × 451 columns</p>\n",
       "</div>"
      ],
      "text/plain": [
       "             RRRP3.SA   CSAN3.SA  DMMO3.SA   ENAT3.SA  RPMG3.SA   PETR4.SA  \\\n",
       "Date                                                                         \n",
       "2020-03-02        NaN  18.887501  1.589771  13.610000      4.10  26.530001   \n",
       "2020-03-03        NaN  18.992500  1.409796  13.580000      4.10  26.049999   \n",
       "2020-03-04        NaN  19.264999  1.339807  13.000000      4.26  26.889999   \n",
       "2020-03-05        NaN  17.997499  1.229822  13.110000      4.09  25.290001   \n",
       "2020-03-06        NaN  17.340000  1.179830  12.410000      3.85  22.830000   \n",
       "...               ...        ...       ...        ...       ...        ...   \n",
       "2022-02-21  37.040001  21.180000  0.930000  16.389999      2.75  33.849998   \n",
       "2022-02-22  36.099998  20.520000  0.950000  16.059999      2.80  33.740002   \n",
       "2022-02-23  31.590000  20.450001  0.930000  16.600000      2.76  34.220001   \n",
       "2022-02-24  32.070000  20.510000  0.940000  17.280001      2.78  33.389999   \n",
       "2022-02-25  33.480000  20.940001  0.940000  16.930000      2.73  33.759998   \n",
       "\n",
       "             PETR3.SA   RECV3.SA   PRIO3.SA   UGPA3.SA  ...  PEAB3.SA  \\\n",
       "Date                                                    ...             \n",
       "2020-03-02  28.100000        NaN   8.460000  19.719999  ...      55.0   \n",
       "2020-03-03  27.500000        NaN   8.356000  19.980000  ...      55.0   \n",
       "2020-03-04  28.219999        NaN   8.266000  19.950001  ...      57.0   \n",
       "2020-03-05  26.809999        NaN   7.910000  18.100000  ...      60.0   \n",
       "2020-03-06  24.059999        NaN   7.088000  17.200001  ...      60.0   \n",
       "...               ...        ...        ...        ...  ...       ...   \n",
       "2022-02-21  36.840000  21.139999  25.270000  15.100000  ...      64.5   \n",
       "2022-02-22  36.270000  20.350000  24.540001  15.320000  ...      64.5   \n",
       "2022-02-23  36.279999  20.700001  24.889999  14.920000  ...      64.5   \n",
       "2022-02-24  35.709999  20.299999  24.860001  15.460000  ...      64.5   \n",
       "2022-02-25  36.279999  20.549999  25.650000  15.130000  ...      64.5   \n",
       "\n",
       "            SIMH3.SA  ATOM3.SA  BLUT4.SA  BLUT3.SA   MAPT4.SA  MAPT3.SA  \\\n",
       "Date                                                                      \n",
       "2020-03-02       NaN      1.66  0.710000  1.033333  36.490002      65.0   \n",
       "2020-03-03       NaN      1.68  0.730000  1.033333  36.490002      65.0   \n",
       "2020-03-04       NaN      1.66  0.716666  1.016666  36.490002      65.0   \n",
       "2020-03-05       NaN      1.60  0.703333  1.003333  36.490002      65.0   \n",
       "2020-03-06       NaN      1.55  0.680000  0.950000  36.490002      65.0   \n",
       "...              ...       ...       ...       ...        ...       ...   \n",
       "2022-02-21     10.35      3.04  0.700000  1.350000  21.510000      37.0   \n",
       "2022-02-22     10.92      3.13  0.690000  1.310000  21.510000      37.0   \n",
       "2022-02-23     10.90      3.04  0.680000  1.240000  21.510000      37.0   \n",
       "2022-02-24     10.72      2.91  0.620000  1.230000  21.510000      37.0   \n",
       "2022-02-25     10.48      2.91  0.610000  1.210000  21.510000      37.0   \n",
       "\n",
       "             FIGE4.SA  FIGE3.SA    PPAR3.SA  \n",
       "Date                                         \n",
       "2020-03-02  38.009998      43.0  250.020004  \n",
       "2020-03-03  38.009998      43.0  250.020004  \n",
       "2020-03-04  38.009998      43.0  250.020004  \n",
       "2020-03-05  38.009998      43.0  250.020004  \n",
       "2020-03-06  38.009998      43.0  250.020004  \n",
       "...               ...       ...         ...  \n",
       "2022-02-21        NaN       NaN         NaN  \n",
       "2022-02-22  38.009998      43.0  250.020004  \n",
       "2022-02-23  38.009998      43.0  250.020004  \n",
       "2022-02-24  38.009998      43.0  250.020004  \n",
       "2022-02-25  38.009998      43.0  250.020004  \n",
       "\n",
       "[510 rows x 451 columns]"
      ]
     },
     "execution_count": 11,
     "metadata": {},
     "output_type": "execute_result"
    }
   ],
   "source": [
    "cdfs = pd.DataFrame()\n",
    "columns = []\n",
    "\n",
    "for stock, df in dfs.items():\n",
    "    cdf = df[['Close']]\n",
    "    \n",
    "    cdfs = pd.concat([cdfs, cdf], axis=1)\n",
    "    columns.append(stock)\n",
    "\n",
    "cdfs.columns = columns\n",
    "cdfs"
   ]
  },
  {
   "cell_type": "code",
   "execution_count": 8,
   "id": "8099238e",
   "metadata": {},
   "outputs": [
    {
     "name": "stdout",
     "output_type": "stream",
     "text": [
      "Ativos que não possui sinais financeiros contínuos na série temporal definida\n"
     ]
    },
    {
     "data": {
      "text/plain": [
       "<AxesSubplot:ylabel='Date'>"
      ]
     },
     "execution_count": 8,
     "metadata": {},
     "output_type": "execute_result"
    },
    {
     "data": {
      "image/png": "[encoded data removed]",
      "text/plain": [
       "<Figure size 1728x216 with 1 Axes>"
      ]
     },
     "metadata": {
      "needs_background": "light"
     },
     "output_type": "display_data"
    }
   ],
   "source": [
    "plt.figure(figsize=(24, 3))\n",
    "\n",
    "print(\"Ativos que não possui sinais financeiros contínuos na série temporal definida\")\n",
    "sns.heatmap(cdfs.isnull(), cmap='summer', cbar=False)"
   ]
  },
  {
   "cell_type": "code",
   "execution_count": 22,
   "id": "05521dcd",
   "metadata": {},
   "outputs": [
    {
     "data": {
      "text/plain": [
       "[(509, 'VSPT4.SA'),\n",
       " (509, 'GRAO3.SA'),\n",
       " (466, 'MEGA3.SA'),\n",
       " (436, 'MODL4.SA'),\n",
       " (436, 'MODL3.SA'),\n",
       " (424, 'PORT3.SA'),\n",
       " (422, 'GETT4.SA'),\n",
       " (422, 'GETT3.SA'),\n",
       " (401, 'ONCO3.SA'),\n",
       " (389, 'VITT3.SA'),\n",
       " (377, 'FNCN3.SA'),\n",
       " (376, 'KRSA3.SA'),\n",
       " (372, 'LAND3.SA'),\n",
       " (371, 'VVEO3.SA'),\n",
       " (369, 'RAIZ4.SA'),\n",
       " (366, 'CLSA3.SA'),\n",
       " (366, 'BRIT3.SA'),\n",
       " (364, 'LVTC3.SA'),\n",
       " (364, 'FIQE3.SA'),\n",
       " (364, 'ARML3.SA'),\n",
       " (363, 'TRAD3.SA'),\n",
       " (362, 'AGXY3.SA'),\n",
       " (359, 'MLAS3.SA'),\n",
       " (359, 'DESK3.SA'),\n",
       " (357, 'TTEN3.SA'),\n",
       " (355, 'CBAV3.SA'),\n",
       " (353, 'SMFT3.SA'),\n",
       " (323, 'DOTZ3.SA'),\n",
       " (314, 'NINJ3.SA'),\n",
       " (311, 'MATD3.SA'),\n",
       " (307, 'IFCM3.SA'),\n",
       " (305, 'RECV3.SA'),\n",
       " (302, 'SOJA3.SA'),\n",
       " (302, 'CXSE3.SA'),\n",
       " (300, 'GGPS3.SA'),\n",
       " (294, 'BLAU3.SA'),\n",
       " (289, 'ALLD3.SA'),\n",
       " (280, 'AESB3.SA'),\n",
       " (260, 'ASAI3.SA'),\n",
       " (255, 'CMIN3.SA'),\n",
       " (252, 'ORVR3.SA'),\n",
       " (252, 'ELMD3.SA'),\n",
       " (251, 'WEST3.SA'),\n",
       " (251, 'OPCT3.SA'),\n",
       " (250, 'CSED3.SA'),\n",
       " (250, 'BMOB3.SA'),\n",
       " (249, 'POWE3.SA'),\n",
       " (248, 'MOSI3.SA'),\n",
       " (248, 'MBLY3.SA'),\n",
       " (247, 'JALL3.SA'),\n",
       " (247, 'INTB3.SA'),\n",
       " (245, 'ESPA3.SA'),\n",
       " (243, 'VAMO3.SA'),\n",
       " (238, 'HBRE3.SA'),\n",
       " (223, 'AVLL3.SA'),\n",
       " (217, 'NGRD3.SA'),\n",
       " (213, 'RDOR3.SA'),\n",
       " (192, 'RRRP3.SA'),\n",
       " (191, 'AERI3.SA'),\n",
       " (188, 'ENJU3.SA'),\n",
       " (188, 'CASH3.SA'),\n",
       " (179, 'TFCO4.SA'),\n",
       " (170, 'GMAT3.SA'),\n",
       " (168, 'SEQL3.SA'),\n",
       " (166, 'BOAS3.SA'),\n",
       " (161, 'MELK3.SA'),\n",
       " (159, 'HBSA3.SA'),\n",
       " (159, 'DEXP4.SA'),\n",
       " (155, 'CURY3.SA'),\n",
       " (154, 'SIMH3.SA'),\n",
       " (154, 'PLPL3.SA'),\n",
       " (151, 'PETZ3.SA'),\n",
       " (148, 'JSLG3.SA'),\n",
       " (144, 'PGMN3.SA'),\n",
       " (144, 'LAVV3.SA'),\n",
       " (126, 'LJQQ3.SA'),\n",
       " (126, 'DMVF3.SA'),\n",
       " (120, 'SOMA3.SA'),\n",
       " (106, 'AMBP3.SA'),\n",
       " (70, 'ALPK3.SA'),\n",
       " (58, 'BIDI4.SA'),\n",
       " (56, 'BIDI3.SA'),\n",
       " (15, 'YDUQ3.SA'),\n",
       " (15, 'WLMM4.SA'),\n",
       " (15, 'WLMM3.SA'),\n",
       " (15, 'WIZS3.SA'),\n",
       " (15, 'WHRL4.SA'),\n",
       " (15, 'WHRL3.SA'),\n",
       " (15, 'WEGE3.SA'),\n",
       " (15, 'VULC3.SA'),\n",
       " (15, 'VLID3.SA'),\n",
       " (15, 'VIVT3.SA'),\n",
       " (15, 'VIVR3.SA'),\n",
       " (15, 'VIVA3.SA'),\n",
       " (15, 'VIIA3.SA'),\n",
       " (15, 'VBBR3.SA'),\n",
       " (15, 'VALE3.SA'),\n",
       " (15, 'USIM3.SA'),\n",
       " (15, 'UNIP3.SA'),\n",
       " (15, 'UGPA3.SA'),\n",
       " (15, 'UCAS3.SA'),\n",
       " (15, 'TXRX4.SA'),\n",
       " (15, 'TXRX3.SA'),\n",
       " (15, 'TUPY3.SA'),\n",
       " (15, 'TRPL4.SA'),\n",
       " (15, 'TRPL3.SA'),\n",
       " (15, 'TRIS3.SA'),\n",
       " (15, 'TPIS3.SA'),\n",
       " (15, 'TOTS3.SA'),\n",
       " (15, 'TKNO4.SA'),\n",
       " (15, 'TIMS3.SA'),\n",
       " (15, 'TGMA3.SA'),\n",
       " (15, 'TEND3.SA'),\n",
       " (15, 'TELB4.SA'),\n",
       " (15, 'TELB3.SA'),\n",
       " (15, 'TEKA4.SA'),\n",
       " (15, 'TEKA3.SA'),\n",
       " (15, 'TECN3.SA'),\n",
       " (15, 'TCSA3.SA'),\n",
       " (15, 'TCNO4.SA'),\n",
       " (15, 'TCNO3.SA'),\n",
       " (15, 'TASA4.SA'),\n",
       " (15, 'TASA3.SA'),\n",
       " (15, 'TAEE4.SA'),\n",
       " (15, 'TAEE3.SA'),\n",
       " (15, 'SYNE3.SA'),\n",
       " (15, 'SUZB3.SA'),\n",
       " (15, 'SULA4.SA'),\n",
       " (15, 'SULA3.SA'),\n",
       " (15, 'STBP3.SA'),\n",
       " (15, 'SQIA3.SA'),\n",
       " (15, 'SOND3.SA'),\n",
       " (15, 'SNSY3.SA'),\n",
       " (15, 'SMTO3.SA'),\n",
       " (15, 'SLED4.SA'),\n",
       " (15, 'SLED3.SA'),\n",
       " (15, 'SLCE3.SA'),\n",
       " (15, 'SHUL4.SA'),\n",
       " (15, 'SHUL3.SA'),\n",
       " (15, 'SHOW3.SA'),\n",
       " (15, 'SGPS3.SA'),\n",
       " (15, 'SEER3.SA'),\n",
       " (15, 'SCAR3.SA'),\n",
       " (15, 'SBSP3.SA'),\n",
       " (15, 'SBFG3.SA'),\n",
       " (15, 'SAPR4.SA'),\n",
       " (15, 'SAPR3.SA'),\n",
       " (15, 'SANB4.SA'),\n",
       " (15, 'SANB3.SA'),\n",
       " (15, 'RSUL4.SA'),\n",
       " (15, 'RSUL3.SA'),\n",
       " (15, 'RSID3.SA'),\n",
       " (15, 'RPMG3.SA'),\n",
       " (15, 'RPAD3.SA'),\n",
       " (15, 'ROMI3.SA'),\n",
       " (15, 'RNEW4.SA'),\n",
       " (15, 'RNEW3.SA'),\n",
       " (15, 'RENT3.SA'),\n",
       " (15, 'REDE3.SA'),\n",
       " (15, 'RDNI3.SA'),\n",
       " (15, 'RCSL4.SA'),\n",
       " (15, 'RCSL3.SA'),\n",
       " (15, 'RAPT4.SA'),\n",
       " (15, 'RAPT3.SA'),\n",
       " (15, 'RANI3.SA'),\n",
       " (15, 'RAIL3.SA'),\n",
       " (15, 'RADL3.SA'),\n",
       " (15, 'QUAL3.SA'),\n",
       " (15, 'PTNT4.SA'),\n",
       " (15, 'PTNT3.SA'),\n",
       " (15, 'PTBL3.SA'),\n",
       " (15, 'PSSA3.SA'),\n",
       " (15, 'PRNR3.SA'),\n",
       " (15, 'PRIO3.SA'),\n",
       " (15, 'POSI3.SA'),\n",
       " (15, 'POMO4.SA'),\n",
       " (15, 'POMO3.SA'),\n",
       " (15, 'PNVL3.SA'),\n",
       " (15, 'PMAM3.SA'),\n",
       " (15, 'PINE4.SA'),\n",
       " (15, 'PFRM3.SA'),\n",
       " (15, 'PETR4.SA'),\n",
       " (15, 'PETR3.SA'),\n",
       " (15, 'PEAB4.SA'),\n",
       " (15, 'PEAB3.SA'),\n",
       " (15, 'PDTC3.SA'),\n",
       " (15, 'PDGR3.SA'),\n",
       " (15, 'PCAR3.SA'),\n",
       " (15, 'PATI4.SA'),\n",
       " (15, 'PATI3.SA'),\n",
       " (15, 'PARD3.SA'),\n",
       " (15, 'OSXB3.SA'),\n",
       " (15, 'OIBR4.SA'),\n",
       " (15, 'OIBR3.SA'),\n",
       " (15, 'OFSA3.SA'),\n",
       " (15, 'ODPV3.SA'),\n",
       " (15, 'ODER4.SA'),\n",
       " (15, 'NUTR3.SA'),\n",
       " (15, 'NTCO3.SA'),\n",
       " (15, 'NORD3.SA'),\n",
       " (15, 'NEOE3.SA'),\n",
       " (15, 'MWET4.SA'),\n",
       " (15, 'MWET3.SA'),\n",
       " (15, 'MULT3.SA'),\n",
       " (15, 'MTSA4.SA'),\n",
       " (15, 'MTSA3.SA'),\n",
       " (15, 'MTRE3.SA'),\n",
       " (15, 'MTIG4.SA'),\n",
       " (15, 'MSPA4.SA'),\n",
       " (15, 'MSPA3.SA'),\n",
       " (15, 'MRVE3.SA'),\n",
       " (15, 'MRFG3.SA'),\n",
       " (15, 'MOVI3.SA'),\n",
       " (15, 'MOAR3.SA'),\n",
       " (15, 'MNPR3.SA'),\n",
       " (15, 'MNDL3.SA'),\n",
       " (15, 'MMXM3.SA'),\n",
       " (15, 'MILS3.SA'),\n",
       " (15, 'MGLU3.SA'),\n",
       " (15, 'MGEL4.SA'),\n",
       " (15, 'MERC4.SA'),\n",
       " (15, 'MERC3.SA'),\n",
       " (15, 'MEAL3.SA'),\n",
       " (15, 'MDNE3.SA'),\n",
       " (15, 'MDIA3.SA'),\n",
       " (15, 'MAPT4.SA'),\n",
       " (15, 'MAPT3.SA'),\n",
       " (15, 'LWSA3.SA'),\n",
       " (15, 'LUXM4.SA'),\n",
       " (15, 'LUPA3.SA'),\n",
       " (15, 'LREN3.SA'),\n",
       " (15, 'LPSB3.SA'),\n",
       " (15, 'LOGN3.SA'),\n",
       " (15, 'LOGG3.SA'),\n",
       " (15, 'LLIS3.SA'),\n",
       " (15, 'LIPR3.SA'),\n",
       " (15, 'LIGT3.SA'),\n",
       " (15, 'LCAM3.SA'),\n",
       " (15, 'KLBN4.SA'),\n",
       " (15, 'KLBN3.SA'),\n",
       " (15, 'KEPL3.SA'),\n",
       " (15, 'JOPA4.SA'),\n",
       " (15, 'JOPA3.SA'),\n",
       " (15, 'JHSF3.SA'),\n",
       " (15, 'JFEN3.SA'),\n",
       " (15, 'JBSS3.SA'),\n",
       " (15, 'ITUB4.SA'),\n",
       " (15, 'ITUB3.SA'),\n",
       " (15, 'ITSA4.SA'),\n",
       " (15, 'ITSA3.SA'),\n",
       " (15, 'IRBR3.SA'),\n",
       " (15, 'INEP4.SA'),\n",
       " (15, 'INEP3.SA'),\n",
       " (15, 'IGTI3.SA'),\n",
       " (15, 'IGBR3.SA'),\n",
       " (15, 'HYPE3.SA'),\n",
       " (15, 'HOOT4.SA'),\n",
       " (15, 'HETA4.SA'),\n",
       " (15, 'HETA3.SA'),\n",
       " (15, 'HBOR3.SA'),\n",
       " (15, 'HAPV3.SA'),\n",
       " (15, 'HAGA4.SA'),\n",
       " (15, 'HAGA3.SA'),\n",
       " (15, 'GUAR3.SA'),\n",
       " (15, 'GSHP3.SA'),\n",
       " (15, 'GRND3.SA'),\n",
       " (15, 'GPAR3.SA'),\n",
       " (15, 'GOLL4.SA'),\n",
       " (15, 'GOAU4.SA'),\n",
       " (15, 'GOAU3.SA'),\n",
       " (15, 'GGBR4.SA'),\n",
       " (15, 'GGBR3.SA'),\n",
       " (15, 'GFSA3.SA'),\n",
       " (15, 'GEPA4.SA'),\n",
       " (15, 'GEPA3.SA'),\n",
       " (15, 'FRTA3.SA'),\n",
       " (15, 'FRIO3.SA'),\n",
       " (15, 'FRAS3.SA'),\n",
       " (15, 'FLRY3.SA'),\n",
       " (15, 'FHER3.SA'),\n",
       " (15, 'FESA4.SA'),\n",
       " (15, 'FESA3.SA'),\n",
       " (15, 'EZTC3.SA'),\n",
       " (15, 'EVEN3.SA'),\n",
       " (15, 'EUCA4.SA'),\n",
       " (15, 'EUCA3.SA'),\n",
       " (15, 'ETER3.SA'),\n",
       " (15, 'ESTR4.SA'),\n",
       " (15, 'ESTR3.SA'),\n",
       " (15, 'EQTL3.SA'),\n",
       " (15, 'EQPA3.SA'),\n",
       " (15, 'EPAR3.SA'),\n",
       " (15, 'ENMT4.SA'),\n",
       " (15, 'ENMT3.SA'),\n",
       " (15, 'ENGI4.SA'),\n",
       " (15, 'ENGI3.SA'),\n",
       " (15, 'ENEV3.SA'),\n",
       " (15, 'ENBR3.SA'),\n",
       " (15, 'ENAT3.SA'),\n",
       " (15, 'EMBR3.SA'),\n",
       " (15, 'EMAE4.SA'),\n",
       " (15, 'EMAE3.SA'),\n",
       " (15, 'ELET3.SA'),\n",
       " (15, 'EKTR4.SA'),\n",
       " (15, 'EKTR3.SA'),\n",
       " (15, 'EGIE3.SA'),\n",
       " (15, 'EEEL4.SA'),\n",
       " (15, 'EEEL3.SA'),\n",
       " (15, 'ECPR4.SA'),\n",
       " (15, 'ECPR3.SA'),\n",
       " (15, 'ECOR3.SA'),\n",
       " (15, 'EALT4.SA'),\n",
       " (15, 'EALT3.SA'),\n",
       " (15, 'DXCO3.SA'),\n",
       " (15, 'DTCY3.SA'),\n",
       " (15, 'DOHL4.SA'),\n",
       " (15, 'DOHL3.SA'),\n",
       " (15, 'DMMO3.SA'),\n",
       " (15, 'DIRR3.SA'),\n",
       " (15, 'DEXP3.SA'),\n",
       " (15, 'DASA3.SA'),\n",
       " (15, 'CYRE3.SA'),\n",
       " (15, 'CVCB3.SA'),\n",
       " (15, 'CTSA4.SA'),\n",
       " (15, 'CTSA3.SA'),\n",
       " (15, 'CTNM4.SA'),\n",
       " (15, 'CTNM3.SA'),\n",
       " (15, 'CTKA4.SA'),\n",
       " (15, 'CTKA3.SA'),\n",
       " (15, 'CSRN3.SA'),\n",
       " (15, 'CSNA3.SA'),\n",
       " (15, 'CSMG3.SA'),\n",
       " (15, 'CSAN3.SA'),\n",
       " (15, 'CSAB4.SA'),\n",
       " (15, 'CSAB3.SA'),\n",
       " (15, 'CRPG3.SA'),\n",
       " (15, 'CRIV4.SA'),\n",
       " (15, 'CRIV3.SA'),\n",
       " (15, 'CRFB3.SA'),\n",
       " (15, 'CRDE3.SA'),\n",
       " (15, 'CPLE3.SA'),\n",
       " (15, 'CPFE3.SA'),\n",
       " (15, 'CORR4.SA'),\n",
       " (15, 'COGN3.SA'),\n",
       " (15, 'COCE3.SA'),\n",
       " (15, 'CMIG4.SA'),\n",
       " (15, 'CMIG3.SA'),\n",
       " (15, 'CLSC4.SA'),\n",
       " (15, 'CLSC3.SA'),\n",
       " (15, 'CIEL3.SA'),\n",
       " (15, 'CGRA4.SA'),\n",
       " (15, 'CGRA3.SA'),\n",
       " (15, 'CGAS3.SA'),\n",
       " (15, 'CESP3.SA'),\n",
       " (15, 'CEPE3.SA'),\n",
       " (15, 'CEGR3.SA'),\n",
       " (15, 'CEED4.SA'),\n",
       " (15, 'CEED3.SA'),\n",
       " (15, 'CEEB3.SA'),\n",
       " (15, 'CEDO4.SA'),\n",
       " (15, 'CEDO3.SA'),\n",
       " (15, 'CEBR3.SA'),\n",
       " (15, 'CEAB3.SA'),\n",
       " (15, 'CCRO3.SA'),\n",
       " (15, 'CBEE3.SA'),\n",
       " (15, 'CASN4.SA'),\n",
       " (15, 'CASN3.SA'),\n",
       " (15, 'CARD3.SA'),\n",
       " (15, 'CAML3.SA'),\n",
       " (15, 'CAMB3.SA'),\n",
       " (15, 'CALI4.SA'),\n",
       " (15, 'BSLI4.SA'),\n",
       " (15, 'BSLI3.SA'),\n",
       " (15, 'BRSR3.SA'),\n",
       " (15, 'BRPR3.SA'),\n",
       " (15, 'BRML3.SA'),\n",
       " (15, 'BRKM3.SA'),\n",
       " (15, 'BRIV4.SA'),\n",
       " (15, 'BRIV3.SA'),\n",
       " (15, 'BRGE3.SA'),\n",
       " (15, 'BRFS3.SA'),\n",
       " (15, 'BRAP4.SA'),\n",
       " (15, 'BRAP3.SA'),\n",
       " (15, 'BPAN4.SA'),\n",
       " (15, 'BPAC3.SA'),\n",
       " (15, 'BOBR4.SA'),\n",
       " (15, 'BOBR3.SA'),\n",
       " (15, 'BNBR3.SA'),\n",
       " (15, 'BMKS3.SA'),\n",
       " (15, 'BMIN4.SA'),\n",
       " (15, 'BMIN3.SA'),\n",
       " (15, 'BMGB4.SA'),\n",
       " (15, 'BMEB4.SA'),\n",
       " (15, 'BMEB3.SA'),\n",
       " (15, 'BLUT4.SA'),\n",
       " (15, 'BLUT3.SA'),\n",
       " (15, 'BKBR3.SA'),\n",
       " (15, 'BIOM3.SA'),\n",
       " (15, 'BGIP4.SA'),\n",
       " (15, 'BGIP3.SA'),\n",
       " (15, 'BEES4.SA'),\n",
       " (15, 'BEES3.SA'),\n",
       " (15, 'BEEF3.SA'),\n",
       " (15, 'BDLL4.SA'),\n",
       " (15, 'BDLL3.SA'),\n",
       " (15, 'BBSE3.SA'),\n",
       " (15, 'BBRK3.SA'),\n",
       " (15, 'BBDC4.SA'),\n",
       " (15, 'BBDC3.SA'),\n",
       " (15, 'BBAS3.SA'),\n",
       " (15, 'BAZA3.SA'),\n",
       " (15, 'BAUH4.SA'),\n",
       " (15, 'BALM4.SA'),\n",
       " (15, 'BALM3.SA'),\n",
       " (15, 'BAHI3.SA'),\n",
       " (15, 'B3SA3.SA'),\n",
       " (15, 'AZUL4.SA'),\n",
       " (15, 'AZEV4.SA'),\n",
       " (15, 'AZEV3.SA'),\n",
       " (15, 'ATOM3.SA'),\n",
       " (15, 'ATMP3.SA'),\n",
       " (15, 'ARZZ3.SA'),\n",
       " (15, 'APER3.SA'),\n",
       " (15, 'ANIM3.SA'),\n",
       " (15, 'AMER3.SA'),\n",
       " (15, 'AMAR3.SA'),\n",
       " (15, 'ALUP4.SA'),\n",
       " (15, 'ALUP3.SA'),\n",
       " (15, 'ALSO3.SA'),\n",
       " (15, 'ALPA4.SA'),\n",
       " (15, 'ALPA3.SA'),\n",
       " (15, 'AHEB3.SA'),\n",
       " (15, 'AGRO3.SA'),\n",
       " (15, 'AFLT3.SA'),\n",
       " (15, 'ABEV3.SA'),\n",
       " (15, 'ABCB4.SA'),\n",
       " (15, 'AALR3.SA'),\n",
       " (12, 'VSPT3.SA'),\n",
       " (12, 'TKNO3.SA'),\n",
       " (12, 'PPAR3.SA'),\n",
       " (12, 'MTIG3.SA'),\n",
       " (12, 'MMAQ4.SA'),\n",
       " (12, 'MMAQ3.SA'),\n",
       " (12, 'MGEL3.SA'),\n",
       " (12, 'LUXM3.SA'),\n",
       " (12, 'HOOT3.SA'),\n",
       " (12, 'FIGE4.SA'),\n",
       " (12, 'FIGE3.SA'),\n",
       " (12, 'CORR3.SA'),\n",
       " (12, 'CALI3.SA'),\n",
       " (12, 'BAUH3.SA')]"
      ]
     },
     "execution_count": 22,
     "metadata": {},
     "output_type": "execute_result"
    }
   ],
   "source": [
    "l = [(fails, stock) for stock, fails in dict(cdfs.isnull().sum()).items()]\n",
    "l.sort(reverse=True)\n",
    "\n",
    "l"
   ]
  },
  {
   "cell_type": "code",
   "execution_count": 29,
   "id": "25ca6805",
   "metadata": {},
   "outputs": [
    {
     "name": "stdout",
     "output_type": "stream",
     "text": [
      "369 ativos\n"
     ]
    },
    {
     "data": {
      "image/png": "[encoded data removed]",
      "text/plain": [
       "<Figure size 1728x216 with 1 Axes>"
      ]
     },
     "metadata": {
      "needs_background": "light"
     },
     "output_type": "display_data"
    }
   ],
   "source": [
    "# Removendo ativos com mais de 10 dias com sinais financeiros nulos\n",
    "good_stocks = cdfs.columns[ np.where(cdfs.isnull().sum() < 20) ]\n",
    "\n",
    "t = cdfs[good_stocks]\n",
    "\n",
    "# Dropando os dias que todos os ativos estão com valor nulo\n",
    "t = t.dropna(axis=0)\n",
    "\n",
    "plt.figure(figsize=(24, 3))\n",
    "sns.heatmap(t.isnull(), cmap='summer', cbar=False)\n",
    "\n",
    "print(len(t.columns), 'ativos')\n",
    "\n",
    "good_stocks = set(good_stocks)\n",
    "dfs = { stock: df for stock, df in dfs.items() if stock in good_stocks }"
   ]
  },
  {
   "cell_type": "markdown",
   "id": "7ad7c5f3",
   "metadata": {},
   "source": [
    "#### 4. Filtro de volume nos ativos da B3"
   ]
  },
  {
   "cell_type": "code",
   "execution_count": 62,
   "id": "1c8675b1",
   "metadata": {},
   "outputs": [
    {
     "name": "stdout",
     "output_type": "stream",
     "text": [
      "170 ativos com volume maior ou igual a USD $200000\n"
     ]
    }
   ],
   "source": [
    "MINIMUM_VOLUME = 200000\n",
    "dfs = { stock: df for stock, df in dfs.items() if df.Volume.mean() >= MINIMUM_VOLUME }\n",
    "\n",
    "print(f'{len(dfs.keys())} ativos com volume maior ou igual a USD ${MINIMUM_VOLUME}', )"
   ]
  },
  {
   "cell_type": "code",
   "execution_count": 63,
   "id": "cb818bb6",
   "metadata": {},
   "outputs": [
    {
     "name": "stdout",
     "output_type": "stream",
     "text": [
      "Ativos com maior volume de negociação:\n"
     ]
    },
    {
     "data": {
      "text/html": [
       "<div>\n",
       "<style scoped>\n",
       "    .dataframe tbody tr th:only-of-type {\n",
       "        vertical-align: middle;\n",
       "    }\n",
       "\n",
       "    .dataframe tbody tr th {\n",
       "        vertical-align: top;\n",
       "    }\n",
       "\n",
       "    .dataframe thead th {\n",
       "        text-align: right;\n",
       "    }\n",
       "</style>\n",
       "<table border=\"1\" class=\"dataframe\">\n",
       "  <thead>\n",
       "    <tr style=\"text-align: right;\">\n",
       "      <th></th>\n",
       "      <th>Stock</th>\n",
       "      <th>Volume</th>\n",
       "    </tr>\n",
       "  </thead>\n",
       "  <tbody>\n",
       "    <tr>\n",
       "      <th>122</th>\n",
       "      <td>OIBR3.SA</td>\n",
       "      <td>163245593.655589</td>\n",
       "    </tr>\n",
       "    <tr>\n",
       "      <th>3</th>\n",
       "      <td>PETR4.SA</td>\n",
       "      <td>80760861.329305</td>\n",
       "    </tr>\n",
       "    <tr>\n",
       "      <th>104</th>\n",
       "      <td>VIIA3.SA</td>\n",
       "      <td>70549327.794562</td>\n",
       "    </tr>\n",
       "    <tr>\n",
       "      <th>91</th>\n",
       "      <td>COGN3.SA</td>\n",
       "      <td>58074841.389728</td>\n",
       "    </tr>\n",
       "    <tr>\n",
       "      <th>144</th>\n",
       "      <td>BBDC4.SA</td>\n",
       "      <td>48678944.652568</td>\n",
       "    </tr>\n",
       "    <tr>\n",
       "      <th>103</th>\n",
       "      <td>MGLU3.SA</td>\n",
       "      <td>45327796.072508</td>\n",
       "    </tr>\n",
       "    <tr>\n",
       "      <th>157</th>\n",
       "      <td>IRBR3.SA</td>\n",
       "      <td>44036785.679758</td>\n",
       "    </tr>\n",
       "    <tr>\n",
       "      <th>152</th>\n",
       "      <td>B3SA3.SA</td>\n",
       "      <td>43616880.664653</td>\n",
       "    </tr>\n",
       "    <tr>\n",
       "      <th>153</th>\n",
       "      <td>CIEL3.SA</td>\n",
       "      <td>39658656.193353</td>\n",
       "    </tr>\n",
       "    <tr>\n",
       "      <th>149</th>\n",
       "      <td>ITUB4.SA</td>\n",
       "      <td>39535760.120846</td>\n",
       "    </tr>\n",
       "  </tbody>\n",
       "</table>\n",
       "</div>"
      ],
      "text/plain": [
       "        Stock           Volume\n",
       "122  OIBR3.SA 163245593.655589\n",
       "3    PETR4.SA  80760861.329305\n",
       "104  VIIA3.SA  70549327.794562\n",
       "91   COGN3.SA  58074841.389728\n",
       "144  BBDC4.SA  48678944.652568\n",
       "103  MGLU3.SA  45327796.072508\n",
       "157  IRBR3.SA  44036785.679758\n",
       "152  B3SA3.SA  43616880.664653\n",
       "153  CIEL3.SA  39658656.193353\n",
       "149  ITUB4.SA  39535760.120846"
      ]
     },
     "execution_count": 63,
     "metadata": {},
     "output_type": "execute_result"
    }
   ],
   "source": [
    "l = [ [stock, df.Volume.mean()] for stock, df in dfs.items() ]\n",
    "vdf = pd.DataFrame(l, columns=['Stock', 'Volume'] )\n",
    "\n",
    "pd.set_option('float_format', '{:f}'.format)\n",
    "\n",
    "vdf = vdf.sort_values('Volume', ascending=False)\n",
    "\n",
    "print(\"Ativos com maior volume de negociação:\")\n",
    "vdf.head(10)"
   ]
  },
  {
   "cell_type": "markdown",
   "id": "63e58854",
   "metadata": {},
   "source": [
    "#### 5. Separação dos dados do dataset de treinamento e de teste"
   ]
  },
  {
   "cell_type": "code",
   "execution_count": 64,
   "id": "43af7778",
   "metadata": {},
   "outputs": [
    {
     "name": "stdout",
     "output_type": "stream",
     "text": [
      "Data da separação do dataset de test e de treinamento\n"
     ]
    },
    {
     "data": {
      "text/plain": [
       "Timestamp('2021-01-20 00:00:00')"
      ]
     },
     "execution_count": 64,
     "metadata": {},
     "output_type": "execute_result"
    }
   ],
   "source": [
    "d = dfs[ list(dfs.keys())[0] ]\n",
    "split_date = d.index[int(2/3 * len(d))]\n",
    "\n",
    "print(\"Data da separação do dataset de test e de treinamento\")\n",
    "split_date"
   ]
  },
  {
   "cell_type": "code",
   "execution_count": 65,
   "id": "efcccf0c",
   "metadata": {},
   "outputs": [],
   "source": [
    "training_dfs = {\n",
    "   stock: df[ df.index <= split_date ] for stock, df in dfs.items()\n",
    "}\n",
    "\n",
    "test_dfs = {\n",
    "   stock: df[ df.index > split_date ] for stock, df in dfs.items()\n",
    "}"
   ]
  },
  {
   "cell_type": "code",
   "execution_count": 66,
   "id": "ba71497c",
   "metadata": {},
   "outputs": [],
   "source": [
    "dfs = training_dfs"
   ]
  },
  {
   "cell_type": "markdown",
   "id": "ccd93591",
   "metadata": {},
   "source": [
    "#### 6. Aplicar clusterização nos ativos"
   ]
  },
  {
   "cell_type": "code",
   "execution_count": 67,
   "id": "1688fb28",
   "metadata": {},
   "outputs": [
    {
     "data": {
      "text/html": [
       "<div>\n",
       "<style scoped>\n",
       "    .dataframe tbody tr th:only-of-type {\n",
       "        vertical-align: middle;\n",
       "    }\n",
       "\n",
       "    .dataframe tbody tr th {\n",
       "        vertical-align: top;\n",
       "    }\n",
       "\n",
       "    .dataframe thead th {\n",
       "        text-align: right;\n",
       "    }\n",
       "</style>\n",
       "<table border=\"1\" class=\"dataframe\">\n",
       "  <thead>\n",
       "    <tr style=\"text-align: right;\">\n",
       "      <th></th>\n",
       "      <th>Stock</th>\n",
       "      <th>Return</th>\n",
       "      <th>Risk</th>\n",
       "      <th>Sector</th>\n",
       "      <th>Sub-Sector</th>\n",
       "      <th>Segment</th>\n",
       "      <th>Sharpe</th>\n",
       "    </tr>\n",
       "  </thead>\n",
       "  <tbody>\n",
       "    <tr>\n",
       "      <th>0</th>\n",
       "      <td>CSAN3.SA</td>\n",
       "      <td>0.000998</td>\n",
       "      <td>0.037024</td>\n",
       "      <td>Petróleo, Gás e Biocombustíveis</td>\n",
       "      <td>Petróleo, Gás e Biocombustíveis</td>\n",
       "      <td>Exploração, Refino e Distribuição</td>\n",
       "      <td>0.026944</td>\n",
       "    </tr>\n",
       "    <tr>\n",
       "      <th>1</th>\n",
       "      <td>DMMO3.SA</td>\n",
       "      <td>0.001275</td>\n",
       "      <td>0.082165</td>\n",
       "      <td>Petróleo, Gás e Biocombustíveis</td>\n",
       "      <td>Petróleo, Gás e Biocombustíveis</td>\n",
       "      <td>Exploração, Refino e Distribuição</td>\n",
       "      <td>0.015518</td>\n",
       "    </tr>\n",
       "    <tr>\n",
       "      <th>2</th>\n",
       "      <td>ENAT3.SA</td>\n",
       "      <td>0.000409</td>\n",
       "      <td>0.045185</td>\n",
       "      <td>Petróleo, Gás e Biocombustíveis</td>\n",
       "      <td>Petróleo, Gás e Biocombustíveis</td>\n",
       "      <td>Exploração, Refino e Distribuição</td>\n",
       "      <td>0.009043</td>\n",
       "    </tr>\n",
       "    <tr>\n",
       "      <th>3</th>\n",
       "      <td>PETR4.SA</td>\n",
       "      <td>0.001345</td>\n",
       "      <td>0.045071</td>\n",
       "      <td>Petróleo, Gás e Biocombustíveis</td>\n",
       "      <td>Petróleo, Gás e Biocombustíveis</td>\n",
       "      <td>Exploração, Refino e Distribuição</td>\n",
       "      <td>0.029837</td>\n",
       "    </tr>\n",
       "    <tr>\n",
       "      <th>4</th>\n",
       "      <td>PETR3.SA</td>\n",
       "      <td>0.001271</td>\n",
       "      <td>0.047584</td>\n",
       "      <td>Petróleo, Gás e Biocombustíveis</td>\n",
       "      <td>Petróleo, Gás e Biocombustíveis</td>\n",
       "      <td>Exploração, Refino e Distribuição</td>\n",
       "      <td>0.026705</td>\n",
       "    </tr>\n",
       "    <tr>\n",
       "      <th>...</th>\n",
       "      <td>...</td>\n",
       "      <td>...</td>\n",
       "      <td>...</td>\n",
       "      <td>...</td>\n",
       "      <td>...</td>\n",
       "      <td>...</td>\n",
       "      <td>...</td>\n",
       "    </tr>\n",
       "    <tr>\n",
       "      <th>165</th>\n",
       "      <td>SYNE3.SA</td>\n",
       "      <td>-0.002264</td>\n",
       "      <td>0.040938</td>\n",
       "      <td>Financeiro</td>\n",
       "      <td>Exploração de Imóveis</td>\n",
       "      <td>Exploração de Imóveis</td>\n",
       "      <td>-0.055294</td>\n",
       "    </tr>\n",
       "    <tr>\n",
       "      <th>166</th>\n",
       "      <td>BBRK3.SA</td>\n",
       "      <td>-0.000911</td>\n",
       "      <td>0.060696</td>\n",
       "      <td>Financeiro</td>\n",
       "      <td>Exploração de Imóveis</td>\n",
       "      <td>Intermediação Imobiliária</td>\n",
       "      <td>-0.015017</td>\n",
       "    </tr>\n",
       "    <tr>\n",
       "      <th>167</th>\n",
       "      <td>LPSB3.SA</td>\n",
       "      <td>-0.000540</td>\n",
       "      <td>0.060892</td>\n",
       "      <td>Financeiro</td>\n",
       "      <td>Exploração de Imóveis</td>\n",
       "      <td>Intermediação Imobiliária</td>\n",
       "      <td>-0.008863</td>\n",
       "    </tr>\n",
       "    <tr>\n",
       "      <th>168</th>\n",
       "      <td>BLUT4.SA</td>\n",
       "      <td>-0.000043</td>\n",
       "      <td>0.068678</td>\n",
       "      <td>Outros</td>\n",
       "      <td>Outros</td>\n",
       "      <td>Outros</td>\n",
       "      <td>-0.000623</td>\n",
       "    </tr>\n",
       "    <tr>\n",
       "      <th>169</th>\n",
       "      <td>BLUT3.SA</td>\n",
       "      <td>0.002544</td>\n",
       "      <td>0.098161</td>\n",
       "      <td>Outros</td>\n",
       "      <td>Outros</td>\n",
       "      <td>Outros</td>\n",
       "      <td>0.025913</td>\n",
       "    </tr>\n",
       "  </tbody>\n",
       "</table>\n",
       "<p>170 rows × 7 columns</p>\n",
       "</div>"
      ],
      "text/plain": [
       "        Stock    Return     Risk                           Sector  \\\n",
       "0    CSAN3.SA  0.000998 0.037024  Petróleo, Gás e Biocombustíveis   \n",
       "1    DMMO3.SA  0.001275 0.082165  Petróleo, Gás e Biocombustíveis   \n",
       "2    ENAT3.SA  0.000409 0.045185  Petróleo, Gás e Biocombustíveis   \n",
       "3    PETR4.SA  0.001345 0.045071  Petróleo, Gás e Biocombustíveis   \n",
       "4    PETR3.SA  0.001271 0.047584  Petróleo, Gás e Biocombustíveis   \n",
       "..        ...       ...      ...                              ...   \n",
       "165  SYNE3.SA -0.002264 0.040938                       Financeiro   \n",
       "166  BBRK3.SA -0.000911 0.060696                       Financeiro   \n",
       "167  LPSB3.SA -0.000540 0.060892                       Financeiro   \n",
       "168  BLUT4.SA -0.000043 0.068678                           Outros   \n",
       "169  BLUT3.SA  0.002544 0.098161                           Outros   \n",
       "\n",
       "                          Sub-Sector                            Segment  \\\n",
       "0    Petróleo, Gás e Biocombustíveis  Exploração, Refino e Distribuição   \n",
       "1    Petróleo, Gás e Biocombustíveis  Exploração, Refino e Distribuição   \n",
       "2    Petróleo, Gás e Biocombustíveis  Exploração, Refino e Distribuição   \n",
       "3    Petróleo, Gás e Biocombustíveis  Exploração, Refino e Distribuição   \n",
       "4    Petróleo, Gás e Biocombustíveis  Exploração, Refino e Distribuição   \n",
       "..                               ...                                ...   \n",
       "165            Exploração de Imóveis              Exploração de Imóveis   \n",
       "166            Exploração de Imóveis          Intermediação Imobiliária   \n",
       "167            Exploração de Imóveis          Intermediação Imobiliária   \n",
       "168                           Outros                             Outros   \n",
       "169                           Outros                             Outros   \n",
       "\n",
       "       Sharpe  \n",
       "0    0.026944  \n",
       "1    0.015518  \n",
       "2    0.009043  \n",
       "3    0.029837  \n",
       "4    0.026705  \n",
       "..        ...  \n",
       "165 -0.055294  \n",
       "166 -0.015017  \n",
       "167 -0.008863  \n",
       "168 -0.000623  \n",
       "169  0.025913  \n",
       "\n",
       "[170 rows x 7 columns]"
      ]
     },
     "execution_count": 67,
     "metadata": {},
     "output_type": "execute_result"
    }
   ],
   "source": [
    "df = pd.DataFrame({\n",
    "    'Stock': list(dfs.keys()),\n",
    "    'Return': [ df.Close.pct_change().mean() for stock, df in dfs.items() ],\n",
    "    'Risk':   [ df.Close.pct_change().std() for stock, df in dfs.items() ],\n",
    "    'Sector': [ sectors[stock] for stock in dfs.keys() ],\n",
    "    'Sub-Sector': [ sub_sectors[stock] for stock in dfs.keys() ],\n",
    "    'Segment': [ segments[stock] for stock in dfs.keys() ],\n",
    "    'Sharpe': [ df.Close.pct_change().mean() / df.Close.pct_change().std() for stock, df in dfs.items() ],\n",
    "})\n",
    "df"
   ]
  },
  {
   "cell_type": "code",
   "execution_count": 68,
   "id": "0ea0dd2e",
   "metadata": {},
   "outputs": [
    {
     "data": {
      "application/vnd.plotly.v1+json": {
       "config": {
        "plotlyServerURL": "https://plot.ly"
       },
       "data": [
        {
         "customdata": [
          [
           "Petróleo, Gás e Biocombustíveis",
           "Petróleo, Gás e Biocombustíveis",
           "Exploração, Refino e Distribuição",
           0.026944010738385735
          ],
          [
           "Petróleo, Gás e Biocombustíveis",
           "Petróleo, Gás e Biocombustíveis",
           "Exploração, Refino e Distribuição",
           0.015518067220942481
          ],
          [
           "Petróleo, Gás e Biocombustíveis",
           "Petróleo, Gás e Biocombustíveis",
           "Exploração, Refino e Distribuição",
           0.00904263481845172
          ],
          [
           "Petróleo, Gás e Biocombustíveis",
           "Petróleo, Gás e Biocombustíveis",
           "Exploração, Refino e Distribuição",
           0.02983714204681072
          ],
          [
           "Petróleo, Gás e Biocombustíveis",
           "Petróleo, Gás e Biocombustíveis",
           "Exploração, Refino e Distribuição",
           0.0267053875585673
          ],
          [
           "Petróleo, Gás e Biocombustíveis",
           "Petróleo, Gás e Biocombustíveis",
           "Exploração, Refino e Distribuição",
           0.0697869213544802
          ],
          [
           "Petróleo, Gás e Biocombustíveis",
           "Petróleo, Gás e Biocombustíveis",
           "Exploração, Refino e Distribuição",
           0.03666119957614546
          ],
          [
           "Petróleo, Gás e Biocombustíveis",
           "Petróleo, Gás e Biocombustíveis",
           "Exploração, Refino e Distribuição",
           -0.004412481964221444
          ]
         ],
         "hovertemplate": "<b>%{hovertext}</b><br><br>Sector=%{customdata[0]}<br>Segment=%{customdata[2]}<br>Risk=%{x}<br>Return=%{y}<br>Sub-Sector=%{customdata[1]}<br>Sharpe=%{customdata[3]}<extra></extra>",
         "hovertext": [
          "CSAN3.SA",
          "DMMO3.SA",
          "ENAT3.SA",
          "PETR4.SA",
          "PETR3.SA",
          "PRIO3.SA",
          "UGPA3.SA",
          "VBBR3.SA"
         ],
         "legendgroup": "Petróleo, Gás e Biocombustíveis, Exploração, Refino e Distribuição",
         "marker": {
          "color": "#636efa",
          "symbol": "circle"
         },
         "mode": "markers",
         "name": "Petróleo, Gás e Biocombustíveis, Exploração, Refino e Distribuição",
         "orientation": "v",
         "showlegend": true,
         "type": "scatter",
         "x": [
          0.03702384155242135,
          0.08216538521622488,
          0.045185075001078344,
          0.04507120221660047,
          0.047583502665157346,
          0.07157835600953434,
          0.04765505455929822,
          0.03929834650160835
         ],
         "xaxis": "x",
         "y": [
          0.0009975707843647328,
          0.0012750479710200112,
          0.0004085921324791035,
          0.0013447958627572385,
          0.001270735880067147,
          0.004995233101520358,
          0.0017470914660105328,
          -0.00017340324516207172
         ],
         "yaxis": "y"
        },
        {
         "customdata": [
          [
           "Petróleo, Gás e Biocombustíveis",
           "Petróleo, Gás e Biocombustíveis",
           "Equipamentos e Serviços",
           0.0184925383868923
          ]
         ],
         "hovertemplate": "<b>%{hovertext}</b><br><br>Sector=%{customdata[0]}<br>Segment=%{customdata[2]}<br>Risk=%{x}<br>Return=%{y}<br>Sub-Sector=%{customdata[1]}<br>Sharpe=%{customdata[3]}<extra></extra>",
         "hovertext": [
          "LUPA3.SA"
         ],
         "legendgroup": "Petróleo, Gás e Biocombustíveis, Equipamentos e Serviços",
         "marker": {
          "color": "#636efa",
          "symbol": "diamond"
         },
         "mode": "markers",
         "name": "Petróleo, Gás e Biocombustíveis, Equipamentos e Serviços",
         "orientation": "v",
         "showlegend": true,
         "type": "scatter",
         "x": [
          0.05770381640030215
         ],
         "xaxis": "x",
         "y": [
          0.001067090039852773
         ],
         "yaxis": "y"
        },
        {
         "customdata": [
          [
           "Materiais Básicos",
           "Mineração",
           "Minerais Metálicos",
           0.1125568286519415
          ],
          [
           "Materiais Básicos",
           "Mineração",
           "Minerais Metálicos",
           0.1083176526249793
          ],
          [
           "Materiais Básicos",
           "Mineração",
           "Minerais Metálicos",
           0.10498198592789282
          ]
         ],
         "hovertemplate": "<b>%{hovertext}</b><br><br>Sector=%{customdata[0]}<br>Segment=%{customdata[2]}<br>Risk=%{x}<br>Return=%{y}<br>Sub-Sector=%{customdata[1]}<br>Sharpe=%{customdata[3]}<extra></extra>",
         "hovertext": [
          "BRAP4.SA",
          "MMXM3.SA",
          "VALE3.SA"
         ],
         "legendgroup": "Materiais Básicos, Minerais Metálicos",
         "marker": {
          "color": "#EF553B",
          "symbol": "square"
         },
         "mode": "markers",
         "name": "Materiais Básicos, Minerais Metálicos",
         "orientation": "v",
         "showlegend": true,
         "type": "scatter",
         "x": [
          0.034163204705527236,
          0.21616545854805835,
          0.03585062279286457
         ],
         "xaxis": "x",
         "y": [
          0.003845301978241231,
          0.02341453504852795,
          0.003763669577546702
         ],
         "yaxis": "y"
        },
        {
         "customdata": [
          [
           "Materiais Básicos",
           "Siderurgia e Metalurgia",
           "Siderurgia",
           0.04220627952944257
          ],
          [
           "Materiais Básicos",
           "Siderurgia e Metalurgia",
           "Siderurgia",
           0.061308923874783365
          ],
          [
           "Materiais Básicos",
           "Siderurgia e Metalurgia",
           "Siderurgia",
           0.056487456613696085
          ],
          [
           "Materiais Básicos",
           "Siderurgia e Metalurgia",
           "Siderurgia",
           0.11388661699196959
          ],
          [
           "Materiais Básicos",
           "Siderurgia e Metalurgia",
           "Siderurgia",
           0.07274143280247819
          ]
         ],
         "hovertemplate": "<b>%{hovertext}</b><br><br>Sector=%{customdata[0]}<br>Segment=%{customdata[2]}<br>Risk=%{x}<br>Return=%{y}<br>Sub-Sector=%{customdata[1]}<br>Sharpe=%{customdata[3]}<extra></extra>",
         "hovertext": [
          "FESA4.SA",
          "GGBR4.SA",
          "GOAU4.SA",
          "CSNA3.SA",
          "USIM3.SA"
         ],
         "legendgroup": "Materiais Básicos, Siderurgia",
         "marker": {
          "color": "#EF553B",
          "symbol": "x"
         },
         "mode": "markers",
         "name": "Materiais Básicos, Siderurgia",
         "orientation": "v",
         "showlegend": true,
         "type": "scatter",
         "x": [
          0.03290960076855792,
          0.04274822917454212,
          0.04320062074242772,
          0.05089290336978668,
          0.04242612690615111
         ],
         "xaxis": "x",
         "y": [
          0.0013889918092401137,
          0.0026208479282437964,
          0.002440293189872625,
          0.005796020593684214,
          0.0030861372594132024
         ],
         "yaxis": "y"
        },
        {
         "customdata": [
          [
           "Materiais Básicos",
           "Siderurgia e Metalurgia",
           "Artefatos de Cobre",
           -0.049458109634064266
          ]
         ],
         "hovertemplate": "<b>%{hovertext}</b><br><br>Sector=%{customdata[0]}<br>Segment=%{customdata[2]}<br>Risk=%{x}<br>Return=%{y}<br>Sub-Sector=%{customdata[1]}<br>Sharpe=%{customdata[3]}<extra></extra>",
         "hovertext": [
          "PMAM3.SA"
         ],
         "legendgroup": "Materiais Básicos, Artefatos de Cobre",
         "marker": {
          "color": "#EF553B",
          "symbol": "cross"
         },
         "mode": "markers",
         "name": "Materiais Básicos, Artefatos de Cobre",
         "orientation": "v",
         "showlegend": true,
         "type": "scatter",
         "x": [
          0.04967754618740381
         ],
         "xaxis": "x",
         "y": [
          -0.002456957525687909
         ],
         "yaxis": "y"
        },
        {
         "customdata": [
          [
           "Materiais Básicos",
           "Químicos",
           "Petroquímicos",
           0.1155238680623541
          ]
         ],
         "hovertemplate": "<b>%{hovertext}</b><br><br>Sector=%{customdata[0]}<br>Segment=%{customdata[2]}<br>Risk=%{x}<br>Return=%{y}<br>Sub-Sector=%{customdata[1]}<br>Sharpe=%{customdata[3]}<extra></extra>",
         "hovertext": [
          "DEXP3.SA"
         ],
         "legendgroup": "Materiais Básicos, Petroquímicos",
         "marker": {
          "color": "#EF553B",
          "symbol": "circle"
         },
         "mode": "markers",
         "name": "Materiais Básicos, Petroquímicos",
         "orientation": "v",
         "showlegend": true,
         "type": "scatter",
         "x": [
          0.0610776115790789
         ],
         "xaxis": "x",
         "y": [
          0.007055921941625222
         ],
         "yaxis": "y"
        },
        {
         "customdata": [
          [
           "Materiais Básicos",
           "Químicos",
           "Fertilizantes e Defensivos",
           0.04604347467757169
          ]
         ],
         "hovertemplate": "<b>%{hovertext}</b><br><br>Sector=%{customdata[0]}<br>Segment=%{customdata[2]}<br>Risk=%{x}<br>Return=%{y}<br>Sub-Sector=%{customdata[1]}<br>Sharpe=%{customdata[3]}<extra></extra>",
         "hovertext": [
          "FHER3.SA"
         ],
         "legendgroup": "Materiais Básicos, Fertilizantes e Defensivos",
         "marker": {
          "color": "#EF553B",
          "symbol": "diamond"
         },
         "mode": "markers",
         "name": "Materiais Básicos, Fertilizantes e Defensivos",
         "orientation": "v",
         "showlegend": true,
         "type": "scatter",
         "x": [
          0.05406819061815176
         ],
         "xaxis": "x",
         "y": [
          0.0024894873655889895
         ],
         "yaxis": "y"
        },
        {
         "customdata": [
          [
           "Materiais Básicos",
           "Madeira e Papel",
           "Madeira",
           0.04205055463041355
          ]
         ],
         "hovertemplate": "<b>%{hovertext}</b><br><br>Sector=%{customdata[0]}<br>Segment=%{customdata[2]}<br>Risk=%{x}<br>Return=%{y}<br>Sub-Sector=%{customdata[1]}<br>Sharpe=%{customdata[3]}<extra></extra>",
         "hovertext": [
          "DXCO3.SA"
         ],
         "legendgroup": "Materiais Básicos, Madeira",
         "marker": {
          "color": "#EF553B",
          "symbol": "square"
         },
         "mode": "markers",
         "name": "Materiais Básicos, Madeira",
         "orientation": "v",
         "showlegend": true,
         "type": "scatter",
         "x": [
          0.045332182916830256
         ],
         "xaxis": "x",
         "y": [
          0.0019062434342600708
         ],
         "yaxis": "y"
        },
        {
         "customdata": [
          [
           "Materiais Básicos",
           "Madeira e Papel",
           "Papel e Celulose",
           0.06247836175012423
          ],
          [
           "Materiais Básicos",
           "Madeira e Papel",
           "Papel e Celulose",
           0.07946161056992433
          ],
          [
           "Materiais Básicos",
           "Madeira e Papel",
           "Papel e Celulose",
           0.08211710914112146
          ]
         ],
         "hovertemplate": "<b>%{hovertext}</b><br><br>Sector=%{customdata[0]}<br>Segment=%{customdata[2]}<br>Risk=%{x}<br>Return=%{y}<br>Sub-Sector=%{customdata[1]}<br>Sharpe=%{customdata[3]}<extra></extra>",
         "hovertext": [
          "KLBN4.SA",
          "KLBN3.SA",
          "SUZB3.SA"
         ],
         "legendgroup": "Materiais Básicos, Papel e Celulose",
         "marker": {
          "color": "#EF553B",
          "symbol": "x"
         },
         "mode": "markers",
         "name": "Materiais Básicos, Papel e Celulose",
         "orientation": "v",
         "showlegend": true,
         "type": "scatter",
         "x": [
          0.031361487313701364,
          0.03040922946599431,
          0.03605751341719104
         ],
         "xaxis": "x",
         "y": [
          0.0019594143494073655,
          0.0024163663495583077,
          0.0029609387646369278
         ],
         "yaxis": "y"
        },
        {
         "customdata": [
          [
           "Materiais Básicos",
           "Embalagens",
           "Embalagens",
           0.04149827336476811
          ]
         ],
         "hovertemplate": "<b>%{hovertext}</b><br><br>Sector=%{customdata[0]}<br>Segment=%{customdata[2]}<br>Risk=%{x}<br>Return=%{y}<br>Sub-Sector=%{customdata[1]}<br>Sharpe=%{customdata[3]}<extra></extra>",
         "hovertext": [
          "RANI3.SA"
         ],
         "legendgroup": "Materiais Básicos, Embalagens",
         "marker": {
          "color": "#EF553B",
          "symbol": "cross"
         },
         "mode": "markers",
         "name": "Materiais Básicos, Embalagens",
         "orientation": "v",
         "showlegend": true,
         "type": "scatter",
         "x": [
          0.05335053192535554
         ],
         "xaxis": "x",
         "y": [
          0.0022139549579941924
         ],
         "yaxis": "y"
        },
        {
         "customdata": [
          [
           "Bens Industriais",
           "Construção e Engenharia",
           "Produtos para Construção",
           0.09287891929101263
          ],
          [
           "Bens Industriais",
           "Construção e Engenharia",
           "Produtos para Construção",
           0.04662716073432241
          ]
         ],
         "hovertemplate": "<b>%{hovertext}</b><br><br>Sector=%{customdata[0]}<br>Segment=%{customdata[2]}<br>Risk=%{x}<br>Return=%{y}<br>Sub-Sector=%{customdata[1]}<br>Sharpe=%{customdata[3]}<extra></extra>",
         "hovertext": [
          "ETER3.SA",
          "PTBL3.SA"
         ],
         "legendgroup": "Bens Industriais, Produtos para Construção",
         "marker": {
          "color": "#00cc96",
          "symbol": "circle"
         },
         "mode": "markers",
         "name": "Bens Industriais, Produtos para Construção",
         "orientation": "v",
         "showlegend": true,
         "type": "scatter",
         "x": [
          0.0623596083376314,
          0.05294712270872207
         ],
         "xaxis": "x",
         "y": [
          0.005791893029810025,
          0.0024687740009594764
         ],
         "yaxis": "y"
        },
        {
         "customdata": [
          [
           "Bens Industriais",
           "Construção e Engenharia",
           "Construção Pesada",
           0.0646331051083777
          ]
         ],
         "hovertemplate": "<b>%{hovertext}</b><br><br>Sector=%{customdata[0]}<br>Segment=%{customdata[2]}<br>Risk=%{x}<br>Return=%{y}<br>Sub-Sector=%{customdata[1]}<br>Sharpe=%{customdata[3]}<extra></extra>",
         "hovertext": [
          "AZEV4.SA"
         ],
         "legendgroup": "Bens Industriais, Construção Pesada",
         "marker": {
          "color": "#00cc96",
          "symbol": "diamond"
         },
         "mode": "markers",
         "name": "Bens Industriais, Construção Pesada",
         "orientation": "v",
         "showlegend": true,
         "type": "scatter",
         "x": [
          0.062360080824489884
         ],
         "xaxis": "x",
         "y": [
          0.004030525658496184
         ],
         "yaxis": "y"
        },
        {
         "customdata": [
          [
           "Bens Industriais",
           "Material de Transporte",
           "Material Aeronáutico e de Defesa",
           -0.029270910293377073
          ]
         ],
         "hovertemplate": "<b>%{hovertext}</b><br><br>Sector=%{customdata[0]}<br>Segment=%{customdata[2]}<br>Risk=%{x}<br>Return=%{y}<br>Sub-Sector=%{customdata[1]}<br>Sharpe=%{customdata[3]}<extra></extra>",
         "hovertext": [
          "EMBR3.SA"
         ],
         "legendgroup": "Bens Industriais, Material Aeronáutico e de Defesa",
         "marker": {
          "color": "#00cc96",
          "symbol": "square"
         },
         "mode": "markers",
         "name": "Bens Industriais, Material Aeronáutico e de Defesa",
         "orientation": "v",
         "showlegend": true,
         "type": "scatter",
         "x": [
          0.05148675489045457
         ],
         "xaxis": "x",
         "y": [
          -0.001507064183695589
         ],
         "yaxis": "y"
        },
        {
         "customdata": [
          [
           "Bens Industriais",
           "Material de Transporte",
           "Material Rodoviário",
           -0.03854737686554499
          ],
          [
           "Bens Industriais",
           "Material de Transporte",
           "Material Rodoviário",
           -0.03569322201304134
          ],
          [
           "Bens Industriais",
           "Material de Transporte",
           "Material Rodoviário",
           0.04597094025066945
          ],
          [
           "Bens Industriais",
           "Material de Transporte",
           "Material Rodoviário",
           0.004575621500658756
          ],
          [
           "Bens Industriais",
           "Material de Transporte",
           "Material Rodoviário",
           0.11262259171040202
          ],
          [
           "Bens Industriais",
           "Material de Transporte",
           "Material Rodoviário",
           0.01706617854958777
          ]
         ],
         "hovertemplate": "<b>%{hovertext}</b><br><br>Sector=%{customdata[0]}<br>Segment=%{customdata[2]}<br>Risk=%{x}<br>Return=%{y}<br>Sub-Sector=%{customdata[1]}<br>Sharpe=%{customdata[3]}<extra></extra>",
         "hovertext": [
          "POMO4.SA",
          "POMO3.SA",
          "RAPT4.SA",
          "RCSL4.SA",
          "RCSL3.SA",
          "TUPY3.SA"
         ],
         "legendgroup": "Bens Industriais, Material Rodoviário",
         "marker": {
          "color": "#00cc96",
          "symbol": "x"
         },
         "mode": "markers",
         "name": "Bens Industriais, Material Rodoviário",
         "orientation": "v",
         "showlegend": true,
         "type": "scatter",
         "x": [
          0.043042788621009694,
          0.03981211786609629,
          0.04723440657787563,
          0.05585853718029785,
          0.0740159514885843,
          0.03677580167047455
         ],
         "xaxis": "x",
         "y": [
          -0.0016591865943180522,
          -0.0014210227618039447,
          0.0021714100825673487,
          0.00025558752371751737,
          0.008335868284555752,
          0.0006276223976125468
         ],
         "yaxis": "y"
        },
        {
         "customdata": [
          [
           "Bens Industriais",
           "Máquinas e Equipamentos",
           "Motores, Compressores e Outros",
           0.01453678735531145
          ],
          [
           "Bens Industriais",
           "Máquinas e Equipamentos",
           "Motores, Compressores e Outros",
           0.09691050216684174
          ]
         ],
         "hovertemplate": "<b>%{hovertext}</b><br><br>Sector=%{customdata[0]}<br>Segment=%{customdata[2]}<br>Risk=%{x}<br>Return=%{y}<br>Sub-Sector=%{customdata[1]}<br>Sharpe=%{customdata[3]}<extra></extra>",
         "hovertext": [
          "SHUL4.SA",
          "WEGE3.SA"
         ],
         "legendgroup": "Bens Industriais, Motores, Compressores e Outros",
         "marker": {
          "color": "#00cc96",
          "symbol": "cross"
         },
         "mode": "markers",
         "name": "Bens Industriais, Motores, Compressores e Outros",
         "orientation": "v",
         "showlegend": true,
         "type": "scatter",
         "x": [
          0.0365051310479602,
          0.037025696940259825
         ],
         "xaxis": "x",
         "y": [
          0.0005306673274219752,
          0.0035881788835578758
         ],
         "yaxis": "y"
        },
        {
         "customdata": [
          [
           "Bens Industriais",
           "Máquinas e Equipamentos",
           "Máq. e Equip. Industriais",
           0.04529976364247728
          ],
          [
           "Bens Industriais",
           "Máquinas e Equipamentos",
           "Máq. e Equip. Industriais",
           0.1177495136715089
          ],
          [
           "Bens Industriais",
           "Máquinas e Equipamentos",
           "Máq. e Equip. Industriais",
           0.11963177647817073
          ],
          [
           "Bens Industriais",
           "Máquinas e Equipamentos",
           "Máq. e Equip. Industriais",
           -0.01011390973313199
          ]
         ],
         "hovertemplate": "<b>%{hovertext}</b><br><br>Sector=%{customdata[0]}<br>Segment=%{customdata[2]}<br>Risk=%{x}<br>Return=%{y}<br>Sub-Sector=%{customdata[1]}<br>Sharpe=%{customdata[3]}<extra></extra>",
         "hovertext": [
          "ROMI3.SA",
          "INEP4.SA",
          "INEP3.SA",
          "MILS3.SA"
         ],
         "legendgroup": "Bens Industriais, Máq. e Equip. Industriais",
         "marker": {
          "color": "#00cc96",
          "symbol": "circle"
         },
         "mode": "markers",
         "name": "Bens Industriais, Máq. e Equip. Industriais",
         "orientation": "v",
         "showlegend": true,
         "type": "scatter",
         "x": [
          0.04771266905189478,
          0.06985083947732,
          0.0696219718045656,
          0.0498700092156992
         ],
         "xaxis": "x",
         "y": [
          0.002161372630802574,
          0.008224902378001065,
          0.008329000168893297,
          -0.0005043807715980422
         ],
         "yaxis": "y"
        },
        {
         "customdata": [
          [
           "Bens Industriais",
           "Máquinas e Equipamentos",
           "Armas e Munições",
           0.13581399636730346
          ]
         ],
         "hovertemplate": "<b>%{hovertext}</b><br><br>Sector=%{customdata[0]}<br>Segment=%{customdata[2]}<br>Risk=%{x}<br>Return=%{y}<br>Sub-Sector=%{customdata[1]}<br>Sharpe=%{customdata[3]}<extra></extra>",
         "hovertext": [
          "TASA4.SA"
         ],
         "legendgroup": "Bens Industriais, Armas e Munições",
         "marker": {
          "color": "#00cc96",
          "symbol": "diamond"
         },
         "mode": "markers",
         "name": "Bens Industriais, Armas e Munições",
         "orientation": "v",
         "showlegend": true,
         "type": "scatter",
         "x": [
          0.05749510820281358
         ],
         "xaxis": "x",
         "y": [
          0.007808640416594643
         ],
         "yaxis": "y"
        },
        {
         "customdata": [
          [
           "Bens Industriais",
           "Transporte",
           "Transporte Aéreo",
           0.02803911553280413
          ],
          [
           "Bens Industriais",
           "Transporte",
           "Transporte Aéreo",
           0.030420315808393123
          ]
         ],
         "hovertemplate": "<b>%{hovertext}</b><br><br>Sector=%{customdata[0]}<br>Segment=%{customdata[2]}<br>Risk=%{x}<br>Return=%{y}<br>Sub-Sector=%{customdata[1]}<br>Sharpe=%{customdata[3]}<extra></extra>",
         "hovertext": [
          "AZUL4.SA",
          "GOLL4.SA"
         ],
         "legendgroup": "Bens Industriais, Transporte Aéreo",
         "marker": {
          "color": "#00cc96",
          "symbol": "square"
         },
         "mode": "markers",
         "name": "Bens Industriais, Transporte Aéreo",
         "orientation": "v",
         "showlegend": true,
         "type": "scatter",
         "x": [
          0.0737579939440047,
          0.07351928725105489
         ],
         "xaxis": "x",
         "y": [
          0.002068108913663815,
          0.00223647993618506
         ],
         "yaxis": "y"
        },
        {
         "customdata": [
          [
           "Bens Industriais",
           "Transporte",
           "Transporte Ferroviário",
           0.01527894225606841
          ]
         ],
         "hovertemplate": "<b>%{hovertext}</b><br><br>Sector=%{customdata[0]}<br>Segment=%{customdata[2]}<br>Risk=%{x}<br>Return=%{y}<br>Sub-Sector=%{customdata[1]}<br>Sharpe=%{customdata[3]}<extra></extra>",
         "hovertext": [
          "RAIL3.SA"
         ],
         "legendgroup": "Bens Industriais, Transporte Ferroviário",
         "marker": {
          "color": "#00cc96",
          "symbol": "x"
         },
         "mode": "markers",
         "name": "Bens Industriais, Transporte Ferroviário",
         "orientation": "v",
         "showlegend": true,
         "type": "scatter",
         "x": [
          0.03864437790992622
         ],
         "xaxis": "x",
         "y": [
          0.0005904452186074483
         ],
         "yaxis": "y"
        },
        {
         "customdata": [
          [
           "Bens Industriais",
           "Transporte",
           "Transporte Hidroviário",
           0.0034372516391328266
          ]
         ],
         "hovertemplate": "<b>%{hovertext}</b><br><br>Sector=%{customdata[0]}<br>Segment=%{customdata[2]}<br>Risk=%{x}<br>Return=%{y}<br>Sub-Sector=%{customdata[1]}<br>Sharpe=%{customdata[3]}<extra></extra>",
         "hovertext": [
          "LOGN3.SA"
         ],
         "legendgroup": "Bens Industriais, Transporte Hidroviário",
         "marker": {
          "color": "#00cc96",
          "symbol": "cross"
         },
         "mode": "markers",
         "name": "Bens Industriais, Transporte Hidroviário",
         "orientation": "v",
         "showlegend": true,
         "type": "scatter",
         "x": [
          0.05434851027945224
         ],
         "xaxis": "x",
         "y": [
          0.0001868095060424745
         ],
         "yaxis": "y"
        },
        {
         "customdata": [
          [
           "Bens Industriais",
           "Transporte",
           "Transporte Rodoviário",
           -0.00821525119723766
          ]
         ],
         "hovertemplate": "<b>%{hovertext}</b><br><br>Sector=%{customdata[0]}<br>Segment=%{customdata[2]}<br>Risk=%{x}<br>Return=%{y}<br>Sub-Sector=%{customdata[1]}<br>Sharpe=%{customdata[3]}<extra></extra>",
         "hovertext": [
          "TGMA3.SA"
         ],
         "legendgroup": "Bens Industriais, Transporte Rodoviário",
         "marker": {
          "color": "#00cc96",
          "symbol": "circle"
         },
         "mode": "markers",
         "name": "Bens Industriais, Transporte Rodoviário",
         "orientation": "v",
         "showlegend": true,
         "type": "scatter",
         "x": [
          0.045291143487570136
         ],
         "xaxis": "x",
         "y": [
          -0.00037207812076052324
         ],
         "yaxis": "y"
        },
        {
         "customdata": [
          [
           "Bens Industriais",
           "Transporte",
           "Exploração de Rodovias",
           -0.005798966754651589
          ],
          [
           "Bens Industriais",
           "Transporte",
           "Exploração de Rodovias",
           -0.0013415213073959405
          ],
          [
           "Bens Industriais",
           "Transporte",
           "Exploração de Rodovias",
           0.04425676497045857
          ]
         ],
         "hovertemplate": "<b>%{hovertext}</b><br><br>Sector=%{customdata[0]}<br>Segment=%{customdata[2]}<br>Risk=%{x}<br>Return=%{y}<br>Sub-Sector=%{customdata[1]}<br>Sharpe=%{customdata[3]}<extra></extra>",
         "hovertext": [
          "CCRO3.SA",
          "ECOR3.SA",
          "TPIS3.SA"
         ],
         "legendgroup": "Bens Industriais, Exploração de Rodovias",
         "marker": {
          "color": "#00cc96",
          "symbol": "diamond"
         },
         "mode": "markers",
         "name": "Bens Industriais, Exploração de Rodovias",
         "orientation": "v",
         "showlegend": true,
         "type": "scatter",
         "x": [
          0.04301635619065484,
          0.04585569986948008,
          0.05641842165990777
         ],
         "xaxis": "x",
         "y": [
          -0.00024945041945585847,
          -0.00006151639844046077,
          0.0024968968274067674
         ],
         "yaxis": "y"
        },
        {
         "customdata": [
          [
           "Bens Industriais",
           "Transporte",
           "Serviços de Apoio e Armazenagem",
           0.02178965374930971
          ]
         ],
         "hovertemplate": "<b>%{hovertext}</b><br><br>Sector=%{customdata[0]}<br>Segment=%{customdata[2]}<br>Risk=%{x}<br>Return=%{y}<br>Sub-Sector=%{customdata[1]}<br>Sharpe=%{customdata[3]}<extra></extra>",
         "hovertext": [
          "STBP3.SA"
         ],
         "legendgroup": "Bens Industriais, Serviços de Apoio e Armazenagem",
         "marker": {
          "color": "#00cc96",
          "symbol": "square"
         },
         "mode": "markers",
         "name": "Bens Industriais, Serviços de Apoio e Armazenagem",
         "orientation": "v",
         "showlegend": true,
         "type": "scatter",
         "x": [
          0.046409360201174206
         ],
         "xaxis": "x",
         "y": [
          0.0010112438895105804
         ],
         "yaxis": "y"
        },
        {
         "customdata": [
          [
           "Bens Industriais",
           "Serviços Diversos",
           "Serviços Diversos",
           -0.04201918767641928
          ],
          [
           "Bens Industriais",
           "Serviços Diversos",
           "Serviços Diversos",
           -0.025002344589043803
          ]
         ],
         "hovertemplate": "<b>%{hovertext}</b><br><br>Sector=%{customdata[0]}<br>Segment=%{customdata[2]}<br>Risk=%{x}<br>Return=%{y}<br>Sub-Sector=%{customdata[1]}<br>Sharpe=%{customdata[3]}<extra></extra>",
         "hovertext": [
          "PRNR3.SA",
          "VLID3.SA"
         ],
         "legendgroup": "Bens Industriais, Serviços Diversos",
         "marker": {
          "color": "#00cc96",
          "symbol": "x"
         },
         "mode": "markers",
         "name": "Bens Industriais, Serviços Diversos",
         "orientation": "v",
         "showlegend": true,
         "type": "scatter",
         "x": [
          0.0390814907116863,
          0.04841009236586221
         ],
         "xaxis": "x",
         "y": [
          -0.0016421724928885834,
          -0.0012103658109187258
         ],
         "yaxis": "y"
        },
        {
         "customdata": [
          [
           "Consumo não Cíclico",
           "Agropecuária",
           "Agricultura",
           0.07018221824436928
          ],
          [
           "Consumo não Cíclico",
           "Agropecuária",
           "Agricultura",
           0.09624925725243716
          ]
         ],
         "hovertemplate": "<b>%{hovertext}</b><br><br>Sector=%{customdata[0]}<br>Segment=%{customdata[2]}<br>Risk=%{x}<br>Return=%{y}<br>Sub-Sector=%{customdata[1]}<br>Sharpe=%{customdata[3]}<extra></extra>",
         "hovertext": [
          "AGRO3.SA",
          "SLCE3.SA"
         ],
         "legendgroup": "Consumo não Cíclico, Agricultura",
         "marker": {
          "color": "#ab63fa",
          "symbol": "cross"
         },
         "mode": "markers",
         "name": "Consumo não Cíclico, Agricultura",
         "orientation": "v",
         "showlegend": true,
         "type": "scatter",
         "x": [
          0.02498067927774396,
          0.026620993327885298
         ],
         "xaxis": "x",
         "y": [
          0.0017531994849632197,
          0.0025622508351310453
         ],
         "yaxis": "y"
        },
        {
         "customdata": [
          [
           "Consumo não Cíclico",
           "Alimentos Processados",
           "Açucar e Alcool",
           0.035811582732900575
          ]
         ],
         "hovertemplate": "<b>%{hovertext}</b><br><br>Sector=%{customdata[0]}<br>Segment=%{customdata[2]}<br>Risk=%{x}<br>Return=%{y}<br>Sub-Sector=%{customdata[1]}<br>Sharpe=%{customdata[3]}<extra></extra>",
         "hovertext": [
          "SMTO3.SA"
         ],
         "legendgroup": "Consumo não Cíclico, Açucar e Alcool",
         "marker": {
          "color": "#ab63fa",
          "symbol": "circle"
         },
         "mode": "markers",
         "name": "Consumo não Cíclico, Açucar e Alcool",
         "orientation": "v",
         "showlegend": true,
         "type": "scatter",
         "x": [
          0.04409071536597481
         ],
         "xaxis": "x",
         "y": [
          0.0015789583010813776
         ],
         "yaxis": "y"
        },
        {
         "customdata": [
          [
           "Consumo não Cíclico",
           "Alimentos Processados",
           "Carnes e Derivados",
           -0.01593229908598225
          ],
          [
           "Consumo não Cíclico",
           "Alimentos Processados",
           "Carnes e Derivados",
           0.025485081923920322
          ],
          [
           "Consumo não Cíclico",
           "Alimentos Processados",
           "Carnes e Derivados",
           0.027586508015583103
          ],
          [
           "Consumo não Cíclico",
           "Alimentos Processados",
           "Carnes e Derivados",
           -0.010420435495784247
          ]
         ],
         "hovertemplate": "<b>%{hovertext}</b><br><br>Sector=%{customdata[0]}<br>Segment=%{customdata[2]}<br>Risk=%{x}<br>Return=%{y}<br>Sub-Sector=%{customdata[1]}<br>Sharpe=%{customdata[3]}<extra></extra>",
         "hovertext": [
          "BRFS3.SA",
          "JBSS3.SA",
          "MRFG3.SA",
          "BEEF3.SA"
         ],
         "legendgroup": "Consumo não Cíclico, Carnes e Derivados",
         "marker": {
          "color": "#ab63fa",
          "symbol": "diamond"
         },
         "mode": "markers",
         "name": "Consumo não Cíclico, Carnes e Derivados",
         "orientation": "v",
         "showlegend": true,
         "type": "scatter",
         "x": [
          0.040385257750638254,
          0.03942771355982924,
          0.044369372552992024,
          0.037299462119325846
         ],
         "xaxis": "x",
         "y": [
          -0.0006434300051476514,
          0.0010048185101451123,
          0.0012239960515795074,
          -0.00038867663904188296
         ],
         "yaxis": "y"
        },
        {
         "customdata": [
          [
           "Consumo não Cíclico",
           "Alimentos Processados",
           "Alimentos Diversos",
           0.04863981538667597
          ],
          [
           "Consumo não Cíclico",
           "Alimentos Processados",
           "Alimentos Diversos",
           -0.02953405263662092
          ]
         ],
         "hovertemplate": "<b>%{hovertext}</b><br><br>Sector=%{customdata[0]}<br>Segment=%{customdata[2]}<br>Risk=%{x}<br>Return=%{y}<br>Sub-Sector=%{customdata[1]}<br>Sharpe=%{customdata[3]}<extra></extra>",
         "hovertext": [
          "CAML3.SA",
          "MDIA3.SA"
         ],
         "legendgroup": "Consumo não Cíclico, Alimentos Diversos",
         "marker": {
          "color": "#ab63fa",
          "symbol": "square"
         },
         "mode": "markers",
         "name": "Consumo não Cíclico, Alimentos Diversos",
         "orientation": "v",
         "showlegend": true,
         "type": "scatter",
         "x": [
          0.024794449379984804,
          0.03235728695926721
         ],
         "xaxis": "x",
         "y": [
          0.0012059974404567434,
          -0.0009556418162332456
         ],
         "yaxis": "y"
        },
        {
         "customdata": [
          [
           "Consumo não Cíclico",
           "Bebidas",
           "Cervejas e Refrigerantes",
           0.027991432233750183
          ]
         ],
         "hovertemplate": "<b>%{hovertext}</b><br><br>Sector=%{customdata[0]}<br>Segment=%{customdata[2]}<br>Risk=%{x}<br>Return=%{y}<br>Sub-Sector=%{customdata[1]}<br>Sharpe=%{customdata[3]}<extra></extra>",
         "hovertext": [
          "ABEV3.SA"
         ],
         "legendgroup": "Consumo não Cíclico, Cervejas e Refrigerantes",
         "marker": {
          "color": "#ab63fa",
          "symbol": "x"
         },
         "mode": "markers",
         "name": "Consumo não Cíclico, Cervejas e Refrigerantes",
         "orientation": "v",
         "showlegend": true,
         "type": "scatter",
         "x": [
          0.03034077082404009
         ],
         "xaxis": "x",
         "y": [
          0.0008492816304408628
         ],
         "yaxis": "y"
        },
        {
         "customdata": [
          [
           "Consumo não Cíclico",
           "Produtos de Uso Pessoal e de Limpeza",
           "Produtos de Uso Pessoal",
           0.033950135279373614
          ]
         ],
         "hovertemplate": "<b>%{hovertext}</b><br><br>Sector=%{customdata[0]}<br>Segment=%{customdata[2]}<br>Risk=%{x}<br>Return=%{y}<br>Sub-Sector=%{customdata[1]}<br>Sharpe=%{customdata[3]}<extra></extra>",
         "hovertext": [
          "NTCO3.SA"
         ],
         "legendgroup": "Consumo não Cíclico, Produtos de Uso Pessoal",
         "marker": {
          "color": "#ab63fa",
          "symbol": "cross"
         },
         "mode": "markers",
         "name": "Consumo não Cíclico, Produtos de Uso Pessoal",
         "orientation": "v",
         "showlegend": true,
         "type": "scatter",
         "x": [
          0.04420303826190568
         ],
         "xaxis": "x",
         "y": [
          0.0015006991287510258
         ],
         "yaxis": "y"
        },
        {
         "customdata": [
          [
           "Consumo não Cíclico",
           "Produtos de Uso Pessoal e de Limpeza",
           "Produtos de Limpeza",
           0.04283433646791504
          ]
         ],
         "hovertemplate": "<b>%{hovertext}</b><br><br>Sector=%{customdata[0]}<br>Segment=%{customdata[2]}<br>Risk=%{x}<br>Return=%{y}<br>Sub-Sector=%{customdata[1]}<br>Sharpe=%{customdata[3]}<extra></extra>",
         "hovertext": [
          "BOBR4.SA"
         ],
         "legendgroup": "Consumo não Cíclico, Produtos de Limpeza",
         "marker": {
          "color": "#ab63fa",
          "symbol": "circle"
         },
         "mode": "markers",
         "name": "Consumo não Cíclico, Produtos de Limpeza",
         "orientation": "v",
         "showlegend": true,
         "type": "scatter",
         "x": [
          0.0333253716210897
         ],
         "xaxis": "x",
         "y": [
          0.0014274701809360636
         ],
         "yaxis": "y"
        },
        {
         "customdata": [
          [
           "Consumo não Cíclico",
           "Comércio e Distribuição",
           "Alimentos",
           -0.0037186314066167004
          ],
          [
           "Consumo não Cíclico",
           "Comércio e Distribuição",
           "Alimentos",
           -0.049649199016600885
          ]
         ],
         "hovertemplate": "<b>%{hovertext}</b><br><br>Sector=%{customdata[0]}<br>Segment=%{customdata[2]}<br>Risk=%{x}<br>Return=%{y}<br>Sub-Sector=%{customdata[1]}<br>Sharpe=%{customdata[3]}<extra></extra>",
         "hovertext": [
          "CRFB3.SA",
          "PCAR3.SA"
         ],
         "legendgroup": "Consumo não Cíclico, Alimentos",
         "marker": {
          "color": "#ab63fa",
          "symbol": "diamond"
         },
         "mode": "markers",
         "name": "Consumo não Cíclico, Alimentos",
         "orientation": "v",
         "showlegend": true,
         "type": "scatter",
         "x": [
          0.026079328648543246,
          0.06596367526187963
         ],
         "xaxis": "x",
         "y": [
          -0.00009697941057595158,
          -0.003275043640943494
         ],
         "yaxis": "y"
        },
        {
         "customdata": [
          [
           "Consumo Cíclico",
           "Construção Civil",
           "Incorporações",
           0.020333701967465537
          ],
          [
           "Consumo Cíclico",
           "Construção Civil",
           "Incorporações",
           0.007072197517513426
          ],
          [
           "Consumo Cíclico",
           "Construção Civil",
           "Incorporações",
           0.010771107299835913
          ],
          [
           "Consumo Cíclico",
           "Construção Civil",
           "Incorporações",
           0.005623066062935014
          ],
          [
           "Consumo Cíclico",
           "Construção Civil",
           "Incorporações",
           -0.0061519402240216075
          ],
          [
           "Consumo Cíclico",
           "Construção Civil",
           "Incorporações",
           -0.00747525048824825
          ],
          [
           "Consumo Cíclico",
           "Construção Civil",
           "Incorporações",
           0.02999313180990455
          ],
          [
           "Consumo Cíclico",
           "Construção Civil",
           "Incorporações",
           0.019314767930041197
          ],
          [
           "Consumo Cíclico",
           "Construção Civil",
           "Incorporações",
           -0.0022213503399925163
          ],
          [
           "Consumo Cíclico",
           "Construção Civil",
           "Incorporações",
           0.024077171595877543
          ],
          [
           "Consumo Cíclico",
           "Construção Civil",
           "Incorporações",
           -0.028360832948576047
          ],
          [
           "Consumo Cíclico",
           "Construção Civil",
           "Incorporações",
           -0.0029808671108545316
          ],
          [
           "Consumo Cíclico",
           "Construção Civil",
           "Incorporações",
           -0.00045026891577526636
          ],
          [
           "Consumo Cíclico",
           "Construção Civil",
           "Incorporações",
           -0.01441669372635438
          ]
         ],
         "hovertemplate": "<b>%{hovertext}</b><br><br>Sector=%{customdata[0]}<br>Segment=%{customdata[2]}<br>Risk=%{x}<br>Return=%{y}<br>Sub-Sector=%{customdata[1]}<br>Sharpe=%{customdata[3]}<extra></extra>",
         "hovertext": [
          "CYRE3.SA",
          "DIRR3.SA",
          "EVEN3.SA",
          "EZTC3.SA",
          "GFSA3.SA",
          "HBOR3.SA",
          "JHSF3.SA",
          "MTRE3.SA",
          "MDNE3.SA",
          "MRVE3.SA",
          "TCSA3.SA",
          "TEND3.SA",
          "TRIS3.SA",
          "VIVR3.SA"
         ],
         "legendgroup": "Consumo Cíclico, Incorporações",
         "marker": {
          "color": "#FFA15A",
          "symbol": "square"
         },
         "mode": "markers",
         "name": "Consumo Cíclico, Incorporações",
         "orientation": "v",
         "showlegend": true,
         "type": "scatter",
         "x": [
          0.05231784131897745,
          0.04137968247896041,
          0.05491866177014766,
          0.0497859782815438,
          0.05343731166247655,
          0.06559599018743142,
          0.048364970464024576,
          0.04592531046990905,
          0.059451923707964954,
          0.043269839485415656,
          0.04902430556793946,
          0.040863350143304264,
          0.053359403780353934,
          0.05871633075906232
         ],
         "xaxis": "x",
         "y": [
          0.0010638153929612415,
          0.0002926452877031976,
          0.000591534798689657,
          0.0002799498448849686,
          -0.0003287431470799684,
          -0.0004903464576757242,
          0.0014506169341096295,
          0.0008870367138413847,
          -0.00013206355094189708,
          0.0010418153502164305,
          -0.0013903701406322775,
          -0.0001218082164815085,
          -0.000024026080886594616,
          -0.0008464953572887224
         ],
         "yaxis": "y"
        },
        {
         "customdata": [
          [
           "Consumo Cíclico",
           "Tecidos, Vestuário e Calçados",
           "Calçados",
           0.048187038907518444
          ],
          [
           "Consumo Cíclico",
           "Tecidos, Vestuário e Calçados",
           "Calçados",
           -0.018028459708636573
          ],
          [
           "Consumo Cíclico",
           "Tecidos, Vestuário e Calçados",
           "Calçados",
           0.019778395704493124
          ]
         ],
         "hovertemplate": "<b>%{hovertext}</b><br><br>Sector=%{customdata[0]}<br>Segment=%{customdata[2]}<br>Risk=%{x}<br>Return=%{y}<br>Sub-Sector=%{customdata[1]}<br>Sharpe=%{customdata[3]}<extra></extra>",
         "hovertext": [
          "ALPA4.SA",
          "GRND3.SA",
          "VULC3.SA"
         ],
         "legendgroup": "Consumo Cíclico, Calçados",
         "marker": {
          "color": "#FFA15A",
          "symbol": "x"
         },
         "mode": "markers",
         "name": "Consumo Cíclico, Calçados",
         "orientation": "v",
         "showlegend": true,
         "type": "scatter",
         "x": [
          0.04294645760655217,
          0.02988109181660806,
          0.0392980312136149
         ],
         "xaxis": "x",
         "y": [
          0.002069462623627021,
          -0.0005387100598657884,
          0.0007772520117503976
         ],
         "yaxis": "y"
        },
        {
         "customdata": [
          [
           "Consumo Cíclico",
           "Tecidos, Vestuário e Calçados",
           "Acessórios",
           -0.04261801265036489
          ],
          [
           "Consumo Cíclico",
           "Tecidos, Vestuário e Calçados",
           "Acessórios",
           0.025042847911595674
          ]
         ],
         "hovertemplate": "<b>%{hovertext}</b><br><br>Sector=%{customdata[0]}<br>Segment=%{customdata[2]}<br>Risk=%{x}<br>Return=%{y}<br>Sub-Sector=%{customdata[1]}<br>Sharpe=%{customdata[3]}<extra></extra>",
         "hovertext": [
          "TECN3.SA",
          "VIVA3.SA"
         ],
         "legendgroup": "Consumo Cíclico, Acessórios",
         "marker": {
          "color": "#FFA15A",
          "symbol": "cross"
         },
         "mode": "markers",
         "name": "Consumo Cíclico, Acessórios",
         "orientation": "v",
         "showlegend": true,
         "type": "scatter",
         "x": [
          0.04583854572529889,
          0.05655789590881431
         ],
         "xaxis": "x",
         "y": [
          -0.0019535477215951178,
          0.001416370785444296
         ],
         "yaxis": "y"
        },
        {
         "customdata": [
          [
           "Consumo Cíclico",
           "Hoteis e Restaurantes",
           "Restaurante e Similares",
           -0.0027072557564221033
          ],
          [
           "Consumo Cíclico",
           "Hoteis e Restaurantes",
           "Restaurante e Similares",
           -0.030829351503682257
          ]
         ],
         "hovertemplate": "<b>%{hovertext}</b><br><br>Sector=%{customdata[0]}<br>Segment=%{customdata[2]}<br>Risk=%{x}<br>Return=%{y}<br>Sub-Sector=%{customdata[1]}<br>Sharpe=%{customdata[3]}<extra></extra>",
         "hovertext": [
          "BKBR3.SA",
          "MEAL3.SA"
         ],
         "legendgroup": "Consumo Cíclico, Restaurante e Similares",
         "marker": {
          "color": "#FFA15A",
          "symbol": "circle"
         },
         "mode": "markers",
         "name": "Consumo Cíclico, Restaurante e Similares",
         "orientation": "v",
         "showlegend": true,
         "type": "scatter",
         "x": [
          0.04961048539023765,
          0.05795199631523385
         ],
         "xaxis": "x",
         "y": [
          -0.00013430827215161554,
          -0.0017866224647424434
         ],
         "yaxis": "y"
        },
        {
         "customdata": [
          [
           "Consumo Cíclico",
           "Viagens e Lazer",
           "Produção de Eventos e Shows",
           0.01749414031379453
          ]
         ],
         "hovertemplate": "<b>%{hovertext}</b><br><br>Sector=%{customdata[0]}<br>Segment=%{customdata[2]}<br>Risk=%{x}<br>Return=%{y}<br>Sub-Sector=%{customdata[1]}<br>Sharpe=%{customdata[3]}<extra></extra>",
         "hovertext": [
          "SHOW3.SA"
         ],
         "legendgroup": "Consumo Cíclico, Produção de Eventos e Shows",
         "marker": {
          "color": "#FFA15A",
          "symbol": "diamond"
         },
         "mode": "markers",
         "name": "Consumo Cíclico, Produção de Eventos e Shows",
         "orientation": "v",
         "showlegend": true,
         "type": "scatter",
         "x": [
          0.05744457173542035
         ],
         "xaxis": "x",
         "y": [
          0.001004943398205279
         ],
         "yaxis": "y"
        },
        {
         "customdata": [
          [
           "Consumo Cíclico",
           "Viagens e Lazer",
           "Viagens e Turismo",
           0.03134738433187782
          ]
         ],
         "hovertemplate": "<b>%{hovertext}</b><br><br>Sector=%{customdata[0]}<br>Segment=%{customdata[2]}<br>Risk=%{x}<br>Return=%{y}<br>Sub-Sector=%{customdata[1]}<br>Sharpe=%{customdata[3]}<extra></extra>",
         "hovertext": [
          "CVCB3.SA"
         ],
         "legendgroup": "Consumo Cíclico, Viagens e Turismo",
         "marker": {
          "color": "#FFA15A",
          "symbol": "square"
         },
         "mode": "markers",
         "name": "Consumo Cíclico, Viagens e Turismo",
         "orientation": "v",
         "showlegend": true,
         "type": "scatter",
         "x": [
          0.07092433009464019
         ],
         "xaxis": "x",
         "y": [
          0.002223292233957655
         ],
         "yaxis": "y"
        },
        {
         "customdata": [
          [
           "Consumo Cíclico",
           "Diversos",
           "Serviços Educacionais",
           0.026840508783248937
          ],
          [
           "Consumo Cíclico",
           "Diversos",
           "Serviços Educacionais",
           -0.03905515068863504
          ],
          [
           "Consumo Cíclico",
           "Diversos",
           "Serviços Educacionais",
           -0.03242005299298789
          ],
          [
           "Consumo Cíclico",
           "Diversos",
           "Serviços Educacionais",
           -0.00760034096879772
          ]
         ],
         "hovertemplate": "<b>%{hovertext}</b><br><br>Sector=%{customdata[0]}<br>Segment=%{customdata[2]}<br>Risk=%{x}<br>Return=%{y}<br>Sub-Sector=%{customdata[1]}<br>Sharpe=%{customdata[3]}<extra></extra>",
         "hovertext": [
          "ANIM3.SA",
          "COGN3.SA",
          "SEER3.SA",
          "YDUQ3.SA"
         ],
         "legendgroup": "Consumo Cíclico, Serviços Educacionais",
         "marker": {
          "color": "#FFA15A",
          "symbol": "x"
         },
         "mode": "markers",
         "name": "Consumo Cíclico, Serviços Educacionais",
         "orientation": "v",
         "showlegend": true,
         "type": "scatter",
         "x": [
          0.044054168649724744,
          0.05392441249531503,
          0.0441404802783264,
          0.05076338431953548
         ],
         "xaxis": "x",
         "y": [
          0.001182436300581667,
          -0.0021060260558006427,
          -0.0014310367097592788,
          -0.0003858190295585893
         ],
         "yaxis": "y"
        },
        {
         "customdata": [
          [
           "Consumo Cíclico",
           "Diversos",
           "Aluguel de carros",
           0.05516800920503952
          ],
          [
           "Consumo Cíclico",
           "Diversos",
           "Aluguel de carros",
           0.05005664689302655
          ],
          [
           "Consumo Cíclico",
           "Diversos",
           "Aluguel de carros",
           0.03192852874911307
          ]
         ],
         "hovertemplate": "<b>%{hovertext}</b><br><br>Sector=%{customdata[0]}<br>Segment=%{customdata[2]}<br>Risk=%{x}<br>Return=%{y}<br>Sub-Sector=%{customdata[1]}<br>Sharpe=%{customdata[3]}<extra></extra>",
         "hovertext": [
          "RENT3.SA",
          "LCAM3.SA",
          "MOVI3.SA"
         ],
         "legendgroup": "Consumo Cíclico, Aluguel de carros",
         "marker": {
          "color": "#FFA15A",
          "symbol": "cross"
         },
         "mode": "markers",
         "name": "Consumo Cíclico, Aluguel de carros",
         "orientation": "v",
         "showlegend": true,
         "type": "scatter",
         "x": [
          0.05010117108214064,
          0.05314736286127547,
          0.04784916642502729
         ],
         "xaxis": "x",
         "y": [
          0.0027639818674427947,
          0.0026603787760424197,
          0.0015277534858225796
         ],
         "yaxis": "y"
        },
        {
         "customdata": [
          [
           "Consumo Cíclico",
           "Comércio",
           "Tecidos, Vestuário e Calçados",
           0.037745066734836005
          ],
          [
           "Consumo Cíclico",
           "Comércio",
           "Tecidos, Vestuário e Calçados",
           0.009830202070392422
          ],
          [
           "Consumo Cíclico",
           "Comércio",
           "Tecidos, Vestuário e Calçados",
           -0.02937215573925684
          ],
          [
           "Consumo Cíclico",
           "Comércio",
           "Tecidos, Vestuário e Calçados",
           -0.0577615838607531
          ],
          [
           "Consumo Cíclico",
           "Comércio",
           "Tecidos, Vestuário e Calçados",
           -0.021287117526463385
          ],
          [
           "Consumo Cíclico",
           "Comércio",
           "Tecidos, Vestuário e Calçados",
           -0.010412964775614113
          ]
         ],
         "hovertemplate": "<b>%{hovertext}</b><br><br>Sector=%{customdata[0]}<br>Segment=%{customdata[2]}<br>Risk=%{x}<br>Return=%{y}<br>Sub-Sector=%{customdata[1]}<br>Sharpe=%{customdata[3]}<extra></extra>",
         "hovertext": [
          "ARZZ3.SA",
          "CEAB3.SA",
          "GUAR3.SA",
          "LLIS3.SA",
          "AMAR3.SA",
          "LREN3.SA"
         ],
         "legendgroup": "Consumo Cíclico, Tecidos, Vestuário e Calçados",
         "marker": {
          "color": "#FFA15A",
          "symbol": "circle"
         },
         "mode": "markers",
         "name": "Consumo Cíclico, Tecidos, Vestuário e Calçados",
         "orientation": "v",
         "showlegend": true,
         "type": "scatter",
         "x": [
          0.03975619219925577,
          0.05535380915986368,
          0.05279919229047281,
          0.06177993878881272,
          0.06459363721205745,
          0.04274935900929507
         ],
         "xaxis": "x",
         "y": [
          0.0015006001276838756,
          0.000544139129407399,
          -0.0015508260988627363,
          -0.0035685071152621994,
          -0.0013750123467948057,
          -0.00044514756954387144
         ],
         "yaxis": "y"
        },
        {
         "customdata": [
          [
           "Consumo Cíclico",
           "Comércio",
           "Eletrodomésticos",
           0.08848877161718749
          ],
          [
           "Consumo Cíclico",
           "Comércio",
           "Eletrodomésticos",
           0.032018466980229046
          ]
         ],
         "hovertemplate": "<b>%{hovertext}</b><br><br>Sector=%{customdata[0]}<br>Segment=%{customdata[2]}<br>Risk=%{x}<br>Return=%{y}<br>Sub-Sector=%{customdata[1]}<br>Sharpe=%{customdata[3]}<extra></extra>",
         "hovertext": [
          "MGLU3.SA",
          "VIIA3.SA"
         ],
         "legendgroup": "Consumo Cíclico, Eletrodomésticos",
         "marker": {
          "color": "#FFA15A",
          "symbol": "diamond"
         },
         "mode": "markers",
         "name": "Consumo Cíclico, Eletrodomésticos",
         "orientation": "v",
         "showlegend": true,
         "type": "scatter",
         "x": [
          0.04583345172455784,
          0.059336436685306526
         ],
         "xaxis": "x",
         "y": [
          0.004055745842081787,
          0.0018998617387329386
         ],
         "yaxis": "y"
        },
        {
         "customdata": [
          [
           "Consumo Cíclico",
           "Comércio",
           "Produtos Diversos",
           0.053456337425325004
          ],
          [
           "Consumo Cíclico",
           "Comércio",
           "Produtos Diversos",
           -0.022165704971499847
          ]
         ],
         "hovertemplate": "<b>%{hovertext}</b><br><br>Sector=%{customdata[0]}<br>Segment=%{customdata[2]}<br>Risk=%{x}<br>Return=%{y}<br>Sub-Sector=%{customdata[1]}<br>Sharpe=%{customdata[3]}<extra></extra>",
         "hovertext": [
          "AMER3.SA",
          "SBFG3.SA"
         ],
         "legendgroup": "Consumo Cíclico, Produtos Diversos",
         "marker": {
          "color": "#FFA15A",
          "symbol": "square"
         },
         "mode": "markers",
         "name": "Consumo Cíclico, Produtos Diversos",
         "orientation": "v",
         "showlegend": true,
         "type": "scatter",
         "x": [
          0.052102257925603884,
          0.053601841071721494
         ],
         "xaxis": "x",
         "y": [
          0.0027851958802923953,
          -0.0011881225951250018
         ],
         "yaxis": "y"
        },
        {
         "customdata": [
          [
           "Saúde",
           "Serviços Médico - Hospitalares, Análises e Diagnósticos",
           "Serviços Médico - Hospitalares, Análises e Diagnósticos",
           -0.03807581153654157
          ],
          [
           "Saúde",
           "Serviços Médico - Hospitalares, Análises e Diagnósticos",
           "Serviços Médico - Hospitalares, Análises e Diagnósticos",
           -0.004034332543319275
          ],
          [
           "Saúde",
           "Serviços Médico - Hospitalares, Análises e Diagnósticos",
           "Serviços Médico - Hospitalares, Análises e Diagnósticos",
           0.07256602211931742
          ],
          [
           "Saúde",
           "Serviços Médico - Hospitalares, Análises e Diagnósticos",
           "Serviços Médico - Hospitalares, Análises e Diagnósticos",
           -0.008898690205862437
          ],
          [
           "Saúde",
           "Serviços Médico - Hospitalares, Análises e Diagnósticos",
           "Serviços Médico - Hospitalares, Análises e Diagnósticos",
           -0.007595584868278049
          ],
          [
           "Saúde",
           "Serviços Médico - Hospitalares, Análises e Diagnósticos",
           "Serviços Médico - Hospitalares, Análises e Diagnósticos",
           0.00953011938502116
          ]
         ],
         "hovertemplate": "<b>%{hovertext}</b><br><br>Sector=%{customdata[0]}<br>Segment=%{customdata[2]}<br>Risk=%{x}<br>Return=%{y}<br>Sub-Sector=%{customdata[1]}<br>Sharpe=%{customdata[3]}<extra></extra>",
         "hovertext": [
          "AALR3.SA",
          "FLRY3.SA",
          "HAPV3.SA",
          "PARD3.SA",
          "ODPV3.SA",
          "QUAL3.SA"
         ],
         "legendgroup": "Saúde, Serviços Médico - Hospitalares, Análises e Diagnósticos",
         "marker": {
          "color": "#19d3f3",
          "symbol": "x"
         },
         "mode": "markers",
         "name": "Saúde, Serviços Médico - Hospitalares, Análises e Diagnósticos",
         "orientation": "v",
         "showlegend": true,
         "type": "scatter",
         "x": [
          0.04448317267121043,
          0.029864041684932105,
          0.040147461715389715,
          0.03853868958938353,
          0.027929887567475848,
          0.03785711026905224
         ],
         "xaxis": "x",
         "y": [
          -0.0016937328991764448,
          -0.00012048147524456497,
          0.0029133415948734195,
          -0.0003429438595958199,
          -0.00021214383138022677,
          0.00036078278043597835
         ],
         "yaxis": "y"
        },
        {
         "customdata": [
          [
           "Saúde",
           "Comércio e Distribuição",
           "Medicamentos e Outros Produtos",
           -0.005794345751158043
          ],
          [
           "Saúde",
           "Comércio e Distribuição",
           "Medicamentos e Outros Produtos",
           -0.0012568863079843243
          ],
          [
           "Saúde",
           "Comércio e Distribuição",
           "Medicamentos e Outros Produtos",
           0.06698613327325764
          ],
          [
           "Saúde",
           "Comércio e Distribuição",
           "Medicamentos e Outros Produtos",
           0.022026439911115653
          ]
         ],
         "hovertemplate": "<b>%{hovertext}</b><br><br>Sector=%{customdata[0]}<br>Segment=%{customdata[2]}<br>Risk=%{x}<br>Return=%{y}<br>Sub-Sector=%{customdata[1]}<br>Sharpe=%{customdata[3]}<extra></extra>",
         "hovertext": [
          "PNVL3.SA",
          "HYPE3.SA",
          "PFRM3.SA",
          "RADL3.SA"
         ],
         "legendgroup": "Saúde, Medicamentos e Outros Produtos",
         "marker": {
          "color": "#19d3f3",
          "symbol": "cross"
         },
         "mode": "markers",
         "name": "Saúde, Medicamentos e Outros Produtos",
         "orientation": "v",
         "showlegend": true,
         "type": "scatter",
         "x": [
          0.035515016476608485,
          0.033610621412212716,
          6.7900937187797314,
          0.026304223113332845
         ],
         "xaxis": "x",
         "y": [
          -0.00020578628482354426,
          -0.000042244729855854916,
          0.45484212278408864,
          0.0005793883898144054
         ],
         "yaxis": "y"
        },
        {
         "customdata": [
          [
           "Tecnologia da Informação",
           "Computadores e Equipamentos",
           "Computadores e Equipamentos",
           0.0010403081150682759
          ]
         ],
         "hovertemplate": "<b>%{hovertext}</b><br><br>Sector=%{customdata[0]}<br>Segment=%{customdata[2]}<br>Risk=%{x}<br>Return=%{y}<br>Sub-Sector=%{customdata[1]}<br>Sharpe=%{customdata[3]}<extra></extra>",
         "hovertext": [
          "POSI3.SA"
         ],
         "legendgroup": "Tecnologia da Informação, Computadores e Equipamentos",
         "marker": {
          "color": "#FF6692",
          "symbol": "circle"
         },
         "mode": "markers",
         "name": "Tecnologia da Informação, Computadores e Equipamentos",
         "orientation": "v",
         "showlegend": true,
         "type": "scatter",
         "x": [
          0.06044431993098876
         ],
         "xaxis": "x",
         "y": [
          0.00006288071653399073
         ],
         "yaxis": "y"
        },
        {
         "customdata": [
          [
           "Tecnologia da Informação",
           "Programas e Serviços",
           "Programas e Serviços",
           0.16252850346418465
          ],
          [
           "Tecnologia da Informação",
           "Programas e Serviços",
           "Programas e Serviços",
           0.0125830346315385
          ],
          [
           "Tecnologia da Informação",
           "Programas e Serviços",
           "Programas e Serviços",
           0.04162883622499463
          ]
         ],
         "hovertemplate": "<b>%{hovertext}</b><br><br>Sector=%{customdata[0]}<br>Segment=%{customdata[2]}<br>Risk=%{x}<br>Return=%{y}<br>Sub-Sector=%{customdata[1]}<br>Sharpe=%{customdata[3]}<extra></extra>",
         "hovertext": [
          "LWSA3.SA",
          "SQIA3.SA",
          "TOTS3.SA"
         ],
         "legendgroup": "Tecnologia da Informação, Programas e Serviços",
         "marker": {
          "color": "#FF6692",
          "symbol": "diamond"
         },
         "mode": "markers",
         "name": "Tecnologia da Informação, Programas e Serviços",
         "orientation": "v",
         "showlegend": true,
         "type": "scatter",
         "x": [
          0.05028856415379359,
          0.04053695392401562,
          0.038855331942640944
         ],
         "xaxis": "x",
         "y": [
          0.008173325073278713,
          0.0005100778950829691,
          0.0016175022499080023
         ],
         "yaxis": "y"
        },
        {
         "customdata": [
          [
           "Comunicações",
           "Telecomunicações",
           "Telecomunicações",
           0.08488971345521655
          ],
          [
           "Comunicações",
           "Telecomunicações",
           "Telecomunicações",
           0.09782503842512164
          ],
          [
           "Comunicações",
           "Telecomunicações",
           "Telecomunicações",
           -0.013054369979295712
          ],
          [
           "Comunicações",
           "Telecomunicações",
           "Telecomunicações",
           -0.014158798469501684
          ]
         ],
         "hovertemplate": "<b>%{hovertext}</b><br><br>Sector=%{customdata[0]}<br>Segment=%{customdata[2]}<br>Risk=%{x}<br>Return=%{y}<br>Sub-Sector=%{customdata[1]}<br>Sharpe=%{customdata[3]}<extra></extra>",
         "hovertext": [
          "OIBR4.SA",
          "OIBR3.SA",
          "VIVT3.SA",
          "TIMS3.SA"
         ],
         "legendgroup": "Comunicações, Telecomunicações",
         "marker": {
          "color": "#B6E880",
          "symbol": "square"
         },
         "mode": "markers",
         "name": "Comunicações, Telecomunicações",
         "orientation": "v",
         "showlegend": true,
         "type": "scatter",
         "x": [
          0.05408745197572187,
          0.05104751427568856,
          0.027136596118064116,
          0.031043317963803167
         ],
         "xaxis": "x",
         "y": [
          0.004591468299741816,
          0.004993725045526178,
          -0.00035425116570392875,
          -0.00043953608287415044
         ],
         "yaxis": "y"
        },
        {
         "customdata": [
          [
           "Utilidade Pública",
           "Energia Elétrica",
           "Energia Elétrica",
           0.018954428219482664
          ],
          [
           "Utilidade Pública",
           "Energia Elétrica",
           "Energia Elétrica",
           0.03150987610726709
          ],
          [
           "Utilidade Pública",
           "Energia Elétrica",
           "Energia Elétrica",
           -0.02131123421758969
          ],
          [
           "Utilidade Pública",
           "Energia Elétrica",
           "Energia Elétrica",
           -0.012037906249680904
          ],
          [
           "Utilidade Pública",
           "Energia Elétrica",
           "Energia Elétrica",
           0.017656068731274774
          ],
          [
           "Utilidade Pública",
           "Energia Elétrica",
           "Energia Elétrica",
           0.006236986341317794
          ],
          [
           "Utilidade Pública",
           "Energia Elétrica",
           "Energia Elétrica",
           0.06582655942209789
          ],
          [
           "Utilidade Pública",
           "Energia Elétrica",
           "Energia Elétrica",
           -0.00702165041687382
          ],
          [
           "Utilidade Pública",
           "Energia Elétrica",
           "Energia Elétrica",
           -0.00961403086897004
          ],
          [
           "Utilidade Pública",
           "Energia Elétrica",
           "Energia Elétrica",
           0.016434657935145147
          ],
          [
           "Utilidade Pública",
           "Energia Elétrica",
           "Energia Elétrica",
           -0.030396362057366764
          ],
          [
           "Utilidade Pública",
           "Energia Elétrica",
           "Energia Elétrica",
           0.05816131873087605
          ]
         ],
         "hovertemplate": "<b>%{hovertext}</b><br><br>Sector=%{customdata[0]}<br>Segment=%{customdata[2]}<br>Risk=%{x}<br>Return=%{y}<br>Sub-Sector=%{customdata[1]}<br>Sharpe=%{customdata[3]}<extra></extra>",
         "hovertext": [
          "CMIG4.SA",
          "CMIG3.SA",
          "CPLE3.SA",
          "CPFE3.SA",
          "ELET3.SA",
          "ENBR3.SA",
          "ENEV3.SA",
          "EGIE3.SA",
          "EQTL3.SA",
          "LIGT3.SA",
          "NEOE3.SA",
          "TRPL4.SA"
         ],
         "legendgroup": "Utilidade Pública, Energia Elétrica",
         "marker": {
          "color": "#FF97FF",
          "symbol": "x"
         },
         "mode": "markers",
         "name": "Utilidade Pública, Energia Elétrica",
         "orientation": "v",
         "showlegend": true,
         "type": "scatter",
         "x": [
          0.03703832099795675,
          0.03903843059860456,
          0.03331304477875378,
          0.028484217121597374,
          0.04837335857554772,
          0.025948926615424264,
          0.03236887904344368,
          0.023534727810181136,
          0.02849716864232743,
          0.04915143144646496,
          0.031110309335248915,
          0.019449752671725083
         ],
         "xaxis": "x",
         "y": [
          0.0007020401967259288,
          0.0012300961115841744,
          -0.0007099420997810751,
          -0.00034289033530534484,
          0.0008540833437724705,
          0.00016184310087225893,
          0.0021307319397799447,
          -0.00016525263133937025,
          -0.000273972659005581,
          0.000807786962845388,
          -0.0009456402262709031,
          0.0011312232643769105
         ],
         "yaxis": "y"
        },
        {
         "customdata": [
          [
           "Utilidade Pública",
           "Água e Saneamento",
           "Água e Saneamento",
           -0.015956431663936836
          ],
          [
           "Utilidade Pública",
           "Água e Saneamento",
           "Água e Saneamento",
           -0.02608416927300804
          ],
          [
           "Utilidade Pública",
           "Água e Saneamento",
           "Água e Saneamento",
           -0.04279335967543427
          ],
          [
           "Utilidade Pública",
           "Água e Saneamento",
           "Água e Saneamento",
           -0.026685882926148242
          ]
         ],
         "hovertemplate": "<b>%{hovertext}</b><br><br>Sector=%{customdata[0]}<br>Segment=%{customdata[2]}<br>Risk=%{x}<br>Return=%{y}<br>Sub-Sector=%{customdata[1]}<br>Sharpe=%{customdata[3]}<extra></extra>",
         "hovertext": [
          "CSMG3.SA",
          "SBSP3.SA",
          "SAPR4.SA",
          "SAPR3.SA"
         ],
         "legendgroup": "Utilidade Pública, Água e Saneamento",
         "marker": {
          "color": "#FF97FF",
          "symbol": "cross"
         },
         "mode": "markers",
         "name": "Utilidade Pública, Água e Saneamento",
         "orientation": "v",
         "showlegend": true,
         "type": "scatter",
         "x": [
          0.03469782651448263,
          0.03891176985973473,
          0.033269928811440835,
          0.03815687998215625
         ],
         "xaxis": "x",
         "y": [
          -0.0005536534976654778,
          -0.001014981191733653,
          -0.0014237320300040809,
          -0.0010182500320309112
         ],
         "yaxis": "y"
        },
        {
         "customdata": [
          [
           "Financeiro",
           "Intermediários Financeiros",
           "Bancos",
           -0.015290016102899828
          ],
          [
           "Financeiro",
           "Intermediários Financeiros",
           "Bancos",
           -0.0014043543576503488
          ],
          [
           "Financeiro",
           "Intermediários Financeiros",
           "Bancos",
           0.03316188962730133
          ],
          [
           "Financeiro",
           "Intermediários Financeiros",
           "Bancos",
           -0.0017522911320821803
          ],
          [
           "Financeiro",
           "Intermediários Financeiros",
           "Bancos",
           0.00614315214380464
          ],
          [
           "Financeiro",
           "Intermediários Financeiros",
           "Bancos",
           -0.014169858299281215
          ],
          [
           "Financeiro",
           "Intermediários Financeiros",
           "Bancos",
           0.0008879821192449567
          ],
          [
           "Financeiro",
           "Intermediários Financeiros",
           "Bancos",
           -0.007840833003109692
          ],
          [
           "Financeiro",
           "Intermediários Financeiros",
           "Bancos",
           0.008705397383380244
          ],
          [
           "Financeiro",
           "Intermediários Financeiros",
           "Bancos",
           0.005615579284113463
          ],
          [
           "Financeiro",
           "Intermediários Financeiros",
           "Bancos",
           -0.02274826756352425
          ]
         ],
         "hovertemplate": "<b>%{hovertext}</b><br><br>Sector=%{customdata[0]}<br>Segment=%{customdata[2]}<br>Risk=%{x}<br>Return=%{y}<br>Sub-Sector=%{customdata[1]}<br>Sharpe=%{customdata[3]}<extra></extra>",
         "hovertext": [
          "ABCB4.SA",
          "BMGB4.SA",
          "BPAN4.SA",
          "BBDC4.SA",
          "BBDC3.SA",
          "BBAS3.SA",
          "ITSA4.SA",
          "ITSA3.SA",
          "ITUB4.SA",
          "ITUB3.SA",
          "PINE4.SA"
         ],
         "legendgroup": "Financeiro, Bancos",
         "marker": {
          "color": "#FECB52",
          "symbol": "circle"
         },
         "mode": "markers",
         "name": "Financeiro, Bancos",
         "orientation": "v",
         "showlegend": true,
         "type": "scatter",
         "x": [
          0.03210529871747044,
          0.038381483625535354,
          0.05782535658511135,
          0.03874234649209971,
          0.037127958221566164,
          0.04084187530793005,
          0.029202951005987143,
          0.02182895767685179,
          0.031894767119120745,
          0.028042347439394367,
          0.048659290950022645
         ],
         "xaxis": "x",
         "y": [
          -0.0004908905343785322,
          -0.00005390120378260608,
          0.0019175980927348048,
          -0.00006788787019416149,
          0.0002280826961439033,
          -0.0005787235857902811,
          0.000025931698322503104,
          -0.00017115721177614416,
          0.000277656622222316,
          0.00015747402535857522,
          -0.0011069145699824892
         ],
         "yaxis": "y"
        },
        {
         "customdata": [
          [
           "Financeiro",
           "Serviços Financeiros Diversos",
           "Serviços Financeiros Diversos",
           0.0408866274463035
          ],
          [
           "Financeiro",
           "Serviços Financeiros Diversos",
           "Serviços Financeiros Diversos",
           -0.035059158944566154
          ],
          [
           "Financeiro",
           "Serviços Financeiros Diversos",
           "Serviços Financeiros Diversos",
           0.056268383583987
          ]
         ],
         "hovertemplate": "<b>%{hovertext}</b><br><br>Sector=%{customdata[0]}<br>Segment=%{customdata[2]}<br>Risk=%{x}<br>Return=%{y}<br>Sub-Sector=%{customdata[1]}<br>Sharpe=%{customdata[3]}<extra></extra>",
         "hovertext": [
          "B3SA3.SA",
          "CIEL3.SA",
          "CARD3.SA"
         ],
         "legendgroup": "Financeiro, Serviços Financeiros Diversos",
         "marker": {
          "color": "#FECB52",
          "symbol": "diamond"
         },
         "mode": "markers",
         "name": "Financeiro, Serviços Financeiros Diversos",
         "orientation": "v",
         "showlegend": true,
         "type": "scatter",
         "x": [
          0.03652467703707428,
          0.048963358103744296,
          0.0345874564496765
         ],
         "xaxis": "x",
         "y": [
          0.0014933708626114126,
          -0.0017166141542188827,
          0.0019461802667048425
         ],
         "yaxis": "y"
        },
        {
         "customdata": [
          [
           "Financeiro",
           "Previdência e Seguros",
           "Seguradoras",
           -0.002767432042573314
          ],
          [
           "Financeiro",
           "Previdência e Seguros",
           "Seguradoras",
           -0.02523385038738084
          ]
         ],
         "hovertemplate": "<b>%{hovertext}</b><br><br>Sector=%{customdata[0]}<br>Segment=%{customdata[2]}<br>Risk=%{x}<br>Return=%{y}<br>Sub-Sector=%{customdata[1]}<br>Sharpe=%{customdata[3]}<extra></extra>",
         "hovertext": [
          "BBSE3.SA",
          "PSSA3.SA"
         ],
         "legendgroup": "Financeiro, Seguradoras",
         "marker": {
          "color": "#FECB52",
          "symbol": "square"
         },
         "mode": "markers",
         "name": "Financeiro, Seguradoras",
         "orientation": "v",
         "showlegend": true,
         "type": "scatter",
         "x": [
          0.027181880060087392,
          0.025372408126999053
         ],
         "xaxis": "x",
         "y": [
          -0.00007522400585567049,
          -0.0006402435506442599
         ],
         "yaxis": "y"
        },
        {
         "customdata": [
          [
           "Financeiro",
           "Previdência e Seguros",
           "Resseguradoras",
           -0.05131177117805835
          ]
         ],
         "hovertemplate": "<b>%{hovertext}</b><br><br>Sector=%{customdata[0]}<br>Segment=%{customdata[2]}<br>Risk=%{x}<br>Return=%{y}<br>Sub-Sector=%{customdata[1]}<br>Sharpe=%{customdata[3]}<extra></extra>",
         "hovertext": [
          "IRBR3.SA"
         ],
         "legendgroup": "Financeiro, Resseguradoras",
         "marker": {
          "color": "#FECB52",
          "symbol": "x"
         },
         "mode": "markers",
         "name": "Financeiro, Resseguradoras",
         "orientation": "v",
         "showlegend": true,
         "type": "scatter",
         "x": [
          0.06810158298874912
         ],
         "xaxis": "x",
         "y": [
          -0.003494412843182246
         ],
         "yaxis": "y"
        },
        {
         "customdata": [
          [
           "Financeiro",
           "Previdência e Seguros",
           "Corretoras de Seguros e Resseguros",
           -0.05135667422094356
          ]
         ],
         "hovertemplate": "<b>%{hovertext}</b><br><br>Sector=%{customdata[0]}<br>Segment=%{customdata[2]}<br>Risk=%{x}<br>Return=%{y}<br>Sub-Sector=%{customdata[1]}<br>Sharpe=%{customdata[3]}<extra></extra>",
         "hovertext": [
          "WIZS3.SA"
         ],
         "legendgroup": "Financeiro, Corretoras de Seguros e Resseguros",
         "marker": {
          "color": "#FECB52",
          "symbol": "cross"
         },
         "mode": "markers",
         "name": "Financeiro, Corretoras de Seguros e Resseguros",
         "orientation": "v",
         "showlegend": true,
         "type": "scatter",
         "x": [
          0.04123351703867105
         ],
         "xaxis": "x",
         "y": [
          -0.0021176163015387546
         ],
         "yaxis": "y"
        },
        {
         "customdata": [
          [
           "Financeiro",
           "Exploração de Imóveis",
           "Exploração de Imóveis",
           -0.02771318036320431
          ],
          [
           "Financeiro",
           "Exploração de Imóveis",
           "Exploração de Imóveis",
           -0.03367167917991783
          ],
          [
           "Financeiro",
           "Exploração de Imóveis",
           "Exploração de Imóveis",
           -0.03577167952186943
          ],
          [
           "Financeiro",
           "Exploração de Imóveis",
           "Exploração de Imóveis",
           -0.023280952319179014
          ],
          [
           "Financeiro",
           "Exploração de Imóveis",
           "Exploração de Imóveis",
           0.042906479855003274
          ],
          [
           "Financeiro",
           "Exploração de Imóveis",
           "Exploração de Imóveis",
           -0.0197147902749091
          ],
          [
           "Financeiro",
           "Exploração de Imóveis",
           "Exploração de Imóveis",
           -0.05529360024726972
          ]
         ],
         "hovertemplate": "<b>%{hovertext}</b><br><br>Sector=%{customdata[0]}<br>Segment=%{customdata[2]}<br>Risk=%{x}<br>Return=%{y}<br>Sub-Sector=%{customdata[1]}<br>Sharpe=%{customdata[3]}<extra></extra>",
         "hovertext": [
          "ALSO3.SA",
          "BRML3.SA",
          "BRPR3.SA",
          "IGTI3.SA",
          "LOGG3.SA",
          "MULT3.SA",
          "SYNE3.SA"
         ],
         "legendgroup": "Financeiro, Exploração de Imóveis",
         "marker": {
          "color": "#FECB52",
          "symbol": "circle"
         },
         "mode": "markers",
         "name": "Financeiro, Exploração de Imóveis",
         "orientation": "v",
         "showlegend": true,
         "type": "scatter",
         "x": [
          0.04880924746810816,
          0.045971409295804205,
          0.034679167653411655,
          0.044238688730408426,
          0.045172609706439416,
          0.04458802597044959,
          0.04093778659072929
         ],
         "xaxis": "x",
         "y": [
          -0.0013526594784759548,
          -0.0015479345452570111,
          -0.0012405320713830225,
          -0.0010299188029956406,
          0.0019381976683672682,
          -0.0008790435807796139,
          -0.002263597606755824
         ],
         "yaxis": "y"
        },
        {
         "customdata": [
          [
           "Financeiro",
           "Exploração de Imóveis",
           "Intermediação Imobiliária",
           -0.015017348044318125
          ],
          [
           "Financeiro",
           "Exploração de Imóveis",
           "Intermediação Imobiliária",
           -0.008863444281617852
          ]
         ],
         "hovertemplate": "<b>%{hovertext}</b><br><br>Sector=%{customdata[0]}<br>Segment=%{customdata[2]}<br>Risk=%{x}<br>Return=%{y}<br>Sub-Sector=%{customdata[1]}<br>Sharpe=%{customdata[3]}<extra></extra>",
         "hovertext": [
          "BBRK3.SA",
          "LPSB3.SA"
         ],
         "legendgroup": "Financeiro, Intermediação Imobiliária",
         "marker": {
          "color": "#FECB52",
          "symbol": "diamond"
         },
         "mode": "markers",
         "name": "Financeiro, Intermediação Imobiliária",
         "orientation": "v",
         "showlegend": true,
         "type": "scatter",
         "x": [
          0.06069625383745109,
          0.060892469375879686
         ],
         "xaxis": "x",
         "y": [
          -0.0009114967688632826,
          -0.000539717009483231
         ],
         "yaxis": "y"
        },
        {
         "customdata": [
          [
           "Outros",
           "Outros",
           "Outros",
           -0.0006228349792683522
          ],
          [
           "Outros",
           "Outros",
           "Outros",
           0.025912574583913113
          ]
         ],
         "hovertemplate": "<b>%{hovertext}</b><br><br>Sector=%{customdata[0]}<br>Segment=%{customdata[2]}<br>Risk=%{x}<br>Return=%{y}<br>Sub-Sector=%{customdata[1]}<br>Sharpe=%{customdata[3]}<extra></extra>",
         "hovertext": [
          "BLUT4.SA",
          "BLUT3.SA"
         ],
         "legendgroup": "Outros, Outros",
         "marker": {
          "color": "#636efa",
          "symbol": "square"
         },
         "mode": "markers",
         "name": "Outros, Outros",
         "orientation": "v",
         "showlegend": true,
         "type": "scatter",
         "x": [
          0.06867812293204975,
          0.09816125881143649
         ],
         "xaxis": "x",
         "y": [
          -0.00004277513727257255,
          0.002543610940202146
         ],
         "yaxis": "y"
        }
       ],
       "layout": {
        "legend": {
         "title": {
          "text": "Sector, Segment"
         },
         "tracegroupgap": 0
        },
        "margin": {
         "t": 60
        },
        "template": {
         "data": {
          "bar": [
           {
            "error_x": {
             "color": "#2a3f5f"
            },
            "error_y": {
             "color": "#2a3f5f"
            },
            "marker": {
             "line": {
              "color": "#E5ECF6",
              "width": 0.5
             },
             "pattern": {
              "fillmode": "overlay",
              "size": 10,
              "solidity": 0.2
             }
            },
            "type": "bar"
           }
          ],
          "barpolar": [
           {
            "marker": {
             "line": {
              "color": "#E5ECF6",
              "width": 0.5
             },
             "pattern": {
              "fillmode": "overlay",
              "size": 10,
              "solidity": 0.2
             }
            },
            "type": "barpolar"
           }
          ],
          "carpet": [
           {
            "aaxis": {
             "endlinecolor": "#2a3f5f",
             "gridcolor": "white",
             "linecolor": "white",
             "minorgridcolor": "white",
             "startlinecolor": "#2a3f5f"
            },
            "baxis": {
             "endlinecolor": "#2a3f5f",
             "gridcolor": "white",
             "linecolor": "white",
             "minorgridcolor": "white",
             "startlinecolor": "#2a3f5f"
            },
            "type": "carpet"
           }
          ],
          "choropleth": [
           {
            "colorbar": {
             "outlinewidth": 0,
             "ticks": ""
            },
            "type": "choropleth"
           }
          ],
          "contour": [
           {
            "colorbar": {
             "outlinewidth": 0,
             "ticks": ""
            },
            "colorscale": [
             [
              0,
              "#0d0887"
             ],
             [
              0.1111111111111111,
              "#46039f"
             ],
             [
              0.2222222222222222,
              "#7201a8"
             ],
             [
              0.3333333333333333,
              "#9c179e"
             ],
             [
              0.4444444444444444,
              "#bd3786"
             ],
             [
              0.5555555555555556,
              "#d8576b"
             ],
             [
              0.6666666666666666,
              "#ed7953"
             ],
             [
              0.7777777777777778,
              "#fb9f3a"
             ],
             [
              0.8888888888888888,
              "#fdca26"
             ],
             [
              1,
              "#f0f921"
             ]
            ],
            "type": "contour"
           }
          ],
          "contourcarpet": [
           {
            "colorbar": {
             "outlinewidth": 0,
             "ticks": ""
            },
            "type": "contourcarpet"
           }
          ],
          "heatmap": [
           {
            "colorbar": {
             "outlinewidth": 0,
             "ticks": ""
            },
            "colorscale": [
             [
              0,
              "#0d0887"
             ],
             [
              0.1111111111111111,
              "#46039f"
             ],
             [
              0.2222222222222222,
              "#7201a8"
             ],
             [
              0.3333333333333333,
              "#9c179e"
             ],
             [
              0.4444444444444444,
              "#bd3786"
             ],
             [
              0.5555555555555556,
              "#d8576b"
             ],
             [
              0.6666666666666666,
              "#ed7953"
             ],
             [
              0.7777777777777778,
              "#fb9f3a"
             ],
             [
              0.8888888888888888,
              "#fdca26"
             ],
             [
              1,
              "#f0f921"
             ]
            ],
            "type": "heatmap"
           }
          ],
          "heatmapgl": [
           {
            "colorbar": {
             "outlinewidth": 0,
             "ticks": ""
            },
            "colorscale": [
             [
              0,
              "#0d0887"
             ],
             [
              0.1111111111111111,
              "#46039f"
             ],
             [
              0.2222222222222222,
              "#7201a8"
             ],
             [
              0.3333333333333333,
              "#9c179e"
             ],
             [
              0.4444444444444444,
              "#bd3786"
             ],
             [
              0.5555555555555556,
              "#d8576b"
             ],
             [
              0.6666666666666666,
              "#ed7953"
             ],
             [
              0.7777777777777778,
              "#fb9f3a"
             ],
             [
              0.8888888888888888,
              "#fdca26"
             ],
             [
              1,
              "#f0f921"
             ]
            ],
            "type": "heatmapgl"
           }
          ],
          "histogram": [
           {
            "marker": {
             "pattern": {
              "fillmode": "overlay",
              "size": 10,
              "solidity": 0.2
             }
            },
            "type": "histogram"
           }
          ],
          "histogram2d": [
           {
            "colorbar": {
             "outlinewidth": 0,
             "ticks": ""
            },
            "colorscale": [
             [
              0,
              "#0d0887"
             ],
             [
              0.1111111111111111,
              "#46039f"
             ],
             [
              0.2222222222222222,
              "#7201a8"
             ],
             [
              0.3333333333333333,
              "#9c179e"
             ],
             [
              0.4444444444444444,
              "#bd3786"
             ],
             [
              0.5555555555555556,
              "#d8576b"
             ],
             [
              0.6666666666666666,
              "#ed7953"
             ],
             [
              0.7777777777777778,
              "#fb9f3a"
             ],
             [
              0.8888888888888888,
              "#fdca26"
             ],
             [
              1,
              "#f0f921"
             ]
            ],
            "type": "histogram2d"
           }
          ],
          "histogram2dcontour": [
           {
            "colorbar": {
             "outlinewidth": 0,
             "ticks": ""
            },
            "colorscale": [
             [
              0,
              "#0d0887"
             ],
             [
              0.1111111111111111,
              "#46039f"
             ],
             [
              0.2222222222222222,
              "#7201a8"
             ],
             [
              0.3333333333333333,
              "#9c179e"
             ],
             [
              0.4444444444444444,
              "#bd3786"
             ],
             [
              0.5555555555555556,
              "#d8576b"
             ],
             [
              0.6666666666666666,
              "#ed7953"
             ],
             [
              0.7777777777777778,
              "#fb9f3a"
             ],
             [
              0.8888888888888888,
              "#fdca26"
             ],
             [
              1,
              "#f0f921"
             ]
            ],
            "type": "histogram2dcontour"
           }
          ],
          "mesh3d": [
           {
            "colorbar": {
             "outlinewidth": 0,
             "ticks": ""
            },
            "type": "mesh3d"
           }
          ],
          "parcoords": [
           {
            "line": {
             "colorbar": {
              "outlinewidth": 0,
              "ticks": ""
             }
            },
            "type": "parcoords"
           }
          ],
          "pie": [
           {
            "automargin": true,
            "type": "pie"
           }
          ],
          "scatter": [
           {
            "marker": {
             "colorbar": {
              "outlinewidth": 0,
              "ticks": ""
             }
            },
            "type": "scatter"
           }
          ],
          "scatter3d": [
           {
            "line": {
             "colorbar": {
              "outlinewidth": 0,
              "ticks": ""
             }
            },
            "marker": {
             "colorbar": {
              "outlinewidth": 0,
              "ticks": ""
             }
            },
            "type": "scatter3d"
           }
          ],
          "scattercarpet": [
           {
            "marker": {
             "colorbar": {
              "outlinewidth": 0,
              "ticks": ""
             }
            },
            "type": "scattercarpet"
           }
          ],
          "scattergeo": [
           {
            "marker": {
             "colorbar": {
              "outlinewidth": 0,
              "ticks": ""
             }
            },
            "type": "scattergeo"
           }
          ],
          "scattergl": [
           {
            "marker": {
             "colorbar": {
              "outlinewidth": 0,
              "ticks": ""
             }
            },
            "type": "scattergl"
           }
          ],
          "scattermapbox": [
           {
            "marker": {
             "colorbar": {
              "outlinewidth": 0,
              "ticks": ""
             }
            },
            "type": "scattermapbox"
           }
          ],
          "scatterpolar": [
           {
            "marker": {
             "colorbar": {
              "outlinewidth": 0,
              "ticks": ""
             }
            },
            "type": "scatterpolar"
           }
          ],
          "scatterpolargl": [
           {
            "marker": {
             "colorbar": {
              "outlinewidth": 0,
              "ticks": ""
             }
            },
            "type": "scatterpolargl"
           }
          ],
          "scatterternary": [
           {
            "marker": {
             "colorbar": {
              "outlinewidth": 0,
              "ticks": ""
             }
            },
            "type": "scatterternary"
           }
          ],
          "surface": [
           {
            "colorbar": {
             "outlinewidth": 0,
             "ticks": ""
            },
            "colorscale": [
             [
              0,
              "#0d0887"
             ],
             [
              0.1111111111111111,
              "#46039f"
             ],
             [
              0.2222222222222222,
              "#7201a8"
             ],
             [
              0.3333333333333333,
              "#9c179e"
             ],
             [
              0.4444444444444444,
              "#bd3786"
             ],
             [
              0.5555555555555556,
              "#d8576b"
             ],
             [
              0.6666666666666666,
              "#ed7953"
             ],
             [
              0.7777777777777778,
              "#fb9f3a"
             ],
             [
              0.8888888888888888,
              "#fdca26"
             ],
             [
              1,
              "#f0f921"
             ]
            ],
            "type": "surface"
           }
          ],
          "table": [
           {
            "cells": {
             "fill": {
              "color": "#EBF0F8"
             },
             "line": {
              "color": "white"
             }
            },
            "header": {
             "fill": {
              "color": "#C8D4E3"
             },
             "line": {
              "color": "white"
             }
            },
            "type": "table"
           }
          ]
         },
         "layout": {
          "annotationdefaults": {
           "arrowcolor": "#2a3f5f",
           "arrowhead": 0,
           "arrowwidth": 1
          },
          "autotypenumbers": "strict",
          "coloraxis": {
           "colorbar": {
            "outlinewidth": 0,
            "ticks": ""
           }
          },
          "colorscale": {
           "diverging": [
            [
             0,
             "#8e0152"
            ],
            [
             0.1,
             "#c51b7d"
            ],
            [
             0.2,
             "#de77ae"
            ],
            [
             0.3,
             "#f1b6da"
            ],
            [
             0.4,
             "#fde0ef"
            ],
            [
             0.5,
             "#f7f7f7"
            ],
            [
             0.6,
             "#e6f5d0"
            ],
            [
             0.7,
             "#b8e186"
            ],
            [
             0.8,
             "#7fbc41"
            ],
            [
             0.9,
             "#4d9221"
            ],
            [
             1,
             "#276419"
            ]
           ],
           "sequential": [
            [
             0,
             "#0d0887"
            ],
            [
             0.1111111111111111,
             "#46039f"
            ],
            [
             0.2222222222222222,
             "#7201a8"
            ],
            [
             0.3333333333333333,
             "#9c179e"
            ],
            [
             0.4444444444444444,
             "#bd3786"
            ],
            [
             0.5555555555555556,
             "#d8576b"
            ],
            [
             0.6666666666666666,
             "#ed7953"
            ],
            [
             0.7777777777777778,
             "#fb9f3a"
            ],
            [
             0.8888888888888888,
             "#fdca26"
            ],
            [
             1,
             "#f0f921"
            ]
           ],
           "sequentialminus": [
            [
             0,
             "#0d0887"
            ],
            [
             0.1111111111111111,
             "#46039f"
            ],
            [
             0.2222222222222222,
             "#7201a8"
            ],
            [
             0.3333333333333333,
             "#9c179e"
            ],
            [
             0.4444444444444444,
             "#bd3786"
            ],
            [
             0.5555555555555556,
             "#d8576b"
            ],
            [
             0.6666666666666666,
             "#ed7953"
            ],
            [
             0.7777777777777778,
             "#fb9f3a"
            ],
            [
             0.8888888888888888,
             "#fdca26"
            ],
            [
             1,
             "#f0f921"
            ]
           ]
          },
          "colorway": [
           "#636efa",
           "#EF553B",
           "#00cc96",
           "#ab63fa",
           "#FFA15A",
           "#19d3f3",
           "#FF6692",
           "#B6E880",
           "#FF97FF",
           "#FECB52"
          ],
          "font": {
           "color": "#2a3f5f"
          },
          "geo": {
           "bgcolor": "white",
           "lakecolor": "white",
           "landcolor": "#E5ECF6",
           "showlakes": true,
           "showland": true,
           "subunitcolor": "white"
          },
          "hoverlabel": {
           "align": "left"
          },
          "hovermode": "closest",
          "mapbox": {
           "style": "light"
          },
          "paper_bgcolor": "white",
          "plot_bgcolor": "#E5ECF6",
          "polar": {
           "angularaxis": {
            "gridcolor": "white",
            "linecolor": "white",
            "ticks": ""
           },
           "bgcolor": "#E5ECF6",
           "radialaxis": {
            "gridcolor": "white",
            "linecolor": "white",
            "ticks": ""
           }
          },
          "scene": {
           "xaxis": {
            "backgroundcolor": "#E5ECF6",
            "gridcolor": "white",
            "gridwidth": 2,
            "linecolor": "white",
            "showbackground": true,
            "ticks": "",
            "zerolinecolor": "white"
           },
           "yaxis": {
            "backgroundcolor": "#E5ECF6",
            "gridcolor": "white",
            "gridwidth": 2,
            "linecolor": "white",
            "showbackground": true,
            "ticks": "",
            "zerolinecolor": "white"
           },
           "zaxis": {
            "backgroundcolor": "#E5ECF6",
            "gridcolor": "white",
            "gridwidth": 2,
            "linecolor": "white",
            "showbackground": true,
            "ticks": "",
            "zerolinecolor": "white"
           }
          },
          "shapedefaults": {
           "line": {
            "color": "#2a3f5f"
           }
          },
          "ternary": {
           "aaxis": {
            "gridcolor": "white",
            "linecolor": "white",
            "ticks": ""
           },
           "baxis": {
            "gridcolor": "white",
            "linecolor": "white",
            "ticks": ""
           },
           "bgcolor": "#E5ECF6",
           "caxis": {
            "gridcolor": "white",
            "linecolor": "white",
            "ticks": ""
           }
          },
          "title": {
           "x": 0.05
          },
          "xaxis": {
           "automargin": true,
           "gridcolor": "white",
           "linecolor": "white",
           "ticks": "",
           "title": {
            "standoff": 15
           },
           "zerolinecolor": "white",
           "zerolinewidth": 2
          },
          "yaxis": {
           "automargin": true,
           "gridcolor": "white",
           "linecolor": "white",
           "ticks": "",
           "title": {
            "standoff": 15
           },
           "zerolinecolor": "white",
           "zerolinewidth": 2
          }
         }
        },
        "xaxis": {
         "anchor": "y",
         "domain": [
          0,
          1
         ],
         "title": {
          "text": "Risk"
         }
        },
        "yaxis": {
         "anchor": "x",
         "domain": [
          0,
          1
         ],
         "title": {
          "text": "Return"
         }
        }
       }
      }
     },
     "metadata": {},
     "output_type": "display_data"
    }
   ],
   "source": [
    "px.scatter(\n",
    "    df, \n",
    "    x='Risk', \n",
    "    y='Return', \n",
    "    color='Sector', \n",
    "    symbol='Segment', \n",
    "    hover_name='Stock', \n",
    "    hover_data=['Sector', 'Sub-Sector', 'Segment', 'Sharpe'],\n",
    ")"
   ]
  },
  {
   "cell_type": "code",
   "execution_count": 69,
   "metadata": {},
   "outputs": [
    {
     "data": {
      "image/png": "[encoded data removed]",
      "text/plain": [
       "<Figure size 432x288 with 1 Axes>"
      ]
     },
     "metadata": {
      "needs_background": "light"
     },
     "output_type": "display_data"
    }
   ],
   "source": [
    "#### Detecção de outliers no eixo do Risco\n",
    "\n",
    "ax = sns.boxplot(data=df[['Risk', 'Return']], orient='h', palette='Set2')\n",
    "\n",
    "ax.set_xlabel('Risk', fontsize=16, labelpad=20)\n",
    "ax.set_ylabel('Variables', fontsize=16, labelpad=20)\n",
    "\n",
    "ax.set_title('Outliers detection: Risk and Return', fontsize=20)\n",
    "ax.tick_params(which='both', labelsize=16)"
   ]
  },
  {
   "cell_type": "code",
   "execution_count": 70,
   "id": "e948199f",
   "metadata": {},
   "outputs": [
    {
     "data": {
      "application/vnd.plotly.v1+json": {
       "config": {
        "plotlyServerURL": "https://plot.ly"
       },
       "data": [
        {
         "alignmentgroup": "True",
         "hovertemplate": "<b>%{hovertext}</b><br><br>Sector=Petróleo, Gás e Biocombustíveis<br>Risk=%{y}<extra></extra>",
         "hovertext": [
          "CSAN3.SA",
          "DMMO3.SA",
          "ENAT3.SA",
          "PETR4.SA",
          "PETR3.SA",
          "PRIO3.SA",
          "UGPA3.SA",
          "VBBR3.SA",
          "LUPA3.SA"
         ],
         "legendgroup": "Petróleo, Gás e Biocombustíveis",
         "marker": {
          "color": "#636efa"
         },
         "name": "Petróleo, Gás e Biocombustíveis",
         "notched": false,
         "offsetgroup": "Petróleo, Gás e Biocombustíveis",
         "orientation": "v",
         "showlegend": true,
         "type": "box",
         "x0": " ",
         "xaxis": "x",
         "y": [
          0.03702384155242135,
          0.08216538521622488,
          0.045185075001078344,
          0.04507120221660047,
          0.047583502665157346,
          0.07157835600953434,
          0.04765505455929822,
          0.03929834650160835,
          0.05770381640030215
         ],
         "y0": " ",
         "yaxis": "y"
        },
        {
         "alignmentgroup": "True",
         "hovertemplate": "<b>%{hovertext}</b><br><br>Sector=Materiais Básicos<br>Risk=%{y}<extra></extra>",
         "hovertext": [
          "BRAP4.SA",
          "MMXM3.SA",
          "VALE3.SA",
          "FESA4.SA",
          "GGBR4.SA",
          "GOAU4.SA",
          "CSNA3.SA",
          "USIM3.SA",
          "PMAM3.SA",
          "DEXP3.SA",
          "FHER3.SA",
          "DXCO3.SA",
          "KLBN4.SA",
          "KLBN3.SA",
          "SUZB3.SA",
          "RANI3.SA"
         ],
         "legendgroup": "Materiais Básicos",
         "marker": {
          "color": "#EF553B"
         },
         "name": "Materiais Básicos",
         "notched": false,
         "offsetgroup": "Materiais Básicos",
         "orientation": "v",
         "showlegend": true,
         "type": "box",
         "x0": " ",
         "xaxis": "x",
         "y": [
          0.034163204705527236,
          0.21616545854805835,
          0.03585062279286457,
          0.03290960076855792,
          0.04274822917454212,
          0.04320062074242772,
          0.05089290336978668,
          0.04242612690615111,
          0.04967754618740381,
          0.0610776115790789,
          0.05406819061815176,
          0.045332182916830256,
          0.031361487313701364,
          0.03040922946599431,
          0.03605751341719104,
          0.05335053192535554
         ],
         "y0": " ",
         "yaxis": "y"
        },
        {
         "alignmentgroup": "True",
         "hovertemplate": "<b>%{hovertext}</b><br><br>Sector=Bens Industriais<br>Risk=%{y}<extra></extra>",
         "hovertext": [
          "ETER3.SA",
          "PTBL3.SA",
          "AZEV4.SA",
          "EMBR3.SA",
          "POMO4.SA",
          "POMO3.SA",
          "RAPT4.SA",
          "RCSL4.SA",
          "RCSL3.SA",
          "TUPY3.SA",
          "SHUL4.SA",
          "WEGE3.SA",
          "ROMI3.SA",
          "INEP4.SA",
          "INEP3.SA",
          "MILS3.SA",
          "TASA4.SA",
          "AZUL4.SA",
          "GOLL4.SA",
          "RAIL3.SA",
          "LOGN3.SA",
          "TGMA3.SA",
          "CCRO3.SA",
          "ECOR3.SA",
          "TPIS3.SA",
          "STBP3.SA",
          "PRNR3.SA",
          "VLID3.SA"
         ],
         "legendgroup": "Bens Industriais",
         "marker": {
          "color": "#00cc96"
         },
         "name": "Bens Industriais",
         "notched": false,
         "offsetgroup": "Bens Industriais",
         "orientation": "v",
         "showlegend": true,
         "type": "box",
         "x0": " ",
         "xaxis": "x",
         "y": [
          0.0623596083376314,
          0.05294712270872207,
          0.062360080824489884,
          0.05148675489045457,
          0.043042788621009694,
          0.03981211786609629,
          0.04723440657787563,
          0.05585853718029785,
          0.0740159514885843,
          0.03677580167047455,
          0.0365051310479602,
          0.037025696940259825,
          0.04771266905189478,
          0.06985083947732,
          0.0696219718045656,
          0.0498700092156992,
          0.05749510820281358,
          0.0737579939440047,
          0.07351928725105489,
          0.03864437790992622,
          0.05434851027945224,
          0.045291143487570136,
          0.04301635619065484,
          0.04585569986948008,
          0.05641842165990777,
          0.046409360201174206,
          0.0390814907116863,
          0.04841009236586221
         ],
         "y0": " ",
         "yaxis": "y"
        },
        {
         "alignmentgroup": "True",
         "hovertemplate": "<b>%{hovertext}</b><br><br>Sector=Consumo não Cíclico<br>Risk=%{y}<extra></extra>",
         "hovertext": [
          "AGRO3.SA",
          "SLCE3.SA",
          "SMTO3.SA",
          "BRFS3.SA",
          "JBSS3.SA",
          "MRFG3.SA",
          "BEEF3.SA",
          "CAML3.SA",
          "MDIA3.SA",
          "ABEV3.SA",
          "NTCO3.SA",
          "BOBR4.SA",
          "CRFB3.SA",
          "PCAR3.SA"
         ],
         "legendgroup": "Consumo não Cíclico",
         "marker": {
          "color": "#ab63fa"
         },
         "name": "Consumo não Cíclico",
         "notched": false,
         "offsetgroup": "Consumo não Cíclico",
         "orientation": "v",
         "showlegend": true,
         "type": "box",
         "x0": " ",
         "xaxis": "x",
         "y": [
          0.02498067927774396,
          0.026620993327885298,
          0.04409071536597481,
          0.040385257750638254,
          0.03942771355982924,
          0.044369372552992024,
          0.037299462119325846,
          0.024794449379984804,
          0.03235728695926721,
          0.03034077082404009,
          0.04420303826190568,
          0.0333253716210897,
          0.026079328648543246,
          0.06596367526187963
         ],
         "y0": " ",
         "yaxis": "y"
        },
        {
         "alignmentgroup": "True",
         "hovertemplate": "<b>%{hovertext}</b><br><br>Sector=Consumo Cíclico<br>Risk=%{y}<extra></extra>",
         "hovertext": [
          "CYRE3.SA",
          "DIRR3.SA",
          "EVEN3.SA",
          "EZTC3.SA",
          "GFSA3.SA",
          "HBOR3.SA",
          "JHSF3.SA",
          "MTRE3.SA",
          "MDNE3.SA",
          "MRVE3.SA",
          "TCSA3.SA",
          "TEND3.SA",
          "TRIS3.SA",
          "VIVR3.SA",
          "ALPA4.SA",
          "GRND3.SA",
          "VULC3.SA",
          "TECN3.SA",
          "VIVA3.SA",
          "BKBR3.SA",
          "MEAL3.SA",
          "SHOW3.SA",
          "CVCB3.SA",
          "ANIM3.SA",
          "COGN3.SA",
          "SEER3.SA",
          "YDUQ3.SA",
          "RENT3.SA",
          "LCAM3.SA",
          "MOVI3.SA",
          "ARZZ3.SA",
          "CEAB3.SA",
          "GUAR3.SA",
          "LLIS3.SA",
          "AMAR3.SA",
          "LREN3.SA",
          "MGLU3.SA",
          "VIIA3.SA",
          "AMER3.SA",
          "SBFG3.SA"
         ],
         "legendgroup": "Consumo Cíclico",
         "marker": {
          "color": "#FFA15A"
         },
         "name": "Consumo Cíclico",
         "notched": false,
         "offsetgroup": "Consumo Cíclico",
         "orientation": "v",
         "showlegend": true,
         "type": "box",
         "x0": " ",
         "xaxis": "x",
         "y": [
          0.05231784131897745,
          0.04137968247896041,
          0.05491866177014766,
          0.0497859782815438,
          0.05343731166247655,
          0.06559599018743142,
          0.048364970464024576,
          0.04592531046990905,
          0.059451923707964954,
          0.043269839485415656,
          0.04902430556793946,
          0.040863350143304264,
          0.053359403780353934,
          0.05871633075906232,
          0.04294645760655217,
          0.02988109181660806,
          0.0392980312136149,
          0.04583854572529889,
          0.05655789590881431,
          0.04961048539023765,
          0.05795199631523385,
          0.05744457173542035,
          0.07092433009464019,
          0.044054168649724744,
          0.05392441249531503,
          0.0441404802783264,
          0.05076338431953548,
          0.05010117108214064,
          0.05314736286127547,
          0.04784916642502729,
          0.03975619219925577,
          0.05535380915986368,
          0.05279919229047281,
          0.06177993878881272,
          0.06459363721205745,
          0.04274935900929507,
          0.04583345172455784,
          0.059336436685306526,
          0.052102257925603884,
          0.053601841071721494
         ],
         "y0": " ",
         "yaxis": "y"
        },
        {
         "alignmentgroup": "True",
         "hovertemplate": "<b>%{hovertext}</b><br><br>Sector=Saúde<br>Risk=%{y}<extra></extra>",
         "hovertext": [
          "AALR3.SA",
          "FLRY3.SA",
          "HAPV3.SA",
          "PARD3.SA",
          "ODPV3.SA",
          "QUAL3.SA",
          "PNVL3.SA",
          "HYPE3.SA",
          "PFRM3.SA",
          "RADL3.SA"
         ],
         "legendgroup": "Saúde",
         "marker": {
          "color": "#19d3f3"
         },
         "name": "Saúde",
         "notched": false,
         "offsetgroup": "Saúde",
         "orientation": "v",
         "showlegend": true,
         "type": "box",
         "x0": " ",
         "xaxis": "x",
         "y": [
          0.04448317267121043,
          0.029864041684932105,
          0.040147461715389715,
          0.03853868958938353,
          0.027929887567475848,
          0.03785711026905224,
          0.035515016476608485,
          0.033610621412212716,
          6.7900937187797314,
          0.026304223113332845
         ],
         "y0": " ",
         "yaxis": "y"
        },
        {
         "alignmentgroup": "True",
         "hovertemplate": "<b>%{hovertext}</b><br><br>Sector=Tecnologia da Informação<br>Risk=%{y}<extra></extra>",
         "hovertext": [
          "POSI3.SA",
          "LWSA3.SA",
          "SQIA3.SA",
          "TOTS3.SA"
         ],
         "legendgroup": "Tecnologia da Informação",
         "marker": {
          "color": "#FF6692"
         },
         "name": "Tecnologia da Informação",
         "notched": false,
         "offsetgroup": "Tecnologia da Informação",
         "orientation": "v",
         "showlegend": true,
         "type": "box",
         "x0": " ",
         "xaxis": "x",
         "y": [
          0.06044431993098876,
          0.05028856415379359,
          0.04053695392401562,
          0.038855331942640944
         ],
         "y0": " ",
         "yaxis": "y"
        },
        {
         "alignmentgroup": "True",
         "hovertemplate": "<b>%{hovertext}</b><br><br>Sector=Comunicações<br>Risk=%{y}<extra></extra>",
         "hovertext": [
          "OIBR4.SA",
          "OIBR3.SA",
          "VIVT3.SA",
          "TIMS3.SA"
         ],
         "legendgroup": "Comunicações",
         "marker": {
          "color": "#B6E880"
         },
         "name": "Comunicações",
         "notched": false,
         "offsetgroup": "Comunicações",
         "orientation": "v",
         "showlegend": true,
         "type": "box",
         "x0": " ",
         "xaxis": "x",
         "y": [
          0.05408745197572187,
          0.05104751427568856,
          0.027136596118064116,
          0.031043317963803167
         ],
         "y0": " ",
         "yaxis": "y"
        },
        {
         "alignmentgroup": "True",
         "hovertemplate": "<b>%{hovertext}</b><br><br>Sector=Utilidade Pública<br>Risk=%{y}<extra></extra>",
         "hovertext": [
          "CMIG4.SA",
          "CMIG3.SA",
          "CPLE3.SA",
          "CPFE3.SA",
          "ELET3.SA",
          "ENBR3.SA",
          "ENEV3.SA",
          "EGIE3.SA",
          "EQTL3.SA",
          "LIGT3.SA",
          "NEOE3.SA",
          "TRPL4.SA",
          "CSMG3.SA",
          "SBSP3.SA",
          "SAPR4.SA",
          "SAPR3.SA"
         ],
         "legendgroup": "Utilidade Pública",
         "marker": {
          "color": "#FF97FF"
         },
         "name": "Utilidade Pública",
         "notched": false,
         "offsetgroup": "Utilidade Pública",
         "orientation": "v",
         "showlegend": true,
         "type": "box",
         "x0": " ",
         "xaxis": "x",
         "y": [
          0.03703832099795675,
          0.03903843059860456,
          0.03331304477875378,
          0.028484217121597374,
          0.04837335857554772,
          0.025948926615424264,
          0.03236887904344368,
          0.023534727810181136,
          0.02849716864232743,
          0.04915143144646496,
          0.031110309335248915,
          0.019449752671725083,
          0.03469782651448263,
          0.03891176985973473,
          0.033269928811440835,
          0.03815687998215625
         ],
         "y0": " ",
         "yaxis": "y"
        },
        {
         "alignmentgroup": "True",
         "hovertemplate": "<b>%{hovertext}</b><br><br>Sector=Financeiro<br>Risk=%{y}<extra></extra>",
         "hovertext": [
          "ABCB4.SA",
          "BMGB4.SA",
          "BPAN4.SA",
          "BBDC4.SA",
          "BBDC3.SA",
          "BBAS3.SA",
          "ITSA4.SA",
          "ITSA3.SA",
          "ITUB4.SA",
          "ITUB3.SA",
          "PINE4.SA",
          "B3SA3.SA",
          "CIEL3.SA",
          "CARD3.SA",
          "BBSE3.SA",
          "PSSA3.SA",
          "IRBR3.SA",
          "WIZS3.SA",
          "ALSO3.SA",
          "BRML3.SA",
          "BRPR3.SA",
          "IGTI3.SA",
          "LOGG3.SA",
          "MULT3.SA",
          "SYNE3.SA",
          "BBRK3.SA",
          "LPSB3.SA"
         ],
         "legendgroup": "Financeiro",
         "marker": {
          "color": "#FECB52"
         },
         "name": "Financeiro",
         "notched": false,
         "offsetgroup": "Financeiro",
         "orientation": "v",
         "showlegend": true,
         "type": "box",
         "x0": " ",
         "xaxis": "x",
         "y": [
          0.03210529871747044,
          0.038381483625535354,
          0.05782535658511135,
          0.03874234649209971,
          0.037127958221566164,
          0.04084187530793005,
          0.029202951005987143,
          0.02182895767685179,
          0.031894767119120745,
          0.028042347439394367,
          0.048659290950022645,
          0.03652467703707428,
          0.048963358103744296,
          0.0345874564496765,
          0.027181880060087392,
          0.025372408126999053,
          0.06810158298874912,
          0.04123351703867105,
          0.04880924746810816,
          0.045971409295804205,
          0.034679167653411655,
          0.044238688730408426,
          0.045172609706439416,
          0.04458802597044959,
          0.04093778659072929,
          0.06069625383745109,
          0.060892469375879686
         ],
         "y0": " ",
         "yaxis": "y"
        },
        {
         "alignmentgroup": "True",
         "hovertemplate": "<b>%{hovertext}</b><br><br>Sector=Outros<br>Risk=%{y}<extra></extra>",
         "hovertext": [
          "BLUT4.SA",
          "BLUT3.SA"
         ],
         "legendgroup": "Outros",
         "marker": {
          "color": "#636efa"
         },
         "name": "Outros",
         "notched": false,
         "offsetgroup": "Outros",
         "orientation": "v",
         "showlegend": true,
         "type": "box",
         "x0": " ",
         "xaxis": "x",
         "y": [
          0.06867812293204975,
          0.09816125881143649
         ],
         "y0": " ",
         "yaxis": "y"
        }
       ],
       "layout": {
        "boxmode": "group",
        "legend": {
         "title": {
          "text": "Sector"
         },
         "tracegroupgap": 0
        },
        "margin": {
         "t": 60
        },
        "template": {
         "data": {
          "bar": [
           {
            "error_x": {
             "color": "#2a3f5f"
            },
            "error_y": {
             "color": "#2a3f5f"
            },
            "marker": {
             "line": {
              "color": "#E5ECF6",
              "width": 0.5
             },
             "pattern": {
              "fillmode": "overlay",
              "size": 10,
              "solidity": 0.2
             }
            },
            "type": "bar"
           }
          ],
          "barpolar": [
           {
            "marker": {
             "line": {
              "color": "#E5ECF6",
              "width": 0.5
             },
             "pattern": {
              "fillmode": "overlay",
              "size": 10,
              "solidity": 0.2
             }
            },
            "type": "barpolar"
           }
          ],
          "carpet": [
           {
            "aaxis": {
             "endlinecolor": "#2a3f5f",
             "gridcolor": "white",
             "linecolor": "white",
             "minorgridcolor": "white",
             "startlinecolor": "#2a3f5f"
            },
            "baxis": {
             "endlinecolor": "#2a3f5f",
             "gridcolor": "white",
             "linecolor": "white",
             "minorgridcolor": "white",
             "startlinecolor": "#2a3f5f"
            },
            "type": "carpet"
           }
          ],
          "choropleth": [
           {
            "colorbar": {
             "outlinewidth": 0,
             "ticks": ""
            },
            "type": "choropleth"
           }
          ],
          "contour": [
           {
            "colorbar": {
             "outlinewidth": 0,
             "ticks": ""
            },
            "colorscale": [
             [
              0,
              "#0d0887"
             ],
             [
              0.1111111111111111,
              "#46039f"
             ],
             [
              0.2222222222222222,
              "#7201a8"
             ],
             [
              0.3333333333333333,
              "#9c179e"
             ],
             [
              0.4444444444444444,
              "#bd3786"
             ],
             [
              0.5555555555555556,
              "#d8576b"
             ],
             [
              0.6666666666666666,
              "#ed7953"
             ],
             [
              0.7777777777777778,
              "#fb9f3a"
             ],
             [
              0.8888888888888888,
              "#fdca26"
             ],
             [
              1,
              "#f0f921"
             ]
            ],
            "type": "contour"
           }
          ],
          "contourcarpet": [
           {
            "colorbar": {
             "outlinewidth": 0,
             "ticks": ""
            },
            "type": "contourcarpet"
           }
          ],
          "heatmap": [
           {
            "colorbar": {
             "outlinewidth": 0,
             "ticks": ""
            },
            "colorscale": [
             [
              0,
              "#0d0887"
             ],
             [
              0.1111111111111111,
              "#46039f"
             ],
             [
              0.2222222222222222,
              "#7201a8"
             ],
             [
              0.3333333333333333,
              "#9c179e"
             ],
             [
              0.4444444444444444,
              "#bd3786"
             ],
             [
              0.5555555555555556,
              "#d8576b"
             ],
             [
              0.6666666666666666,
              "#ed7953"
             ],
             [
              0.7777777777777778,
              "#fb9f3a"
             ],
             [
              0.8888888888888888,
              "#fdca26"
             ],
             [
              1,
              "#f0f921"
             ]
            ],
            "type": "heatmap"
           }
          ],
          "heatmapgl": [
           {
            "colorbar": {
             "outlinewidth": 0,
             "ticks": ""
            },
            "colorscale": [
             [
              0,
              "#0d0887"
             ],
             [
              0.1111111111111111,
              "#46039f"
             ],
             [
              0.2222222222222222,
              "#7201a8"
             ],
             [
              0.3333333333333333,
              "#9c179e"
             ],
             [
              0.4444444444444444,
              "#bd3786"
             ],
             [
              0.5555555555555556,
              "#d8576b"
             ],
             [
              0.6666666666666666,
              "#ed7953"
             ],
             [
              0.7777777777777778,
              "#fb9f3a"
             ],
             [
              0.8888888888888888,
              "#fdca26"
             ],
             [
              1,
              "#f0f921"
             ]
            ],
            "type": "heatmapgl"
           }
          ],
          "histogram": [
           {
            "marker": {
             "pattern": {
              "fillmode": "overlay",
              "size": 10,
              "solidity": 0.2
             }
            },
            "type": "histogram"
           }
          ],
          "histogram2d": [
           {
            "colorbar": {
             "outlinewidth": 0,
             "ticks": ""
            },
            "colorscale": [
             [
              0,
              "#0d0887"
             ],
             [
              0.1111111111111111,
              "#46039f"
             ],
             [
              0.2222222222222222,
              "#7201a8"
             ],
             [
              0.3333333333333333,
              "#9c179e"
             ],
             [
              0.4444444444444444,
              "#bd3786"
             ],
             [
              0.5555555555555556,
              "#d8576b"
             ],
             [
              0.6666666666666666,
              "#ed7953"
             ],
             [
              0.7777777777777778,
              "#fb9f3a"
             ],
             [
              0.8888888888888888,
              "#fdca26"
             ],
             [
              1,
              "#f0f921"
             ]
            ],
            "type": "histogram2d"
           }
          ],
          "histogram2dcontour": [
           {
            "colorbar": {
             "outlinewidth": 0,
             "ticks": ""
            },
            "colorscale": [
             [
              0,
              "#0d0887"
             ],
             [
              0.1111111111111111,
              "#46039f"
             ],
             [
              0.2222222222222222,
              "#7201a8"
             ],
             [
              0.3333333333333333,
              "#9c179e"
             ],
             [
              0.4444444444444444,
              "#bd3786"
             ],
             [
              0.5555555555555556,
              "#d8576b"
             ],
             [
              0.6666666666666666,
              "#ed7953"
             ],
             [
              0.7777777777777778,
              "#fb9f3a"
             ],
             [
              0.8888888888888888,
              "#fdca26"
             ],
             [
              1,
              "#f0f921"
             ]
            ],
            "type": "histogram2dcontour"
           }
          ],
          "mesh3d": [
           {
            "colorbar": {
             "outlinewidth": 0,
             "ticks": ""
            },
            "type": "mesh3d"
           }
          ],
          "parcoords": [
           {
            "line": {
             "colorbar": {
              "outlinewidth": 0,
              "ticks": ""
             }
            },
            "type": "parcoords"
           }
          ],
          "pie": [
           {
            "automargin": true,
            "type": "pie"
           }
          ],
          "scatter": [
           {
            "marker": {
             "colorbar": {
              "outlinewidth": 0,
              "ticks": ""
             }
            },
            "type": "scatter"
           }
          ],
          "scatter3d": [
           {
            "line": {
             "colorbar": {
              "outlinewidth": 0,
              "ticks": ""
             }
            },
            "marker": {
             "colorbar": {
              "outlinewidth": 0,
              "ticks": ""
             }
            },
            "type": "scatter3d"
           }
          ],
          "scattercarpet": [
           {
            "marker": {
             "colorbar": {
              "outlinewidth": 0,
              "ticks": ""
             }
            },
            "type": "scattercarpet"
           }
          ],
          "scattergeo": [
           {
            "marker": {
             "colorbar": {
              "outlinewidth": 0,
              "ticks": ""
             }
            },
            "type": "scattergeo"
           }
          ],
          "scattergl": [
           {
            "marker": {
             "colorbar": {
              "outlinewidth": 0,
              "ticks": ""
             }
            },
            "type": "scattergl"
           }
          ],
          "scattermapbox": [
           {
            "marker": {
             "colorbar": {
              "outlinewidth": 0,
              "ticks": ""
             }
            },
            "type": "scattermapbox"
           }
          ],
          "scatterpolar": [
           {
            "marker": {
             "colorbar": {
              "outlinewidth": 0,
              "ticks": ""
             }
            },
            "type": "scatterpolar"
           }
          ],
          "scatterpolargl": [
           {
            "marker": {
             "colorbar": {
              "outlinewidth": 0,
              "ticks": ""
             }
            },
            "type": "scatterpolargl"
           }
          ],
          "scatterternary": [
           {
            "marker": {
             "colorbar": {
              "outlinewidth": 0,
              "ticks": ""
             }
            },
            "type": "scatterternary"
           }
          ],
          "surface": [
           {
            "colorbar": {
             "outlinewidth": 0,
             "ticks": ""
            },
            "colorscale": [
             [
              0,
              "#0d0887"
             ],
             [
              0.1111111111111111,
              "#46039f"
             ],
             [
              0.2222222222222222,
              "#7201a8"
             ],
             [
              0.3333333333333333,
              "#9c179e"
             ],
             [
              0.4444444444444444,
              "#bd3786"
             ],
             [
              0.5555555555555556,
              "#d8576b"
             ],
             [
              0.6666666666666666,
              "#ed7953"
             ],
             [
              0.7777777777777778,
              "#fb9f3a"
             ],
             [
              0.8888888888888888,
              "#fdca26"
             ],
             [
              1,
              "#f0f921"
             ]
            ],
            "type": "surface"
           }
          ],
          "table": [
           {
            "cells": {
             "fill": {
              "color": "#EBF0F8"
             },
             "line": {
              "color": "white"
             }
            },
            "header": {
             "fill": {
              "color": "#C8D4E3"
             },
             "line": {
              "color": "white"
             }
            },
            "type": "table"
           }
          ]
         },
         "layout": {
          "annotationdefaults": {
           "arrowcolor": "#2a3f5f",
           "arrowhead": 0,
           "arrowwidth": 1
          },
          "autotypenumbers": "strict",
          "coloraxis": {
           "colorbar": {
            "outlinewidth": 0,
            "ticks": ""
           }
          },
          "colorscale": {
           "diverging": [
            [
             0,
             "#8e0152"
            ],
            [
             0.1,
             "#c51b7d"
            ],
            [
             0.2,
             "#de77ae"
            ],
            [
             0.3,
             "#f1b6da"
            ],
            [
             0.4,
             "#fde0ef"
            ],
            [
             0.5,
             "#f7f7f7"
            ],
            [
             0.6,
             "#e6f5d0"
            ],
            [
             0.7,
             "#b8e186"
            ],
            [
             0.8,
             "#7fbc41"
            ],
            [
             0.9,
             "#4d9221"
            ],
            [
             1,
             "#276419"
            ]
           ],
           "sequential": [
            [
             0,
             "#0d0887"
            ],
            [
             0.1111111111111111,
             "#46039f"
            ],
            [
             0.2222222222222222,
             "#7201a8"
            ],
            [
             0.3333333333333333,
             "#9c179e"
            ],
            [
             0.4444444444444444,
             "#bd3786"
            ],
            [
             0.5555555555555556,
             "#d8576b"
            ],
            [
             0.6666666666666666,
             "#ed7953"
            ],
            [
             0.7777777777777778,
             "#fb9f3a"
            ],
            [
             0.8888888888888888,
             "#fdca26"
            ],
            [
             1,
             "#f0f921"
            ]
           ],
           "sequentialminus": [
            [
             0,
             "#0d0887"
            ],
            [
             0.1111111111111111,
             "#46039f"
            ],
            [
             0.2222222222222222,
             "#7201a8"
            ],
            [
             0.3333333333333333,
             "#9c179e"
            ],
            [
             0.4444444444444444,
             "#bd3786"
            ],
            [
             0.5555555555555556,
             "#d8576b"
            ],
            [
             0.6666666666666666,
             "#ed7953"
            ],
            [
             0.7777777777777778,
             "#fb9f3a"
            ],
            [
             0.8888888888888888,
             "#fdca26"
            ],
            [
             1,
             "#f0f921"
            ]
           ]
          },
          "colorway": [
           "#636efa",
           "#EF553B",
           "#00cc96",
           "#ab63fa",
           "#FFA15A",
           "#19d3f3",
           "#FF6692",
           "#B6E880",
           "#FF97FF",
           "#FECB52"
          ],
          "font": {
           "color": "#2a3f5f"
          },
          "geo": {
           "bgcolor": "white",
           "lakecolor": "white",
           "landcolor": "#E5ECF6",
           "showlakes": true,
           "showland": true,
           "subunitcolor": "white"
          },
          "hoverlabel": {
           "align": "left"
          },
          "hovermode": "closest",
          "mapbox": {
           "style": "light"
          },
          "paper_bgcolor": "white",
          "plot_bgcolor": "#E5ECF6",
          "polar": {
           "angularaxis": {
            "gridcolor": "white",
            "linecolor": "white",
            "ticks": ""
           },
           "bgcolor": "#E5ECF6",
           "radialaxis": {
            "gridcolor": "white",
            "linecolor": "white",
            "ticks": ""
           }
          },
          "scene": {
           "xaxis": {
            "backgroundcolor": "#E5ECF6",
            "gridcolor": "white",
            "gridwidth": 2,
            "linecolor": "white",
            "showbackground": true,
            "ticks": "",
            "zerolinecolor": "white"
           },
           "yaxis": {
            "backgroundcolor": "#E5ECF6",
            "gridcolor": "white",
            "gridwidth": 2,
            "linecolor": "white",
            "showbackground": true,
            "ticks": "",
            "zerolinecolor": "white"
           },
           "zaxis": {
            "backgroundcolor": "#E5ECF6",
            "gridcolor": "white",
            "gridwidth": 2,
            "linecolor": "white",
            "showbackground": true,
            "ticks": "",
            "zerolinecolor": "white"
           }
          },
          "shapedefaults": {
           "line": {
            "color": "#2a3f5f"
           }
          },
          "ternary": {
           "aaxis": {
            "gridcolor": "white",
            "linecolor": "white",
            "ticks": ""
           },
           "baxis": {
            "gridcolor": "white",
            "linecolor": "white",
            "ticks": ""
           },
           "bgcolor": "#E5ECF6",
           "caxis": {
            "gridcolor": "white",
            "linecolor": "white",
            "ticks": ""
           }
          },
          "title": {
           "x": 0.05
          },
          "xaxis": {
           "automargin": true,
           "gridcolor": "white",
           "linecolor": "white",
           "ticks": "",
           "title": {
            "standoff": 15
           },
           "zerolinecolor": "white",
           "zerolinewidth": 2
          },
          "yaxis": {
           "automargin": true,
           "gridcolor": "white",
           "linecolor": "white",
           "ticks": "",
           "title": {
            "standoff": 15
           },
           "zerolinecolor": "white",
           "zerolinewidth": 2
          }
         }
        },
        "xaxis": {
         "anchor": "y",
         "domain": [
          0,
          1
         ]
        },
        "yaxis": {
         "anchor": "x",
         "domain": [
          0,
          1
         ],
         "title": {
          "text": "Risk"
         }
        }
       }
      }
     },
     "metadata": {},
     "output_type": "display_data"
    }
   ],
   "source": [
    "#### Detecção de outliers no eixo do Risco, por Setor\n",
    "\n",
    "px.box(df, y=\"Risk\", color=\"Sector\", hover_name='Stock')"
   ]
  },
  {
   "cell_type": "code",
   "execution_count": 127,
   "id": "05438498",
   "metadata": {},
   "outputs": [
    {
     "name": "stderr",
     "output_type": "stream",
     "text": [
      "/home/durval/faculdade/2022-01/sinais-financeiros/playground/env/lib/python3.8/site-packages/sklearn/base.py:450: UserWarning:\n",
      "\n",
      "X does not have valid feature names, but IsolationForest was fitted with feature names\n",
      "\n"
     ]
    },
    {
     "data": {
      "application/vnd.plotly.v1+json": {
       "config": {
        "plotlyServerURL": "https://plot.ly"
       },
       "data": [
        {
         "customdata": [
          [
           "Petróleo, Gás e Biocombustíveis",
           "Petróleo, Gás e Biocombustíveis",
           "Exploração, Refino e Distribuição",
           0.026944010738385735
          ],
          [
           "Petróleo, Gás e Biocombustíveis",
           "Petróleo, Gás e Biocombustíveis",
           "Exploração, Refino e Distribuição",
           0.015518067220942481
          ],
          [
           "Petróleo, Gás e Biocombustíveis",
           "Petróleo, Gás e Biocombustíveis",
           "Exploração, Refino e Distribuição",
           0.00904263481845172
          ],
          [
           "Petróleo, Gás e Biocombustíveis",
           "Petróleo, Gás e Biocombustíveis",
           "Exploração, Refino e Distribuição",
           0.02983714204681072
          ],
          [
           "Petróleo, Gás e Biocombustíveis",
           "Petróleo, Gás e Biocombustíveis",
           "Exploração, Refino e Distribuição",
           0.0267053875585673
          ],
          [
           "Petróleo, Gás e Biocombustíveis",
           "Petróleo, Gás e Biocombustíveis",
           "Exploração, Refino e Distribuição",
           0.0697869213544802
          ],
          [
           "Petróleo, Gás e Biocombustíveis",
           "Petróleo, Gás e Biocombustíveis",
           "Exploração, Refino e Distribuição",
           0.03666119957614546
          ],
          [
           "Petróleo, Gás e Biocombustíveis",
           "Petróleo, Gás e Biocombustíveis",
           "Exploração, Refino e Distribuição",
           -0.004412481964221444
          ],
          [
           "Petróleo, Gás e Biocombustíveis",
           "Petróleo, Gás e Biocombustíveis",
           "Equipamentos e Serviços",
           0.0184925383868923
          ],
          [
           "Materiais Básicos",
           "Mineração",
           "Minerais Metálicos",
           0.1125568286519415
          ],
          [
           "Materiais Básicos",
           "Mineração",
           "Minerais Metálicos",
           0.10498198592789282
          ],
          [
           "Materiais Básicos",
           "Siderurgia e Metalurgia",
           "Siderurgia",
           0.04220627952944257
          ],
          [
           "Materiais Básicos",
           "Siderurgia e Metalurgia",
           "Siderurgia",
           0.061308923874783365
          ],
          [
           "Materiais Básicos",
           "Siderurgia e Metalurgia",
           "Siderurgia",
           0.056487456613696085
          ],
          [
           "Materiais Básicos",
           "Siderurgia e Metalurgia",
           "Siderurgia",
           0.11388661699196959
          ],
          [
           "Materiais Básicos",
           "Siderurgia e Metalurgia",
           "Siderurgia",
           0.07274143280247819
          ],
          [
           "Materiais Básicos",
           "Siderurgia e Metalurgia",
           "Artefatos de Cobre",
           -0.049458109634064266
          ],
          [
           "Materiais Básicos",
           "Químicos",
           "Petroquímicos",
           0.1155238680623541
          ],
          [
           "Materiais Básicos",
           "Químicos",
           "Fertilizantes e Defensivos",
           0.04604347467757169
          ],
          [
           "Materiais Básicos",
           "Madeira e Papel",
           "Madeira",
           0.04205055463041355
          ],
          [
           "Materiais Básicos",
           "Madeira e Papel",
           "Papel e Celulose",
           0.06247836175012423
          ],
          [
           "Materiais Básicos",
           "Madeira e Papel",
           "Papel e Celulose",
           0.07946161056992433
          ],
          [
           "Materiais Básicos",
           "Madeira e Papel",
           "Papel e Celulose",
           0.08211710914112146
          ],
          [
           "Materiais Básicos",
           "Embalagens",
           "Embalagens",
           0.04149827336476811
          ],
          [
           "Bens Industriais",
           "Construção e Engenharia",
           "Produtos para Construção",
           0.09287891929101263
          ],
          [
           "Bens Industriais",
           "Construção e Engenharia",
           "Produtos para Construção",
           0.04662716073432241
          ],
          [
           "Bens Industriais",
           "Construção e Engenharia",
           "Construção Pesada",
           0.0646331051083777
          ],
          [
           "Bens Industriais",
           "Material de Transporte",
           "Material Aeronáutico e de Defesa",
           -0.029270910293377073
          ],
          [
           "Bens Industriais",
           "Material de Transporte",
           "Material Rodoviário",
           -0.03854737686554499
          ],
          [
           "Bens Industriais",
           "Material de Transporte",
           "Material Rodoviário",
           -0.03569322201304134
          ],
          [
           "Bens Industriais",
           "Material de Transporte",
           "Material Rodoviário",
           0.04597094025066945
          ],
          [
           "Bens Industriais",
           "Material de Transporte",
           "Material Rodoviário",
           0.004575621500658756
          ],
          [
           "Bens Industriais",
           "Material de Transporte",
           "Material Rodoviário",
           0.01706617854958777
          ],
          [
           "Bens Industriais",
           "Máquinas e Equipamentos",
           "Motores, Compressores e Outros",
           0.01453678735531145
          ],
          [
           "Bens Industriais",
           "Máquinas e Equipamentos",
           "Motores, Compressores e Outros",
           0.09691050216684174
          ],
          [
           "Bens Industriais",
           "Máquinas e Equipamentos",
           "Máq. e Equip. Industriais",
           0.04529976364247728
          ],
          [
           "Bens Industriais",
           "Máquinas e Equipamentos",
           "Máq. e Equip. Industriais",
           0.1177495136715089
          ],
          [
           "Bens Industriais",
           "Máquinas e Equipamentos",
           "Máq. e Equip. Industriais",
           0.11963177647817073
          ],
          [
           "Bens Industriais",
           "Máquinas e Equipamentos",
           "Máq. e Equip. Industriais",
           -0.01011390973313199
          ],
          [
           "Bens Industriais",
           "Máquinas e Equipamentos",
           "Armas e Munições",
           0.13581399636730346
          ],
          [
           "Bens Industriais",
           "Transporte",
           "Transporte Aéreo",
           0.02803911553280413
          ],
          [
           "Bens Industriais",
           "Transporte",
           "Transporte Aéreo",
           0.030420315808393123
          ],
          [
           "Bens Industriais",
           "Transporte",
           "Transporte Ferroviário",
           0.01527894225606841
          ],
          [
           "Bens Industriais",
           "Transporte",
           "Transporte Hidroviário",
           0.0034372516391328266
          ],
          [
           "Bens Industriais",
           "Transporte",
           "Transporte Rodoviário",
           -0.00821525119723766
          ],
          [
           "Bens Industriais",
           "Transporte",
           "Exploração de Rodovias",
           -0.005798966754651589
          ],
          [
           "Bens Industriais",
           "Transporte",
           "Exploração de Rodovias",
           -0.0013415213073959405
          ],
          [
           "Bens Industriais",
           "Transporte",
           "Exploração de Rodovias",
           0.04425676497045857
          ],
          [
           "Bens Industriais",
           "Transporte",
           "Serviços de Apoio e Armazenagem",
           0.02178965374930971
          ],
          [
           "Bens Industriais",
           "Serviços Diversos",
           "Serviços Diversos",
           -0.04201918767641928
          ],
          [
           "Bens Industriais",
           "Serviços Diversos",
           "Serviços Diversos",
           -0.025002344589043803
          ],
          [
           "Consumo não Cíclico",
           "Agropecuária",
           "Agricultura",
           0.07018221824436928
          ],
          [
           "Consumo não Cíclico",
           "Agropecuária",
           "Agricultura",
           0.09624925725243716
          ],
          [
           "Consumo não Cíclico",
           "Alimentos Processados",
           "Açucar e Alcool",
           0.035811582732900575
          ],
          [
           "Consumo não Cíclico",
           "Alimentos Processados",
           "Carnes e Derivados",
           -0.01593229908598225
          ],
          [
           "Consumo não Cíclico",
           "Alimentos Processados",
           "Carnes e Derivados",
           0.025485081923920322
          ],
          [
           "Consumo não Cíclico",
           "Alimentos Processados",
           "Carnes e Derivados",
           0.027586508015583103
          ],
          [
           "Consumo não Cíclico",
           "Alimentos Processados",
           "Carnes e Derivados",
           -0.010420435495784247
          ],
          [
           "Consumo não Cíclico",
           "Alimentos Processados",
           "Alimentos Diversos",
           0.04863981538667597
          ],
          [
           "Consumo não Cíclico",
           "Alimentos Processados",
           "Alimentos Diversos",
           -0.02953405263662092
          ],
          [
           "Consumo não Cíclico",
           "Bebidas",
           "Cervejas e Refrigerantes",
           0.027991432233750183
          ],
          [
           "Consumo não Cíclico",
           "Produtos de Uso Pessoal e de Limpeza",
           "Produtos de Uso Pessoal",
           0.033950135279373614
          ],
          [
           "Consumo não Cíclico",
           "Produtos de Uso Pessoal e de Limpeza",
           "Produtos de Limpeza",
           0.04283433646791504
          ],
          [
           "Consumo não Cíclico",
           "Comércio e Distribuição",
           "Alimentos",
           -0.0037186314066167004
          ],
          [
           "Consumo Cíclico",
           "Construção Civil",
           "Incorporações",
           0.020333701967465537
          ],
          [
           "Consumo Cíclico",
           "Construção Civil",
           "Incorporações",
           0.007072197517513426
          ],
          [
           "Consumo Cíclico",
           "Construção Civil",
           "Incorporações",
           0.010771107299835913
          ],
          [
           "Consumo Cíclico",
           "Construção Civil",
           "Incorporações",
           0.005623066062935014
          ],
          [
           "Consumo Cíclico",
           "Construção Civil",
           "Incorporações",
           -0.0061519402240216075
          ],
          [
           "Consumo Cíclico",
           "Construção Civil",
           "Incorporações",
           -0.00747525048824825
          ],
          [
           "Consumo Cíclico",
           "Construção Civil",
           "Incorporações",
           0.02999313180990455
          ],
          [
           "Consumo Cíclico",
           "Construção Civil",
           "Incorporações",
           0.019314767930041197
          ],
          [
           "Consumo Cíclico",
           "Construção Civil",
           "Incorporações",
           -0.0022213503399925163
          ],
          [
           "Consumo Cíclico",
           "Construção Civil",
           "Incorporações",
           0.024077171595877543
          ],
          [
           "Consumo Cíclico",
           "Construção Civil",
           "Incorporações",
           -0.028360832948576047
          ],
          [
           "Consumo Cíclico",
           "Construção Civil",
           "Incorporações",
           -0.0029808671108545316
          ],
          [
           "Consumo Cíclico",
           "Construção Civil",
           "Incorporações",
           -0.00045026891577526636
          ],
          [
           "Consumo Cíclico",
           "Construção Civil",
           "Incorporações",
           -0.01441669372635438
          ],
          [
           "Consumo Cíclico",
           "Tecidos, Vestuário e Calçados",
           "Calçados",
           0.048187038907518444
          ],
          [
           "Consumo Cíclico",
           "Tecidos, Vestuário e Calçados",
           "Calçados",
           -0.018028459708636573
          ],
          [
           "Consumo Cíclico",
           "Tecidos, Vestuário e Calçados",
           "Calçados",
           0.019778395704493124
          ],
          [
           "Consumo Cíclico",
           "Tecidos, Vestuário e Calçados",
           "Acessórios",
           -0.04261801265036489
          ],
          [
           "Consumo Cíclico",
           "Tecidos, Vestuário e Calçados",
           "Acessórios",
           0.025042847911595674
          ],
          [
           "Consumo Cíclico",
           "Hoteis e Restaurantes",
           "Restaurante e Similares",
           -0.0027072557564221033
          ],
          [
           "Consumo Cíclico",
           "Hoteis e Restaurantes",
           "Restaurante e Similares",
           -0.030829351503682257
          ],
          [
           "Consumo Cíclico",
           "Viagens e Lazer",
           "Produção de Eventos e Shows",
           0.01749414031379453
          ],
          [
           "Consumo Cíclico",
           "Viagens e Lazer",
           "Viagens e Turismo",
           0.03134738433187782
          ],
          [
           "Consumo Cíclico",
           "Diversos",
           "Serviços Educacionais",
           0.026840508783248937
          ],
          [
           "Consumo Cíclico",
           "Diversos",
           "Serviços Educacionais",
           -0.03905515068863504
          ],
          [
           "Consumo Cíclico",
           "Diversos",
           "Serviços Educacionais",
           -0.03242005299298789
          ],
          [
           "Consumo Cíclico",
           "Diversos",
           "Serviços Educacionais",
           -0.00760034096879772
          ],
          [
           "Consumo Cíclico",
           "Diversos",
           "Aluguel de carros",
           0.05516800920503952
          ],
          [
           "Consumo Cíclico",
           "Diversos",
           "Aluguel de carros",
           0.05005664689302655
          ],
          [
           "Consumo Cíclico",
           "Diversos",
           "Aluguel de carros",
           0.03192852874911307
          ],
          [
           "Consumo Cíclico",
           "Comércio",
           "Tecidos, Vestuário e Calçados",
           0.037745066734836005
          ],
          [
           "Consumo Cíclico",
           "Comércio",
           "Tecidos, Vestuário e Calçados",
           0.009830202070392422
          ],
          [
           "Consumo Cíclico",
           "Comércio",
           "Tecidos, Vestuário e Calçados",
           -0.02937215573925684
          ],
          [
           "Consumo Cíclico",
           "Comércio",
           "Tecidos, Vestuário e Calçados",
           -0.021287117526463385
          ],
          [
           "Consumo Cíclico",
           "Comércio",
           "Tecidos, Vestuário e Calçados",
           -0.010412964775614113
          ],
          [
           "Consumo Cíclico",
           "Comércio",
           "Eletrodomésticos",
           0.08848877161718749
          ],
          [
           "Consumo Cíclico",
           "Comércio",
           "Eletrodomésticos",
           0.032018466980229046
          ],
          [
           "Consumo Cíclico",
           "Comércio",
           "Produtos Diversos",
           0.053456337425325004
          ],
          [
           "Consumo Cíclico",
           "Comércio",
           "Produtos Diversos",
           -0.022165704971499847
          ],
          [
           "Saúde",
           "Serviços Médico - Hospitalares, Análises e Diagnósticos",
           "Serviços Médico - Hospitalares, Análises e Diagnósticos",
           -0.03807581153654157
          ],
          [
           "Saúde",
           "Serviços Médico - Hospitalares, Análises e Diagnósticos",
           "Serviços Médico - Hospitalares, Análises e Diagnósticos",
           -0.004034332543319275
          ],
          [
           "Saúde",
           "Serviços Médico - Hospitalares, Análises e Diagnósticos",
           "Serviços Médico - Hospitalares, Análises e Diagnósticos",
           0.07256602211931742
          ],
          [
           "Saúde",
           "Serviços Médico - Hospitalares, Análises e Diagnósticos",
           "Serviços Médico - Hospitalares, Análises e Diagnósticos",
           -0.008898690205862437
          ],
          [
           "Saúde",
           "Serviços Médico - Hospitalares, Análises e Diagnósticos",
           "Serviços Médico - Hospitalares, Análises e Diagnósticos",
           -0.007595584868278049
          ],
          [
           "Saúde",
           "Serviços Médico - Hospitalares, Análises e Diagnósticos",
           "Serviços Médico - Hospitalares, Análises e Diagnósticos",
           0.00953011938502116
          ],
          [
           "Saúde",
           "Comércio e Distribuição",
           "Medicamentos e Outros Produtos",
           -0.005794345751158043
          ],
          [
           "Saúde",
           "Comércio e Distribuição",
           "Medicamentos e Outros Produtos",
           -0.0012568863079843243
          ],
          [
           "Saúde",
           "Comércio e Distribuição",
           "Medicamentos e Outros Produtos",
           0.022026439911115653
          ],
          [
           "Tecnologia da Informação",
           "Computadores e Equipamentos",
           "Computadores e Equipamentos",
           0.0010403081150682759
          ],
          [
           "Tecnologia da Informação",
           "Programas e Serviços",
           "Programas e Serviços",
           0.16252850346418465
          ],
          [
           "Tecnologia da Informação",
           "Programas e Serviços",
           "Programas e Serviços",
           0.0125830346315385
          ],
          [
           "Tecnologia da Informação",
           "Programas e Serviços",
           "Programas e Serviços",
           0.04162883622499463
          ],
          [
           "Comunicações",
           "Telecomunicações",
           "Telecomunicações",
           0.08488971345521655
          ],
          [
           "Comunicações",
           "Telecomunicações",
           "Telecomunicações",
           0.09782503842512164
          ],
          [
           "Comunicações",
           "Telecomunicações",
           "Telecomunicações",
           -0.013054369979295712
          ],
          [
           "Comunicações",
           "Telecomunicações",
           "Telecomunicações",
           -0.014158798469501684
          ],
          [
           "Utilidade Pública",
           "Energia Elétrica",
           "Energia Elétrica",
           0.018954428219482664
          ],
          [
           "Utilidade Pública",
           "Energia Elétrica",
           "Energia Elétrica",
           0.03150987610726709
          ],
          [
           "Utilidade Pública",
           "Energia Elétrica",
           "Energia Elétrica",
           -0.02131123421758969
          ],
          [
           "Utilidade Pública",
           "Energia Elétrica",
           "Energia Elétrica",
           -0.012037906249680904
          ],
          [
           "Utilidade Pública",
           "Energia Elétrica",
           "Energia Elétrica",
           0.017656068731274774
          ],
          [
           "Utilidade Pública",
           "Energia Elétrica",
           "Energia Elétrica",
           0.006236986341317794
          ],
          [
           "Utilidade Pública",
           "Energia Elétrica",
           "Energia Elétrica",
           0.06582655942209789
          ],
          [
           "Utilidade Pública",
           "Energia Elétrica",
           "Energia Elétrica",
           -0.00702165041687382
          ],
          [
           "Utilidade Pública",
           "Energia Elétrica",
           "Energia Elétrica",
           -0.00961403086897004
          ],
          [
           "Utilidade Pública",
           "Energia Elétrica",
           "Energia Elétrica",
           0.016434657935145147
          ],
          [
           "Utilidade Pública",
           "Energia Elétrica",
           "Energia Elétrica",
           -0.030396362057366764
          ],
          [
           "Utilidade Pública",
           "Energia Elétrica",
           "Energia Elétrica",
           0.05816131873087605
          ],
          [
           "Utilidade Pública",
           "Água e Saneamento",
           "Água e Saneamento",
           -0.015956431663936836
          ],
          [
           "Utilidade Pública",
           "Água e Saneamento",
           "Água e Saneamento",
           -0.02608416927300804
          ],
          [
           "Utilidade Pública",
           "Água e Saneamento",
           "Água e Saneamento",
           -0.04279335967543427
          ],
          [
           "Utilidade Pública",
           "Água e Saneamento",
           "Água e Saneamento",
           -0.026685882926148242
          ],
          [
           "Financeiro",
           "Intermediários Financeiros",
           "Bancos",
           -0.015290016102899828
          ],
          [
           "Financeiro",
           "Intermediários Financeiros",
           "Bancos",
           -0.0014043543576503488
          ],
          [
           "Financeiro",
           "Intermediários Financeiros",
           "Bancos",
           0.03316188962730133
          ],
          [
           "Financeiro",
           "Intermediários Financeiros",
           "Bancos",
           -0.0017522911320821803
          ],
          [
           "Financeiro",
           "Intermediários Financeiros",
           "Bancos",
           0.00614315214380464
          ],
          [
           "Financeiro",
           "Intermediários Financeiros",
           "Bancos",
           -0.014169858299281215
          ],
          [
           "Financeiro",
           "Intermediários Financeiros",
           "Bancos",
           0.0008879821192449567
          ],
          [
           "Financeiro",
           "Intermediários Financeiros",
           "Bancos",
           -0.007840833003109692
          ],
          [
           "Financeiro",
           "Intermediários Financeiros",
           "Bancos",
           0.008705397383380244
          ],
          [
           "Financeiro",
           "Intermediários Financeiros",
           "Bancos",
           0.005615579284113463
          ],
          [
           "Financeiro",
           "Intermediários Financeiros",
           "Bancos",
           -0.02274826756352425
          ],
          [
           "Financeiro",
           "Serviços Financeiros Diversos",
           "Serviços Financeiros Diversos",
           0.0408866274463035
          ],
          [
           "Financeiro",
           "Serviços Financeiros Diversos",
           "Serviços Financeiros Diversos",
           -0.035059158944566154
          ],
          [
           "Financeiro",
           "Serviços Financeiros Diversos",
           "Serviços Financeiros Diversos",
           0.056268383583987
          ],
          [
           "Financeiro",
           "Previdência e Seguros",
           "Seguradoras",
           -0.002767432042573314
          ],
          [
           "Financeiro",
           "Previdência e Seguros",
           "Seguradoras",
           -0.02523385038738084
          ],
          [
           "Financeiro",
           "Previdência e Seguros",
           "Corretoras de Seguros e Resseguros",
           -0.05135667422094356
          ],
          [
           "Financeiro",
           "Exploração de Imóveis",
           "Exploração de Imóveis",
           -0.02771318036320431
          ],
          [
           "Financeiro",
           "Exploração de Imóveis",
           "Exploração de Imóveis",
           -0.03367167917991783
          ],
          [
           "Financeiro",
           "Exploração de Imóveis",
           "Exploração de Imóveis",
           -0.03577167952186943
          ],
          [
           "Financeiro",
           "Exploração de Imóveis",
           "Exploração de Imóveis",
           -0.023280952319179014
          ],
          [
           "Financeiro",
           "Exploração de Imóveis",
           "Exploração de Imóveis",
           0.042906479855003274
          ],
          [
           "Financeiro",
           "Exploração de Imóveis",
           "Exploração de Imóveis",
           -0.0197147902749091
          ],
          [
           "Financeiro",
           "Exploração de Imóveis",
           "Exploração de Imóveis",
           -0.05529360024726972
          ],
          [
           "Financeiro",
           "Exploração de Imóveis",
           "Intermediação Imobiliária",
           -0.015017348044318125
          ],
          [
           "Financeiro",
           "Exploração de Imóveis",
           "Intermediação Imobiliária",
           -0.008863444281617852
          ],
          [
           "Outros",
           "Outros",
           "Outros",
           -0.0006228349792683522
          ]
         ],
         "hovertemplate": "<b>%{hovertext}</b><br><br>iso_forest_outliers=1<br>Risk=%{x}<br>Return=%{y}<br>Sector=%{customdata[0]}<br>Sub-Sector=%{customdata[1]}<br>Segment=%{customdata[2]}<br>Sharpe=%{customdata[3]}<extra></extra>",
         "hovertext": [
          "CSAN3.SA",
          "DMMO3.SA",
          "ENAT3.SA",
          "PETR4.SA",
          "PETR3.SA",
          "PRIO3.SA",
          "UGPA3.SA",
          "VBBR3.SA",
          "LUPA3.SA",
          "BRAP4.SA",
          "VALE3.SA",
          "FESA4.SA",
          "GGBR4.SA",
          "GOAU4.SA",
          "CSNA3.SA",
          "USIM3.SA",
          "PMAM3.SA",
          "DEXP3.SA",
          "FHER3.SA",
          "DXCO3.SA",
          "KLBN4.SA",
          "KLBN3.SA",
          "SUZB3.SA",
          "RANI3.SA",
          "ETER3.SA",
          "PTBL3.SA",
          "AZEV4.SA",
          "EMBR3.SA",
          "POMO4.SA",
          "POMO3.SA",
          "RAPT4.SA",
          "RCSL4.SA",
          "TUPY3.SA",
          "SHUL4.SA",
          "WEGE3.SA",
          "ROMI3.SA",
          "INEP4.SA",
          "INEP3.SA",
          "MILS3.SA",
          "TASA4.SA",
          "AZUL4.SA",
          "GOLL4.SA",
          "RAIL3.SA",
          "LOGN3.SA",
          "TGMA3.SA",
          "CCRO3.SA",
          "ECOR3.SA",
          "TPIS3.SA",
          "STBP3.SA",
          "PRNR3.SA",
          "VLID3.SA",
          "AGRO3.SA",
          "SLCE3.SA",
          "SMTO3.SA",
          "BRFS3.SA",
          "JBSS3.SA",
          "MRFG3.SA",
          "BEEF3.SA",
          "CAML3.SA",
          "MDIA3.SA",
          "ABEV3.SA",
          "NTCO3.SA",
          "BOBR4.SA",
          "CRFB3.SA",
          "CYRE3.SA",
          "DIRR3.SA",
          "EVEN3.SA",
          "EZTC3.SA",
          "GFSA3.SA",
          "HBOR3.SA",
          "JHSF3.SA",
          "MTRE3.SA",
          "MDNE3.SA",
          "MRVE3.SA",
          "TCSA3.SA",
          "TEND3.SA",
          "TRIS3.SA",
          "VIVR3.SA",
          "ALPA4.SA",
          "GRND3.SA",
          "VULC3.SA",
          "TECN3.SA",
          "VIVA3.SA",
          "BKBR3.SA",
          "MEAL3.SA",
          "SHOW3.SA",
          "CVCB3.SA",
          "ANIM3.SA",
          "COGN3.SA",
          "SEER3.SA",
          "YDUQ3.SA",
          "RENT3.SA",
          "LCAM3.SA",
          "MOVI3.SA",
          "ARZZ3.SA",
          "CEAB3.SA",
          "GUAR3.SA",
          "AMAR3.SA",
          "LREN3.SA",
          "MGLU3.SA",
          "VIIA3.SA",
          "AMER3.SA",
          "SBFG3.SA",
          "AALR3.SA",
          "FLRY3.SA",
          "HAPV3.SA",
          "PARD3.SA",
          "ODPV3.SA",
          "QUAL3.SA",
          "PNVL3.SA",
          "HYPE3.SA",
          "RADL3.SA",
          "POSI3.SA",
          "LWSA3.SA",
          "SQIA3.SA",
          "TOTS3.SA",
          "OIBR4.SA",
          "OIBR3.SA",
          "VIVT3.SA",
          "TIMS3.SA",
          "CMIG4.SA",
          "CMIG3.SA",
          "CPLE3.SA",
          "CPFE3.SA",
          "ELET3.SA",
          "ENBR3.SA",
          "ENEV3.SA",
          "EGIE3.SA",
          "EQTL3.SA",
          "LIGT3.SA",
          "NEOE3.SA",
          "TRPL4.SA",
          "CSMG3.SA",
          "SBSP3.SA",
          "SAPR4.SA",
          "SAPR3.SA",
          "ABCB4.SA",
          "BMGB4.SA",
          "BPAN4.SA",
          "BBDC4.SA",
          "BBDC3.SA",
          "BBAS3.SA",
          "ITSA4.SA",
          "ITSA3.SA",
          "ITUB4.SA",
          "ITUB3.SA",
          "PINE4.SA",
          "B3SA3.SA",
          "CIEL3.SA",
          "CARD3.SA",
          "BBSE3.SA",
          "PSSA3.SA",
          "WIZS3.SA",
          "ALSO3.SA",
          "BRML3.SA",
          "BRPR3.SA",
          "IGTI3.SA",
          "LOGG3.SA",
          "MULT3.SA",
          "SYNE3.SA",
          "BBRK3.SA",
          "LPSB3.SA",
          "BLUT4.SA"
         ],
         "legendgroup": "1",
         "marker": {
          "color": "#636efa",
          "symbol": "circle"
         },
         "mode": "markers",
         "name": "1",
         "orientation": "v",
         "showlegend": true,
         "type": "scatter",
         "x": [
          0.03702384155242135,
          0.08216538521622488,
          0.045185075001078344,
          0.04507120221660047,
          0.047583502665157346,
          0.07157835600953434,
          0.04765505455929822,
          0.03929834650160835,
          0.05770381640030215,
          0.034163204705527236,
          0.03585062279286457,
          0.03290960076855792,
          0.04274822917454212,
          0.04320062074242772,
          0.05089290336978668,
          0.04242612690615111,
          0.04967754618740381,
          0.0610776115790789,
          0.05406819061815176,
          0.045332182916830256,
          0.031361487313701364,
          0.03040922946599431,
          0.03605751341719104,
          0.05335053192535554,
          0.0623596083376314,
          0.05294712270872207,
          0.062360080824489884,
          0.05148675489045457,
          0.043042788621009694,
          0.03981211786609629,
          0.04723440657787563,
          0.05585853718029785,
          0.03677580167047455,
          0.0365051310479602,
          0.037025696940259825,
          0.04771266905189478,
          0.06985083947732,
          0.0696219718045656,
          0.0498700092156992,
          0.05749510820281358,
          0.0737579939440047,
          0.07351928725105489,
          0.03864437790992622,
          0.05434851027945224,
          0.045291143487570136,
          0.04301635619065484,
          0.04585569986948008,
          0.05641842165990777,
          0.046409360201174206,
          0.0390814907116863,
          0.04841009236586221,
          0.02498067927774396,
          0.026620993327885298,
          0.04409071536597481,
          0.040385257750638254,
          0.03942771355982924,
          0.044369372552992024,
          0.037299462119325846,
          0.024794449379984804,
          0.03235728695926721,
          0.03034077082404009,
          0.04420303826190568,
          0.0333253716210897,
          0.026079328648543246,
          0.05231784131897745,
          0.04137968247896041,
          0.05491866177014766,
          0.0497859782815438,
          0.05343731166247655,
          0.06559599018743142,
          0.048364970464024576,
          0.04592531046990905,
          0.059451923707964954,
          0.043269839485415656,
          0.04902430556793946,
          0.040863350143304264,
          0.053359403780353934,
          0.05871633075906232,
          0.04294645760655217,
          0.02988109181660806,
          0.0392980312136149,
          0.04583854572529889,
          0.05655789590881431,
          0.04961048539023765,
          0.05795199631523385,
          0.05744457173542035,
          0.07092433009464019,
          0.044054168649724744,
          0.05392441249531503,
          0.0441404802783264,
          0.05076338431953548,
          0.05010117108214064,
          0.05314736286127547,
          0.04784916642502729,
          0.03975619219925577,
          0.05535380915986368,
          0.05279919229047281,
          0.06459363721205745,
          0.04274935900929507,
          0.04583345172455784,
          0.059336436685306526,
          0.052102257925603884,
          0.053601841071721494,
          0.04448317267121043,
          0.029864041684932105,
          0.040147461715389715,
          0.03853868958938353,
          0.027929887567475848,
          0.03785711026905224,
          0.035515016476608485,
          0.033610621412212716,
          0.026304223113332845,
          0.06044431993098876,
          0.05028856415379359,
          0.04053695392401562,
          0.038855331942640944,
          0.05408745197572187,
          0.05104751427568856,
          0.027136596118064116,
          0.031043317963803167,
          0.03703832099795675,
          0.03903843059860456,
          0.03331304477875378,
          0.028484217121597374,
          0.04837335857554772,
          0.025948926615424264,
          0.03236887904344368,
          0.023534727810181136,
          0.02849716864232743,
          0.04915143144646496,
          0.031110309335248915,
          0.019449752671725083,
          0.03469782651448263,
          0.03891176985973473,
          0.033269928811440835,
          0.03815687998215625,
          0.03210529871747044,
          0.038381483625535354,
          0.05782535658511135,
          0.03874234649209971,
          0.037127958221566164,
          0.04084187530793005,
          0.029202951005987143,
          0.02182895767685179,
          0.031894767119120745,
          0.028042347439394367,
          0.048659290950022645,
          0.03652467703707428,
          0.048963358103744296,
          0.0345874564496765,
          0.027181880060087392,
          0.025372408126999053,
          0.04123351703867105,
          0.04880924746810816,
          0.045971409295804205,
          0.034679167653411655,
          0.044238688730408426,
          0.045172609706439416,
          0.04458802597044959,
          0.04093778659072929,
          0.06069625383745109,
          0.060892469375879686,
          0.06867812293204975
         ],
         "xaxis": "x",
         "y": [
          0.0009975707843647328,
          0.0012750479710200112,
          0.0004085921324791035,
          0.0013447958627572385,
          0.001270735880067147,
          0.004995233101520358,
          0.0017470914660105328,
          -0.00017340324516207172,
          0.001067090039852773,
          0.003845301978241231,
          0.003763669577546702,
          0.0013889918092401137,
          0.0026208479282437964,
          0.002440293189872625,
          0.005796020593684214,
          0.0030861372594132024,
          -0.002456957525687909,
          0.007055921941625222,
          0.0024894873655889895,
          0.0019062434342600708,
          0.0019594143494073655,
          0.0024163663495583077,
          0.0029609387646369278,
          0.0022139549579941924,
          0.005791893029810025,
          0.0024687740009594764,
          0.004030525658496184,
          -0.001507064183695589,
          -0.0016591865943180522,
          -0.0014210227618039447,
          0.0021714100825673487,
          0.00025558752371751737,
          0.0006276223976125468,
          0.0005306673274219752,
          0.0035881788835578758,
          0.002161372630802574,
          0.008224902378001065,
          0.008329000168893297,
          -0.0005043807715980422,
          0.007808640416594643,
          0.002068108913663815,
          0.00223647993618506,
          0.0005904452186074483,
          0.0001868095060424745,
          -0.00037207812076052324,
          -0.00024945041945585847,
          -0.00006151639844046077,
          0.0024968968274067674,
          0.0010112438895105804,
          -0.0016421724928885834,
          -0.0012103658109187258,
          0.0017531994849632197,
          0.0025622508351310453,
          0.0015789583010813776,
          -0.0006434300051476514,
          0.0010048185101451123,
          0.0012239960515795074,
          -0.00038867663904188296,
          0.0012059974404567434,
          -0.0009556418162332456,
          0.0008492816304408628,
          0.0015006991287510258,
          0.0014274701809360636,
          -0.00009697941057595158,
          0.0010638153929612415,
          0.0002926452877031976,
          0.000591534798689657,
          0.0002799498448849686,
          -0.0003287431470799684,
          -0.0004903464576757242,
          0.0014506169341096295,
          0.0008870367138413847,
          -0.00013206355094189708,
          0.0010418153502164305,
          -0.0013903701406322775,
          -0.0001218082164815085,
          -0.000024026080886594616,
          -0.0008464953572887224,
          0.002069462623627021,
          -0.0005387100598657884,
          0.0007772520117503976,
          -0.0019535477215951178,
          0.001416370785444296,
          -0.00013430827215161554,
          -0.0017866224647424434,
          0.001004943398205279,
          0.002223292233957655,
          0.001182436300581667,
          -0.0021060260558006427,
          -0.0014310367097592788,
          -0.0003858190295585893,
          0.0027639818674427947,
          0.0026603787760424197,
          0.0015277534858225796,
          0.0015006001276838756,
          0.000544139129407399,
          -0.0015508260988627363,
          -0.0013750123467948057,
          -0.00044514756954387144,
          0.004055745842081787,
          0.0018998617387329386,
          0.0027851958802923953,
          -0.0011881225951250018,
          -0.0016937328991764448,
          -0.00012048147524456497,
          0.0029133415948734195,
          -0.0003429438595958199,
          -0.00021214383138022677,
          0.00036078278043597835,
          -0.00020578628482354426,
          -0.000042244729855854916,
          0.0005793883898144054,
          0.00006288071653399073,
          0.008173325073278713,
          0.0005100778950829691,
          0.0016175022499080023,
          0.004591468299741816,
          0.004993725045526178,
          -0.00035425116570392875,
          -0.00043953608287415044,
          0.0007020401967259288,
          0.0012300961115841744,
          -0.0007099420997810751,
          -0.00034289033530534484,
          0.0008540833437724705,
          0.00016184310087225893,
          0.0021307319397799447,
          -0.00016525263133937025,
          -0.000273972659005581,
          0.000807786962845388,
          -0.0009456402262709031,
          0.0011312232643769105,
          -0.0005536534976654778,
          -0.001014981191733653,
          -0.0014237320300040809,
          -0.0010182500320309112,
          -0.0004908905343785322,
          -0.00005390120378260608,
          0.0019175980927348048,
          -0.00006788787019416149,
          0.0002280826961439033,
          -0.0005787235857902811,
          0.000025931698322503104,
          -0.00017115721177614416,
          0.000277656622222316,
          0.00015747402535857522,
          -0.0011069145699824892,
          0.0014933708626114126,
          -0.0017166141542188827,
          0.0019461802667048425,
          -0.00007522400585567049,
          -0.0006402435506442599,
          -0.0021176163015387546,
          -0.0013526594784759548,
          -0.0015479345452570111,
          -0.0012405320713830225,
          -0.0010299188029956406,
          0.0019381976683672682,
          -0.0008790435807796139,
          -0.002263597606755824,
          -0.0009114967688632826,
          -0.000539717009483231,
          -0.00004277513727257255
         ],
         "yaxis": "y"
        },
        {
         "customdata": [
          [
           "Materiais Básicos",
           "Mineração",
           "Minerais Metálicos",
           0.1083176526249793
          ],
          [
           "Bens Industriais",
           "Material de Transporte",
           "Material Rodoviário",
           0.11262259171040202
          ],
          [
           "Consumo não Cíclico",
           "Comércio e Distribuição",
           "Alimentos",
           -0.049649199016600885
          ],
          [
           "Consumo Cíclico",
           "Comércio",
           "Tecidos, Vestuário e Calçados",
           -0.0577615838607531
          ],
          [
           "Saúde",
           "Comércio e Distribuição",
           "Medicamentos e Outros Produtos",
           0.06698613327325764
          ],
          [
           "Financeiro",
           "Previdência e Seguros",
           "Resseguradoras",
           -0.05131177117805835
          ],
          [
           "Outros",
           "Outros",
           "Outros",
           0.025912574583913113
          ]
         ],
         "hovertemplate": "<b>%{hovertext}</b><br><br>iso_forest_outliers=-1<br>Risk=%{x}<br>Return=%{y}<br>Sector=%{customdata[0]}<br>Sub-Sector=%{customdata[1]}<br>Segment=%{customdata[2]}<br>Sharpe=%{customdata[3]}<extra></extra>",
         "hovertext": [
          "MMXM3.SA",
          "RCSL3.SA",
          "PCAR3.SA",
          "LLIS3.SA",
          "PFRM3.SA",
          "IRBR3.SA",
          "BLUT3.SA"
         ],
         "legendgroup": "-1",
         "marker": {
          "color": "#EF553B",
          "symbol": "circle"
         },
         "mode": "markers",
         "name": "-1",
         "orientation": "v",
         "showlegend": true,
         "type": "scatter",
         "x": [
          0.21616545854805835,
          0.0740159514885843,
          0.06596367526187963,
          0.06177993878881272,
          6.7900937187797314,
          0.06810158298874912,
          0.09816125881143649
         ],
         "xaxis": "x",
         "y": [
          0.02341453504852795,
          0.008335868284555752,
          -0.003275043640943494,
          -0.0035685071152621994,
          0.45484212278408864,
          -0.003494412843182246,
          0.002543610940202146
         ],
         "yaxis": "y"
        }
       ],
       "layout": {
        "legend": {
         "title": {
          "text": "iso_forest_outliers"
         },
         "tracegroupgap": 0
        },
        "margin": {
         "t": 60
        },
        "template": {
         "data": {
          "bar": [
           {
            "error_x": {
             "color": "#2a3f5f"
            },
            "error_y": {
             "color": "#2a3f5f"
            },
            "marker": {
             "line": {
              "color": "#E5ECF6",
              "width": 0.5
             },
             "pattern": {
              "fillmode": "overlay",
              "size": 10,
              "solidity": 0.2
             }
            },
            "type": "bar"
           }
          ],
          "barpolar": [
           {
            "marker": {
             "line": {
              "color": "#E5ECF6",
              "width": 0.5
             },
             "pattern": {
              "fillmode": "overlay",
              "size": 10,
              "solidity": 0.2
             }
            },
            "type": "barpolar"
           }
          ],
          "carpet": [
           {
            "aaxis": {
             "endlinecolor": "#2a3f5f",
             "gridcolor": "white",
             "linecolor": "white",
             "minorgridcolor": "white",
             "startlinecolor": "#2a3f5f"
            },
            "baxis": {
             "endlinecolor": "#2a3f5f",
             "gridcolor": "white",
             "linecolor": "white",
             "minorgridcolor": "white",
             "startlinecolor": "#2a3f5f"
            },
            "type": "carpet"
           }
          ],
          "choropleth": [
           {
            "colorbar": {
             "outlinewidth": 0,
             "ticks": ""
            },
            "type": "choropleth"
           }
          ],
          "contour": [
           {
            "colorbar": {
             "outlinewidth": 0,
             "ticks": ""
            },
            "colorscale": [
             [
              0,
              "#0d0887"
             ],
             [
              0.1111111111111111,
              "#46039f"
             ],
             [
              0.2222222222222222,
              "#7201a8"
             ],
             [
              0.3333333333333333,
              "#9c179e"
             ],
             [
              0.4444444444444444,
              "#bd3786"
             ],
             [
              0.5555555555555556,
              "#d8576b"
             ],
             [
              0.6666666666666666,
              "#ed7953"
             ],
             [
              0.7777777777777778,
              "#fb9f3a"
             ],
             [
              0.8888888888888888,
              "#fdca26"
             ],
             [
              1,
              "#f0f921"
             ]
            ],
            "type": "contour"
           }
          ],
          "contourcarpet": [
           {
            "colorbar": {
             "outlinewidth": 0,
             "ticks": ""
            },
            "type": "contourcarpet"
           }
          ],
          "heatmap": [
           {
            "colorbar": {
             "outlinewidth": 0,
             "ticks": ""
            },
            "colorscale": [
             [
              0,
              "#0d0887"
             ],
             [
              0.1111111111111111,
              "#46039f"
             ],
             [
              0.2222222222222222,
              "#7201a8"
             ],
             [
              0.3333333333333333,
              "#9c179e"
             ],
             [
              0.4444444444444444,
              "#bd3786"
             ],
             [
              0.5555555555555556,
              "#d8576b"
             ],
             [
              0.6666666666666666,
              "#ed7953"
             ],
             [
              0.7777777777777778,
              "#fb9f3a"
             ],
             [
              0.8888888888888888,
              "#fdca26"
             ],
             [
              1,
              "#f0f921"
             ]
            ],
            "type": "heatmap"
           }
          ],
          "heatmapgl": [
           {
            "colorbar": {
             "outlinewidth": 0,
             "ticks": ""
            },
            "colorscale": [
             [
              0,
              "#0d0887"
             ],
             [
              0.1111111111111111,
              "#46039f"
             ],
             [
              0.2222222222222222,
              "#7201a8"
             ],
             [
              0.3333333333333333,
              "#9c179e"
             ],
             [
              0.4444444444444444,
              "#bd3786"
             ],
             [
              0.5555555555555556,
              "#d8576b"
             ],
             [
              0.6666666666666666,
              "#ed7953"
             ],
             [
              0.7777777777777778,
              "#fb9f3a"
             ],
             [
              0.8888888888888888,
              "#fdca26"
             ],
             [
              1,
              "#f0f921"
             ]
            ],
            "type": "heatmapgl"
           }
          ],
          "histogram": [
           {
            "marker": {
             "pattern": {
              "fillmode": "overlay",
              "size": 10,
              "solidity": 0.2
             }
            },
            "type": "histogram"
           }
          ],
          "histogram2d": [
           {
            "colorbar": {
             "outlinewidth": 0,
             "ticks": ""
            },
            "colorscale": [
             [
              0,
              "#0d0887"
             ],
             [
              0.1111111111111111,
              "#46039f"
             ],
             [
              0.2222222222222222,
              "#7201a8"
             ],
             [
              0.3333333333333333,
              "#9c179e"
             ],
             [
              0.4444444444444444,
              "#bd3786"
             ],
             [
              0.5555555555555556,
              "#d8576b"
             ],
             [
              0.6666666666666666,
              "#ed7953"
             ],
             [
              0.7777777777777778,
              "#fb9f3a"
             ],
             [
              0.8888888888888888,
              "#fdca26"
             ],
             [
              1,
              "#f0f921"
             ]
            ],
            "type": "histogram2d"
           }
          ],
          "histogram2dcontour": [
           {
            "colorbar": {
             "outlinewidth": 0,
             "ticks": ""
            },
            "colorscale": [
             [
              0,
              "#0d0887"
             ],
             [
              0.1111111111111111,
              "#46039f"
             ],
             [
              0.2222222222222222,
              "#7201a8"
             ],
             [
              0.3333333333333333,
              "#9c179e"
             ],
             [
              0.4444444444444444,
              "#bd3786"
             ],
             [
              0.5555555555555556,
              "#d8576b"
             ],
             [
              0.6666666666666666,
              "#ed7953"
             ],
             [
              0.7777777777777778,
              "#fb9f3a"
             ],
             [
              0.8888888888888888,
              "#fdca26"
             ],
             [
              1,
              "#f0f921"
             ]
            ],
            "type": "histogram2dcontour"
           }
          ],
          "mesh3d": [
           {
            "colorbar": {
             "outlinewidth": 0,
             "ticks": ""
            },
            "type": "mesh3d"
           }
          ],
          "parcoords": [
           {
            "line": {
             "colorbar": {
              "outlinewidth": 0,
              "ticks": ""
             }
            },
            "type": "parcoords"
           }
          ],
          "pie": [
           {
            "automargin": true,
            "type": "pie"
           }
          ],
          "scatter": [
           {
            "marker": {
             "colorbar": {
              "outlinewidth": 0,
              "ticks": ""
             }
            },
            "type": "scatter"
           }
          ],
          "scatter3d": [
           {
            "line": {
             "colorbar": {
              "outlinewidth": 0,
              "ticks": ""
             }
            },
            "marker": {
             "colorbar": {
              "outlinewidth": 0,
              "ticks": ""
             }
            },
            "type": "scatter3d"
           }
          ],
          "scattercarpet": [
           {
            "marker": {
             "colorbar": {
              "outlinewidth": 0,
              "ticks": ""
             }
            },
            "type": "scattercarpet"
           }
          ],
          "scattergeo": [
           {
            "marker": {
             "colorbar": {
              "outlinewidth": 0,
              "ticks": ""
             }
            },
            "type": "scattergeo"
           }
          ],
          "scattergl": [
           {
            "marker": {
             "colorbar": {
              "outlinewidth": 0,
              "ticks": ""
             }
            },
            "type": "scattergl"
           }
          ],
          "scattermapbox": [
           {
            "marker": {
             "colorbar": {
              "outlinewidth": 0,
              "ticks": ""
             }
            },
            "type": "scattermapbox"
           }
          ],
          "scatterpolar": [
           {
            "marker": {
             "colorbar": {
              "outlinewidth": 0,
              "ticks": ""
             }
            },
            "type": "scatterpolar"
           }
          ],
          "scatterpolargl": [
           {
            "marker": {
             "colorbar": {
              "outlinewidth": 0,
              "ticks": ""
             }
            },
            "type": "scatterpolargl"
           }
          ],
          "scatterternary": [
           {
            "marker": {
             "colorbar": {
              "outlinewidth": 0,
              "ticks": ""
             }
            },
            "type": "scatterternary"
           }
          ],
          "surface": [
           {
            "colorbar": {
             "outlinewidth": 0,
             "ticks": ""
            },
            "colorscale": [
             [
              0,
              "#0d0887"
             ],
             [
              0.1111111111111111,
              "#46039f"
             ],
             [
              0.2222222222222222,
              "#7201a8"
             ],
             [
              0.3333333333333333,
              "#9c179e"
             ],
             [
              0.4444444444444444,
              "#bd3786"
             ],
             [
              0.5555555555555556,
              "#d8576b"
             ],
             [
              0.6666666666666666,
              "#ed7953"
             ],
             [
              0.7777777777777778,
              "#fb9f3a"
             ],
             [
              0.8888888888888888,
              "#fdca26"
             ],
             [
              1,
              "#f0f921"
             ]
            ],
            "type": "surface"
           }
          ],
          "table": [
           {
            "cells": {
             "fill": {
              "color": "#EBF0F8"
             },
             "line": {
              "color": "white"
             }
            },
            "header": {
             "fill": {
              "color": "#C8D4E3"
             },
             "line": {
              "color": "white"
             }
            },
            "type": "table"
           }
          ]
         },
         "layout": {
          "annotationdefaults": {
           "arrowcolor": "#2a3f5f",
           "arrowhead": 0,
           "arrowwidth": 1
          },
          "autotypenumbers": "strict",
          "coloraxis": {
           "colorbar": {
            "outlinewidth": 0,
            "ticks": ""
           }
          },
          "colorscale": {
           "diverging": [
            [
             0,
             "#8e0152"
            ],
            [
             0.1,
             "#c51b7d"
            ],
            [
             0.2,
             "#de77ae"
            ],
            [
             0.3,
             "#f1b6da"
            ],
            [
             0.4,
             "#fde0ef"
            ],
            [
             0.5,
             "#f7f7f7"
            ],
            [
             0.6,
             "#e6f5d0"
            ],
            [
             0.7,
             "#b8e186"
            ],
            [
             0.8,
             "#7fbc41"
            ],
            [
             0.9,
             "#4d9221"
            ],
            [
             1,
             "#276419"
            ]
           ],
           "sequential": [
            [
             0,
             "#0d0887"
            ],
            [
             0.1111111111111111,
             "#46039f"
            ],
            [
             0.2222222222222222,
             "#7201a8"
            ],
            [
             0.3333333333333333,
             "#9c179e"
            ],
            [
             0.4444444444444444,
             "#bd3786"
            ],
            [
             0.5555555555555556,
             "#d8576b"
            ],
            [
             0.6666666666666666,
             "#ed7953"
            ],
            [
             0.7777777777777778,
             "#fb9f3a"
            ],
            [
             0.8888888888888888,
             "#fdca26"
            ],
            [
             1,
             "#f0f921"
            ]
           ],
           "sequentialminus": [
            [
             0,
             "#0d0887"
            ],
            [
             0.1111111111111111,
             "#46039f"
            ],
            [
             0.2222222222222222,
             "#7201a8"
            ],
            [
             0.3333333333333333,
             "#9c179e"
            ],
            [
             0.4444444444444444,
             "#bd3786"
            ],
            [
             0.5555555555555556,
             "#d8576b"
            ],
            [
             0.6666666666666666,
             "#ed7953"
            ],
            [
             0.7777777777777778,
             "#fb9f3a"
            ],
            [
             0.8888888888888888,
             "#fdca26"
            ],
            [
             1,
             "#f0f921"
            ]
           ]
          },
          "colorway": [
           "#636efa",
           "#EF553B",
           "#00cc96",
           "#ab63fa",
           "#FFA15A",
           "#19d3f3",
           "#FF6692",
           "#B6E880",
           "#FF97FF",
           "#FECB52"
          ],
          "font": {
           "color": "#2a3f5f"
          },
          "geo": {
           "bgcolor": "white",
           "lakecolor": "white",
           "landcolor": "#E5ECF6",
           "showlakes": true,
           "showland": true,
           "subunitcolor": "white"
          },
          "hoverlabel": {
           "align": "left"
          },
          "hovermode": "closest",
          "mapbox": {
           "style": "light"
          },
          "paper_bgcolor": "white",
          "plot_bgcolor": "#E5ECF6",
          "polar": {
           "angularaxis": {
            "gridcolor": "white",
            "linecolor": "white",
            "ticks": ""
           },
           "bgcolor": "#E5ECF6",
           "radialaxis": {
            "gridcolor": "white",
            "linecolor": "white",
            "ticks": ""
           }
          },
          "scene": {
           "xaxis": {
            "backgroundcolor": "#E5ECF6",
            "gridcolor": "white",
            "gridwidth": 2,
            "linecolor": "white",
            "showbackground": true,
            "ticks": "",
            "zerolinecolor": "white"
           },
           "yaxis": {
            "backgroundcolor": "#E5ECF6",
            "gridcolor": "white",
            "gridwidth": 2,
            "linecolor": "white",
            "showbackground": true,
            "ticks": "",
            "zerolinecolor": "white"
           },
           "zaxis": {
            "backgroundcolor": "#E5ECF6",
            "gridcolor": "white",
            "gridwidth": 2,
            "linecolor": "white",
            "showbackground": true,
            "ticks": "",
            "zerolinecolor": "white"
           }
          },
          "shapedefaults": {
           "line": {
            "color": "#2a3f5f"
           }
          },
          "ternary": {
           "aaxis": {
            "gridcolor": "white",
            "linecolor": "white",
            "ticks": ""
           },
           "baxis": {
            "gridcolor": "white",
            "linecolor": "white",
            "ticks": ""
           },
           "bgcolor": "#E5ECF6",
           "caxis": {
            "gridcolor": "white",
            "linecolor": "white",
            "ticks": ""
           }
          },
          "title": {
           "x": 0.05
          },
          "xaxis": {
           "automargin": true,
           "gridcolor": "white",
           "linecolor": "white",
           "ticks": "",
           "title": {
            "standoff": 15
           },
           "zerolinecolor": "white",
           "zerolinewidth": 2
          },
          "yaxis": {
           "automargin": true,
           "gridcolor": "white",
           "linecolor": "white",
           "ticks": "",
           "title": {
            "standoff": 15
           },
           "zerolinecolor": "white",
           "zerolinewidth": 2
          }
         }
        },
        "title": {
         "text": "Isolation Forest Outlier Detection",
         "x": 0.5
        },
        "xaxis": {
         "anchor": "y",
         "domain": [
          0,
          1
         ],
         "title": {
          "text": "Risk"
         }
        },
        "yaxis": {
         "anchor": "x",
         "domain": [
          0,
          1
         ],
         "title": {
          "text": "Return"
         }
        }
       }
      }
     },
     "metadata": {},
     "output_type": "display_data"
    }
   ],
   "source": [
    "isf = IsolationForest(contamination=0.04)\n",
    "preds = isf.fit_predict(df[[\"Risk\", \"Return\"]])\n",
    "\n",
    "df_ = df.copy()\n",
    "df_[\"iso_forest_outliers\"] = preds\n",
    "df_[\"iso_forest_outliers\"] = df_[\"iso_forest_outliers\"].astype(str)\n",
    "#extract the scores from the data in terms of strength of outlier\n",
    "df_[\"iso_forest_scores\"] = isf.decision_function(df_[[\"Risk\", \"Return\"]])\n",
    "\n",
    "fig = px.scatter(\n",
    "    df_, \n",
    "    x='Risk', \n",
    "    y='Return', \n",
    "    color='iso_forest_outliers', \n",
    "    hover_name='Stock',\n",
    "    hover_data=['Sector', 'Sub-Sector', 'Segment', 'Sharpe'],\n",
    ")\n",
    "\n",
    "fig.update_layout(title='Isolation Forest Outlier Detection', title_x=0.5)\n",
    "fig.show()"
   ]
  },
  {
   "cell_type": "code",
   "execution_count": 129,
   "id": "9884becc",
   "metadata": {},
   "outputs": [
    {
     "data": {
      "text/html": [
       "<div>\n",
       "<style scoped>\n",
       "    .dataframe tbody tr th:only-of-type {\n",
       "        vertical-align: middle;\n",
       "    }\n",
       "\n",
       "    .dataframe tbody tr th {\n",
       "        vertical-align: top;\n",
       "    }\n",
       "\n",
       "    .dataframe thead th {\n",
       "        text-align: right;\n",
       "    }\n",
       "</style>\n",
       "<table border=\"1\" class=\"dataframe\">\n",
       "  <thead>\n",
       "    <tr style=\"text-align: right;\">\n",
       "      <th></th>\n",
       "      <th>Stock</th>\n",
       "      <th>Return</th>\n",
       "      <th>Risk</th>\n",
       "      <th>Sector</th>\n",
       "      <th>Sub-Sector</th>\n",
       "      <th>Segment</th>\n",
       "      <th>Sharpe</th>\n",
       "    </tr>\n",
       "  </thead>\n",
       "  <tbody>\n",
       "    <tr>\n",
       "      <th>0</th>\n",
       "      <td>CSAN3.SA</td>\n",
       "      <td>0.000998</td>\n",
       "      <td>0.037024</td>\n",
       "      <td>Petróleo, Gás e Biocombustíveis</td>\n",
       "      <td>Petróleo, Gás e Biocombustíveis</td>\n",
       "      <td>Exploração, Refino e Distribuição</td>\n",
       "      <td>0.026944</td>\n",
       "    </tr>\n",
       "    <tr>\n",
       "      <th>1</th>\n",
       "      <td>DMMO3.SA</td>\n",
       "      <td>0.001275</td>\n",
       "      <td>0.082165</td>\n",
       "      <td>Petróleo, Gás e Biocombustíveis</td>\n",
       "      <td>Petróleo, Gás e Biocombustíveis</td>\n",
       "      <td>Exploração, Refino e Distribuição</td>\n",
       "      <td>0.015518</td>\n",
       "    </tr>\n",
       "    <tr>\n",
       "      <th>2</th>\n",
       "      <td>ENAT3.SA</td>\n",
       "      <td>0.000409</td>\n",
       "      <td>0.045185</td>\n",
       "      <td>Petróleo, Gás e Biocombustíveis</td>\n",
       "      <td>Petróleo, Gás e Biocombustíveis</td>\n",
       "      <td>Exploração, Refino e Distribuição</td>\n",
       "      <td>0.009043</td>\n",
       "    </tr>\n",
       "    <tr>\n",
       "      <th>3</th>\n",
       "      <td>PETR4.SA</td>\n",
       "      <td>0.001345</td>\n",
       "      <td>0.045071</td>\n",
       "      <td>Petróleo, Gás e Biocombustíveis</td>\n",
       "      <td>Petróleo, Gás e Biocombustíveis</td>\n",
       "      <td>Exploração, Refino e Distribuição</td>\n",
       "      <td>0.029837</td>\n",
       "    </tr>\n",
       "    <tr>\n",
       "      <th>4</th>\n",
       "      <td>PETR3.SA</td>\n",
       "      <td>0.001271</td>\n",
       "      <td>0.047584</td>\n",
       "      <td>Petróleo, Gás e Biocombustíveis</td>\n",
       "      <td>Petróleo, Gás e Biocombustíveis</td>\n",
       "      <td>Exploração, Refino e Distribuição</td>\n",
       "      <td>0.026705</td>\n",
       "    </tr>\n",
       "    <tr>\n",
       "      <th>...</th>\n",
       "      <td>...</td>\n",
       "      <td>...</td>\n",
       "      <td>...</td>\n",
       "      <td>...</td>\n",
       "      <td>...</td>\n",
       "      <td>...</td>\n",
       "      <td>...</td>\n",
       "    </tr>\n",
       "    <tr>\n",
       "      <th>164</th>\n",
       "      <td>MULT3.SA</td>\n",
       "      <td>-0.000879</td>\n",
       "      <td>0.044588</td>\n",
       "      <td>Financeiro</td>\n",
       "      <td>Exploração de Imóveis</td>\n",
       "      <td>Exploração de Imóveis</td>\n",
       "      <td>-0.019715</td>\n",
       "    </tr>\n",
       "    <tr>\n",
       "      <th>165</th>\n",
       "      <td>SYNE3.SA</td>\n",
       "      <td>-0.002264</td>\n",
       "      <td>0.040938</td>\n",
       "      <td>Financeiro</td>\n",
       "      <td>Exploração de Imóveis</td>\n",
       "      <td>Exploração de Imóveis</td>\n",
       "      <td>-0.055294</td>\n",
       "    </tr>\n",
       "    <tr>\n",
       "      <th>166</th>\n",
       "      <td>BBRK3.SA</td>\n",
       "      <td>-0.000911</td>\n",
       "      <td>0.060696</td>\n",
       "      <td>Financeiro</td>\n",
       "      <td>Exploração de Imóveis</td>\n",
       "      <td>Intermediação Imobiliária</td>\n",
       "      <td>-0.015017</td>\n",
       "    </tr>\n",
       "    <tr>\n",
       "      <th>167</th>\n",
       "      <td>LPSB3.SA</td>\n",
       "      <td>-0.000540</td>\n",
       "      <td>0.060892</td>\n",
       "      <td>Financeiro</td>\n",
       "      <td>Exploração de Imóveis</td>\n",
       "      <td>Intermediação Imobiliária</td>\n",
       "      <td>-0.008863</td>\n",
       "    </tr>\n",
       "    <tr>\n",
       "      <th>168</th>\n",
       "      <td>BLUT4.SA</td>\n",
       "      <td>-0.000043</td>\n",
       "      <td>0.068678</td>\n",
       "      <td>Outros</td>\n",
       "      <td>Outros</td>\n",
       "      <td>Outros</td>\n",
       "      <td>-0.000623</td>\n",
       "    </tr>\n",
       "  </tbody>\n",
       "</table>\n",
       "<p>163 rows × 7 columns</p>\n",
       "</div>"
      ],
      "text/plain": [
       "        Stock    Return     Risk                           Sector  \\\n",
       "0    CSAN3.SA  0.000998 0.037024  Petróleo, Gás e Biocombustíveis   \n",
       "1    DMMO3.SA  0.001275 0.082165  Petróleo, Gás e Biocombustíveis   \n",
       "2    ENAT3.SA  0.000409 0.045185  Petróleo, Gás e Biocombustíveis   \n",
       "3    PETR4.SA  0.001345 0.045071  Petróleo, Gás e Biocombustíveis   \n",
       "4    PETR3.SA  0.001271 0.047584  Petróleo, Gás e Biocombustíveis   \n",
       "..        ...       ...      ...                              ...   \n",
       "164  MULT3.SA -0.000879 0.044588                       Financeiro   \n",
       "165  SYNE3.SA -0.002264 0.040938                       Financeiro   \n",
       "166  BBRK3.SA -0.000911 0.060696                       Financeiro   \n",
       "167  LPSB3.SA -0.000540 0.060892                       Financeiro   \n",
       "168  BLUT4.SA -0.000043 0.068678                           Outros   \n",
       "\n",
       "                          Sub-Sector                            Segment  \\\n",
       "0    Petróleo, Gás e Biocombustíveis  Exploração, Refino e Distribuição   \n",
       "1    Petróleo, Gás e Biocombustíveis  Exploração, Refino e Distribuição   \n",
       "2    Petróleo, Gás e Biocombustíveis  Exploração, Refino e Distribuição   \n",
       "3    Petróleo, Gás e Biocombustíveis  Exploração, Refino e Distribuição   \n",
       "4    Petróleo, Gás e Biocombustíveis  Exploração, Refino e Distribuição   \n",
       "..                               ...                                ...   \n",
       "164            Exploração de Imóveis              Exploração de Imóveis   \n",
       "165            Exploração de Imóveis              Exploração de Imóveis   \n",
       "166            Exploração de Imóveis          Intermediação Imobiliária   \n",
       "167            Exploração de Imóveis          Intermediação Imobiliária   \n",
       "168                           Outros                             Outros   \n",
       "\n",
       "       Sharpe  \n",
       "0    0.026944  \n",
       "1    0.015518  \n",
       "2    0.009043  \n",
       "3    0.029837  \n",
       "4    0.026705  \n",
       "..        ...  \n",
       "164 -0.019715  \n",
       "165 -0.055294  \n",
       "166 -0.015017  \n",
       "167 -0.008863  \n",
       "168 -0.000623  \n",
       "\n",
       "[163 rows x 7 columns]"
      ]
     },
     "execution_count": 129,
     "metadata": {},
     "output_type": "execute_result"
    }
   ],
   "source": [
    "# Remove outliers\n",
    "outliers = [ False if pred == 1 else True for pred in preds ]\n",
    "outliers\n",
    "\n",
    "valid_stocks = [ stock for stock, is_outlier in zip(df['Stock'], outliers) if is_outlier is False]\n",
    "\n",
    "df = df[ df['Stock'].isin(valid_stocks) ]\n",
    "df"
   ]
  },
  {
   "cell_type": "code",
   "execution_count": 159,
   "id": "298305ed",
   "metadata": {},
   "outputs": [
    {
     "data": {
      "application/vnd.plotly.v1+json": {
       "config": {
        "plotlyServerURL": "https://plot.ly"
       },
       "data": [
        {
         "hovertemplate": "<b>%{hovertext}</b><br><br>Risk=%{x}<br>Return=%{y}<br>labels=%{marker.color}<extra></extra>",
         "hovertext": [
          "CSAN3.SA",
          "DMMO3.SA",
          "ENAT3.SA",
          "PETR4.SA",
          "PETR3.SA",
          "PRIO3.SA",
          "UGPA3.SA",
          "VBBR3.SA",
          "LUPA3.SA",
          "BRAP4.SA",
          "VALE3.SA",
          "FESA4.SA",
          "GGBR4.SA",
          "GOAU4.SA",
          "CSNA3.SA",
          "USIM3.SA",
          "PMAM3.SA",
          "DEXP3.SA",
          "FHER3.SA",
          "DXCO3.SA",
          "KLBN4.SA",
          "KLBN3.SA",
          "SUZB3.SA",
          "RANI3.SA",
          "ETER3.SA",
          "PTBL3.SA",
          "AZEV4.SA",
          "EMBR3.SA",
          "POMO4.SA",
          "POMO3.SA",
          "RAPT4.SA",
          "RCSL4.SA",
          "TUPY3.SA",
          "SHUL4.SA",
          "WEGE3.SA",
          "ROMI3.SA",
          "INEP4.SA",
          "INEP3.SA",
          "MILS3.SA",
          "TASA4.SA",
          "AZUL4.SA",
          "GOLL4.SA",
          "RAIL3.SA",
          "LOGN3.SA",
          "TGMA3.SA",
          "CCRO3.SA",
          "ECOR3.SA",
          "TPIS3.SA",
          "STBP3.SA",
          "PRNR3.SA",
          "VLID3.SA",
          "AGRO3.SA",
          "SLCE3.SA",
          "SMTO3.SA",
          "BRFS3.SA",
          "JBSS3.SA",
          "MRFG3.SA",
          "BEEF3.SA",
          "CAML3.SA",
          "MDIA3.SA",
          "ABEV3.SA",
          "NTCO3.SA",
          "BOBR4.SA",
          "CRFB3.SA",
          "CYRE3.SA",
          "DIRR3.SA",
          "EVEN3.SA",
          "EZTC3.SA",
          "GFSA3.SA",
          "HBOR3.SA",
          "JHSF3.SA",
          "MTRE3.SA",
          "MDNE3.SA",
          "MRVE3.SA",
          "TCSA3.SA",
          "TEND3.SA",
          "TRIS3.SA",
          "VIVR3.SA",
          "ALPA4.SA",
          "GRND3.SA",
          "VULC3.SA",
          "TECN3.SA",
          "VIVA3.SA",
          "BKBR3.SA",
          "MEAL3.SA",
          "SHOW3.SA",
          "CVCB3.SA",
          "ANIM3.SA",
          "COGN3.SA",
          "SEER3.SA",
          "YDUQ3.SA",
          "RENT3.SA",
          "LCAM3.SA",
          "MOVI3.SA",
          "ARZZ3.SA",
          "CEAB3.SA",
          "GUAR3.SA",
          "AMAR3.SA",
          "LREN3.SA",
          "MGLU3.SA",
          "VIIA3.SA",
          "AMER3.SA",
          "SBFG3.SA",
          "AALR3.SA",
          "FLRY3.SA",
          "HAPV3.SA",
          "PARD3.SA",
          "ODPV3.SA",
          "QUAL3.SA",
          "PNVL3.SA",
          "HYPE3.SA",
          "RADL3.SA",
          "POSI3.SA",
          "LWSA3.SA",
          "SQIA3.SA",
          "TOTS3.SA",
          "OIBR4.SA",
          "OIBR3.SA",
          "VIVT3.SA",
          "TIMS3.SA",
          "CMIG4.SA",
          "CMIG3.SA",
          "CPLE3.SA",
          "CPFE3.SA",
          "ELET3.SA",
          "ENBR3.SA",
          "ENEV3.SA",
          "EGIE3.SA",
          "EQTL3.SA",
          "LIGT3.SA",
          "NEOE3.SA",
          "TRPL4.SA",
          "CSMG3.SA",
          "SBSP3.SA",
          "SAPR4.SA",
          "SAPR3.SA",
          "ABCB4.SA",
          "BMGB4.SA",
          "BPAN4.SA",
          "BBDC4.SA",
          "BBDC3.SA",
          "BBAS3.SA",
          "ITSA4.SA",
          "ITSA3.SA",
          "ITUB4.SA",
          "ITUB3.SA",
          "PINE4.SA",
          "B3SA3.SA",
          "CIEL3.SA",
          "CARD3.SA",
          "BBSE3.SA",
          "PSSA3.SA",
          "WIZS3.SA",
          "ALSO3.SA",
          "BRML3.SA",
          "BRPR3.SA",
          "IGTI3.SA",
          "LOGG3.SA",
          "MULT3.SA",
          "SYNE3.SA",
          "BBRK3.SA",
          "LPSB3.SA",
          "BLUT4.SA"
         ],
         "legendgroup": "",
         "marker": {
          "color": [
           0,
           -1,
           0,
           0,
           0,
           -1,
           0,
           1,
           -1,
           -1,
           -1,
           0,
           -1,
           -1,
           -1,
           -1,
           -1,
           -1,
           2,
           0,
           -1,
           -1,
           -1,
           0,
           -1,
           2,
           -1,
           3,
           3,
           3,
           0,
           -1,
           0,
           0,
           -1,
           0,
           -1,
           -1,
           1,
           -1,
           -1,
           -1,
           0,
           -1,
           1,
           1,
           1,
           2,
           0,
           3,
           3,
           -1,
           -1,
           0,
           1,
           0,
           0,
           1,
           -1,
           1,
           -1,
           0,
           0,
           1,
           0,
           0,
           -1,
           -1,
           1,
           -1,
           0,
           0,
           -1,
           0,
           3,
           1,
           1,
           -1,
           0,
           1,
           0,
           3,
           -1,
           1,
           -1,
           -1,
           -1,
           0,
           -1,
           3,
           1,
           2,
           2,
           0,
           0,
           -1,
           3,
           -1,
           1,
           -1,
           -1,
           2,
           3,
           3,
           1,
           -1,
           1,
           1,
           0,
           1,
           1,
           -1,
           -1,
           -1,
           0,
           0,
           -1,
           -1,
           1,
           1,
           0,
           0,
           1,
           1,
           0,
           1,
           -1,
           1,
           1,
           0,
           1,
           -1,
           1,
           3,
           -1,
           -1,
           1,
           1,
           -1,
           1,
           0,
           1,
           1,
           1,
           1,
           1,
           3,
           0,
           3,
           -1,
           1,
           1,
           -1,
           3,
           3,
           -1,
           3,
           0,
           3,
           -1,
           -1,
           -1,
           -1
          ],
          "coloraxis": "coloraxis",
          "symbol": "circle"
         },
         "mode": "markers",
         "name": "",
         "orientation": "v",
         "showlegend": false,
         "type": "scatter",
         "x": [
          0.06300676083666652,
          0.139828136635721,
          0.07689545694357025,
          0.07670166950832412,
          0.08097707440621811,
          0.12181124834895896,
          0.08109884062205397,
          0.06687748800451947,
          0.09819971150613833,
          0.05813856093910551,
          0.06101019022991786,
          0.05600519173351686,
          0.07274845988031291,
          0.07351833480757929,
          0.08660897563435091,
          0.07220030983054765,
          0.084540694329368,
          0.1039411985325483,
          0.09201264407762112,
          0.07714580355473533,
          0.05337062951338458,
          0.05175008772329599,
          0.0613622743881171,
          0.09079134051420393,
          0.10612288632540286,
          0.09010482320627564,
          0.10612369039827166,
          0.0876195855323604,
          0.07324973786275796,
          0.06775181838542244,
          0.08038298657637387,
          0.09505943589948461,
          0.06258464933055366,
          0.06212402508241542,
          0.06300991831500742,
          0.08119688832330661,
          0.11887137997164579,
          0.11848189551741746,
          0.08486822576547084,
          0.09784453422219293,
          0.1255205318886817,
          0.1251143034995637,
          0.06576457154520318,
          0.09248968895240452,
          0.0770759631115008,
          0.07320475544743127,
          0.07803671886893482,
          0.09601224106566372,
          0.0789789318495735,
          0.06650844523859471,
          0.08238375554460357,
          0.042511841526810694,
          0.045303309692207486,
          0.07503308791574687,
          0.06872718145195242,
          0.06709764342210157,
          0.07550730361032715,
          0.06347580884498923,
          0.04219491756277162,
          0.05506527024969417,
          0.05163358556954986,
          0.07522423776794082,
          0.05671274593561757,
          0.044381510779021985,
          0.08903391915202004,
          0.07041948236942334,
          0.09345996640359909,
          0.08472522285844633,
          0.09093902130347346,
          0.11163052488035294,
          0.08230696759504534,
          0.07815518141277202,
          0.10117462103557738,
          0.0736361304927915,
          0.083429016725057,
          0.06954079375633435,
          0.09080643853814263,
          0.09992279715503748,
          0.07308580281618844,
          0.05085130895889891,
          0.06687695145092684,
          0.07800752613759031,
          0.0962495967876864,
          0.08442657101229996,
          0.09862206131882392,
          0.09775853182533017,
          0.12069823433763946,
          0.07497089312143107,
          0.09176796407092079,
          0.07511777728884055,
          0.08638856155842595,
          0.08526161445294163,
          0.0904455896657465,
          0.08142917803132128,
          0.06765664470901549,
          0.09420049538068315,
          0.08985307686952927,
          0.10992473176042807,
          0.07275038262050082,
          0.07799885722391373,
          0.10097808650779004,
          0.08866704173635767,
          0.09121901561806171,
          0.07570096738294295,
          0.05082229323487634,
          0.06832250280995904,
          0.06558471233944699,
          0.047530771318457316,
          0.06442480824990167,
          0.06043905914203001,
          0.057198180850375126,
          0.044764233672226504,
          0.10286346986534402,
          0.08558051789334686,
          0.06898533630879763,
          0.06612357076650138,
          0.0920454228412211,
          0.08687209075051483,
          0.04618075677293567,
          0.052829172460468844,
          0.06303140179567142,
          0.06643516601815781,
          0.05669176825274176,
          0.0484741231743629,
          0.08232124238973032,
          0.044159594052695525,
          0.05508499752932482,
          0.04005113743782079,
          0.04849616392796634,
          0.08364535812801666,
          0.052943177629619816,
          0.03309937228379136,
          0.059048374373976246,
          0.0662196161846791,
          0.05661839398019682,
          0.06493495300602802,
          0.05463643946880231,
          0.06531718098259803,
          0.09840654723779722,
          0.06593129338625722,
          0.06318394542359357,
          0.06950424812088174,
          0.04969725648684848,
          0.037148276839715666,
          0.054278159141597504,
          0.04772215427486014,
          0.08280783891722716,
          0.06215728822880403,
          0.0833252970098916,
          0.0588605478280215,
          0.04625782048067551,
          0.04317848131573946,
          0.07017073965249436,
          0.08306303324808924,
          0.07823363188080124,
          0.05901662093220228,
          0.07528490733783101,
          0.07687424364410857,
          0.07587940555875307,
          0.06966746887279408,
          0.10329220817896942,
          0.10362612559498643,
          0.11687566402757159
         ],
         "xaxis": "x",
         "y": [
          0.03505345132410576,
          0.044803669763155786,
          0.01435744174924854,
          0.04725452775367607,
          0.044652148013831904,
          0.1755265522217674,
          0.06139071695204095,
          -0.00609318387125928,
          0.03749627530866134,
          0.13511933973347412,
          0.13225087422800344,
          0.04880752076734659,
          0.09209348020259166,
          0.08574900136256534,
          0.2036652726188308,
          0.10844319410500805,
          -0.0863345663104418,
          0.24793670805521395,
          0.08747762620897283,
          0.06698312789631643,
          0.0688514906382754,
          0.08490824064117786,
          0.10404386785039425,
          0.07779574499390851,
          0.20352023493166244,
          0.08674978320256255,
          0.14162787964026718,
          -0.05295644362632172,
          -0.05830184427321006,
          -0.04993305035798712,
          0.07630076865414459,
          0.00898104170862029,
          0.022053904855122722,
          0.01864701896109091,
          0.12608433988679552,
          0.07594806453292412,
          0.2890132907574902,
          0.2926711633648075,
          -0.017723340642224136,
          0.27438634033859954,
          0.07267088839638505,
          0.07858724594698918,
          0.020747542985821713,
          0.0065642639395360625,
          -0.013074382789938535,
          -0.008765391161432285,
          -0.0021616131027134976,
          0.08773798588794307,
          0.03553390798261202,
          -0.057703988977496797,
          -0.042530815559539255,
          0.06160534547605198,
          0.09003444801825404,
          0.05548271743442763,
          -0.02260936538982074,
          0.03530812779101411,
          0.04300976601100302,
          -0.01365763498792511,
          0.042377316215177166,
          -0.03358011723443209,
          0.02984274676014503,
          0.0527327831631531,
          0.050159605000781475,
          -0.003407741186235133,
          0.03738120811020782,
          0.010283207476114638,
          0.020785829534479747,
          0.00983710470943212,
          -0.011551643336908063,
          -0.017230191536763438,
          0.05097295438750934,
          0.03116941550281529,
          -0.004640556166225682,
          0.03660815276459184,
          -0.04885595369373233,
          -0.004280195906127868,
          -0.0008442479171075517,
          -0.029744840434253166,
          0.07271845615503028,
          -0.018929631016947723,
          0.027311711597293897,
          -0.06864534431194305,
          0.049769585439567644,
          -0.0047194330007263655,
          -0.06277978924802319,
          0.035312516208965625,
          0.07812384576992853,
          0.041549405772433615,
          -0.07400325169037315,
          -0.05028492858328817,
          -0.013557221988170184,
          0.09712303665029247,
          0.09348254719495762,
          0.053683441105001915,
          0.05272930438335845,
          0.019120402065874564,
          -0.05449418529558895,
          -0.04831629907757364,
          -0.015641956345971885,
          0.1425140869065174,
          0.06675888270286076,
          0.09786847183992263,
          -0.04174921540209939,
          -0.05951576035291215,
          -0.00423357579645966,
          0.10237135989444722,
          -0.012050639491109806,
          -0.007454482011250628,
          0.012677477960264935,
          -0.007231085383905208,
          -0.0014844295812504345,
          0.02035901916779238,
          0.002209553618446027,
          0.2872009255911779,
          0.01792353078802264,
          0.05683710597026803,
          0.16133873713399458,
          0.17547356092709987,
          -0.012447964784191405,
          -0.015444775376043825,
          0.024668857838663846,
          0.04322411486704324,
          -0.024946521317238717,
          -0.012048758711178968,
          0.030011473257732874,
          0.005686974145078653,
          0.07487138707992244,
          -0.005806780992011376,
          -0.009627073504065903,
          0.028384673474955352,
          -0.03322867325431202,
          0.03974984056874102,
          -0.019454725654577665,
          -0.035665232339352655,
          -0.0500282508214188,
          -0.035780095500987034,
          -0.01724930974523283,
          -0.0018940242163442058,
          0.06738211709526275,
          -0.0023854990449261,
          0.00801455476890545,
          -0.020335658744787863,
          0.0009112090481660596,
          -0.006014260928446691,
          0.009756523591539999,
          0.005533450026038034,
          -0.03889566194897517,
          0.052475276603777855,
          -0.060319780450969966,
          0.0683864607064621,
          -0.002643282129944476,
          -0.02249739716703218,
          -0.07441051914565859,
          -0.047530845860769624,
          -0.054392579539728855,
          -0.04359082208678424,
          -0.03619012223937508,
          0.06810596169160348,
          -0.03088854631027342,
          -0.07954012864992514,
          -0.032028912755073996,
          -0.018965014029315445,
          -0.0015030674672583896
         ],
         "yaxis": "y"
        }
       ],
       "layout": {
        "coloraxis": {
         "colorbar": {
          "title": {
           "text": "labels"
          }
         },
         "colorscale": [
          [
           0,
           "#0d0887"
          ],
          [
           0.1111111111111111,
           "#46039f"
          ],
          [
           0.2222222222222222,
           "#7201a8"
          ],
          [
           0.3333333333333333,
           "#9c179e"
          ],
          [
           0.4444444444444444,
           "#bd3786"
          ],
          [
           0.5555555555555556,
           "#d8576b"
          ],
          [
           0.6666666666666666,
           "#ed7953"
          ],
          [
           0.7777777777777778,
           "#fb9f3a"
          ],
          [
           0.8888888888888888,
           "#fdca26"
          ],
          [
           1,
           "#f0f921"
          ]
         ]
        },
        "legend": {
         "tracegroupgap": 0
        },
        "margin": {
         "t": 60
        },
        "template": {
         "data": {
          "bar": [
           {
            "error_x": {
             "color": "#f2f5fa"
            },
            "error_y": {
             "color": "#f2f5fa"
            },
            "marker": {
             "line": {
              "color": "rgb(17,17,17)",
              "width": 0.5
             },
             "pattern": {
              "fillmode": "overlay",
              "size": 10,
              "solidity": 0.2
             }
            },
            "type": "bar"
           }
          ],
          "barpolar": [
           {
            "marker": {
             "line": {
              "color": "rgb(17,17,17)",
              "width": 0.5
             },
             "pattern": {
              "fillmode": "overlay",
              "size": 10,
              "solidity": 0.2
             }
            },
            "type": "barpolar"
           }
          ],
          "carpet": [
           {
            "aaxis": {
             "endlinecolor": "#A2B1C6",
             "gridcolor": "#506784",
             "linecolor": "#506784",
             "minorgridcolor": "#506784",
             "startlinecolor": "#A2B1C6"
            },
            "baxis": {
             "endlinecolor": "#A2B1C6",
             "gridcolor": "#506784",
             "linecolor": "#506784",
             "minorgridcolor": "#506784",
             "startlinecolor": "#A2B1C6"
            },
            "type": "carpet"
           }
          ],
          "choropleth": [
           {
            "colorbar": {
             "outlinewidth": 0,
             "ticks": ""
            },
            "type": "choropleth"
           }
          ],
          "contour": [
           {
            "colorbar": {
             "outlinewidth": 0,
             "ticks": ""
            },
            "colorscale": [
             [
              0,
              "#0d0887"
             ],
             [
              0.1111111111111111,
              "#46039f"
             ],
             [
              0.2222222222222222,
              "#7201a8"
             ],
             [
              0.3333333333333333,
              "#9c179e"
             ],
             [
              0.4444444444444444,
              "#bd3786"
             ],
             [
              0.5555555555555556,
              "#d8576b"
             ],
             [
              0.6666666666666666,
              "#ed7953"
             ],
             [
              0.7777777777777778,
              "#fb9f3a"
             ],
             [
              0.8888888888888888,
              "#fdca26"
             ],
             [
              1,
              "#f0f921"
             ]
            ],
            "type": "contour"
           }
          ],
          "contourcarpet": [
           {
            "colorbar": {
             "outlinewidth": 0,
             "ticks": ""
            },
            "type": "contourcarpet"
           }
          ],
          "heatmap": [
           {
            "colorbar": {
             "outlinewidth": 0,
             "ticks": ""
            },
            "colorscale": [
             [
              0,
              "#0d0887"
             ],
             [
              0.1111111111111111,
              "#46039f"
             ],
             [
              0.2222222222222222,
              "#7201a8"
             ],
             [
              0.3333333333333333,
              "#9c179e"
             ],
             [
              0.4444444444444444,
              "#bd3786"
             ],
             [
              0.5555555555555556,
              "#d8576b"
             ],
             [
              0.6666666666666666,
              "#ed7953"
             ],
             [
              0.7777777777777778,
              "#fb9f3a"
             ],
             [
              0.8888888888888888,
              "#fdca26"
             ],
             [
              1,
              "#f0f921"
             ]
            ],
            "type": "heatmap"
           }
          ],
          "heatmapgl": [
           {
            "colorbar": {
             "outlinewidth": 0,
             "ticks": ""
            },
            "colorscale": [
             [
              0,
              "#0d0887"
             ],
             [
              0.1111111111111111,
              "#46039f"
             ],
             [
              0.2222222222222222,
              "#7201a8"
             ],
             [
              0.3333333333333333,
              "#9c179e"
             ],
             [
              0.4444444444444444,
              "#bd3786"
             ],
             [
              0.5555555555555556,
              "#d8576b"
             ],
             [
              0.6666666666666666,
              "#ed7953"
             ],
             [
              0.7777777777777778,
              "#fb9f3a"
             ],
             [
              0.8888888888888888,
              "#fdca26"
             ],
             [
              1,
              "#f0f921"
             ]
            ],
            "type": "heatmapgl"
           }
          ],
          "histogram": [
           {
            "marker": {
             "pattern": {
              "fillmode": "overlay",
              "size": 10,
              "solidity": 0.2
             }
            },
            "type": "histogram"
           }
          ],
          "histogram2d": [
           {
            "colorbar": {
             "outlinewidth": 0,
             "ticks": ""
            },
            "colorscale": [
             [
              0,
              "#0d0887"
             ],
             [
              0.1111111111111111,
              "#46039f"
             ],
             [
              0.2222222222222222,
              "#7201a8"
             ],
             [
              0.3333333333333333,
              "#9c179e"
             ],
             [
              0.4444444444444444,
              "#bd3786"
             ],
             [
              0.5555555555555556,
              "#d8576b"
             ],
             [
              0.6666666666666666,
              "#ed7953"
             ],
             [
              0.7777777777777778,
              "#fb9f3a"
             ],
             [
              0.8888888888888888,
              "#fdca26"
             ],
             [
              1,
              "#f0f921"
             ]
            ],
            "type": "histogram2d"
           }
          ],
          "histogram2dcontour": [
           {
            "colorbar": {
             "outlinewidth": 0,
             "ticks": ""
            },
            "colorscale": [
             [
              0,
              "#0d0887"
             ],
             [
              0.1111111111111111,
              "#46039f"
             ],
             [
              0.2222222222222222,
              "#7201a8"
             ],
             [
              0.3333333333333333,
              "#9c179e"
             ],
             [
              0.4444444444444444,
              "#bd3786"
             ],
             [
              0.5555555555555556,
              "#d8576b"
             ],
             [
              0.6666666666666666,
              "#ed7953"
             ],
             [
              0.7777777777777778,
              "#fb9f3a"
             ],
             [
              0.8888888888888888,
              "#fdca26"
             ],
             [
              1,
              "#f0f921"
             ]
            ],
            "type": "histogram2dcontour"
           }
          ],
          "mesh3d": [
           {
            "colorbar": {
             "outlinewidth": 0,
             "ticks": ""
            },
            "type": "mesh3d"
           }
          ],
          "parcoords": [
           {
            "line": {
             "colorbar": {
              "outlinewidth": 0,
              "ticks": ""
             }
            },
            "type": "parcoords"
           }
          ],
          "pie": [
           {
            "automargin": true,
            "type": "pie"
           }
          ],
          "scatter": [
           {
            "marker": {
             "line": {
              "color": "#283442"
             }
            },
            "type": "scatter"
           }
          ],
          "scatter3d": [
           {
            "line": {
             "colorbar": {
              "outlinewidth": 0,
              "ticks": ""
             }
            },
            "marker": {
             "colorbar": {
              "outlinewidth": 0,
              "ticks": ""
             }
            },
            "type": "scatter3d"
           }
          ],
          "scattercarpet": [
           {
            "marker": {
             "colorbar": {
              "outlinewidth": 0,
              "ticks": ""
             }
            },
            "type": "scattercarpet"
           }
          ],
          "scattergeo": [
           {
            "marker": {
             "colorbar": {
              "outlinewidth": 0,
              "ticks": ""
             }
            },
            "type": "scattergeo"
           }
          ],
          "scattergl": [
           {
            "marker": {
             "line": {
              "color": "#283442"
             }
            },
            "type": "scattergl"
           }
          ],
          "scattermapbox": [
           {
            "marker": {
             "colorbar": {
              "outlinewidth": 0,
              "ticks": ""
             }
            },
            "type": "scattermapbox"
           }
          ],
          "scatterpolar": [
           {
            "marker": {
             "colorbar": {
              "outlinewidth": 0,
              "ticks": ""
             }
            },
            "type": "scatterpolar"
           }
          ],
          "scatterpolargl": [
           {
            "marker": {
             "colorbar": {
              "outlinewidth": 0,
              "ticks": ""
             }
            },
            "type": "scatterpolargl"
           }
          ],
          "scatterternary": [
           {
            "marker": {
             "colorbar": {
              "outlinewidth": 0,
              "ticks": ""
             }
            },
            "type": "scatterternary"
           }
          ],
          "surface": [
           {
            "colorbar": {
             "outlinewidth": 0,
             "ticks": ""
            },
            "colorscale": [
             [
              0,
              "#0d0887"
             ],
             [
              0.1111111111111111,
              "#46039f"
             ],
             [
              0.2222222222222222,
              "#7201a8"
             ],
             [
              0.3333333333333333,
              "#9c179e"
             ],
             [
              0.4444444444444444,
              "#bd3786"
             ],
             [
              0.5555555555555556,
              "#d8576b"
             ],
             [
              0.6666666666666666,
              "#ed7953"
             ],
             [
              0.7777777777777778,
              "#fb9f3a"
             ],
             [
              0.8888888888888888,
              "#fdca26"
             ],
             [
              1,
              "#f0f921"
             ]
            ],
            "type": "surface"
           }
          ],
          "table": [
           {
            "cells": {
             "fill": {
              "color": "#506784"
             },
             "line": {
              "color": "rgb(17,17,17)"
             }
            },
            "header": {
             "fill": {
              "color": "#2a3f5f"
             },
             "line": {
              "color": "rgb(17,17,17)"
             }
            },
            "type": "table"
           }
          ]
         },
         "layout": {
          "annotationdefaults": {
           "arrowcolor": "#f2f5fa",
           "arrowhead": 0,
           "arrowwidth": 1
          },
          "autotypenumbers": "strict",
          "coloraxis": {
           "colorbar": {
            "outlinewidth": 0,
            "ticks": ""
           }
          },
          "colorscale": {
           "diverging": [
            [
             0,
             "#8e0152"
            ],
            [
             0.1,
             "#c51b7d"
            ],
            [
             0.2,
             "#de77ae"
            ],
            [
             0.3,
             "#f1b6da"
            ],
            [
             0.4,
             "#fde0ef"
            ],
            [
             0.5,
             "#f7f7f7"
            ],
            [
             0.6,
             "#e6f5d0"
            ],
            [
             0.7,
             "#b8e186"
            ],
            [
             0.8,
             "#7fbc41"
            ],
            [
             0.9,
             "#4d9221"
            ],
            [
             1,
             "#276419"
            ]
           ],
           "sequential": [
            [
             0,
             "#0d0887"
            ],
            [
             0.1111111111111111,
             "#46039f"
            ],
            [
             0.2222222222222222,
             "#7201a8"
            ],
            [
             0.3333333333333333,
             "#9c179e"
            ],
            [
             0.4444444444444444,
             "#bd3786"
            ],
            [
             0.5555555555555556,
             "#d8576b"
            ],
            [
             0.6666666666666666,
             "#ed7953"
            ],
            [
             0.7777777777777778,
             "#fb9f3a"
            ],
            [
             0.8888888888888888,
             "#fdca26"
            ],
            [
             1,
             "#f0f921"
            ]
           ],
           "sequentialminus": [
            [
             0,
             "#0d0887"
            ],
            [
             0.1111111111111111,
             "#46039f"
            ],
            [
             0.2222222222222222,
             "#7201a8"
            ],
            [
             0.3333333333333333,
             "#9c179e"
            ],
            [
             0.4444444444444444,
             "#bd3786"
            ],
            [
             0.5555555555555556,
             "#d8576b"
            ],
            [
             0.6666666666666666,
             "#ed7953"
            ],
            [
             0.7777777777777778,
             "#fb9f3a"
            ],
            [
             0.8888888888888888,
             "#fdca26"
            ],
            [
             1,
             "#f0f921"
            ]
           ]
          },
          "colorway": [
           "#636efa",
           "#EF553B",
           "#00cc96",
           "#ab63fa",
           "#FFA15A",
           "#19d3f3",
           "#FF6692",
           "#B6E880",
           "#FF97FF",
           "#FECB52"
          ],
          "font": {
           "color": "#f2f5fa"
          },
          "geo": {
           "bgcolor": "rgb(17,17,17)",
           "lakecolor": "rgb(17,17,17)",
           "landcolor": "rgb(17,17,17)",
           "showlakes": true,
           "showland": true,
           "subunitcolor": "#506784"
          },
          "hoverlabel": {
           "align": "left"
          },
          "hovermode": "closest",
          "mapbox": {
           "style": "dark"
          },
          "paper_bgcolor": "rgb(17,17,17)",
          "plot_bgcolor": "rgb(17,17,17)",
          "polar": {
           "angularaxis": {
            "gridcolor": "#506784",
            "linecolor": "#506784",
            "ticks": ""
           },
           "bgcolor": "rgb(17,17,17)",
           "radialaxis": {
            "gridcolor": "#506784",
            "linecolor": "#506784",
            "ticks": ""
           }
          },
          "scene": {
           "xaxis": {
            "backgroundcolor": "rgb(17,17,17)",
            "gridcolor": "#506784",
            "gridwidth": 2,
            "linecolor": "#506784",
            "showbackground": true,
            "ticks": "",
            "zerolinecolor": "#C8D4E3"
           },
           "yaxis": {
            "backgroundcolor": "rgb(17,17,17)",
            "gridcolor": "#506784",
            "gridwidth": 2,
            "linecolor": "#506784",
            "showbackground": true,
            "ticks": "",
            "zerolinecolor": "#C8D4E3"
           },
           "zaxis": {
            "backgroundcolor": "rgb(17,17,17)",
            "gridcolor": "#506784",
            "gridwidth": 2,
            "linecolor": "#506784",
            "showbackground": true,
            "ticks": "",
            "zerolinecolor": "#C8D4E3"
           }
          },
          "shapedefaults": {
           "line": {
            "color": "#f2f5fa"
           }
          },
          "sliderdefaults": {
           "bgcolor": "#C8D4E3",
           "bordercolor": "rgb(17,17,17)",
           "borderwidth": 1,
           "tickwidth": 0
          },
          "ternary": {
           "aaxis": {
            "gridcolor": "#506784",
            "linecolor": "#506784",
            "ticks": ""
           },
           "baxis": {
            "gridcolor": "#506784",
            "linecolor": "#506784",
            "ticks": ""
           },
           "bgcolor": "rgb(17,17,17)",
           "caxis": {
            "gridcolor": "#506784",
            "linecolor": "#506784",
            "ticks": ""
           }
          },
          "title": {
           "x": 0.05
          },
          "updatemenudefaults": {
           "bgcolor": "#506784",
           "borderwidth": 0
          },
          "xaxis": {
           "automargin": true,
           "gridcolor": "#283442",
           "linecolor": "#506784",
           "ticks": "",
           "title": {
            "standoff": 15
           },
           "zerolinecolor": "#283442",
           "zerolinewidth": 2
          },
          "yaxis": {
           "automargin": true,
           "gridcolor": "#283442",
           "linecolor": "#506784",
           "ticks": "",
           "title": {
            "standoff": 15
           },
           "zerolinecolor": "#283442",
           "zerolinewidth": 2
          }
         }
        },
        "xaxis": {
         "anchor": "y",
         "domain": [
          0,
          1
         ],
         "title": {
          "text": "Risk"
         }
        },
        "yaxis": {
         "anchor": "x",
         "domain": [
          0,
          1
         ],
         "title": {
          "text": "Return"
         }
        }
       }
      }
     },
     "metadata": {},
     "output_type": "display_data"
    }
   ],
   "source": [
    "# DBSCAN Not working well\n",
    "# from sklearn.cluster import DBSCAN\n",
    "\n",
    "# df_ = df.copy()\n",
    "\n",
    "# df_['Return'] = preprocessing.normalize([df_['Return']])[0]\n",
    "# df_['Risk'] = preprocessing.normalize([df_['Risk']])[0]\n",
    "\n",
    "# clustering = DBSCAN(eps=0.01, min_samples=5).fit(df_[[\"Risk\", \"Return\"]])\n",
    "# core_samples = clustering.core_sample_indices_\n",
    "# labels = clustering.labels_\n",
    "\n",
    "# df_['labels'] = labels\n",
    "\n",
    "# px.scatter(df_, x='Risk', y='Return', hover_name='Stock', color='labels', template='plotly_dark')\n"
   ]
  },
  {
   "cell_type": "code",
   "execution_count": 194,
   "id": "8a10c251",
   "metadata": {},
   "outputs": [
    {
     "data": {
      "application/vnd.plotly.v1+json": {
       "config": {
        "plotlyServerURL": "https://plot.ly"
       },
       "data": [
        {
         "hovertemplate": "<b>%{hovertext}</b><br><br>cluster=#5EF1F2<br>Risk=%{x}<br>Return=%{y}<extra></extra>",
         "hovertext": [
          "CSAN3.SA",
          "VBBR3.SA",
          "VALE3.SA",
          "SUZB3.SA",
          "POMO3.SA",
          "TUPY3.SA",
          "SHUL4.SA",
          "WEGE3.SA",
          "RAIL3.SA",
          "PRNR3.SA",
          "BRFS3.SA",
          "JBSS3.SA",
          "BEEF3.SA",
          "TEND3.SA",
          "VULC3.SA",
          "ARZZ3.SA",
          "HAPV3.SA",
          "PARD3.SA",
          "QUAL3.SA",
          "PNVL3.SA",
          "SQIA3.SA",
          "TOTS3.SA",
          "CMIG4.SA",
          "CMIG3.SA",
          "SBSP3.SA",
          "SAPR3.SA",
          "BMGB4.SA",
          "BBDC4.SA",
          "BBDC3.SA",
          "BBAS3.SA",
          "B3SA3.SA",
          "WIZS3.SA",
          "SYNE3.SA"
         ],
         "legendgroup": "#5EF1F2",
         "marker": {
          "color": "#636efa",
          "symbol": "circle"
         },
         "mode": "markers",
         "name": "#5EF1F2",
         "orientation": "v",
         "showlegend": true,
         "type": "scatter",
         "x": [
          0.06300676083666652,
          0.06687748800451947,
          0.06101019022991786,
          0.0613622743881171,
          0.06775181838542244,
          0.06258464933055366,
          0.06212402508241542,
          0.06300991831500742,
          0.06576457154520318,
          0.06650844523859471,
          0.06872718145195242,
          0.06709764342210157,
          0.06347580884498923,
          0.06954079375633435,
          0.06687695145092684,
          0.06765664470901549,
          0.06832250280995904,
          0.06558471233944699,
          0.06442480824990167,
          0.06043905914203001,
          0.06898533630879763,
          0.06612357076650138,
          0.06303140179567142,
          0.06643516601815781,
          0.0662196161846791,
          0.06493495300602802,
          0.06531718098259803,
          0.06593129338625722,
          0.06318394542359357,
          0.06950424812088174,
          0.06215728822880403,
          0.07017073965249436,
          0.06966746887279408
         ],
         "xaxis": "x",
         "y": [
          0.03505345132410576,
          -0.00609318387125928,
          0.13225087422800344,
          0.10404386785039425,
          -0.04993305035798712,
          0.022053904855122722,
          0.01864701896109091,
          0.12608433988679552,
          0.020747542985821713,
          -0.057703988977496797,
          -0.02260936538982074,
          0.03530812779101411,
          -0.01365763498792511,
          -0.004280195906127868,
          0.027311711597293897,
          0.05272930438335845,
          0.10237135989444722,
          -0.012050639491109806,
          0.012677477960264935,
          -0.007231085383905208,
          0.01792353078802264,
          0.05683710597026803,
          0.024668857838663846,
          0.04322411486704324,
          -0.035665232339352655,
          -0.035780095500987034,
          -0.0018940242163442058,
          -0.0023854990449261,
          0.00801455476890545,
          -0.020335658744787863,
          0.052475276603777855,
          -0.07441051914565859,
          -0.07954012864992514
         ],
         "yaxis": "y"
        },
        {
         "hovertemplate": "<b>%{hovertext}</b><br><br>cluster=#808080<br>Risk=%{x}<br>Return=%{y}<extra></extra>",
         "hovertext": [
          "DMMO3.SA",
          "PRIO3.SA",
          "INEP4.SA",
          "INEP3.SA",
          "AZUL4.SA",
          "GOLL4.SA",
          "CVCB3.SA",
          "BLUT4.SA"
         ],
         "legendgroup": "#808080",
         "marker": {
          "color": "#EF553B",
          "symbol": "circle"
         },
         "mode": "markers",
         "name": "#808080",
         "orientation": "v",
         "showlegend": true,
         "type": "scatter",
         "x": [
          0.139828136635721,
          0.12181124834895896,
          0.11887137997164579,
          0.11848189551741746,
          0.1255205318886817,
          0.1251143034995637,
          0.12069823433763946,
          0.11687566402757159
         ],
         "xaxis": "x",
         "y": [
          0.044803669763155786,
          0.1755265522217674,
          0.2890132907574902,
          0.2926711633648075,
          0.07267088839638505,
          0.07858724594698918,
          0.07812384576992853,
          -0.0015030674672583896
         ],
         "yaxis": "y"
        },
        {
         "hovertemplate": "<b>%{hovertext}</b><br><br>cluster=#003380<br>Risk=%{x}<br>Return=%{y}<extra></extra>",
         "hovertext": [
          "ENAT3.SA",
          "PETR4.SA",
          "GGBR4.SA",
          "GOAU4.SA",
          "USIM3.SA",
          "DXCO3.SA",
          "POMO4.SA",
          "TGMA3.SA",
          "CCRO3.SA",
          "ECOR3.SA",
          "SMTO3.SA",
          "MRFG3.SA",
          "NTCO3.SA",
          "DIRR3.SA",
          "MTRE3.SA",
          "MRVE3.SA",
          "ALPA4.SA",
          "ANIM3.SA",
          "SEER3.SA",
          "LREN3.SA",
          "MGLU3.SA",
          "AALR3.SA",
          "IGTI3.SA",
          "LOGG3.SA",
          "MULT3.SA"
         ],
         "legendgroup": "#003380",
         "marker": {
          "color": "#00cc96",
          "symbol": "circle"
         },
         "mode": "markers",
         "name": "#003380",
         "orientation": "v",
         "showlegend": true,
         "type": "scatter",
         "x": [
          0.07689545694357025,
          0.07670166950832412,
          0.07274845988031291,
          0.07351833480757929,
          0.07220030983054765,
          0.07714580355473533,
          0.07324973786275796,
          0.0770759631115008,
          0.07320475544743127,
          0.07803671886893482,
          0.07503308791574687,
          0.07550730361032715,
          0.07522423776794082,
          0.07041948236942334,
          0.07815518141277202,
          0.0736361304927915,
          0.07308580281618844,
          0.07497089312143107,
          0.07511777728884055,
          0.07275038262050082,
          0.07799885722391373,
          0.07570096738294295,
          0.07528490733783101,
          0.07687424364410857,
          0.07587940555875307
         ],
         "xaxis": "x",
         "y": [
          0.01435744174924854,
          0.04725452775367607,
          0.09209348020259166,
          0.08574900136256534,
          0.10844319410500805,
          0.06698312789631643,
          -0.05830184427321006,
          -0.013074382789938535,
          -0.008765391161432285,
          -0.0021616131027134976,
          0.05548271743442763,
          0.04300976601100302,
          0.0527327831631531,
          0.010283207476114638,
          0.03116941550281529,
          0.03660815276459184,
          0.07271845615503028,
          0.041549405772433615,
          -0.05028492858328817,
          -0.015641956345971885,
          0.1425140869065174,
          -0.05951576035291215,
          -0.03619012223937508,
          0.06810596169160348,
          -0.03088854631027342
         ],
         "yaxis": "y"
        },
        {
         "hovertemplate": "<b>%{hovertext}</b><br><br>cluster=#FFFFFF<br>Risk=%{x}<br>Return=%{y}<extra></extra>",
         "hovertext": [
          "PETR3.SA",
          "UGPA3.SA",
          "PMAM3.SA",
          "RAPT4.SA",
          "ROMI3.SA",
          "MILS3.SA",
          "STBP3.SA",
          "VLID3.SA",
          "EZTC3.SA",
          "JHSF3.SA",
          "TCSA3.SA",
          "TECN3.SA",
          "BKBR3.SA",
          "YDUQ3.SA",
          "MOVI3.SA",
          "ELET3.SA",
          "LIGT3.SA",
          "PINE4.SA",
          "CIEL3.SA",
          "ALSO3.SA",
          "BRML3.SA"
         ],
         "legendgroup": "#FFFFFF",
         "marker": {
          "color": "#ab63fa",
          "symbol": "circle"
         },
         "mode": "markers",
         "name": "#FFFFFF",
         "orientation": "v",
         "showlegend": true,
         "type": "scatter",
         "x": [
          0.08097707440621811,
          0.08109884062205397,
          0.084540694329368,
          0.08038298657637387,
          0.08119688832330661,
          0.08486822576547084,
          0.0789789318495735,
          0.08238375554460357,
          0.08472522285844633,
          0.08230696759504534,
          0.083429016725057,
          0.07800752613759031,
          0.08442657101229996,
          0.08638856155842595,
          0.08142917803132128,
          0.08232124238973032,
          0.08364535812801666,
          0.08280783891722716,
          0.0833252970098916,
          0.08306303324808924,
          0.07823363188080124
         ],
         "xaxis": "x",
         "y": [
          0.044652148013831904,
          0.06139071695204095,
          -0.0863345663104418,
          0.07630076865414459,
          0.07594806453292412,
          -0.017723340642224136,
          0.03553390798261202,
          -0.042530815559539255,
          0.00983710470943212,
          0.05097295438750934,
          -0.04885595369373233,
          -0.06864534431194305,
          -0.0047194330007263655,
          -0.013557221988170184,
          0.053683441105001915,
          0.030011473257732874,
          0.028384673474955352,
          -0.03889566194897517,
          -0.060319780450969966,
          -0.047530845860769624,
          -0.054392579539728855
         ],
         "yaxis": "y"
        },
        {
         "hovertemplate": "<b>%{hovertext}</b><br><br>cluster=#FF5005<br>Risk=%{x}<br>Return=%{y}<extra></extra>",
         "hovertext": [
          "LUPA3.SA",
          "HBOR3.SA",
          "MDNE3.SA",
          "VIVR3.SA",
          "MEAL3.SA",
          "SHOW3.SA",
          "AMAR3.SA",
          "VIIA3.SA",
          "POSI3.SA",
          "BPAN4.SA",
          "BBRK3.SA",
          "LPSB3.SA"
         ],
         "legendgroup": "#FF5005",
         "marker": {
          "color": "#FFA15A",
          "symbol": "circle"
         },
         "mode": "markers",
         "name": "#FF5005",
         "orientation": "v",
         "showlegend": true,
         "type": "scatter",
         "x": [
          0.09819971150613833,
          0.11163052488035294,
          0.10117462103557738,
          0.09992279715503748,
          0.09862206131882392,
          0.09775853182533017,
          0.10992473176042807,
          0.10097808650779004,
          0.10286346986534402,
          0.09840654723779722,
          0.10329220817896942,
          0.10362612559498643
         ],
         "xaxis": "x",
         "y": [
          0.03749627530866134,
          -0.017230191536763438,
          -0.004640556166225682,
          -0.029744840434253166,
          -0.06277978924802319,
          0.035312516208965625,
          -0.04831629907757364,
          0.06675888270286076,
          0.002209553618446027,
          0.06738211709526275,
          -0.032028912755073996,
          -0.018965014029315445
         ],
         "yaxis": "y"
        },
        {
         "hovertemplate": "<b>%{hovertext}</b><br><br>cluster=#2BCE48<br>Risk=%{x}<br>Return=%{y}<extra></extra>",
         "hovertext": [
          "BRAP4.SA",
          "FESA4.SA",
          "KLBN4.SA",
          "KLBN3.SA",
          "MDIA3.SA",
          "ABEV3.SA",
          "BOBR4.SA",
          "GRND3.SA",
          "FLRY3.SA",
          "HYPE3.SA",
          "TIMS3.SA",
          "CPLE3.SA",
          "ENEV3.SA",
          "NEOE3.SA",
          "CSMG3.SA",
          "SAPR4.SA",
          "ABCB4.SA",
          "ITSA4.SA",
          "ITUB4.SA",
          "CARD3.SA",
          "BRPR3.SA"
         ],
         "legendgroup": "#2BCE48",
         "marker": {
          "color": "#19d3f3",
          "symbol": "circle"
         },
         "mode": "markers",
         "name": "#2BCE48",
         "orientation": "v",
         "showlegend": true,
         "type": "scatter",
         "x": [
          0.05813856093910551,
          0.05600519173351686,
          0.05337062951338458,
          0.05175008772329599,
          0.05506527024969417,
          0.05163358556954986,
          0.05671274593561757,
          0.05085130895889891,
          0.05082229323487634,
          0.057198180850375126,
          0.052829172460468844,
          0.05669176825274176,
          0.05508499752932482,
          0.052943177629619816,
          0.059048374373976246,
          0.05661839398019682,
          0.05463643946880231,
          0.04969725648684848,
          0.054278159141597504,
          0.0588605478280215,
          0.05901662093220228
         ],
         "xaxis": "x",
         "y": [
          0.13511933973347412,
          0.04880752076734659,
          0.0688514906382754,
          0.08490824064117786,
          -0.03358011723443209,
          0.02984274676014503,
          0.050159605000781475,
          -0.018929631016947723,
          -0.00423357579645966,
          -0.0014844295812504345,
          -0.015444775376043825,
          -0.024946521317238717,
          0.07487138707992244,
          -0.03322867325431202,
          -0.019454725654577665,
          -0.0500282508214188,
          -0.01724930974523283,
          0.0009112090481660596,
          0.009756523591539999,
          0.0683864607064621,
          -0.04359082208678424
         ],
         "yaxis": "y"
        },
        {
         "hovertemplate": "<b>%{hovertext}</b><br><br>cluster=#FFA8BB<br>Risk=%{x}<br>Return=%{y}<extra></extra>",
         "hovertext": [
          "CSNA3.SA",
          "RENT3.SA",
          "LCAM3.SA",
          "AMER3.SA",
          "LWSA3.SA",
          "OIBR4.SA",
          "OIBR3.SA"
         ],
         "legendgroup": "#FFA8BB",
         "marker": {
          "color": "#FF6692",
          "symbol": "circle"
         },
         "mode": "markers",
         "name": "#FFA8BB",
         "orientation": "v",
         "showlegend": true,
         "type": "scatter",
         "x": [
          0.08660897563435091,
          0.08526161445294163,
          0.0904455896657465,
          0.08866704173635767,
          0.08558051789334686,
          0.0920454228412211,
          0.08687209075051483
         ],
         "xaxis": "x",
         "y": [
          0.2036652726188308,
          0.09712303665029247,
          0.09348254719495762,
          0.09786847183992263,
          0.2872009255911779,
          0.16133873713399458,
          0.17547356092709987
         ],
         "yaxis": "y"
        },
        {
         "hovertemplate": "<b>%{hovertext}</b><br><br>cluster=#FFFF80<br>Risk=%{x}<br>Return=%{y}<extra></extra>",
         "hovertext": [
          "DEXP3.SA",
          "ETER3.SA",
          "AZEV4.SA",
          "TASA4.SA"
         ],
         "legendgroup": "#FFFF80",
         "marker": {
          "color": "#B6E880",
          "symbol": "circle"
         },
         "mode": "markers",
         "name": "#FFFF80",
         "orientation": "v",
         "showlegend": true,
         "type": "scatter",
         "x": [
          0.1039411985325483,
          0.10612288632540286,
          0.10612369039827166,
          0.09784453422219293
         ],
         "xaxis": "x",
         "y": [
          0.24793670805521395,
          0.20352023493166244,
          0.14162787964026718,
          0.27438634033859954
         ],
         "yaxis": "y"
        },
        {
         "hovertemplate": "<b>%{hovertext}</b><br><br>cluster=#FF0010<br>Risk=%{x}<br>Return=%{y}<extra></extra>",
         "hovertext": [
          "FHER3.SA",
          "RANI3.SA",
          "PTBL3.SA",
          "EMBR3.SA",
          "RCSL4.SA",
          "LOGN3.SA",
          "TPIS3.SA",
          "CYRE3.SA",
          "EVEN3.SA",
          "GFSA3.SA",
          "TRIS3.SA",
          "VIVA3.SA",
          "COGN3.SA",
          "CEAB3.SA",
          "GUAR3.SA",
          "SBFG3.SA"
         ],
         "legendgroup": "#FF0010",
         "marker": {
          "color": "#FF97FF",
          "symbol": "circle"
         },
         "mode": "markers",
         "name": "#FF0010",
         "orientation": "v",
         "showlegend": true,
         "type": "scatter",
         "x": [
          0.09201264407762112,
          0.09079134051420393,
          0.09010482320627564,
          0.0876195855323604,
          0.09505943589948461,
          0.09248968895240452,
          0.09601224106566372,
          0.08903391915202004,
          0.09345996640359909,
          0.09093902130347346,
          0.09080643853814263,
          0.0962495967876864,
          0.09176796407092079,
          0.09420049538068315,
          0.08985307686952927,
          0.09121901561806171
         ],
         "xaxis": "x",
         "y": [
          0.08747762620897283,
          0.07779574499390851,
          0.08674978320256255,
          -0.05295644362632172,
          0.00898104170862029,
          0.0065642639395360625,
          0.08773798588794307,
          0.03738120811020782,
          0.020785829534479747,
          -0.011551643336908063,
          -0.0008442479171075517,
          0.049769585439567644,
          -0.07400325169037315,
          0.019120402065874564,
          -0.05449418529558895,
          -0.04174921540209939
         ],
         "yaxis": "y"
        },
        {
         "hovertemplate": "<b>%{hovertext}</b><br><br>cluster=#993F00<br>Risk=%{x}<br>Return=%{y}<extra></extra>",
         "hovertext": [
          "AGRO3.SA",
          "SLCE3.SA",
          "CAML3.SA",
          "CRFB3.SA",
          "ODPV3.SA",
          "RADL3.SA",
          "VIVT3.SA",
          "CPFE3.SA",
          "ENBR3.SA",
          "EGIE3.SA",
          "EQTL3.SA",
          "TRPL4.SA",
          "ITSA3.SA",
          "ITUB3.SA",
          "BBSE3.SA",
          "PSSA3.SA"
         ],
         "legendgroup": "#993F00",
         "marker": {
          "color": "#FECB52",
          "symbol": "circle"
         },
         "mode": "markers",
         "name": "#993F00",
         "orientation": "v",
         "showlegend": true,
         "type": "scatter",
         "x": [
          0.042511841526810694,
          0.045303309692207486,
          0.04219491756277162,
          0.044381510779021985,
          0.047530771318457316,
          0.044764233672226504,
          0.04618075677293567,
          0.0484741231743629,
          0.044159594052695525,
          0.04005113743782079,
          0.04849616392796634,
          0.03309937228379136,
          0.037148276839715666,
          0.04772215427486014,
          0.04625782048067551,
          0.04317848131573946
         ],
         "xaxis": "x",
         "y": [
          0.06160534547605198,
          0.09003444801825404,
          0.042377316215177166,
          -0.003407741186235133,
          -0.007454482011250628,
          0.02035901916779238,
          -0.012447964784191405,
          -0.012048758711178968,
          0.005686974145078653,
          -0.005806780992011376,
          -0.009627073504065903,
          0.03974984056874102,
          -0.006014260928446691,
          0.005533450026038034,
          -0.002643282129944476,
          -0.02249739716703218
         ],
         "yaxis": "y"
        }
       ],
       "layout": {
        "legend": {
         "title": {
          "text": "cluster"
         },
         "tracegroupgap": 0
        },
        "margin": {
         "t": 60
        },
        "template": {
         "data": {
          "bar": [
           {
            "error_x": {
             "color": "#f2f5fa"
            },
            "error_y": {
             "color": "#f2f5fa"
            },
            "marker": {
             "line": {
              "color": "rgb(17,17,17)",
              "width": 0.5
             },
             "pattern": {
              "fillmode": "overlay",
              "size": 10,
              "solidity": 0.2
             }
            },
            "type": "bar"
           }
          ],
          "barpolar": [
           {
            "marker": {
             "line": {
              "color": "rgb(17,17,17)",
              "width": 0.5
             },
             "pattern": {
              "fillmode": "overlay",
              "size": 10,
              "solidity": 0.2
             }
            },
            "type": "barpolar"
           }
          ],
          "carpet": [
           {
            "aaxis": {
             "endlinecolor": "#A2B1C6",
             "gridcolor": "#506784",
             "linecolor": "#506784",
             "minorgridcolor": "#506784",
             "startlinecolor": "#A2B1C6"
            },
            "baxis": {
             "endlinecolor": "#A2B1C6",
             "gridcolor": "#506784",
             "linecolor": "#506784",
             "minorgridcolor": "#506784",
             "startlinecolor": "#A2B1C6"
            },
            "type": "carpet"
           }
          ],
          "choropleth": [
           {
            "colorbar": {
             "outlinewidth": 0,
             "ticks": ""
            },
            "type": "choropleth"
           }
          ],
          "contour": [
           {
            "colorbar": {
             "outlinewidth": 0,
             "ticks": ""
            },
            "colorscale": [
             [
              0,
              "#0d0887"
             ],
             [
              0.1111111111111111,
              "#46039f"
             ],
             [
              0.2222222222222222,
              "#7201a8"
             ],
             [
              0.3333333333333333,
              "#9c179e"
             ],
             [
              0.4444444444444444,
              "#bd3786"
             ],
             [
              0.5555555555555556,
              "#d8576b"
             ],
             [
              0.6666666666666666,
              "#ed7953"
             ],
             [
              0.7777777777777778,
              "#fb9f3a"
             ],
             [
              0.8888888888888888,
              "#fdca26"
             ],
             [
              1,
              "#f0f921"
             ]
            ],
            "type": "contour"
           }
          ],
          "contourcarpet": [
           {
            "colorbar": {
             "outlinewidth": 0,
             "ticks": ""
            },
            "type": "contourcarpet"
           }
          ],
          "heatmap": [
           {
            "colorbar": {
             "outlinewidth": 0,
             "ticks": ""
            },
            "colorscale": [
             [
              0,
              "#0d0887"
             ],
             [
              0.1111111111111111,
              "#46039f"
             ],
             [
              0.2222222222222222,
              "#7201a8"
             ],
             [
              0.3333333333333333,
              "#9c179e"
             ],
             [
              0.4444444444444444,
              "#bd3786"
             ],
             [
              0.5555555555555556,
              "#d8576b"
             ],
             [
              0.6666666666666666,
              "#ed7953"
             ],
             [
              0.7777777777777778,
              "#fb9f3a"
             ],
             [
              0.8888888888888888,
              "#fdca26"
             ],
             [
              1,
              "#f0f921"
             ]
            ],
            "type": "heatmap"
           }
          ],
          "heatmapgl": [
           {
            "colorbar": {
             "outlinewidth": 0,
             "ticks": ""
            },
            "colorscale": [
             [
              0,
              "#0d0887"
             ],
             [
              0.1111111111111111,
              "#46039f"
             ],
             [
              0.2222222222222222,
              "#7201a8"
             ],
             [
              0.3333333333333333,
              "#9c179e"
             ],
             [
              0.4444444444444444,
              "#bd3786"
             ],
             [
              0.5555555555555556,
              "#d8576b"
             ],
             [
              0.6666666666666666,
              "#ed7953"
             ],
             [
              0.7777777777777778,
              "#fb9f3a"
             ],
             [
              0.8888888888888888,
              "#fdca26"
             ],
             [
              1,
              "#f0f921"
             ]
            ],
            "type": "heatmapgl"
           }
          ],
          "histogram": [
           {
            "marker": {
             "pattern": {
              "fillmode": "overlay",
              "size": 10,
              "solidity": 0.2
             }
            },
            "type": "histogram"
           }
          ],
          "histogram2d": [
           {
            "colorbar": {
             "outlinewidth": 0,
             "ticks": ""
            },
            "colorscale": [
             [
              0,
              "#0d0887"
             ],
             [
              0.1111111111111111,
              "#46039f"
             ],
             [
              0.2222222222222222,
              "#7201a8"
             ],
             [
              0.3333333333333333,
              "#9c179e"
             ],
             [
              0.4444444444444444,
              "#bd3786"
             ],
             [
              0.5555555555555556,
              "#d8576b"
             ],
             [
              0.6666666666666666,
              "#ed7953"
             ],
             [
              0.7777777777777778,
              "#fb9f3a"
             ],
             [
              0.8888888888888888,
              "#fdca26"
             ],
             [
              1,
              "#f0f921"
             ]
            ],
            "type": "histogram2d"
           }
          ],
          "histogram2dcontour": [
           {
            "colorbar": {
             "outlinewidth": 0,
             "ticks": ""
            },
            "colorscale": [
             [
              0,
              "#0d0887"
             ],
             [
              0.1111111111111111,
              "#46039f"
             ],
             [
              0.2222222222222222,
              "#7201a8"
             ],
             [
              0.3333333333333333,
              "#9c179e"
             ],
             [
              0.4444444444444444,
              "#bd3786"
             ],
             [
              0.5555555555555556,
              "#d8576b"
             ],
             [
              0.6666666666666666,
              "#ed7953"
             ],
             [
              0.7777777777777778,
              "#fb9f3a"
             ],
             [
              0.8888888888888888,
              "#fdca26"
             ],
             [
              1,
              "#f0f921"
             ]
            ],
            "type": "histogram2dcontour"
           }
          ],
          "mesh3d": [
           {
            "colorbar": {
             "outlinewidth": 0,
             "ticks": ""
            },
            "type": "mesh3d"
           }
          ],
          "parcoords": [
           {
            "line": {
             "colorbar": {
              "outlinewidth": 0,
              "ticks": ""
             }
            },
            "type": "parcoords"
           }
          ],
          "pie": [
           {
            "automargin": true,
            "type": "pie"
           }
          ],
          "scatter": [
           {
            "marker": {
             "line": {
              "color": "#283442"
             }
            },
            "type": "scatter"
           }
          ],
          "scatter3d": [
           {
            "line": {
             "colorbar": {
              "outlinewidth": 0,
              "ticks": ""
             }
            },
            "marker": {
             "colorbar": {
              "outlinewidth": 0,
              "ticks": ""
             }
            },
            "type": "scatter3d"
           }
          ],
          "scattercarpet": [
           {
            "marker": {
             "colorbar": {
              "outlinewidth": 0,
              "ticks": ""
             }
            },
            "type": "scattercarpet"
           }
          ],
          "scattergeo": [
           {
            "marker": {
             "colorbar": {
              "outlinewidth": 0,
              "ticks": ""
             }
            },
            "type": "scattergeo"
           }
          ],
          "scattergl": [
           {
            "marker": {
             "line": {
              "color": "#283442"
             }
            },
            "type": "scattergl"
           }
          ],
          "scattermapbox": [
           {
            "marker": {
             "colorbar": {
              "outlinewidth": 0,
              "ticks": ""
             }
            },
            "type": "scattermapbox"
           }
          ],
          "scatterpolar": [
           {
            "marker": {
             "colorbar": {
              "outlinewidth": 0,
              "ticks": ""
             }
            },
            "type": "scatterpolar"
           }
          ],
          "scatterpolargl": [
           {
            "marker": {
             "colorbar": {
              "outlinewidth": 0,
              "ticks": ""
             }
            },
            "type": "scatterpolargl"
           }
          ],
          "scatterternary": [
           {
            "marker": {
             "colorbar": {
              "outlinewidth": 0,
              "ticks": ""
             }
            },
            "type": "scatterternary"
           }
          ],
          "surface": [
           {
            "colorbar": {
             "outlinewidth": 0,
             "ticks": ""
            },
            "colorscale": [
             [
              0,
              "#0d0887"
             ],
             [
              0.1111111111111111,
              "#46039f"
             ],
             [
              0.2222222222222222,
              "#7201a8"
             ],
             [
              0.3333333333333333,
              "#9c179e"
             ],
             [
              0.4444444444444444,
              "#bd3786"
             ],
             [
              0.5555555555555556,
              "#d8576b"
             ],
             [
              0.6666666666666666,
              "#ed7953"
             ],
             [
              0.7777777777777778,
              "#fb9f3a"
             ],
             [
              0.8888888888888888,
              "#fdca26"
             ],
             [
              1,
              "#f0f921"
             ]
            ],
            "type": "surface"
           }
          ],
          "table": [
           {
            "cells": {
             "fill": {
              "color": "#506784"
             },
             "line": {
              "color": "rgb(17,17,17)"
             }
            },
            "header": {
             "fill": {
              "color": "#2a3f5f"
             },
             "line": {
              "color": "rgb(17,17,17)"
             }
            },
            "type": "table"
           }
          ]
         },
         "layout": {
          "annotationdefaults": {
           "arrowcolor": "#f2f5fa",
           "arrowhead": 0,
           "arrowwidth": 1
          },
          "autotypenumbers": "strict",
          "coloraxis": {
           "colorbar": {
            "outlinewidth": 0,
            "ticks": ""
           }
          },
          "colorscale": {
           "diverging": [
            [
             0,
             "#8e0152"
            ],
            [
             0.1,
             "#c51b7d"
            ],
            [
             0.2,
             "#de77ae"
            ],
            [
             0.3,
             "#f1b6da"
            ],
            [
             0.4,
             "#fde0ef"
            ],
            [
             0.5,
             "#f7f7f7"
            ],
            [
             0.6,
             "#e6f5d0"
            ],
            [
             0.7,
             "#b8e186"
            ],
            [
             0.8,
             "#7fbc41"
            ],
            [
             0.9,
             "#4d9221"
            ],
            [
             1,
             "#276419"
            ]
           ],
           "sequential": [
            [
             0,
             "#0d0887"
            ],
            [
             0.1111111111111111,
             "#46039f"
            ],
            [
             0.2222222222222222,
             "#7201a8"
            ],
            [
             0.3333333333333333,
             "#9c179e"
            ],
            [
             0.4444444444444444,
             "#bd3786"
            ],
            [
             0.5555555555555556,
             "#d8576b"
            ],
            [
             0.6666666666666666,
             "#ed7953"
            ],
            [
             0.7777777777777778,
             "#fb9f3a"
            ],
            [
             0.8888888888888888,
             "#fdca26"
            ],
            [
             1,
             "#f0f921"
            ]
           ],
           "sequentialminus": [
            [
             0,
             "#0d0887"
            ],
            [
             0.1111111111111111,
             "#46039f"
            ],
            [
             0.2222222222222222,
             "#7201a8"
            ],
            [
             0.3333333333333333,
             "#9c179e"
            ],
            [
             0.4444444444444444,
             "#bd3786"
            ],
            [
             0.5555555555555556,
             "#d8576b"
            ],
            [
             0.6666666666666666,
             "#ed7953"
            ],
            [
             0.7777777777777778,
             "#fb9f3a"
            ],
            [
             0.8888888888888888,
             "#fdca26"
            ],
            [
             1,
             "#f0f921"
            ]
           ]
          },
          "colorway": [
           "#636efa",
           "#EF553B",
           "#00cc96",
           "#ab63fa",
           "#FFA15A",
           "#19d3f3",
           "#FF6692",
           "#B6E880",
           "#FF97FF",
           "#FECB52"
          ],
          "font": {
           "color": "#f2f5fa"
          },
          "geo": {
           "bgcolor": "rgb(17,17,17)",
           "lakecolor": "rgb(17,17,17)",
           "landcolor": "rgb(17,17,17)",
           "showlakes": true,
           "showland": true,
           "subunitcolor": "#506784"
          },
          "hoverlabel": {
           "align": "left"
          },
          "hovermode": "closest",
          "mapbox": {
           "style": "dark"
          },
          "paper_bgcolor": "rgb(17,17,17)",
          "plot_bgcolor": "rgb(17,17,17)",
          "polar": {
           "angularaxis": {
            "gridcolor": "#506784",
            "linecolor": "#506784",
            "ticks": ""
           },
           "bgcolor": "rgb(17,17,17)",
           "radialaxis": {
            "gridcolor": "#506784",
            "linecolor": "#506784",
            "ticks": ""
           }
          },
          "scene": {
           "xaxis": {
            "backgroundcolor": "rgb(17,17,17)",
            "gridcolor": "#506784",
            "gridwidth": 2,
            "linecolor": "#506784",
            "showbackground": true,
            "ticks": "",
            "zerolinecolor": "#C8D4E3"
           },
           "yaxis": {
            "backgroundcolor": "rgb(17,17,17)",
            "gridcolor": "#506784",
            "gridwidth": 2,
            "linecolor": "#506784",
            "showbackground": true,
            "ticks": "",
            "zerolinecolor": "#C8D4E3"
           },
           "zaxis": {
            "backgroundcolor": "rgb(17,17,17)",
            "gridcolor": "#506784",
            "gridwidth": 2,
            "linecolor": "#506784",
            "showbackground": true,
            "ticks": "",
            "zerolinecolor": "#C8D4E3"
           }
          },
          "shapedefaults": {
           "line": {
            "color": "#f2f5fa"
           }
          },
          "sliderdefaults": {
           "bgcolor": "#C8D4E3",
           "bordercolor": "rgb(17,17,17)",
           "borderwidth": 1,
           "tickwidth": 0
          },
          "ternary": {
           "aaxis": {
            "gridcolor": "#506784",
            "linecolor": "#506784",
            "ticks": ""
           },
           "baxis": {
            "gridcolor": "#506784",
            "linecolor": "#506784",
            "ticks": ""
           },
           "bgcolor": "rgb(17,17,17)",
           "caxis": {
            "gridcolor": "#506784",
            "linecolor": "#506784",
            "ticks": ""
           }
          },
          "title": {
           "x": 0.05
          },
          "updatemenudefaults": {
           "bgcolor": "#506784",
           "borderwidth": 0
          },
          "xaxis": {
           "automargin": true,
           "gridcolor": "#283442",
           "linecolor": "#506784",
           "ticks": "",
           "title": {
            "standoff": 15
           },
           "zerolinecolor": "#283442",
           "zerolinewidth": 2
          },
          "yaxis": {
           "automargin": true,
           "gridcolor": "#283442",
           "linecolor": "#506784",
           "ticks": "",
           "title": {
            "standoff": 15
           },
           "zerolinecolor": "#283442",
           "zerolinewidth": 2
          }
         }
        },
        "xaxis": {
         "anchor": "y",
         "domain": [
          0,
          1
         ],
         "title": {
          "text": "Risk"
         }
        },
        "yaxis": {
         "anchor": "x",
         "domain": [
          0,
          1
         ],
         "title": {
          "text": "Return"
         }
        }
       }
      }
     },
     "metadata": {},
     "output_type": "display_data"
    }
   ],
   "source": [
    "colors = {'#FFFFFF', '#F0A3FF', '#0075DC', '#993F00', '#4C005C', '#191919', '#005C31', '#2BCE48', '#FFCC99', '#808080', '#94FFB5', '#8F7C00', '#9DCC00', '#C20088', '#003380', '#FFA405', '#FFA8BB', '#426600', '#FF0010', '#5EF1F2', '#00998F', '#E0FF66', '#740AFF', '#990000', '#FFFF80', '#FFFF00', '#FF5005'}\n",
    "\n",
    "df_ = df.copy()\n",
    "\n",
    "df_['Return'] = preprocessing.normalize([df_['Return']])[0]\n",
    "df_['Risk'] = preprocessing.normalize([df_['Risk']])[0]\n",
    "\n",
    "kmeans = KMeans(n_clusters=10).fit(df[[\"Risk\", \"Return\"]])\n",
    "y_kmeans = kmeans.predict(df[[\"Risk\", \"Return\"]])\n",
    "\n",
    "from collections import defaultdict\n",
    "mapping_colors = defaultdict(lambda: False)\n",
    "\n",
    "for cluster in y_kmeans:\n",
    "    if mapping_colors[cluster] is False:\n",
    "        color = colors.pop()\n",
    "        mapping_colors[cluster] = color\n",
    "\n",
    "df_['cluster'] = [ mapping_colors[cluster] for cluster in y_kmeans ]\n",
    "\n",
    "fig = px.scatter(\n",
    "    df_, \n",
    "    x='Risk', \n",
    "    y='Return', \n",
    "    hover_name='Stock', \n",
    "    color='cluster', \n",
    "    template='plotly_dark',\n",
    ")\n",
    "fig.show()\n"
   ]
  },
  {
   "cell_type": "code",
   "execution_count": null,
   "id": "ca13db6f",
   "metadata": {},
   "outputs": [],
   "source": []
  }
 ],
 "metadata": {
  "kernelspec": {
   "display_name": "Python 3 (ipykernel)",
   "language": "python",
   "name": "python3"
  },
  "language_info": {
   "codemirror_mode": {
    "name": "ipython",
    "version": 3
   },
   "file_extension": ".py",
   "mimetype": "text/x-python",
   "name": "python",
   "nbconvert_exporter": "python",
   "pygments_lexer": "ipython3",
   "version": "3.8.10"
  }
 },
 "nbformat": 4,
 "nbformat_minor": 5
}
